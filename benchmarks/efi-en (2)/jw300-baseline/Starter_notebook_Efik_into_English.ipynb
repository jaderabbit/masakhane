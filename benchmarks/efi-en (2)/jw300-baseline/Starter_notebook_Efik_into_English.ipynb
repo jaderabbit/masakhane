{
  "nbformat": 4,
  "nbformat_minor": 0,
  "metadata": {
    "colab": {
      "name": "Starter notebook - Efik into English.ipynb",
      "provenance": [],
      "collapsed_sections": []
    },
    "kernelspec": {
      "display_name": "Python 3",
      "language": "python",
      "name": "python3"
    },
    "language_info": {
      "codemirror_mode": {
        "name": "ipython",
        "version": 3
      },
      "file_extension": ".py",
      "mimetype": "text/x-python",
      "name": "python",
      "nbconvert_exporter": "python",
      "pygments_lexer": "ipython3",
      "version": "3.7.3"
    },
    "accelerator": "GPU"
  },
  "cells": [
    {
      "cell_type": "markdown",
      "metadata": {
        "id": "Igc5itf-xMGj"
      },
      "source": [
        "# Masakhane - Reverse Machine Translation for African Languages (Using JoeyNMT)"
      ]
    },
    {
      "cell_type": "markdown",
      "metadata": {
        "id": "SZj-NPkRgpIa"
      },
      "source": [
        "> ## NB\n",
        ">### - The purpose of this Notebook is to build models that translate African languages(target language) *into* English(source language). This will allow us to in future be able to make translations from one African language to the other. If you'd like to translate *from* English, please use [this](https://github.com/masakhane-io/masakhane-mt/blob/master/starter_notebook.ipynb) starter notebook instead.\n",
        "\n",
        ">### - We call this reverse training because normally we build models that make translations from the source language(English) to the target language. But in this case we are doing the reverse; building models that make translations from the target language to the source(English)"
      ]
    },
    {
      "cell_type": "markdown",
      "metadata": {
        "id": "x4fXCKCf36IK"
      },
      "source": [
        "## Note before beginning:\n",
        "### - The idea is that you should be able to make minimal changes to this in order to get SOME result for your own translation corpus. \n",
        "\n",
        "### - The tl;dr: Go to the **\"TODO\"** comments which will tell you what to update to get up and running\n",
        "\n",
        "### - If you actually want to have a clue what you're doing, read the text and peek at the links\n",
        "\n",
        "### - With 100 epochs, it should take around 7 hours to run in Google Colab\n",
        "\n",
        "### - Once you've gotten a result for your language, please attach and email your notebook that generated it to masakhanetranslation@gmail.com\n",
        "\n",
        "### - If you care enough and get a chance, doing a brief background on your language would be amazing. See examples in  [(Martinus, 2019)](https://arxiv.org/abs/1906.05685)"
      ]
    },
    {
      "cell_type": "markdown",
      "metadata": {
        "id": "l929HimrxS0a"
      },
      "source": [
        "## Retrieve your data & make a parallel corpus\n",
        "\n",
        "If you are wanting to use the JW300 data referenced on the Masakhane website or in our GitHub repo, you can use `opus-tools` to convert the data into a convenient format. `opus_read` from that package provides a convenient tool for reading the native aligned XML files and to convert them to TMX format. The tool can also be used to fetch relevant files from OPUS on the fly and to filter the data as necessary. [Read the documentation](https://pypi.org/project/opustools-pkg/) for more details.\n",
        "\n",
        "Once you have your corpus files in TMX format (an xml structure which will include the sentences in your target language and your source language in a single file), we recommend reading them into a pandas dataframe. Thankfully, Jade wrote a silly `tmx2dataframe` package which converts your tmx file to a pandas dataframe. "
      ]
    },
    {
      "cell_type": "code",
      "metadata": {
        "colab": {
          "base_uri": "https://localhost:8080/"
        },
        "id": "oGRmDELn7Az0",
        "outputId": "1dd9115f-2880-4264-9b41-3a2f1374d035"
      },
      "source": [
        "from google.colab import drive\n",
        "drive.mount('/content/drive')"
      ],
      "execution_count": 1,
      "outputs": [
        {
          "output_type": "stream",
          "name": "stdout",
          "text": [
            "Mounted at /content/drive\n"
          ]
        }
      ]
    },
    {
      "cell_type": "code",
      "metadata": {
        "id": "Cn3tgQLzUxwn"
      },
      "source": [
        "# TODO: Set your source and target languages. Keep in mind, these traditionally use language codes as found here:\n",
        "# These will also become the suffix's of all vocab and corpus files used throughout\n",
        "import os\n",
        "source_language = \"en\"\n",
        "target_language = \"efi\" \n",
        "lc = False  # If True, lowercase the data.\n",
        "seed = 42  # Random seed for shuffling.\n",
        "tag = \"baseline\" # Give a unique name to your folder - this is to ensure you don't rewrite any models you've already submitted\n",
        "\n",
        "os.environ[\"src\"] = source_language # Sets them in bash as well, since we often use bash scripts\n",
        "os.environ[\"tgt\"] = target_language\n",
        "os.environ[\"tag\"] = tag\n",
        "\n",
        "# This will save it to a folder in our gdrive instead!\n",
        "!mkdir -p \"/content/drive/My Drive/masakhane/$tgt-$src-$tag\"\n",
        "os.environ[\"gdrive_path\"] = \"/content/drive/My Drive/masakhane/%s-%s-%s\" % (target_language, source_language, tag)"
      ],
      "execution_count": 2,
      "outputs": []
    },
    {
      "cell_type": "code",
      "metadata": {
        "colab": {
          "base_uri": "https://localhost:8080/"
        },
        "id": "kBSgJHEw7Nvx",
        "outputId": "f7bf50c7-55b9-44ba-c992-460c787c66f1"
      },
      "source": [
        "!echo $gdrive_path"
      ],
      "execution_count": 3,
      "outputs": [
        {
          "output_type": "stream",
          "name": "stdout",
          "text": [
            "/content/drive/My Drive/masakhane/efi-en-baseline\n"
          ]
        }
      ]
    },
    {
      "cell_type": "code",
      "metadata": {
        "colab": {
          "base_uri": "https://localhost:8080/"
        },
        "id": "gA75Fs9ys8Y9",
        "outputId": "5effbff0-81af-485b-e4d1-4c6659386864"
      },
      "source": [
        "# Install opus-tools\n",
        "! pip install opustools-pkg"
      ],
      "execution_count": 4,
      "outputs": [
        {
          "output_type": "stream",
          "name": "stdout",
          "text": [
            "Collecting opustools-pkg\n",
            "  Downloading opustools_pkg-0.0.52-py3-none-any.whl (80 kB)\n",
            "\u001b[?25l\r\u001b[K     |████                            | 10 kB 26.6 MB/s eta 0:00:01\r\u001b[K     |████████                        | 20 kB 9.4 MB/s eta 0:00:01\r\u001b[K     |████████████▏                   | 30 kB 8.0 MB/s eta 0:00:01\r\u001b[K     |████████████████▏               | 40 kB 7.8 MB/s eta 0:00:01\r\u001b[K     |████████████████████▎           | 51 kB 5.1 MB/s eta 0:00:01\r\u001b[K     |████████████████████████▎       | 61 kB 5.5 MB/s eta 0:00:01\r\u001b[K     |████████████████████████████▎   | 71 kB 5.5 MB/s eta 0:00:01\r\u001b[K     |████████████████████████████████| 80 kB 3.9 MB/s \n",
            "\u001b[?25hInstalling collected packages: opustools-pkg\n",
            "Successfully installed opustools-pkg-0.0.52\n"
          ]
        }
      ]
    },
    {
      "cell_type": "code",
      "metadata": {
        "colab": {
          "base_uri": "https://localhost:8080/"
        },
        "id": "xq-tDZVks7ZD",
        "outputId": "e5fcfb84-42dc-4848-af7a-6dbae8ed11fc"
      },
      "source": [
        "# Downloading our corpus\n",
        "! opus_read -d JW300 -s $src -t $tgt -wm moses -w jw300.$src jw300.$tgt -q\n",
        "\n",
        "# extract the corpus file\n",
        "! gunzip JW300_latest_xml_$src-$tgt.xml.gz"
      ],
      "execution_count": 5,
      "outputs": [
        {
          "output_type": "stream",
          "name": "stdout",
          "text": [
            "\n",
            "Alignment file /proj/nlpl/data/OPUS/JW300/latest/xml/efi-en.xml.gz not found. The following files are available for downloading:\n",
            "\n",
            "   4 MB https://object.pouta.csc.fi/OPUS-JW300/v1c/xml/efi-en.xml.gz\n",
            "  39 MB https://object.pouta.csc.fi/OPUS-JW300/v1c/xml/efi.zip\n",
            " 274 MB https://object.pouta.csc.fi/OPUS-JW300/v1c/xml/en.zip\n",
            "\n",
            " 316 MB Total size\n",
            "./JW300_latest_xml_efi-en.xml.gz ... 100% of 4 MB\n",
            "./JW300_latest_xml_efi.zip ... 100% of 39 MB\n",
            "./JW300_latest_xml_en.zip ... 100% of 274 MB\n",
            "gzip: JW300_latest_xml_en-efi.xml.gz: No such file or directory\n"
          ]
        }
      ]
    },
    {
      "cell_type": "code",
      "metadata": {
        "colab": {
          "base_uri": "https://localhost:8080/"
        },
        "id": "n48GDRnP8y2G",
        "outputId": "0f5bd9c3-46bc-4e90-889c-17f06cb42df8"
      },
      "source": [
        "# Download the global test set.\n",
        "! wget https://raw.githubusercontent.com/juliakreutzer/masakhane/master/jw300_utils/test/test.en-any.en\n",
        "  \n",
        "# And the specific test set for this language pair.\n",
        "os.environ[\"trg\"] = target_language \n",
        "os.environ[\"src\"] = source_language \n",
        "\n",
        "! wget https://raw.githubusercontent.com/juliakreutzer/masakhane/master/jw300_utils/test/test.en-$trg.en \n",
        "! mv test.en-$trg.en test.en\n",
        "! wget https://raw.githubusercontent.com/juliakreutzer/masakhane/master/jw300_utils/test/test.en-$trg.$trg \n",
        "! mv test.en-$trg.$trg test.$trg"
      ],
      "execution_count": 6,
      "outputs": [
        {
          "output_type": "stream",
          "name": "stdout",
          "text": [
            "--2021-10-14 14:11:03--  https://raw.githubusercontent.com/juliakreutzer/masakhane/master/jw300_utils/test/test.en-any.en\n",
            "Resolving raw.githubusercontent.com (raw.githubusercontent.com)... 185.199.109.133, 185.199.111.133, 185.199.108.133, ...\n",
            "Connecting to raw.githubusercontent.com (raw.githubusercontent.com)|185.199.109.133|:443... connected.\n",
            "HTTP request sent, awaiting response... 200 OK\n",
            "Length: 277791 (271K) [text/plain]\n",
            "Saving to: ‘test.en-any.en’\n",
            "\n",
            "test.en-any.en      100%[===================>] 271.28K  --.-KB/s    in 0.03s   \n",
            "\n",
            "2021-10-14 14:11:04 (8.63 MB/s) - ‘test.en-any.en’ saved [277791/277791]\n",
            "\n",
            "--2021-10-14 14:11:04--  https://raw.githubusercontent.com/juliakreutzer/masakhane/master/jw300_utils/test/test.en-efi.en\n",
            "Resolving raw.githubusercontent.com (raw.githubusercontent.com)... 185.199.111.133, 185.199.109.133, 185.199.110.133, ...\n",
            "Connecting to raw.githubusercontent.com (raw.githubusercontent.com)|185.199.111.133|:443... connected.\n",
            "HTTP request sent, awaiting response... 200 OK\n",
            "Length: 203603 (199K) [text/plain]\n",
            "Saving to: ‘test.en-efi.en’\n",
            "\n",
            "test.en-efi.en      100%[===================>] 198.83K  --.-KB/s    in 0.02s   \n",
            "\n",
            "2021-10-14 14:11:04 (8.34 MB/s) - ‘test.en-efi.en’ saved [203603/203603]\n",
            "\n",
            "--2021-10-14 14:11:04--  https://raw.githubusercontent.com/juliakreutzer/masakhane/master/jw300_utils/test/test.en-efi.efi\n",
            "Resolving raw.githubusercontent.com (raw.githubusercontent.com)... 185.199.108.133, 185.199.109.133, 185.199.110.133, ...\n",
            "Connecting to raw.githubusercontent.com (raw.githubusercontent.com)|185.199.108.133|:443... connected.\n",
            "HTTP request sent, awaiting response... 200 OK\n",
            "Length: 229202 (224K) [text/plain]\n",
            "Saving to: ‘test.en-efi.efi’\n",
            "\n",
            "test.en-efi.efi     100%[===================>] 223.83K  --.-KB/s    in 0.02s   \n",
            "\n",
            "2021-10-14 14:11:04 (8.80 MB/s) - ‘test.en-efi.efi’ saved [229202/229202]\n",
            "\n"
          ]
        }
      ]
    },
    {
      "cell_type": "code",
      "metadata": {
        "colab": {
          "base_uri": "https://localhost:8080/"
        },
        "id": "NqDG-CI28y2L",
        "outputId": "c302a8e5-6010-45b3-b988-c4a23ae3ce99"
      },
      "source": [
        "# Read the test data to filter from train and dev splits.\n",
        "# Store english portion in set for quick filtering checks.\n",
        "en_test_sents = set()\n",
        "filter_test_sents = \"test.en-any.en\"\n",
        "j = 0\n",
        "with open(filter_test_sents) as f:\n",
        "  for line in f:\n",
        "    en_test_sents.add(line.strip())\n",
        "    j += 1\n",
        "print('Loaded {} global test sentences to filter from the training/dev data.'.format(j))"
      ],
      "execution_count": 7,
      "outputs": [
        {
          "output_type": "stream",
          "name": "stdout",
          "text": [
            "Loaded 3571 global test sentences to filter from the training/dev data.\n"
          ]
        }
      ]
    },
    {
      "cell_type": "code",
      "metadata": {
        "colab": {
          "base_uri": "https://localhost:8080/",
          "height": 162
        },
        "id": "3CNdwLBCfSIl",
        "outputId": "b6fbf998-f835-4a5b-fcfc-d7184565dfdf"
      },
      "source": [
        "import pandas as pd\n",
        "\n",
        "# TMX file to dataframe\n",
        "source_file = 'jw300.' + source_language\n",
        "target_file = 'jw300.' + target_language\n",
        "\n",
        "source = []\n",
        "target = []\n",
        "skip_lines = []  # Collect the line numbers of the source portion to skip the same lines for the target portion.\n",
        "with open(source_file) as f:\n",
        "    for i, line in enumerate(f):\n",
        "        # Skip sentences that are contained in the test set.\n",
        "        if line.strip() not in en_test_sents:\n",
        "            source.append(line.strip())\n",
        "        else:\n",
        "            skip_lines.append(i)             \n",
        "with open(target_file) as f:\n",
        "    for j, line in enumerate(f):\n",
        "        # Only add to corpus if corresponding source was not skipped.\n",
        "        if j not in skip_lines:\n",
        "            target.append(line.strip())\n",
        "    \n",
        "print('Loaded data and skipped {}/{} lines since contained in test set.'.format(len(skip_lines), i))\n",
        "    \n",
        "df = pd.DataFrame(zip(source, target), columns=['source_sentence', 'target_sentence'])\n",
        "# if you get TypeError: data argument can't be an iterator is because of your zip version run this below\n",
        "#df = pd.DataFrame(list(zip(source, target)), columns=['source_sentence', 'target_sentence'])\n",
        "df.head(3)"
      ],
      "execution_count": 8,
      "outputs": [
        {
          "output_type": "stream",
          "name": "stdout",
          "text": [
            "Loaded data and skipped 4280/376138 lines since contained in test set.\n"
          ]
        },
        {
          "output_type": "execute_result",
          "data": {
            "text/html": [
              "<div>\n",
              "<style scoped>\n",
              "    .dataframe tbody tr th:only-of-type {\n",
              "        vertical-align: middle;\n",
              "    }\n",
              "\n",
              "    .dataframe tbody tr th {\n",
              "        vertical-align: top;\n",
              "    }\n",
              "\n",
              "    .dataframe thead th {\n",
              "        text-align: right;\n",
              "    }\n",
              "</style>\n",
              "<table border=\"1\" class=\"dataframe\">\n",
              "  <thead>\n",
              "    <tr style=\"text-align: right;\">\n",
              "      <th></th>\n",
              "      <th>source_sentence</th>\n",
              "      <th>target_sentence</th>\n",
              "    </tr>\n",
              "  </thead>\n",
              "  <tbody>\n",
              "    <tr>\n",
              "      <th>0</th>\n",
              "      <td>January 2013</td>\n",
              "      <td>January – February 2013</td>\n",
              "    </tr>\n",
              "    <tr>\n",
              "      <th>1</th>\n",
              "      <td>© 2013 Watch Tower Bible and Tract Society of ...</td>\n",
              "      <td>© 2013 Watch Tower Bible and Tract Society of ...</td>\n",
              "    </tr>\n",
              "    <tr>\n",
              "      <th>2</th>\n",
              "      <td>All rights reserved .</td>\n",
              "      <td>All rights reserved .</td>\n",
              "    </tr>\n",
              "  </tbody>\n",
              "</table>\n",
              "</div>"
            ],
            "text/plain": [
              "                                     source_sentence                                    target_sentence\n",
              "0                                       January 2013                            January – February 2013\n",
              "1  © 2013 Watch Tower Bible and Tract Society of ...  © 2013 Watch Tower Bible and Tract Society of ...\n",
              "2                              All rights reserved .                              All rights reserved ."
            ]
          },
          "metadata": {},
          "execution_count": 8
        }
      ]
    },
    {
      "cell_type": "markdown",
      "metadata": {
        "id": "YkuK3B4p2AkN"
      },
      "source": [
        "## Pre-processing and export\n",
        "\n",
        "It is generally a good idea to remove duplicate translations and conflicting translations from the corpus. In practice, these public corpora include some number of these that need to be cleaned.\n",
        "\n",
        "In addition we will split our data into dev/test/train and export to the filesystem."
      ]
    },
    {
      "cell_type": "code",
      "metadata": {
        "colab": {
          "base_uri": "https://localhost:8080/"
        },
        "id": "M_2ouEOH1_1q",
        "outputId": "88241370-49b2-4baa-f62a-abfeffe476c6"
      },
      "source": [
        "# drop duplicate translations\n",
        "df_pp = df.drop_duplicates()\n",
        "\n",
        "# drop conflicting translations\n",
        "# (this is optional and something that you might want to comment out \n",
        "# depending on the size of your corpus)\n",
        "df_pp.drop_duplicates(subset='source_sentence', inplace=True)\n",
        "df_pp.drop_duplicates(subset='target_sentence', inplace=True)\n",
        "\n",
        "# Shuffle the data to remove bias in dev set selection.\n",
        "df_pp = df_pp.sample(frac=1, random_state=seed).reset_index(drop=True)"
      ],
      "execution_count": 9,
      "outputs": [
        {
          "output_type": "stream",
          "name": "stderr",
          "text": [
            "/usr/local/lib/python3.7/dist-packages/ipykernel_launcher.py:7: SettingWithCopyWarning: \n",
            "A value is trying to be set on a copy of a slice from a DataFrame\n",
            "\n",
            "See the caveats in the documentation: https://pandas.pydata.org/pandas-docs/stable/user_guide/indexing.html#returning-a-view-versus-a-copy\n",
            "  import sys\n",
            "/usr/local/lib/python3.7/dist-packages/ipykernel_launcher.py:8: SettingWithCopyWarning: \n",
            "A value is trying to be set on a copy of a slice from a DataFrame\n",
            "\n",
            "See the caveats in the documentation: https://pandas.pydata.org/pandas-docs/stable/user_guide/indexing.html#returning-a-view-versus-a-copy\n",
            "  \n"
          ]
        }
      ]
    },
    {
      "cell_type": "code",
      "metadata": {
        "colab": {
          "base_uri": "https://localhost:8080/"
        },
        "id": "Z_1BwAApEtMk",
        "outputId": "4141f075-11b0-4f62-c135-918948ccd413"
      },
      "source": [
        "# Install fuzzy wuzzy to remove \"almost duplicate\" sentences in the\n",
        "# test and training sets.\n",
        "! pip install fuzzywuzzy\n",
        "! pip install python-Levenshtein\n",
        "import time\n",
        "from fuzzywuzzy import process\n",
        "import numpy as np\n",
        "from os import cpu_count\n",
        "from functools import partial\n",
        "from multiprocessing import Pool\n",
        "\n",
        "\n",
        "# reset the index of the training set after previous filtering\n",
        "df_pp.reset_index(drop=False, inplace=True)\n",
        "\n",
        "# Remove samples from the training data set if they \"almost overlap\" with the\n",
        "# samples in the test set.\n",
        "\n",
        "# Filtering function. Adjust pad to narrow down the candidate matches to\n",
        "# within a certain length of characters of the given sample.\n",
        "def fuzzfilter(sample, candidates, pad):\n",
        "  candidates = [x for x in candidates if len(x) <= len(sample)+pad and len(x) >= len(sample)-pad] \n",
        "  if len(candidates) > 0:\n",
        "    return process.extractOne(sample, candidates)[1]\n",
        "  else:\n",
        "    return np.nan"
      ],
      "execution_count": 10,
      "outputs": [
        {
          "output_type": "stream",
          "name": "stdout",
          "text": [
            "Collecting fuzzywuzzy\n",
            "  Downloading fuzzywuzzy-0.18.0-py2.py3-none-any.whl (18 kB)\n",
            "Installing collected packages: fuzzywuzzy\n",
            "Successfully installed fuzzywuzzy-0.18.0\n",
            "Collecting python-Levenshtein\n",
            "  Downloading python-Levenshtein-0.12.2.tar.gz (50 kB)\n",
            "\u001b[K     |████████████████████████████████| 50 kB 3.0 MB/s \n",
            "\u001b[?25hRequirement already satisfied: setuptools in /usr/local/lib/python3.7/dist-packages (from python-Levenshtein) (57.4.0)\n",
            "Building wheels for collected packages: python-Levenshtein\n",
            "  Building wheel for python-Levenshtein (setup.py) ... \u001b[?25l\u001b[?25hdone\n",
            "  Created wheel for python-Levenshtein: filename=python_Levenshtein-0.12.2-cp37-cp37m-linux_x86_64.whl size=149862 sha256=0c3483ea5157d294e0dac9c2a1545ea9d85206162e93711b7e516d12575b44f8\n",
            "  Stored in directory: /root/.cache/pip/wheels/05/5f/ca/7c4367734892581bb5ff896f15027a932c551080b2abd3e00d\n",
            "Successfully built python-Levenshtein\n",
            "Installing collected packages: python-Levenshtein\n",
            "Successfully installed python-Levenshtein-0.12.2\n"
          ]
        }
      ]
    },
    {
      "cell_type": "code",
      "metadata": {
        "id": "92EsgTaY3B4H"
      },
      "source": [
        "# start_time = time.time()\n",
        "# ### iterating over pandas dataframe rows is not recomended, let use multi processing to apply the function\n",
        "\n",
        "# with Pool(cpu_count()-1) as pool:\n",
        "#     scores = pool.map(partial(fuzzfilter, candidates=list(en_test_sents), pad=5), df_pp['source_sentence'])\n",
        "# hours, rem = divmod(time.time() - start_time, 3600)\n",
        "# minutes, seconds = divmod(rem, 60)\n",
        "# print(\"done in {}h:{}min:{}seconds\".format(hours, minutes, seconds))\n",
        "\n",
        "# # Filter out \"almost overlapping samples\"\n",
        "# df_pp = df_pp.assign(scores=scores)\n",
        "# df_pp = df_pp[df_pp['scores'] < 95]"
      ],
      "execution_count": 11,
      "outputs": []
    },
    {
      "cell_type": "code",
      "metadata": {
        "colab": {
          "base_uri": "https://localhost:8080/"
        },
        "id": "hxxBOCA-xXhy",
        "outputId": "3e635edc-69c9-4a54-bd31-48f2a7473a34"
      },
      "source": [
        "# This section does the split between train/dev for the parallel corpora then saves them as separate files\n",
        "# We use 1000 dev test and the given test set.\n",
        "import csv\n",
        "\n",
        "# Do the split between dev/train and create parallel corpora\n",
        "num_dev_patterns = 1000\n",
        "\n",
        "# Optional: lower case the corpora - this will make it easier to generalize, but without proper casing.\n",
        "if lc:  # Julia: making lowercasing optional\n",
        "    df_pp[\"source_sentence\"] = df_pp[\"source_sentence\"].str.lower()\n",
        "    df_pp[\"target_sentence\"] = df_pp[\"target_sentence\"].str.lower()\n",
        "\n",
        "# Julia: test sets are already generated\n",
        "dev = df_pp.tail(num_dev_patterns) # Herman: Error in original\n",
        "stripped = df_pp.drop(df_pp.tail(num_dev_patterns).index)\n",
        "\n",
        "with open(\"train.\"+source_language, \"w\") as src_file, open(\"train.\"+target_language, \"w\") as trg_file:\n",
        "  for index, row in stripped.iterrows():\n",
        "    src_file.write(row[\"source_sentence\"]+\"\\n\")\n",
        "    trg_file.write(row[\"target_sentence\"]+\"\\n\")\n",
        "    \n",
        "with open(\"dev.\"+source_language, \"w\") as src_file, open(\"dev.\"+target_language, \"w\") as trg_file:\n",
        "  for index, row in dev.iterrows():\n",
        "    src_file.write(row[\"source_sentence\"]+\"\\n\")\n",
        "    trg_file.write(row[\"target_sentence\"]+\"\\n\")\n",
        "\n",
        "#stripped[[\"source_sentence\"]].to_csv(\"train.\"+source_language, header=False, index=False)  # Herman: Added `header=False` everywhere\n",
        "#stripped[[\"target_sentence\"]].to_csv(\"train.\"+target_language, header=False, index=False)  # Julia: Problematic handling of quotation marks.\n",
        "\n",
        "#dev[[\"source_sentence\"]].to_csv(\"dev.\"+source_language, header=False, index=False)\n",
        "#dev[[\"target_sentence\"]].to_csv(\"dev.\"+target_language, header=False, index=False)\n",
        "\n",
        "# Doublecheck the format below. There should be no extra quotation marks or weird characters.\n",
        "! head train.*\n",
        "! head dev.*"
      ],
      "execution_count": 12,
      "outputs": [
        {
          "output_type": "stream",
          "name": "stdout",
          "text": [
            "==> train.efi <==\n",
            "Mme N̄kpọ Oro Nnyịn Mme Christian Isede ke Edisana\n",
            "Apostle Paul ekewet ete : “ Anie ọfiọk ekikere Jehovah , man ekpeteme Enye ? ” ( 1 Cor . 2 : 16 ) Ẹda ikọ emi ẹto se prọfet Isaiah okobụpde mbon eyo esie ete : “ Anie odomo spirit Jehovah , anie ekeme ndinọ enye item nnyụn̄ nnam enye ọfiọk n̄kpọ ekededi ? ”\n",
            "Edi mme owo oro “ esịt mmọ asanade ” oro ẹnyụn̄ ẹnyenede idotenyịn edidu uwem ke nsinsi ke isọn̄ ẹkeme n̄ko ‘ ndikụt ’ Abasi .\n",
            "Nso idi ata akpan ntak emi akpanamde ibiere se iduakde ndinam man itetịm ikpere Jehovah ?\n",
            "Se ibuotikọ oro “ Ẹsọn̄ọ Idem Man Ẹsịn Idiọk Edinam , ” ke Enyọn̄ - Ukpeme eke October 1 , 1999 .\n",
            "Okposụkedi emi mmọ ẹdide owo 10,000 , se iditịbede mfịn emi ọmọn̄ anam ẹfiọk adan̄a nte mmọ ẹnyenede uko ye mbuọtidem .\n",
            "Kpono N̄kani Owo , 5 / 15 ‘ Kûfehe .\n",
            "Mme idaha oro ẹtiede idomo idomo ẹkeme ndidemede ke itieutom , ke ufọkn̄wed , ke esịt ubon , m̀mê ke esop .\n",
            "( Matthew 13 : 36 ; Mark 4 : 34 ) Do , mme uwụtn̄kpọ Jesus ẹma ẹsiyarade akpanikọ ẹnọ mbon oro ẹkeyomde akpanikọ ; ke ukem ini oro , mme uwụtn̄kpọ esie ẹma ẹsidịp mbon ntan̄idem akpanikọ .\n",
            "Jehovah ama an̄wam mi mfiọk ke ọfọn ndikop uyo imọ n̄kan uyo ete ye eka mi\n",
            "\n",
            "==> train.en <==\n",
            "Sacred Things in Our Christian Lives\n",
            "The apostle Paul wrote : “ Who has come to know the mind of Jehovah , that he may instruct him ? ” ( 1 Cor . 2 : 16 ) That verse is based on what the prophet Isaiah asked those of his day : “ Who has taken the proportions of the spirit of Jehovah , and who as his man of counsel can make him know anything ? ”\n",
            "But humans who are “ pure in heart ” and have the hope of living forever on earth are also able to “ see ” God .\n",
            "What is the primary reason for setting spiritual goals ?\n",
            "See the article entitled “ Fortified to Say No to Wrongdoing , ” in the October 1 , 1999 , issue of The Watchtower .\n",
            "They were going against a vicious foe , and they were outnumbered and poorly armed .\n",
            "One Flock , One Shepherd , 3 / 15\n",
            "Trialsome situations may arise at work , in school , within the family , or in the congregation .\n",
            "( Matthew 13 : 36 ; Mark 4 : 34 ) Jesus ’ illustrations , then , revealed truth to those whose hearts hungered for it ; at the same time , his illustrations concealed truth from those with proud hearts .\n",
            "Jehovah helped me to put my thinking straight and to see the way to go\n",
            "==> dev.efi <==\n",
            "Margaritha esidara ndinọ mme owo oro ẹsidide ẹdidep n̄kpọ ke akwa ufọkurua oro odude ekpere , ikọ ntiense , ndien esop nnyịn ke mfọnido ọmọnọ nnyịn ndusụk efakutom oro ẹkperede ufọk nnyịn , ndien emi esinam edi mmemmem n̄kpọ ọnọ nnyịn ndikwọrọ ikọ adan̄a nte nsọn̄idem nnyịn ayakde .\n",
            "Se ikakpade mi idem ikan edi ke enye okosụk ekpe mi se ekesikpede !\n",
            "Nte an̄wan̄ade , ibọrọ mbụme oro edi ata akpan n̄kpọ ọnọ nnyịn , ndien iyenen̄ede ineme enye .\n",
            "Ẹma ẹsinyụn̄ ẹsịn iduot ke idet erọn̄ emi ẹsidade ẹnam ọfọn̄ .\n",
            "Emi esinam ika iso iyọ kpa ye oro idem ememde nnyịn .\n",
            "( John 17 : 15 , 16 ) Bụp idemfo ete : ‘ Ndi mmodomo nditre ndidi ubak ererimbot ?\n",
            "Ke utọ idaha oro , otu mbiowo ẹkeme ndinam ndutịm man ebiowo kiet m̀mê Christian eren oro ọkọride esịm ọyọhọ idaha ada ubak uyo ye wine emi ẹdide mme n̄kpọ idiọn̄ọ aka ebịne ekemmọ andinịm ke akpanikọ oro kpa ke okoneyo oro mbemiso usiere .\n",
            "Edida mme edumbet Bible nsịn ke edinam adian mme owo ọtọkiet , kpa se ukara owo mîkemeke ndinam\n",
            "Ikọ Greek en̄wen emi ẹkabarede “ uwem ” edi biʹos .\n",
            "( Rome 4 : 19 - 21 ) Akan oro , enye edi “ ete kpukpru mmọ emi ẹbuọtde idem , ” ndien ẹkedikot enye “ Ufan Abasi . ”\n",
            "\n",
            "==> dev.en <==\n",
            "Margaritha enjoys witnessing to people at a nearby supermarket , and the congregation has kindly set aside some territory for us near our home , which makes it easier for us to preach as our health permits .\n",
            "Surprisingly , I still got the same pay !\n",
            "Clearly , the answer to that question is of great importance to us , and we will consider it further .\n",
            "In addition , wool was often dyed .\n",
            "So despite moments of discouragement , we endure .\n",
            "( John 17 : 15 , 16 ) Ask yourself : ‘ Do I strive to be no part of the world ?\n",
            "In such a case , the body of elders can arrange for an elder or other mature Christian male to take portions of the emblematic bread and wine to that fellow believer on the same night before sunrise .\n",
            "The application of Bible principles has accomplished what human governments cannot\n",
            "Another Greek word translated “ life ” is biʹos , from which come such English words as “ biography ” and “ biology . ”\n",
            "( Romans 4 : 19-21 ) Moreover , he is “ the father of all those having faith , ” and he came to be called “ Jehovah ’ s friend . ”\n"
          ]
        }
      ]
    },
    {
      "cell_type": "markdown",
      "metadata": {
        "id": "epeCydmCyS8X"
      },
      "source": [
        "\n",
        "\n",
        "---\n",
        "\n",
        "\n",
        "## Installation of JoeyNMT\n",
        "\n",
        "JoeyNMT is a simple, minimalist NMT package which is useful for learning and teaching. Check out the documentation for JoeyNMT [here](https://joeynmt.readthedocs.io)  "
      ]
    },
    {
      "cell_type": "code",
      "metadata": {
        "colab": {
          "base_uri": "https://localhost:8080/"
        },
        "id": "iBRMm4kMxZ8L",
        "outputId": "d592a80e-160f-4b1f-d1bd-7e3a418f454f"
      },
      "source": [
        "# Install JoeyNMT\n",
        "! git clone https://github.com/joeynmt/joeynmt.git\n",
        "! cd joeynmt; pip3 install .\n",
        "# Install Pytorch with GPU support v1.7.1.\n",
        "! pip install torch==1.9.0+cu101 -f https://download.pytorch.org/whl/torch_stable.html"
      ],
      "execution_count": 13,
      "outputs": [
        {
          "output_type": "stream",
          "name": "stdout",
          "text": [
            "Cloning into 'joeynmt'...\n",
            "remote: Enumerating objects: 3224, done.\u001b[K\n",
            "remote: Counting objects: 100% (273/273), done.\u001b[K\n",
            "remote: Compressing objects: 100% (139/139), done.\u001b[K\n",
            "remote: Total 3224 (delta 157), reused 206 (delta 134), pack-reused 2951\u001b[K\n",
            "Receiving objects: 100% (3224/3224), 8.17 MiB | 15.63 MiB/s, done.\n",
            "Resolving deltas: 100% (2186/2186), done.\n",
            "Processing /content/joeynmt\n",
            "\u001b[33m  DEPRECATION: A future pip version will change local packages to be built in-place without first copying to a temporary directory. We recommend you use --use-feature=in-tree-build to test your packages with this new behavior before it becomes the default.\n",
            "   pip 21.3 will remove support for this functionality. You can find discussion regarding this at https://github.com/pypa/pip/issues/7555.\u001b[0m\n",
            "Requirement already satisfied: future in /usr/local/lib/python3.7/dist-packages (from joeynmt==1.3) (0.16.0)\n",
            "Requirement already satisfied: pillow in /usr/local/lib/python3.7/dist-packages (from joeynmt==1.3) (7.1.2)\n",
            "Requirement already satisfied: numpy>=1.19.5 in /usr/local/lib/python3.7/dist-packages (from joeynmt==1.3) (1.19.5)\n",
            "Requirement already satisfied: setuptools>=41.0.0 in /usr/local/lib/python3.7/dist-packages (from joeynmt==1.3) (57.4.0)\n",
            "Requirement already satisfied: torch>=1.9.0 in /usr/local/lib/python3.7/dist-packages (from joeynmt==1.3) (1.9.0+cu111)\n",
            "Requirement already satisfied: tensorboard>=1.15 in /usr/local/lib/python3.7/dist-packages (from joeynmt==1.3) (2.6.0)\n",
            "Requirement already satisfied: torchtext>=0.10.0 in /usr/local/lib/python3.7/dist-packages (from joeynmt==1.3) (0.10.0)\n",
            "Collecting sacrebleu>=2.0.0\n",
            "  Downloading sacrebleu-2.0.0-py3-none-any.whl (90 kB)\n",
            "\u001b[K     |████████████████████████████████| 90 kB 4.2 MB/s \n",
            "\u001b[?25hCollecting subword-nmt\n",
            "  Downloading subword_nmt-0.3.7-py2.py3-none-any.whl (26 kB)\n",
            "Requirement already satisfied: matplotlib in /usr/local/lib/python3.7/dist-packages (from joeynmt==1.3) (3.2.2)\n",
            "Requirement already satisfied: seaborn in /usr/local/lib/python3.7/dist-packages (from joeynmt==1.3) (0.11.2)\n",
            "Collecting pyyaml>=5.1\n",
            "  Downloading PyYAML-6.0-cp37-cp37m-manylinux_2_5_x86_64.manylinux1_x86_64.manylinux_2_12_x86_64.manylinux2010_x86_64.whl (596 kB)\n",
            "\u001b[K     |████████████████████████████████| 596 kB 37.8 MB/s \n",
            "\u001b[?25hCollecting pylint>=2.9.6\n",
            "  Downloading pylint-2.11.1-py3-none-any.whl (392 kB)\n",
            "\u001b[K     |████████████████████████████████| 392 kB 35.7 MB/s \n",
            "\u001b[?25hCollecting six==1.12\n",
            "  Downloading six-1.12.0-py2.py3-none-any.whl (10 kB)\n",
            "Collecting wrapt==1.11.1\n",
            "  Downloading wrapt-1.11.1.tar.gz (27 kB)\n",
            "Requirement already satisfied: toml>=0.7.1 in /usr/local/lib/python3.7/dist-packages (from pylint>=2.9.6->joeynmt==1.3) (0.10.2)\n",
            "Collecting astroid<2.9,>=2.8.0\n",
            "  Downloading astroid-2.8.2-py3-none-any.whl (246 kB)\n",
            "\u001b[K     |████████████████████████████████| 246 kB 42.6 MB/s \n",
            "\u001b[?25hCollecting typing-extensions>=3.10.0\n",
            "  Downloading typing_extensions-3.10.0.2-py3-none-any.whl (26 kB)\n",
            "Collecting platformdirs>=2.2.0\n",
            "  Downloading platformdirs-2.4.0-py3-none-any.whl (14 kB)\n",
            "Collecting mccabe<0.7,>=0.6\n",
            "  Downloading mccabe-0.6.1-py2.py3-none-any.whl (8.6 kB)\n",
            "Collecting isort<6,>=4.2.5\n",
            "  Downloading isort-5.9.3-py3-none-any.whl (106 kB)\n",
            "\u001b[K     |████████████████████████████████| 106 kB 52.1 MB/s \n",
            "\u001b[?25hCollecting lazy-object-proxy>=1.4.0\n",
            "  Downloading lazy_object_proxy-1.6.0-cp37-cp37m-manylinux1_x86_64.whl (55 kB)\n",
            "\u001b[K     |████████████████████████████████| 55 kB 3.8 MB/s \n",
            "\u001b[?25hCollecting typed-ast<1.5,>=1.4.0\n",
            "  Downloading typed_ast-1.4.3-cp37-cp37m-manylinux1_x86_64.whl (743 kB)\n",
            "\u001b[K     |████████████████████████████████| 743 kB 33.5 MB/s \n",
            "\u001b[?25hCollecting colorama\n",
            "  Downloading colorama-0.4.4-py2.py3-none-any.whl (16 kB)\n",
            "Requirement already satisfied: regex in /usr/local/lib/python3.7/dist-packages (from sacrebleu>=2.0.0->joeynmt==1.3) (2019.12.20)\n",
            "Requirement already satisfied: tabulate>=0.8.9 in /usr/local/lib/python3.7/dist-packages (from sacrebleu>=2.0.0->joeynmt==1.3) (0.8.9)\n",
            "Collecting portalocker\n",
            "  Downloading portalocker-2.3.2-py2.py3-none-any.whl (15 kB)\n",
            "Requirement already satisfied: google-auth-oauthlib<0.5,>=0.4.1 in /usr/local/lib/python3.7/dist-packages (from tensorboard>=1.15->joeynmt==1.3) (0.4.6)\n",
            "Requirement already satisfied: tensorboard-data-server<0.7.0,>=0.6.0 in /usr/local/lib/python3.7/dist-packages (from tensorboard>=1.15->joeynmt==1.3) (0.6.1)\n",
            "Requirement already satisfied: tensorboard-plugin-wit>=1.6.0 in /usr/local/lib/python3.7/dist-packages (from tensorboard>=1.15->joeynmt==1.3) (1.8.0)\n",
            "Requirement already satisfied: wheel>=0.26 in /usr/local/lib/python3.7/dist-packages (from tensorboard>=1.15->joeynmt==1.3) (0.37.0)\n",
            "Requirement already satisfied: requests<3,>=2.21.0 in /usr/local/lib/python3.7/dist-packages (from tensorboard>=1.15->joeynmt==1.3) (2.23.0)\n",
            "Requirement already satisfied: markdown>=2.6.8 in /usr/local/lib/python3.7/dist-packages (from tensorboard>=1.15->joeynmt==1.3) (3.3.4)\n",
            "Requirement already satisfied: protobuf>=3.6.0 in /usr/local/lib/python3.7/dist-packages (from tensorboard>=1.15->joeynmt==1.3) (3.17.3)\n",
            "Requirement already satisfied: google-auth<2,>=1.6.3 in /usr/local/lib/python3.7/dist-packages (from tensorboard>=1.15->joeynmt==1.3) (1.35.0)\n",
            "Requirement already satisfied: grpcio>=1.24.3 in /usr/local/lib/python3.7/dist-packages (from tensorboard>=1.15->joeynmt==1.3) (1.41.0)\n",
            "Requirement already satisfied: werkzeug>=0.11.15 in /usr/local/lib/python3.7/dist-packages (from tensorboard>=1.15->joeynmt==1.3) (1.0.1)\n",
            "Requirement already satisfied: absl-py>=0.4 in /usr/local/lib/python3.7/dist-packages (from tensorboard>=1.15->joeynmt==1.3) (0.12.0)\n",
            "Requirement already satisfied: pyasn1-modules>=0.2.1 in /usr/local/lib/python3.7/dist-packages (from google-auth<2,>=1.6.3->tensorboard>=1.15->joeynmt==1.3) (0.2.8)\n",
            "Requirement already satisfied: rsa<5,>=3.1.4 in /usr/local/lib/python3.7/dist-packages (from google-auth<2,>=1.6.3->tensorboard>=1.15->joeynmt==1.3) (4.7.2)\n",
            "Requirement already satisfied: cachetools<5.0,>=2.0.0 in /usr/local/lib/python3.7/dist-packages (from google-auth<2,>=1.6.3->tensorboard>=1.15->joeynmt==1.3) (4.2.4)\n",
            "Requirement already satisfied: requests-oauthlib>=0.7.0 in /usr/local/lib/python3.7/dist-packages (from google-auth-oauthlib<0.5,>=0.4.1->tensorboard>=1.15->joeynmt==1.3) (1.3.0)\n",
            "Requirement already satisfied: importlib-metadata in /usr/local/lib/python3.7/dist-packages (from markdown>=2.6.8->tensorboard>=1.15->joeynmt==1.3) (4.8.1)\n",
            "Requirement already satisfied: pyasn1<0.5.0,>=0.4.6 in /usr/local/lib/python3.7/dist-packages (from pyasn1-modules>=0.2.1->google-auth<2,>=1.6.3->tensorboard>=1.15->joeynmt==1.3) (0.4.8)\n",
            "Requirement already satisfied: chardet<4,>=3.0.2 in /usr/local/lib/python3.7/dist-packages (from requests<3,>=2.21.0->tensorboard>=1.15->joeynmt==1.3) (3.0.4)\n",
            "Requirement already satisfied: urllib3!=1.25.0,!=1.25.1,<1.26,>=1.21.1 in /usr/local/lib/python3.7/dist-packages (from requests<3,>=2.21.0->tensorboard>=1.15->joeynmt==1.3) (1.24.3)\n",
            "Requirement already satisfied: idna<3,>=2.5 in /usr/local/lib/python3.7/dist-packages (from requests<3,>=2.21.0->tensorboard>=1.15->joeynmt==1.3) (2.10)\n",
            "Requirement already satisfied: certifi>=2017.4.17 in /usr/local/lib/python3.7/dist-packages (from requests<3,>=2.21.0->tensorboard>=1.15->joeynmt==1.3) (2021.5.30)\n",
            "Requirement already satisfied: oauthlib>=3.0.0 in /usr/local/lib/python3.7/dist-packages (from requests-oauthlib>=0.7.0->google-auth-oauthlib<0.5,>=0.4.1->tensorboard>=1.15->joeynmt==1.3) (3.1.1)\n",
            "Requirement already satisfied: tqdm in /usr/local/lib/python3.7/dist-packages (from torchtext>=0.10.0->joeynmt==1.3) (4.62.3)\n",
            "Requirement already satisfied: zipp>=0.5 in /usr/local/lib/python3.7/dist-packages (from importlib-metadata->markdown>=2.6.8->tensorboard>=1.15->joeynmt==1.3) (3.6.0)\n",
            "Requirement already satisfied: pyparsing!=2.0.4,!=2.1.2,!=2.1.6,>=2.0.1 in /usr/local/lib/python3.7/dist-packages (from matplotlib->joeynmt==1.3) (2.4.7)\n",
            "Requirement already satisfied: python-dateutil>=2.1 in /usr/local/lib/python3.7/dist-packages (from matplotlib->joeynmt==1.3) (2.8.2)\n",
            "Requirement already satisfied: cycler>=0.10 in /usr/local/lib/python3.7/dist-packages (from matplotlib->joeynmt==1.3) (0.10.0)\n",
            "Requirement already satisfied: kiwisolver>=1.0.1 in /usr/local/lib/python3.7/dist-packages (from matplotlib->joeynmt==1.3) (1.3.2)\n",
            "Requirement already satisfied: pandas>=0.23 in /usr/local/lib/python3.7/dist-packages (from seaborn->joeynmt==1.3) (1.1.5)\n",
            "Requirement already satisfied: scipy>=1.0 in /usr/local/lib/python3.7/dist-packages (from seaborn->joeynmt==1.3) (1.4.1)\n",
            "Requirement already satisfied: pytz>=2017.2 in /usr/local/lib/python3.7/dist-packages (from pandas>=0.23->seaborn->joeynmt==1.3) (2018.9)\n",
            "Building wheels for collected packages: joeynmt, wrapt\n",
            "  Building wheel for joeynmt (setup.py) ... \u001b[?25l\u001b[?25hdone\n",
            "  Created wheel for joeynmt: filename=joeynmt-1.3-py3-none-any.whl size=86029 sha256=fae7b35461dfd6b338baeb55c7bb18928c3cc3d067a6346563b2b2dbf93cc0b6\n",
            "  Stored in directory: /tmp/pip-ephem-wheel-cache-6ik8pi6g/wheels/0a/f4/bf/6c9d3b8efbfece6cd209f865be37382b02e7c3584df2e28ca4\n",
            "  Building wheel for wrapt (setup.py) ... \u001b[?25l\u001b[?25hdone\n",
            "  Created wheel for wrapt: filename=wrapt-1.11.1-cp37-cp37m-linux_x86_64.whl size=68440 sha256=e2ca10080e6096acf95ec67fd7a8c6430135b50143f8c4b03a7d73f84b75ac1d\n",
            "  Stored in directory: /root/.cache/pip/wheels/4e/58/9d/da8bad4545585ca52311498ff677647c95c7b690b3040171f8\n",
            "Successfully built joeynmt wrapt\n",
            "Installing collected packages: typing-extensions, six, wrapt, typed-ast, lazy-object-proxy, portalocker, platformdirs, mccabe, isort, colorama, astroid, subword-nmt, sacrebleu, pyyaml, pylint, joeynmt\n",
            "  Attempting uninstall: typing-extensions\n",
            "    Found existing installation: typing-extensions 3.7.4.3\n",
            "    Uninstalling typing-extensions-3.7.4.3:\n",
            "      Successfully uninstalled typing-extensions-3.7.4.3\n",
            "  Attempting uninstall: six\n",
            "    Found existing installation: six 1.15.0\n",
            "    Uninstalling six-1.15.0:\n",
            "      Successfully uninstalled six-1.15.0\n",
            "  Attempting uninstall: wrapt\n",
            "    Found existing installation: wrapt 1.12.1\n",
            "    Uninstalling wrapt-1.12.1:\n",
            "      Successfully uninstalled wrapt-1.12.1\n",
            "  Attempting uninstall: pyyaml\n",
            "    Found existing installation: PyYAML 3.13\n",
            "    Uninstalling PyYAML-3.13:\n",
            "      Successfully uninstalled PyYAML-3.13\n",
            "\u001b[31mERROR: pip's dependency resolver does not currently take into account all the packages that are installed. This behaviour is the source of the following dependency conflicts.\n",
            "tensorflow 2.6.0 requires six~=1.15.0, but you have six 1.12.0 which is incompatible.\n",
            "tensorflow 2.6.0 requires typing-extensions~=3.7.4, but you have typing-extensions 3.10.0.2 which is incompatible.\n",
            "tensorflow 2.6.0 requires wrapt~=1.12.1, but you have wrapt 1.11.1 which is incompatible.\n",
            "google-colab 1.0.0 requires six~=1.15.0, but you have six 1.12.0 which is incompatible.\n",
            "google-api-python-client 1.12.8 requires six<2dev,>=1.13.0, but you have six 1.12.0 which is incompatible.\n",
            "google-api-core 1.26.3 requires six>=1.13.0, but you have six 1.12.0 which is incompatible.\n",
            "datascience 0.10.6 requires folium==0.2.1, but you have folium 0.8.3 which is incompatible.\n",
            "albumentations 0.1.12 requires imgaug<0.2.7,>=0.2.5, but you have imgaug 0.2.9 which is incompatible.\u001b[0m\n",
            "Successfully installed astroid-2.8.2 colorama-0.4.4 isort-5.9.3 joeynmt-1.3 lazy-object-proxy-1.6.0 mccabe-0.6.1 platformdirs-2.4.0 portalocker-2.3.2 pylint-2.11.1 pyyaml-6.0 sacrebleu-2.0.0 six-1.12.0 subword-nmt-0.3.7 typed-ast-1.4.3 typing-extensions-3.10.0.2 wrapt-1.11.1\n",
            "Looking in links: https://download.pytorch.org/whl/torch_stable.html\n",
            "\u001b[31mERROR: Could not find a version that satisfies the requirement torch==1.9.0+cu101 (from versions: 0.1.2, 0.1.2.post1, 0.1.2.post2, 0.4.1, 0.4.1.post2, 1.0.0, 1.0.1, 1.0.1.post2, 1.1.0, 1.2.0, 1.2.0+cpu, 1.2.0+cu92, 1.3.0, 1.3.0+cpu, 1.3.0+cu100, 1.3.0+cu92, 1.3.1, 1.3.1+cpu, 1.3.1+cu100, 1.3.1+cu92, 1.4.0, 1.4.0+cpu, 1.4.0+cu100, 1.4.0+cu92, 1.5.0, 1.5.0+cpu, 1.5.0+cu101, 1.5.0+cu92, 1.5.1, 1.5.1+cpu, 1.5.1+cu101, 1.5.1+cu92, 1.6.0, 1.6.0+cpu, 1.6.0+cu101, 1.6.0+cu92, 1.7.0, 1.7.0+cpu, 1.7.0+cu101, 1.7.0+cu110, 1.7.0+cu92, 1.7.1, 1.7.1+cpu, 1.7.1+cu101, 1.7.1+cu110, 1.7.1+cu92, 1.7.1+rocm3.7, 1.7.1+rocm3.8, 1.8.0, 1.8.0+cpu, 1.8.0+cu101, 1.8.0+cu111, 1.8.0+rocm3.10, 1.8.0+rocm4.0.1, 1.8.1, 1.8.1+cpu, 1.8.1+cu101, 1.8.1+cu102, 1.8.1+cu111, 1.8.1+rocm3.10, 1.8.1+rocm4.0.1, 1.9.0, 1.9.0+cpu, 1.9.0+cu102, 1.9.0+cu111, 1.9.0+rocm4.0.1, 1.9.0+rocm4.1, 1.9.0+rocm4.2, 1.9.1, 1.9.1+cpu, 1.9.1+cu102, 1.9.1+cu111, 1.9.1+rocm4.0.1, 1.9.1+rocm4.1, 1.9.1+rocm4.2)\u001b[0m\n",
            "\u001b[31mERROR: No matching distribution found for torch==1.9.0+cu101\u001b[0m\n"
          ]
        }
      ]
    },
    {
      "cell_type": "markdown",
      "metadata": {
        "id": "AaE77Tcppex9"
      },
      "source": [
        "# Preprocessing the Data into Subword BPE Tokens\n",
        "\n",
        "- One of the most powerful improvements for agglutinative languages (a feature of most Bantu languages) is using BPE tokenization [ (Sennrich, 2015) ](https://arxiv.org/abs/1508.07909).\n",
        "\n",
        "- It was also shown that by optimizing the umber of BPE codes we significantly improve results for low-resourced languages [(Sennrich, 2019)](https://www.aclweb.org/anthology/P19-1021) [(Martinus, 2019)](https://arxiv.org/abs/1906.05685)\n",
        "\n",
        "- Below we have the scripts for doing BPE tokenization of our data. We use 4000 tokens as recommended by [(Sennrich, 2019)](https://www.aclweb.org/anthology/P19-1021). You do not need to change anything. Simply running the below will be suitable. "
      ]
    },
    {
      "cell_type": "code",
      "metadata": {
        "colab": {
          "base_uri": "https://localhost:8080/"
        },
        "id": "H-TyjtmXB1mL",
        "outputId": "ffc309cd-7c9e-44bf-c3b6-527d0623b987"
      },
      "source": [
        "# One of the huge boosts in NMT performance was to use a different method of tokenizing. \n",
        "# Usually, NMT would tokenize by words. However, using a method called BPE gave amazing boosts to performance\n",
        "\n",
        "# Do subword NMT\n",
        "from os import path\n",
        "os.environ[\"src\"] = source_language # Sets them in bash as well, since we often use bash scripts\n",
        "os.environ[\"tgt\"] = target_language\n",
        "\n",
        "# Learn BPEs on the training data.\n",
        "os.environ[\"data_path\"] = path.join(\"joeynmt\", \"data\",target_language + source_language ) # Herman! \n",
        "! subword-nmt learn-joint-bpe-and-vocab --input train.$src train.$tgt -s 4000 -o bpe.codes.4000 --write-vocabulary vocab.$src vocab.$tgt\n",
        "\n",
        "# Apply BPE splits to the development and test data.\n",
        "! subword-nmt apply-bpe -c bpe.codes.4000 --vocabulary vocab.$src < train.$src > train.bpe.$src\n",
        "! subword-nmt apply-bpe -c bpe.codes.4000 --vocabulary vocab.$tgt < train.$tgt > train.bpe.$tgt\n",
        "\n",
        "! subword-nmt apply-bpe -c bpe.codes.4000 --vocabulary vocab.$src < dev.$src > dev.bpe.$src\n",
        "! subword-nmt apply-bpe -c bpe.codes.4000 --vocabulary vocab.$tgt < dev.$tgt > dev.bpe.$tgt\n",
        "! subword-nmt apply-bpe -c bpe.codes.4000 --vocabulary vocab.$src < test.$src > test.bpe.$src\n",
        "! subword-nmt apply-bpe -c bpe.codes.4000 --vocabulary vocab.$tgt < test.$tgt > test.bpe.$tgt\n",
        "\n",
        "# Create directory, move everyone we care about to the correct location\n",
        "! mkdir -p $data_path\n",
        "! cp train.* $data_path\n",
        "! cp test.* $data_path\n",
        "! cp dev.* $data_path\n",
        "! cp bpe.codes.4000 $data_path\n",
        "! ls $data_path\n",
        "\n",
        "# Also move everything we care about to a mounted location in google drive (relevant if running in colab) at gdrive_path\n",
        "! cp train.* \"$gdrive_path\"\n",
        "! cp test.* \"$gdrive_path\"\n",
        "! cp dev.* \"$gdrive_path\"\n",
        "! cp bpe.codes.4000 \"$gdrive_path\"\n",
        "! ls \"$gdrive_path\"\n",
        "\n",
        "# Create that vocab using build_vocab\n",
        "! sudo chmod 777 joeynmt/scripts/build_vocab.py\n",
        "! joeynmt/scripts/build_vocab.py joeynmt/data/$tgt$src/train.bpe.$src joeynmt/data/$tgt$src/train.bpe.$tgt --output_path joeynmt/data/$tgt$src/vocab.txt\n",
        "\n",
        "# Some output\n",
        "! echo \"BPE Swahili Sentences\"\n",
        "! tail -n 5 test.bpe.$tgt\n",
        "! echo \"Combined BPE Vocab\"\n",
        "! tail -n 10 joeynmt/data/$tgt$src/vocab.txt  # Herman"
      ],
      "execution_count": 14,
      "outputs": [
        {
          "output_type": "stream",
          "name": "stdout",
          "text": [
            "bpe.codes.4000\tdev.efi       test.bpe.en  test.en-any.en  train.efi\n",
            "dev.bpe.efi\tdev.en\t      test.efi\t   train.bpe.efi   train.en\n",
            "dev.bpe.en\ttest.bpe.efi  test.en\t   train.bpe.en\n",
            "bpe.codes.4000\tdev.efi  test.bpe.efi  test.en\t       train.bpe.en\n",
            "dev.bpe.efi\tdev.en\t test.bpe.en   test.en-any.en  train.efi\n",
            "dev.bpe.en\tmodels\t test.efi      train.bpe.efi   train.en\n",
            "BPE Swahili Sentences\n",
            "18 , 19 . ( a ) Didie ke nditọete ke esop mbufo ẹkeme ndin̄wam fi ada san̄asan̄a ?\n",
            "“ Ndi@@ tie n̄kere se Mme N̄ke 27 : 11 , Matthew 26 : 5@@ 2 , ye John 13 : 35 ẹdọhọde ama an̄wam mi nt@@ etịm mb@@ iere ke ndid@@ ụk@@ ke ekọn̄ .\n",
            "Mme itie N̄wed Abasi emi ama anam esịt ana mi sụn̄ ke ini afanikọn̄ emi . ” — A@@ nd@@ ri@@ y emi otode Uk@@ ra@@ ine .\n",
            "“ Isaiah 2 : 4 ama an̄wam mi n̄ka iso nda san̄asan̄a ke ini idomo .\n",
            "Mma n@@ tie n̄kere nte uwem ed@@ inem@@ de ke obufa ererimbot , ke ini mme owo mîdi@@ d@@ aha n̄kpọ@@ ekọn̄ iw@@ ot owo . ” — W@@ il@@ m@@ er emi otode C@@ olo@@ mb@@ ia .\n",
            "Combined BPE Vocab\n",
            "ṭ@@\n",
            "À@@\n",
            "ṭ\n",
            "Α@@\n",
            "ι\n",
            "sae\n",
            "⁠@@\n",
            "û\n",
            "ʺ\n",
            "ˋ@@\n"
          ]
        }
      ]
    },
    {
      "cell_type": "code",
      "metadata": {
        "colab": {
          "base_uri": "https://localhost:8080/"
        },
        "id": "IlMitUHR8Qy-",
        "outputId": "76cc21e2-a489-4810-9f3f-311211b5db35"
      },
      "source": [
        "# Also move everything we care about to a mounted location in google drive (relevant if running in colab) at gdrive_path\n",
        "! cp train.* \"$gdrive_path\"\n",
        "! cp test.* \"$gdrive_path\"\n",
        "! cp dev.* \"$gdrive_path\"\n",
        "! cp bpe.codes.4000 \"$gdrive_path\"\n",
        "! ls \"$gdrive_path\""
      ],
      "execution_count": 15,
      "outputs": [
        {
          "output_type": "stream",
          "name": "stdout",
          "text": [
            "bpe.codes.4000\tdev.efi  test.bpe.efi  test.en\t       train.bpe.en\n",
            "dev.bpe.efi\tdev.en\t test.bpe.en   test.en-any.en  train.efi\n",
            "dev.bpe.en\tmodels\t test.efi      train.bpe.efi   train.en\n"
          ]
        }
      ]
    },
    {
      "cell_type": "markdown",
      "metadata": {
        "id": "Ixmzi60WsUZ8"
      },
      "source": [
        "# Creating the JoeyNMT Config\n",
        "\n",
        "JoeyNMT requires a yaml config. We provide a template below. We've also set a number of defaults with it, that you may play with!\n",
        "\n",
        "- We used Transformer architecture \n",
        "- We set our dropout to reasonably high: 0.3 (recommended in  [(Sennrich, 2019)](https://www.aclweb.org/anthology/P19-1021))\n",
        "\n",
        "Things worth playing with:\n",
        "- The batch size (also recommended to change for low-resourced languages)\n",
        "- The number of epochs (we've set it at 30 just so it runs in about an hour, for testing purposes)\n",
        "- The decoder options (beam_size, alpha)\n",
        "- Evaluation metrics (BLEU versus Crhf4)"
      ]
    },
    {
      "cell_type": "code",
      "metadata": {
        "id": "h8TMgv1p3L1z"
      },
      "source": [
        "# This creates the config file for our JoeyNMT system. It might seem overwhelming so we've provided a couple of useful parameters you'll need to update\n",
        "# (You can of course play with all the parameters if you'd like!)\n",
        "\n",
        "name = '%s%s' % (target_language, source_language)\n",
        "# gdrive_path = os.environ[\"gdrive_path\"]\n",
        "\n",
        "# Create the config\n",
        "config = \"\"\"\n",
        "name: \"{target_language}{source_language}_reverse_transformer\"\n",
        "\n",
        "data:\n",
        "    src: \"{target_language}\"\n",
        "    trg: \"{source_language}\"\n",
        "    train: \"data/{name}/train.bpe\"\n",
        "    dev:   \"data/{name}/dev.bpe\"\n",
        "    test:  \"data/{name}/test.bpe\"\n",
        "    level: \"bpe\"\n",
        "    lowercase: False\n",
        "    max_sent_length: 100\n",
        "    src_vocab: \"data/{name}/vocab.txt\"\n",
        "    trg_vocab: \"data/{name}/vocab.txt\"\n",
        "\n",
        "testing:\n",
        "    beam_size: 5\n",
        "    alpha: 1.0\n",
        "\n",
        "training:\n",
        "    #load_model: \"{gdrive_path}/models/{name}_transformer/1.ckpt\" # if uncommented, load a pre-trained model from this checkpoint\n",
        "    random_seed: 42\n",
        "    optimizer: \"adam\"\n",
        "    normalization: \"tokens\"\n",
        "    adam_betas: [0.9, 0.999] \n",
        "    scheduling: \"plateau\"           # TODO: try switching from plateau to Noam scheduling\n",
        "    patience: 5                     # For plateau: decrease learning rate by decrease_factor if validation score has not improved for this many validation rounds.\n",
        "    learning_rate_factor: 0.5       # factor for Noam scheduler (used with Transformer)\n",
        "    learning_rate_warmup: 1000      # warmup steps for Noam scheduler (used with Transformer)\n",
        "    decrease_factor: 0.7\n",
        "    loss: \"crossentropy\"\n",
        "    learning_rate: 0.0003\n",
        "    learning_rate_min: 0.00000001\n",
        "    weight_decay: 0.0\n",
        "    label_smoothing: 0.1\n",
        "    batch_size: 4096\n",
        "    batch_type: \"token\"\n",
        "    eval_batch_size: 3600\n",
        "    eval_batch_type: \"token\"\n",
        "    batch_multiplier: 1\n",
        "    early_stopping_metric: \"ppl\"\n",
        "    epochs: 4                  # TODO: Decrease for when playing around and checking of working. Around 30 is sufficient to check if its working at all\n",
        "    validation_freq: 1000          # TODO: Set to at least once per epoch.\n",
        "    logging_freq: 100\n",
        "    eval_metric: \"bleu\"\n",
        "    model_dir: \"models/{name}_reverse_transformer\"\n",
        "    overwrite: True              # TODO: Set to True if you want to overwrite possibly existing models. \n",
        "    shuffle: True\n",
        "    use_cuda: True\n",
        "    max_output_length: 100\n",
        "    print_valid_sents: [0, 1, 2, 3]\n",
        "    keep_last_ckpts: 3\n",
        "\n",
        "model:\n",
        "    initializer: \"xavier\"\n",
        "    bias_initializer: \"zeros\"\n",
        "    init_gain: 1.0\n",
        "    embed_initializer: \"xavier\"\n",
        "    embed_init_gain: 1.0\n",
        "    tied_embeddings: True\n",
        "    tied_softmax: True\n",
        "    encoder:\n",
        "        type: \"transformer\"\n",
        "        num_layers: 6\n",
        "        num_heads: 4             # TODO: Increase to 8 for larger data.\n",
        "        embeddings:\n",
        "            embedding_dim: 256   # TODO: Increase to 512 for larger data.\n",
        "            scale: True\n",
        "            dropout: 0.2\n",
        "        # typically ff_size = 4 x hidden_size\n",
        "        hidden_size: 256         # TODO: Increase to 512 for larger data.\n",
        "        ff_size: 1024            # TODO: Increase to 2048 for larger data.\n",
        "        dropout: 0.3\n",
        "    decoder:\n",
        "        type: \"transformer\"\n",
        "        num_layers: 6\n",
        "        num_heads: 4              # TODO: Increase to 8 for larger data.\n",
        "        embeddings:\n",
        "            embedding_dim: 256    # TODO: Increase to 512 for larger data.\n",
        "            scale: True\n",
        "            dropout: 0.2\n",
        "        # typically ff_size = 4 x hidden_size\n",
        "        hidden_size: 256         # TODO: Increase to 512 for larger data.\n",
        "        ff_size: 1024            # TODO: Increase to 2048 for larger data.\n",
        "        dropout: 0.3\n",
        "\"\"\".format(name=name, gdrive_path=os.environ[\"gdrive_path\"], source_language=source_language, target_language=target_language)\n",
        "with open(\"joeynmt/configs/transformer_reverse_{name}.yaml\".format(name=name),'w') as f:\n",
        "    f.write(config)"
      ],
      "execution_count": 16,
      "outputs": []
    },
    {
      "cell_type": "markdown",
      "metadata": {
        "id": "oEzoJtV2MIpt"
      },
      "source": [
        "# Train the Model\n",
        "\n",
        "This single line of joeynmt runs the training using the config we made above"
      ]
    },
    {
      "cell_type": "code",
      "metadata": {
        "id": "WzbNYNdjLgNb"
      },
      "source": [
        "# Train the model\n",
        "# You can press Ctrl-C to stop. And then run the next cell to save your checkpoints! \n",
        "# !cd joeynmt; python3 -m joeynmt train configs/transformer_reverse_$tgt$src.yaml"
      ],
      "execution_count": 17,
      "outputs": []
    },
    {
      "cell_type": "code",
      "metadata": {
        "colab": {
          "base_uri": "https://localhost:8080/"
        },
        "id": "lV0FB8lWlcQN",
        "outputId": "f0bf7b41-618a-443d-e310-17b789cf71d6"
      },
      "source": [
        "# Train from checkpoints\n",
        "!cd joeynmt; python3 -m joeynmt train \"$gdrive_path/models/${src}${tgt}_reverse_transformer/config.yaml\""
      ],
      "execution_count": 18,
      "outputs": [
        {
          "output_type": "stream",
          "name": "stdout",
          "text": [
            "2021-10-14 14:15:06,354 - INFO - root - Hello! This is Joey-NMT (version 1.3).\n",
            "2021-10-14 14:15:06,422 - INFO - joeynmt.data - Loading training data...\n",
            "2021-10-14 14:15:13,254 - INFO - joeynmt.data - Building vocabulary...\n",
            "2021-10-14 14:15:13,586 - INFO - joeynmt.data - Loading dev data...\n",
            "2021-10-14 14:15:13,614 - INFO - joeynmt.data - Loading test data...\n",
            "2021-10-14 14:15:13,653 - INFO - joeynmt.data - Data loaded.\n",
            "2021-10-14 14:15:13,653 - INFO - joeynmt.model - Building an encoder-decoder model...\n",
            "2021-10-14 14:15:14,076 - INFO - joeynmt.model - Enc-dec model built.\n",
            "2021-10-14 14:15:16,487 - INFO - joeynmt.training - Total params: 12173824\n",
            "2021-10-14 14:15:16,489 - WARNING - joeynmt.training - `keep_last_ckpts` option is outdated. Please use `keep_best_ckpts`, instead.\n",
            "2021-10-14 14:15:35,772 - INFO - joeynmt.training - Loading model from /content/drive/My Drive/masakhane/efi-en-baseline/models/enefi_reverse_transformer/45000.ckpt\n",
            "2021-10-14 14:15:38,084 - INFO - joeynmt.helpers - cfg.name                           : efien_reverse_transformer\n",
            "2021-10-14 14:15:38,084 - INFO - joeynmt.helpers - cfg.data.src                       : efi\n",
            "2021-10-14 14:15:38,084 - INFO - joeynmt.helpers - cfg.data.trg                       : en\n",
            "2021-10-14 14:15:38,084 - INFO - joeynmt.helpers - cfg.data.train                     : data/efien/train.bpe\n",
            "2021-10-14 14:15:38,084 - INFO - joeynmt.helpers - cfg.data.dev                       : data/efien/dev.bpe\n",
            "2021-10-14 14:15:38,085 - INFO - joeynmt.helpers - cfg.data.test                      : data/efien/test.bpe\n",
            "2021-10-14 14:15:38,085 - INFO - joeynmt.helpers - cfg.data.level                     : bpe\n",
            "2021-10-14 14:15:38,085 - INFO - joeynmt.helpers - cfg.data.lowercase                 : False\n",
            "2021-10-14 14:15:38,085 - INFO - joeynmt.helpers - cfg.data.max_sent_length           : 100\n",
            "2021-10-14 14:15:38,085 - INFO - joeynmt.helpers - cfg.data.src_vocab                 : data/efien/vocab.txt\n",
            "2021-10-14 14:15:38,085 - INFO - joeynmt.helpers - cfg.data.trg_vocab                 : data/efien/vocab.txt\n",
            "2021-10-14 14:15:38,085 - INFO - joeynmt.helpers - cfg.testing.beam_size              : 5\n",
            "2021-10-14 14:15:38,085 - INFO - joeynmt.helpers - cfg.testing.alpha                  : 1.0\n",
            "2021-10-14 14:15:38,085 - INFO - joeynmt.helpers - cfg.training.load_model            : /content/drive/My Drive/masakhane/efi-en-baseline/models/enefi_reverse_transformer/45000.ckpt\n",
            "2021-10-14 14:15:38,085 - INFO - joeynmt.helpers - cfg.training.random_seed           : 42\n",
            "2021-10-14 14:15:38,086 - INFO - joeynmt.helpers - cfg.training.optimizer             : adam\n",
            "2021-10-14 14:15:38,086 - INFO - joeynmt.helpers - cfg.training.normalization         : tokens\n",
            "2021-10-14 14:15:38,086 - INFO - joeynmt.helpers - cfg.training.adam_betas            : [0.9, 0.999]\n",
            "2021-10-14 14:15:38,086 - INFO - joeynmt.helpers - cfg.training.scheduling            : plateau\n",
            "2021-10-14 14:15:38,086 - INFO - joeynmt.helpers - cfg.training.patience              : 5\n",
            "2021-10-14 14:15:38,086 - INFO - joeynmt.helpers - cfg.training.learning_rate_factor  : 0.5\n",
            "2021-10-14 14:15:38,086 - INFO - joeynmt.helpers - cfg.training.learning_rate_warmup  : 1000\n",
            "2021-10-14 14:15:38,086 - INFO - joeynmt.helpers - cfg.training.decrease_factor       : 0.7\n",
            "2021-10-14 14:15:38,086 - INFO - joeynmt.helpers - cfg.training.loss                  : crossentropy\n",
            "2021-10-14 14:15:38,087 - INFO - joeynmt.helpers - cfg.training.learning_rate         : 0.0003\n",
            "2021-10-14 14:15:38,087 - INFO - joeynmt.helpers - cfg.training.learning_rate_min     : 1e-08\n",
            "2021-10-14 14:15:38,087 - INFO - joeynmt.helpers - cfg.training.weight_decay          : 0.0\n",
            "2021-10-14 14:15:38,087 - INFO - joeynmt.helpers - cfg.training.label_smoothing       : 0.1\n",
            "2021-10-14 14:15:38,087 - INFO - joeynmt.helpers - cfg.training.batch_size            : 4096\n",
            "2021-10-14 14:15:38,087 - INFO - joeynmt.helpers - cfg.training.batch_type            : token\n",
            "2021-10-14 14:15:38,087 - INFO - joeynmt.helpers - cfg.training.eval_batch_size       : 3600\n",
            "2021-10-14 14:15:38,087 - INFO - joeynmt.helpers - cfg.training.eval_batch_type       : token\n",
            "2021-10-14 14:15:38,087 - INFO - joeynmt.helpers - cfg.training.batch_multiplier      : 1\n",
            "2021-10-14 14:15:38,088 - INFO - joeynmt.helpers - cfg.training.early_stopping_metric : ppl\n",
            "2021-10-14 14:15:38,088 - INFO - joeynmt.helpers - cfg.training.epochs                : 4\n",
            "2021-10-14 14:15:38,088 - INFO - joeynmt.helpers - cfg.training.validation_freq       : 1000\n",
            "2021-10-14 14:15:38,088 - INFO - joeynmt.helpers - cfg.training.logging_freq          : 100\n",
            "2021-10-14 14:15:38,088 - INFO - joeynmt.helpers - cfg.training.eval_metric           : bleu\n",
            "2021-10-14 14:15:38,088 - INFO - joeynmt.helpers - cfg.training.model_dir             : models/efien_reverse_transformer\n",
            "2021-10-14 14:15:38,088 - INFO - joeynmt.helpers - cfg.training.overwrite             : True\n",
            "2021-10-14 14:15:38,088 - INFO - joeynmt.helpers - cfg.training.shuffle               : True\n",
            "2021-10-14 14:15:38,088 - INFO - joeynmt.helpers - cfg.training.use_cuda              : True\n",
            "2021-10-14 14:15:38,089 - INFO - joeynmt.helpers - cfg.training.max_output_length     : 100\n",
            "2021-10-14 14:15:38,089 - INFO - joeynmt.helpers - cfg.training.print_valid_sents     : [0, 1, 2, 3]\n",
            "2021-10-14 14:15:38,089 - INFO - joeynmt.helpers - cfg.training.keep_last_ckpts       : 3\n",
            "2021-10-14 14:15:38,089 - INFO - joeynmt.helpers - cfg.model.initializer              : xavier\n",
            "2021-10-14 14:15:38,089 - INFO - joeynmt.helpers - cfg.model.bias_initializer         : zeros\n",
            "2021-10-14 14:15:38,089 - INFO - joeynmt.helpers - cfg.model.init_gain                : 1.0\n",
            "2021-10-14 14:15:38,089 - INFO - joeynmt.helpers - cfg.model.embed_initializer        : xavier\n",
            "2021-10-14 14:15:38,089 - INFO - joeynmt.helpers - cfg.model.embed_init_gain          : 1.0\n",
            "2021-10-14 14:15:38,089 - INFO - joeynmt.helpers - cfg.model.tied_embeddings          : True\n",
            "2021-10-14 14:15:38,090 - INFO - joeynmt.helpers - cfg.model.tied_softmax             : True\n",
            "2021-10-14 14:15:38,090 - INFO - joeynmt.helpers - cfg.model.encoder.type             : transformer\n",
            "2021-10-14 14:15:38,090 - INFO - joeynmt.helpers - cfg.model.encoder.num_layers       : 6\n",
            "2021-10-14 14:15:38,090 - INFO - joeynmt.helpers - cfg.model.encoder.num_heads        : 4\n",
            "2021-10-14 14:15:38,090 - INFO - joeynmt.helpers - cfg.model.encoder.embeddings.embedding_dim : 256\n",
            "2021-10-14 14:15:38,090 - INFO - joeynmt.helpers - cfg.model.encoder.embeddings.scale : True\n",
            "2021-10-14 14:15:38,090 - INFO - joeynmt.helpers - cfg.model.encoder.embeddings.dropout : 0.2\n",
            "2021-10-14 14:15:38,090 - INFO - joeynmt.helpers - cfg.model.encoder.hidden_size      : 256\n",
            "2021-10-14 14:15:38,090 - INFO - joeynmt.helpers - cfg.model.encoder.ff_size          : 1024\n",
            "2021-10-14 14:15:38,091 - INFO - joeynmt.helpers - cfg.model.encoder.dropout          : 0.3\n",
            "2021-10-14 14:15:38,091 - INFO - joeynmt.helpers - cfg.model.decoder.type             : transformer\n",
            "2021-10-14 14:15:38,091 - INFO - joeynmt.helpers - cfg.model.decoder.num_layers       : 6\n",
            "2021-10-14 14:15:38,091 - INFO - joeynmt.helpers - cfg.model.decoder.num_heads        : 4\n",
            "2021-10-14 14:15:38,091 - INFO - joeynmt.helpers - cfg.model.decoder.embeddings.embedding_dim : 256\n",
            "2021-10-14 14:15:38,091 - INFO - joeynmt.helpers - cfg.model.decoder.embeddings.scale : True\n",
            "2021-10-14 14:15:38,091 - INFO - joeynmt.helpers - cfg.model.decoder.embeddings.dropout : 0.2\n",
            "2021-10-14 14:15:38,091 - INFO - joeynmt.helpers - cfg.model.decoder.hidden_size      : 256\n",
            "2021-10-14 14:15:38,091 - INFO - joeynmt.helpers - cfg.model.decoder.ff_size          : 1024\n",
            "2021-10-14 14:15:38,091 - INFO - joeynmt.helpers - cfg.model.decoder.dropout          : 0.3\n",
            "2021-10-14 14:15:38,092 - INFO - joeynmt.helpers - Data set sizes: \n",
            "\ttrain 330101,\n",
            "\tvalid 1000,\n",
            "\ttest 2675\n",
            "2021-10-14 14:15:38,092 - INFO - joeynmt.helpers - First training example:\n",
            "\t[SRC] Mme N̄kpọ Oro Nnyịn Mme Christian Is@@ ede ke Edisana\n",
            "\t[TRG] S@@ ac@@ red Th@@ ings in Our Christian L@@ i@@ ves\n",
            "2021-10-14 14:15:38,092 - INFO - joeynmt.helpers - First 10 words (src): (0) <unk> (1) <pad> (2) <s> (3) </s> (4) . (5) , (6) ke (7) the (8) : (9) to\n",
            "2021-10-14 14:15:38,092 - INFO - joeynmt.helpers - First 10 words (trg): (0) <unk> (1) <pad> (2) <s> (3) </s> (4) . (5) , (6) ke (7) the (8) : (9) to\n",
            "2021-10-14 14:15:38,092 - INFO - joeynmt.helpers - Number of Src words (types): 4350\n",
            "2021-10-14 14:15:38,092 - INFO - joeynmt.helpers - Number of Trg words (types): 4350\n",
            "2021-10-14 14:15:38,092 - INFO - joeynmt.training - Model(\n",
            "\tencoder=TransformerEncoder(num_layers=6, num_heads=4),\n",
            "\tdecoder=TransformerDecoder(num_layers=6, num_heads=4),\n",
            "\tsrc_embed=Embeddings(embedding_dim=256, vocab_size=4350),\n",
            "\ttrg_embed=Embeddings(embedding_dim=256, vocab_size=4350))\n",
            "2021-10-14 14:15:38,097 - INFO - joeynmt.training - Train stats:\n",
            "\tdevice: cuda\n",
            "\tn_gpu: 1\n",
            "\t16-bits training: False\n",
            "\tgradient accumulation: 1\n",
            "\tbatch size per device: 4096\n",
            "\ttotal batch size (w. parallel & accumulation): 4096\n",
            "2021-10-14 14:15:38,098 - INFO - joeynmt.training - EPOCH 1\n",
            "2021-10-14 14:16:13,683 - INFO - joeynmt.training - Epoch   1, Step:    45100, Batch Loss:     2.148118, Tokens per Sec:     4138, Lr: 0.000300\n",
            "2021-10-14 14:16:48,717 - INFO - joeynmt.training - Epoch   1, Step:    45200, Batch Loss:     1.896515, Tokens per Sec:     4243, Lr: 0.000300\n",
            "2021-10-14 14:17:23,296 - INFO - joeynmt.training - Epoch   1, Step:    45300, Batch Loss:     2.122460, Tokens per Sec:     4253, Lr: 0.000300\n",
            "2021-10-14 14:17:58,121 - INFO - joeynmt.training - Epoch   1, Step:    45400, Batch Loss:     2.067767, Tokens per Sec:     4296, Lr: 0.000300\n",
            "2021-10-14 14:18:33,243 - INFO - joeynmt.training - Epoch   1, Step:    45500, Batch Loss:     2.053255, Tokens per Sec:     4292, Lr: 0.000300\n",
            "2021-10-14 14:19:08,322 - INFO - joeynmt.training - Epoch   1, Step:    45600, Batch Loss:     2.244634, Tokens per Sec:     4340, Lr: 0.000300\n",
            "2021-10-14 14:19:43,094 - INFO - joeynmt.training - Epoch   1, Step:    45700, Batch Loss:     2.167485, Tokens per Sec:     4263, Lr: 0.000300\n",
            "2021-10-14 14:20:18,208 - INFO - joeynmt.training - Epoch   1, Step:    45800, Batch Loss:     2.189367, Tokens per Sec:     4230, Lr: 0.000300\n",
            "2021-10-14 14:20:53,203 - INFO - joeynmt.training - Epoch   1, Step:    45900, Batch Loss:     1.909468, Tokens per Sec:     4233, Lr: 0.000300\n",
            "2021-10-14 14:21:28,123 - INFO - joeynmt.training - Epoch   1, Step:    46000, Batch Loss:     2.089163, Tokens per Sec:     4253, Lr: 0.000300\n",
            "2021-10-14 14:22:18,377 - WARNING - sacrebleu - That's 100 lines that end in a tokenized period ('.')\n",
            "2021-10-14 14:22:18,377 - WARNING - sacrebleu - It looks like you forgot to detokenize your test data, which may hurt your score.\n",
            "2021-10-14 14:22:18,377 - WARNING - sacrebleu - If you insist your data is detokenized, or don't care, you can suppress this message with the `force` parameter.\n",
            "2021-10-14 14:22:18,387 - INFO - joeynmt.training - Hooray! New best validation result [ppl]!\n",
            "2021-10-14 14:22:18,878 - INFO - joeynmt.training - Example #0\n",
            "2021-10-14 14:22:18,878 - INFO - joeynmt.training - \tSource:     Margaritha esidara ndinọ mme owo oro ẹsidide ẹdidep n̄kpọ ke akwa ufọkurua oro odude ekpere , ikọ ntiense , ndien esop nnyịn ke mfọnido ọmọnọ nnyịn ndusụk efakutom oro ẹkperede ufọk nnyịn , ndien emi esinam edi mmemmem n̄kpọ ọnọ nnyịn ndikwọrọ ikọ adan̄a nte nsọn̄idem nnyịn ayakde .\n",
            "2021-10-14 14:22:18,878 - INFO - joeynmt.training - \tReference:  Margaritha enjoys witnessing to people at a nearby supermarket , and the congregation has kindly set aside some territory for us near our home , which makes it easier for us to preach as our health permits .\n",
            "2021-10-14 14:22:18,879 - INFO - joeynmt.training - \tHypothesis: Margaritha has a glad to give people who are going to buy a large storm near , witnessing , and our congregation has been assigned to some territory near our home , and this is easy to preach as long as our health .\n",
            "2021-10-14 14:22:18,879 - INFO - joeynmt.training - Example #1\n",
            "2021-10-14 14:22:18,879 - INFO - joeynmt.training - \tSource:     Se ikakpade mi idem ikan edi ke enye okosụk ekpe mi se ekesikpede !\n",
            "2021-10-14 14:22:18,879 - INFO - joeynmt.training - \tReference:  Surprisingly , I still got the same pay !\n",
            "2021-10-14 14:22:18,879 - INFO - joeynmt.training - \tHypothesis: What was more surprised but that he still had a potential !\n",
            "2021-10-14 14:22:18,879 - INFO - joeynmt.training - Example #2\n",
            "2021-10-14 14:22:18,879 - INFO - joeynmt.training - \tSource:     Nte an̄wan̄ade , ibọrọ mbụme oro edi ata akpan n̄kpọ ọnọ nnyịn , ndien iyenen̄ede ineme enye .\n",
            "2021-10-14 14:22:18,880 - INFO - joeynmt.training - \tReference:  Clearly , the answer to that question is of great importance to us , and we will consider it further .\n",
            "2021-10-14 14:22:18,880 - INFO - joeynmt.training - \tHypothesis: Clearly , the answer is a vital challenge for us , and we will be more closer to him .\n",
            "2021-10-14 14:22:18,880 - INFO - joeynmt.training - Example #3\n",
            "2021-10-14 14:22:18,880 - INFO - joeynmt.training - \tSource:     Ẹma ẹsinyụn̄ ẹsịn iduot ke idet erọn̄ emi ẹsidade ẹnam ọfọn̄ .\n",
            "2021-10-14 14:22:18,880 - INFO - joeynmt.training - \tReference:  In addition , wool was often dyed .\n",
            "2021-10-14 14:22:18,880 - INFO - joeynmt.training - \tHypothesis: The waters were also used to be used by the waters .\n",
            "2021-10-14 14:22:18,880 - INFO - joeynmt.training - Validation result (greedy) at epoch   1, step    46000: bleu:  27.14, loss: 50930.5586, ppl:   6.2445, duration: 50.7571s\n",
            "2021-10-14 14:22:53,947 - INFO - joeynmt.training - Epoch   1, Step:    46100, Batch Loss:     2.201355, Tokens per Sec:     4233, Lr: 0.000300\n",
            "2021-10-14 14:23:28,532 - INFO - joeynmt.training - Epoch   1, Step:    46200, Batch Loss:     1.876743, Tokens per Sec:     4314, Lr: 0.000300\n",
            "2021-10-14 14:24:03,213 - INFO - joeynmt.training - Epoch   1, Step:    46300, Batch Loss:     2.082015, Tokens per Sec:     4301, Lr: 0.000300\n",
            "2021-10-14 14:24:37,813 - INFO - joeynmt.training - Epoch   1, Step:    46400, Batch Loss:     2.031733, Tokens per Sec:     4344, Lr: 0.000300\n",
            "2021-10-14 14:25:12,617 - INFO - joeynmt.training - Epoch   1, Step:    46500, Batch Loss:     2.040156, Tokens per Sec:     4271, Lr: 0.000300\n",
            "2021-10-14 14:25:47,401 - INFO - joeynmt.training - Epoch   1, Step:    46600, Batch Loss:     2.003256, Tokens per Sec:     4250, Lr: 0.000300\n",
            "2021-10-14 14:26:22,273 - INFO - joeynmt.training - Epoch   1, Step:    46700, Batch Loss:     2.161756, Tokens per Sec:     4363, Lr: 0.000300\n",
            "2021-10-14 14:26:57,143 - INFO - joeynmt.training - Epoch   1, Step:    46800, Batch Loss:     2.034114, Tokens per Sec:     4277, Lr: 0.000300\n",
            "2021-10-14 14:27:31,866 - INFO - joeynmt.training - Epoch   1, Step:    46900, Batch Loss:     2.073892, Tokens per Sec:     4313, Lr: 0.000300\n",
            "2021-10-14 14:28:06,651 - INFO - joeynmt.training - Epoch   1, Step:    47000, Batch Loss:     2.255891, Tokens per Sec:     4311, Lr: 0.000300\n",
            "2021-10-14 14:29:00,287 - WARNING - sacrebleu - That's 100 lines that end in a tokenized period ('.')\n",
            "2021-10-14 14:29:00,287 - WARNING - sacrebleu - It looks like you forgot to detokenize your test data, which may hurt your score.\n",
            "2021-10-14 14:29:00,287 - WARNING - sacrebleu - If you insist your data is detokenized, or don't care, you can suppress this message with the `force` parameter.\n",
            "2021-10-14 14:29:00,292 - INFO - joeynmt.training - Hooray! New best validation result [ppl]!\n",
            "2021-10-14 14:29:00,788 - INFO - joeynmt.training - Example #0\n",
            "2021-10-14 14:29:00,789 - INFO - joeynmt.training - \tSource:     Margaritha esidara ndinọ mme owo oro ẹsidide ẹdidep n̄kpọ ke akwa ufọkurua oro odude ekpere , ikọ ntiense , ndien esop nnyịn ke mfọnido ọmọnọ nnyịn ndusụk efakutom oro ẹkperede ufọk nnyịn , ndien emi esinam edi mmemmem n̄kpọ ọnọ nnyịn ndikwọrọ ikọ adan̄a nte nsọn̄idem nnyịn ayakde .\n",
            "2021-10-14 14:29:00,789 - INFO - joeynmt.training - \tReference:  Margaritha enjoys witnessing to people at a nearby supermarket , and the congregation has kindly set aside some territory for us near our home , which makes it easier for us to preach as our health permits .\n",
            "2021-10-14 14:29:00,789 - INFO - joeynmt.training - \tHypothesis: Margaritha has a glad way to give people who are separated from the large store , witnessing , and our congregation has given us some territories that are near our home , and it is easy to preach as we are dangerous .\n",
            "2021-10-14 14:29:00,789 - INFO - joeynmt.training - Example #1\n",
            "2021-10-14 14:29:00,789 - INFO - joeynmt.training - \tSource:     Se ikakpade mi idem ikan edi ke enye okosụk ekpe mi se ekesikpede !\n",
            "2021-10-14 14:29:00,789 - INFO - joeynmt.training - \tReference:  Surprisingly , I still got the same pay !\n",
            "2021-10-14 14:29:00,789 - INFO - joeynmt.training - \tHypothesis: I was surprised but that he still had a potential for me !\n",
            "2021-10-14 14:29:00,790 - INFO - joeynmt.training - Example #2\n",
            "2021-10-14 14:29:00,790 - INFO - joeynmt.training - \tSource:     Nte an̄wan̄ade , ibọrọ mbụme oro edi ata akpan n̄kpọ ọnọ nnyịn , ndien iyenen̄ede ineme enye .\n",
            "2021-10-14 14:29:00,790 - INFO - joeynmt.training - \tReference:  Clearly , the answer to that question is of great importance to us , and we will consider it further .\n",
            "2021-10-14 14:29:00,790 - INFO - joeynmt.training - \tHypothesis: Clearly , the answer is a vital matter for us , and we will be discussed .\n",
            "2021-10-14 14:29:00,790 - INFO - joeynmt.training - Example #3\n",
            "2021-10-14 14:29:00,790 - INFO - joeynmt.training - \tSource:     Ẹma ẹsinyụn̄ ẹsịn iduot ke idet erọn̄ emi ẹsidade ẹnam ọfọn̄ .\n",
            "2021-10-14 14:29:00,790 - INFO - joeynmt.training - \tReference:  In addition , wool was often dyed .\n",
            "2021-10-14 14:29:00,791 - INFO - joeynmt.training - \tHypothesis: The woods of the sheep were also used to be made .\n",
            "2021-10-14 14:29:00,791 - INFO - joeynmt.training - Validation result (greedy) at epoch   1, step    47000: bleu:  27.35, loss: 50669.6133, ppl:   6.1862, duration: 54.1397s\n",
            "2021-10-14 14:29:35,700 - INFO - joeynmt.training - Epoch   1, Step:    47100, Batch Loss:     2.065355, Tokens per Sec:     4346, Lr: 0.000300\n",
            "2021-10-14 14:30:10,337 - INFO - joeynmt.training - Epoch   1, Step:    47200, Batch Loss:     2.003355, Tokens per Sec:     4304, Lr: 0.000300\n",
            "2021-10-14 14:30:44,976 - INFO - joeynmt.training - Epoch   1, Step:    47300, Batch Loss:     1.949977, Tokens per Sec:     4299, Lr: 0.000300\n",
            "2021-10-14 14:31:19,675 - INFO - joeynmt.training - Epoch   1, Step:    47400, Batch Loss:     2.094093, Tokens per Sec:     4268, Lr: 0.000300\n",
            "2021-10-14 14:31:54,607 - INFO - joeynmt.training - Epoch   1, Step:    47500, Batch Loss:     2.002151, Tokens per Sec:     4303, Lr: 0.000300\n",
            "2021-10-14 14:32:29,698 - INFO - joeynmt.training - Epoch   1, Step:    47600, Batch Loss:     1.990225, Tokens per Sec:     4282, Lr: 0.000300\n",
            "2021-10-14 14:33:04,295 - INFO - joeynmt.training - Epoch   1, Step:    47700, Batch Loss:     2.002402, Tokens per Sec:     4322, Lr: 0.000300\n",
            "2021-10-14 14:33:38,938 - INFO - joeynmt.training - Epoch   1, Step:    47800, Batch Loss:     2.198305, Tokens per Sec:     4237, Lr: 0.000300\n",
            "2021-10-14 14:34:13,669 - INFO - joeynmt.training - Epoch   1, Step:    47900, Batch Loss:     2.007091, Tokens per Sec:     4395, Lr: 0.000300\n",
            "2021-10-14 14:34:48,278 - INFO - joeynmt.training - Epoch   1, Step:    48000, Batch Loss:     2.139997, Tokens per Sec:     4306, Lr: 0.000300\n",
            "2021-10-14 14:35:42,099 - WARNING - sacrebleu - That's 100 lines that end in a tokenized period ('.')\n",
            "2021-10-14 14:35:42,099 - WARNING - sacrebleu - It looks like you forgot to detokenize your test data, which may hurt your score.\n",
            "2021-10-14 14:35:42,099 - WARNING - sacrebleu - If you insist your data is detokenized, or don't care, you can suppress this message with the `force` parameter.\n",
            "2021-10-14 14:35:42,105 - INFO - joeynmt.training - Hooray! New best validation result [ppl]!\n",
            "2021-10-14 14:35:42,580 - INFO - joeynmt.training - Example #0\n",
            "2021-10-14 14:35:42,581 - INFO - joeynmt.training - \tSource:     Margaritha esidara ndinọ mme owo oro ẹsidide ẹdidep n̄kpọ ke akwa ufọkurua oro odude ekpere , ikọ ntiense , ndien esop nnyịn ke mfọnido ọmọnọ nnyịn ndusụk efakutom oro ẹkperede ufọk nnyịn , ndien emi esinam edi mmemmem n̄kpọ ọnọ nnyịn ndikwọrọ ikọ adan̄a nte nsọn̄idem nnyịn ayakde .\n",
            "2021-10-14 14:35:42,581 - INFO - joeynmt.training - \tReference:  Margaritha enjoys witnessing to people at a nearby supermarket , and the congregation has kindly set aside some territory for us near our home , which makes it easier for us to preach as our health permits .\n",
            "2021-10-14 14:35:42,581 - INFO - joeynmt.training - \tHypothesis: Margaritha is glad to give people who are going to buy the background in a large store , witnessing , and our congregation has given us some territory that are near our home , and this makes it easy for us to preach as much as our health .\n",
            "2021-10-14 14:35:42,581 - INFO - joeynmt.training - Example #1\n",
            "2021-10-14 14:35:42,581 - INFO - joeynmt.training - \tSource:     Se ikakpade mi idem ikan edi ke enye okosụk ekpe mi se ekesikpede !\n",
            "2021-10-14 14:35:42,581 - INFO - joeynmt.training - \tReference:  Surprisingly , I still got the same pay !\n",
            "2021-10-14 14:35:42,581 - INFO - joeynmt.training - \tHypothesis: I was surprised , but he still had to pay me !\n",
            "2021-10-14 14:35:42,581 - INFO - joeynmt.training - Example #2\n",
            "2021-10-14 14:35:42,582 - INFO - joeynmt.training - \tSource:     Nte an̄wan̄ade , ibọrọ mbụme oro edi ata akpan n̄kpọ ọnọ nnyịn , ndien iyenen̄ede ineme enye .\n",
            "2021-10-14 14:35:42,582 - INFO - joeynmt.training - \tReference:  Clearly , the answer to that question is of great importance to us , and we will consider it further .\n",
            "2021-10-14 14:35:42,582 - INFO - joeynmt.training - \tHypothesis: Clearly , the answer is a vital question for us , and we will consider it .\n",
            "2021-10-14 14:35:42,582 - INFO - joeynmt.training - Example #3\n",
            "2021-10-14 14:35:42,582 - INFO - joeynmt.training - \tSource:     Ẹma ẹsinyụn̄ ẹsịn iduot ke idet erọn̄ emi ẹsidade ẹnam ọfọn̄ .\n",
            "2021-10-14 14:35:42,582 - INFO - joeynmt.training - \tReference:  In addition , wool was often dyed .\n",
            "2021-10-14 14:35:42,582 - INFO - joeynmt.training - \tHypothesis: The sheep were also stumbled to the flock .\n",
            "2021-10-14 14:35:42,583 - INFO - joeynmt.training - Validation result (greedy) at epoch   1, step    48000: bleu:  27.48, loss: 50463.0977, ppl:   6.1404, duration: 54.3037s\n",
            "2021-10-14 14:36:17,656 - INFO - joeynmt.training - Epoch   1, Step:    48100, Batch Loss:     1.974631, Tokens per Sec:     4285, Lr: 0.000300\n",
            "2021-10-14 14:36:52,444 - INFO - joeynmt.training - Epoch   1, Step:    48200, Batch Loss:     2.075881, Tokens per Sec:     4257, Lr: 0.000300\n",
            "2021-10-14 14:37:27,461 - INFO - joeynmt.training - Epoch   1, Step:    48300, Batch Loss:     2.104533, Tokens per Sec:     4295, Lr: 0.000300\n",
            "2021-10-14 14:38:02,124 - INFO - joeynmt.training - Epoch   1, Step:    48400, Batch Loss:     2.074152, Tokens per Sec:     4238, Lr: 0.000300\n",
            "2021-10-14 14:38:37,360 - INFO - joeynmt.training - Epoch   1, Step:    48500, Batch Loss:     2.005442, Tokens per Sec:     4278, Lr: 0.000300\n",
            "2021-10-14 14:39:11,879 - INFO - joeynmt.training - Epoch   1, Step:    48600, Batch Loss:     2.119381, Tokens per Sec:     4324, Lr: 0.000300\n",
            "2021-10-14 14:39:46,815 - INFO - joeynmt.training - Epoch   1, Step:    48700, Batch Loss:     1.915499, Tokens per Sec:     4265, Lr: 0.000300\n",
            "2021-10-14 14:40:21,582 - INFO - joeynmt.training - Epoch   1, Step:    48800, Batch Loss:     2.097011, Tokens per Sec:     4300, Lr: 0.000300\n",
            "2021-10-14 14:40:56,464 - INFO - joeynmt.training - Epoch   1, Step:    48900, Batch Loss:     2.264258, Tokens per Sec:     4413, Lr: 0.000300\n",
            "2021-10-14 14:41:30,988 - INFO - joeynmt.training - Epoch   1, Step:    49000, Batch Loss:     1.921522, Tokens per Sec:     4281, Lr: 0.000300\n",
            "2021-10-14 14:42:23,147 - WARNING - sacrebleu - That's 100 lines that end in a tokenized period ('.')\n",
            "2021-10-14 14:42:23,147 - WARNING - sacrebleu - It looks like you forgot to detokenize your test data, which may hurt your score.\n",
            "2021-10-14 14:42:23,147 - WARNING - sacrebleu - If you insist your data is detokenized, or don't care, you can suppress this message with the `force` parameter.\n",
            "2021-10-14 14:42:23,153 - INFO - joeynmt.training - Hooray! New best validation result [ppl]!\n",
            "2021-10-14 14:42:23,629 - INFO - joeynmt.helpers - delete models/efien_reverse_transformer/46000.ckpt\n",
            "2021-10-14 14:42:23,649 - INFO - joeynmt.training - Example #0\n",
            "2021-10-14 14:42:23,650 - INFO - joeynmt.training - \tSource:     Margaritha esidara ndinọ mme owo oro ẹsidide ẹdidep n̄kpọ ke akwa ufọkurua oro odude ekpere , ikọ ntiense , ndien esop nnyịn ke mfọnido ọmọnọ nnyịn ndusụk efakutom oro ẹkperede ufọk nnyịn , ndien emi esinam edi mmemmem n̄kpọ ọnọ nnyịn ndikwọrọ ikọ adan̄a nte nsọn̄idem nnyịn ayakde .\n",
            "2021-10-14 14:42:23,650 - INFO - joeynmt.training - \tReference:  Margaritha enjoys witnessing to people at a nearby supermarket , and the congregation has kindly set aside some territory for us near our home , which makes it easier for us to preach as our health permits .\n",
            "2021-10-14 14:42:23,650 - INFO - joeynmt.training - \tHypothesis: Margaritha is glad to give people who are going to buy the store of the high price , witnessing , and our congregation has been kindly given us some territory that are near our home , and this is easy to preach as much as we are allowed to make our health .\n",
            "2021-10-14 14:42:23,650 - INFO - joeynmt.training - Example #1\n",
            "2021-10-14 14:42:23,650 - INFO - joeynmt.training - \tSource:     Se ikakpade mi idem ikan edi ke enye okosụk ekpe mi se ekesikpede !\n",
            "2021-10-14 14:42:23,650 - INFO - joeynmt.training - \tReference:  Surprisingly , I still got the same pay !\n",
            "2021-10-14 14:42:23,650 - INFO - joeynmt.training - \tHypothesis: I was surprised but that he still had a potential !\n",
            "2021-10-14 14:42:23,650 - INFO - joeynmt.training - Example #2\n",
            "2021-10-14 14:42:23,651 - INFO - joeynmt.training - \tSource:     Nte an̄wan̄ade , ibọrọ mbụme oro edi ata akpan n̄kpọ ọnọ nnyịn , ndien iyenen̄ede ineme enye .\n",
            "2021-10-14 14:42:23,651 - INFO - joeynmt.training - \tReference:  Clearly , the answer to that question is of great importance to us , and we will consider it further .\n",
            "2021-10-14 14:42:23,651 - INFO - joeynmt.training - \tHypothesis: Clearly , the answer is a vital lesson for us , and we will be able to consider it .\n",
            "2021-10-14 14:42:23,651 - INFO - joeynmt.training - Example #3\n",
            "2021-10-14 14:42:23,651 - INFO - joeynmt.training - \tSource:     Ẹma ẹsinyụn̄ ẹsịn iduot ke idet erọn̄ emi ẹsidade ẹnam ọfọn̄ .\n",
            "2021-10-14 14:42:23,651 - INFO - joeynmt.training - \tReference:  In addition , wool was often dyed .\n",
            "2021-10-14 14:42:23,652 - INFO - joeynmt.training - \tHypothesis: The sheep were also stumbled to the wooden .\n",
            "2021-10-14 14:42:23,652 - INFO - joeynmt.training - Validation result (greedy) at epoch   1, step    49000: bleu:  27.19, loss: 50353.1289, ppl:   6.1162, duration: 52.6628s\n",
            "2021-10-14 14:42:58,479 - INFO - joeynmt.training - Epoch   1, Step:    49100, Batch Loss:     1.999887, Tokens per Sec:     4236, Lr: 0.000300\n",
            "2021-10-14 14:43:33,058 - INFO - joeynmt.training - Epoch   1, Step:    49200, Batch Loss:     1.852764, Tokens per Sec:     4322, Lr: 0.000300\n",
            "2021-10-14 14:44:07,535 - INFO - joeynmt.training - Epoch   1, Step:    49300, Batch Loss:     1.966889, Tokens per Sec:     4350, Lr: 0.000300\n",
            "2021-10-14 14:44:42,463 - INFO - joeynmt.training - Epoch   1, Step:    49400, Batch Loss:     2.221101, Tokens per Sec:     4270, Lr: 0.000300\n",
            "2021-10-14 14:45:17,113 - INFO - joeynmt.training - Epoch   1, Step:    49500, Batch Loss:     2.046487, Tokens per Sec:     4285, Lr: 0.000300\n",
            "2021-10-14 14:45:42,592 - INFO - joeynmt.training - Epoch   1: total training loss 9387.94\n",
            "2021-10-14 14:45:42,592 - INFO - joeynmt.training - EPOCH 2\n",
            "2021-10-14 14:45:52,527 - INFO - joeynmt.training - Epoch   2, Step:    49600, Batch Loss:     2.306461, Tokens per Sec:     4144, Lr: 0.000300\n",
            "2021-10-14 14:46:27,373 - INFO - joeynmt.training - Epoch   2, Step:    49700, Batch Loss:     2.122418, Tokens per Sec:     4404, Lr: 0.000300\n",
            "2021-10-14 14:47:02,015 - INFO - joeynmt.training - Epoch   2, Step:    49800, Batch Loss:     2.038082, Tokens per Sec:     4335, Lr: 0.000300\n",
            "2021-10-14 14:47:36,813 - INFO - joeynmt.training - Epoch   2, Step:    49900, Batch Loss:     1.947901, Tokens per Sec:     4407, Lr: 0.000300\n",
            "2021-10-14 14:48:11,480 - INFO - joeynmt.training - Epoch   2, Step:    50000, Batch Loss:     2.087255, Tokens per Sec:     4328, Lr: 0.000300\n",
            "2021-10-14 14:49:02,010 - WARNING - sacrebleu - That's 100 lines that end in a tokenized period ('.')\n",
            "2021-10-14 14:49:02,010 - WARNING - sacrebleu - It looks like you forgot to detokenize your test data, which may hurt your score.\n",
            "2021-10-14 14:49:02,010 - WARNING - sacrebleu - If you insist your data is detokenized, or don't care, you can suppress this message with the `force` parameter.\n",
            "2021-10-14 14:49:02,455 - INFO - joeynmt.helpers - delete models/efien_reverse_transformer/47000.ckpt\n",
            "2021-10-14 14:49:02,477 - INFO - joeynmt.training - Example #0\n",
            "2021-10-14 14:49:02,477 - INFO - joeynmt.training - \tSource:     Margaritha esidara ndinọ mme owo oro ẹsidide ẹdidep n̄kpọ ke akwa ufọkurua oro odude ekpere , ikọ ntiense , ndien esop nnyịn ke mfọnido ọmọnọ nnyịn ndusụk efakutom oro ẹkperede ufọk nnyịn , ndien emi esinam edi mmemmem n̄kpọ ọnọ nnyịn ndikwọrọ ikọ adan̄a nte nsọn̄idem nnyịn ayakde .\n",
            "2021-10-14 14:49:02,477 - INFO - joeynmt.training - \tReference:  Margaritha enjoys witnessing to people at a nearby supermarket , and the congregation has kindly set aside some territory for us near our home , which makes it easier for us to preach as our health permits .\n",
            "2021-10-14 14:49:02,477 - INFO - joeynmt.training - \tHypothesis: Margaritha has been glad to give people who are going to buy the walls near , witnessing , and our congregation has been given us some territory that are near our home , and this is easy to preach as much as our health is allowed .\n",
            "2021-10-14 14:49:02,477 - INFO - joeynmt.training - Example #1\n",
            "2021-10-14 14:49:02,478 - INFO - joeynmt.training - \tSource:     Se ikakpade mi idem ikan edi ke enye okosụk ekpe mi se ekesikpede !\n",
            "2021-10-14 14:49:02,478 - INFO - joeynmt.training - \tReference:  Surprisingly , I still got the same pay !\n",
            "2021-10-14 14:49:02,478 - INFO - joeynmt.training - \tHypothesis: What I was surprised but that he still had to pay me !\n",
            "2021-10-14 14:49:02,478 - INFO - joeynmt.training - Example #2\n",
            "2021-10-14 14:49:02,478 - INFO - joeynmt.training - \tSource:     Nte an̄wan̄ade , ibọrọ mbụme oro edi ata akpan n̄kpọ ọnọ nnyịn , ndien iyenen̄ede ineme enye .\n",
            "2021-10-14 14:49:02,478 - INFO - joeynmt.training - \tReference:  Clearly , the answer to that question is of great importance to us , and we will consider it further .\n",
            "2021-10-14 14:49:02,479 - INFO - joeynmt.training - \tHypothesis: Clearly , the answer is a vital challenge for us , and we will consider it .\n",
            "2021-10-14 14:49:02,479 - INFO - joeynmt.training - Example #3\n",
            "2021-10-14 14:49:02,479 - INFO - joeynmt.training - \tSource:     Ẹma ẹsinyụn̄ ẹsịn iduot ke idet erọn̄ emi ẹsidade ẹnam ọfọn̄ .\n",
            "2021-10-14 14:49:02,479 - INFO - joeynmt.training - \tReference:  In addition , wool was often dyed .\n",
            "2021-10-14 14:49:02,479 - INFO - joeynmt.training - \tHypothesis: The wooden sheep were also used to make clothes .\n",
            "2021-10-14 14:49:02,479 - INFO - joeynmt.training - Validation result (greedy) at epoch   2, step    50000: bleu:  27.74, loss: 50369.7148, ppl:   6.1198, duration: 50.9992s\n",
            "Traceback (most recent call last):\n",
            "  File \"/usr/lib/python3.7/runpy.py\", line 193, in _run_module_as_main\n",
            "    \"__main__\", mod_spec)\n",
            "  File \"/usr/lib/python3.7/runpy.py\", line 85, in _run_code\n",
            "    exec(code, run_globals)\n",
            "  File \"/content/joeynmt/joeynmt/__main__.py\", line 48, in <module>\n",
            "    main()\n",
            "  File \"/content/joeynmt/joeynmt/__main__.py\", line 35, in main\n",
            "    train(cfg_file=args.config_path, skip_test=args.skip_test)\n",
            "  File \"/content/joeynmt/joeynmt/training.py\", line 846, in train\n",
            "    trainer.train_and_validate(train_data=train_data, valid_data=dev_data)\n",
            "  File \"/content/joeynmt/joeynmt/training.py\", line 447, in train_and_validate\n",
            "    batch_loss += self._train_step(batch)\n",
            "  File \"/content/joeynmt/joeynmt/training.py\", line 569, in _train_step\n",
            "    norm_batch_loss.backward()\n",
            "  File \"/usr/local/lib/python3.7/dist-packages/torch/_tensor.py\", line 255, in backward\n",
            "    torch.autograd.backward(self, gradient, retain_graph, create_graph, inputs=inputs)\n",
            "  File \"/usr/local/lib/python3.7/dist-packages/torch/autograd/__init__.py\", line 149, in backward\n",
            "    allow_unreachable=True, accumulate_grad=True)  # allow_unreachable flag\n",
            "KeyboardInterrupt\n"
          ]
        }
      ]
    },
    {
      "cell_type": "code",
      "metadata": {
        "id": "MBoDS09JM807"
      },
      "source": [
        "# Copy the created models from the notebook storage to google drive for persistant storage \n",
        "!cp -r joeynmt/models/${tgt}${src}_reverse_transformer/* \"$gdrive_path/models/${src}${tgt}_reverse_transformer/\""
      ],
      "execution_count": 19,
      "outputs": []
    },
    {
      "cell_type": "code",
      "metadata": {
        "id": "n94wlrCjVc17",
        "colab": {
          "base_uri": "https://localhost:8080/"
        },
        "outputId": "17bbbf6b-7e81-4f8d-fcd8-ac0654348d98"
      },
      "source": [
        "# Output our validation accuracy\n",
        "! cat \"$gdrive_path/models/${src}${tgt}_reverse_transformer/validations.txt\""
      ],
      "execution_count": 20,
      "outputs": [
        {
          "output_type": "stream",
          "name": "stdout",
          "text": [
            "Steps: 46000\tLoss: 50930.55859\tPPL: 6.24452\tbleu: 27.13885\tLR: 0.00030000\t*\n",
            "Steps: 47000\tLoss: 50669.61328\tPPL: 6.18619\tbleu: 27.34553\tLR: 0.00030000\t*\n",
            "Steps: 48000\tLoss: 50463.09766\tPPL: 6.14042\tbleu: 27.47656\tLR: 0.00030000\t*\n",
            "Steps: 49000\tLoss: 50353.12891\tPPL: 6.11618\tbleu: 27.19102\tLR: 0.00030000\t*\n",
            "Steps: 50000\tLoss: 50369.71484\tPPL: 6.11983\tbleu: 27.73860\tLR: 0.00030000\t\n"
          ]
        }
      ]
    },
    {
      "cell_type": "code",
      "metadata": {
        "id": "66WhRE9lIhoD",
        "colab": {
          "base_uri": "https://localhost:8080/"
        },
        "outputId": "5b7e399c-22a4-4d52-9cce-df2d456a1580"
      },
      "source": [
        "# Test our model\n",
        "! cd joeynmt; python3 -m joeynmt test \"$gdrive_path/models/${src}${tgt}_reverse_transformer/config.yaml\""
      ],
      "execution_count": 21,
      "outputs": [
        {
          "output_type": "stream",
          "name": "stdout",
          "text": [
            "2021-10-14 14:49:34,880 - INFO - root - Hello! This is Joey-NMT (version 1.3).\n",
            "2021-10-14 14:49:34,881 - INFO - joeynmt.data - Building vocabulary...\n",
            "2021-10-14 14:49:35,201 - INFO - joeynmt.data - Loading dev data...\n",
            "2021-10-14 14:49:35,212 - INFO - joeynmt.data - Loading test data...\n",
            "2021-10-14 14:49:35,269 - INFO - joeynmt.data - Data loaded.\n",
            "2021-10-14 14:49:35,292 - INFO - joeynmt.prediction - Process device: cuda, n_gpu: 1, batch_size per device: 3600\n",
            "2021-10-14 14:49:35,292 - INFO - joeynmt.prediction - Loading model from models/efien_reverse_transformer/latest.ckpt\n",
            "2021-10-14 14:49:38,670 - INFO - joeynmt.model - Building an encoder-decoder model...\n",
            "2021-10-14 14:49:39,124 - INFO - joeynmt.model - Enc-dec model built.\n",
            "2021-10-14 14:49:39,239 - INFO - joeynmt.prediction - Decoding on dev set (data/efien/dev.bpe.en)...\n",
            "2021-10-14 14:50:51,732 - WARNING - sacrebleu - That's 100 lines that end in a tokenized period ('.')\n",
            "2021-10-14 14:50:51,732 - WARNING - sacrebleu - It looks like you forgot to detokenize your test data, which may hurt your score.\n",
            "2021-10-14 14:50:51,732 - WARNING - sacrebleu - If you insist your data is detokenized, or don't care, you can suppress this message with the `force` parameter.\n",
            "2021-10-14 14:50:51,737 - INFO - joeynmt.prediction -  dev bleu[13a]:  28.20 [Beam search decoding with beam size = 5 and alpha = 1.0]\n",
            "2021-10-14 14:50:51,737 - INFO - joeynmt.prediction - Decoding on test set (data/efien/test.bpe.en)...\n",
            "2021-10-14 14:52:48,293 - WARNING - sacrebleu - That's 100 lines that end in a tokenized period ('.')\n",
            "2021-10-14 14:52:48,293 - WARNING - sacrebleu - It looks like you forgot to detokenize your test data, which may hurt your score.\n",
            "2021-10-14 14:52:48,293 - WARNING - sacrebleu - If you insist your data is detokenized, or don't care, you can suppress this message with the `force` parameter.\n",
            "2021-10-14 14:52:48,305 - INFO - joeynmt.prediction - test bleu[13a]:  29.08 [Beam search decoding with beam size = 5 and alpha = 1.0]\n"
          ]
        }
      ]
    },
    {
      "cell_type": "code",
      "metadata": {
        "id": "NNlBtbVDIoux"
      },
      "source": [
        ""
      ],
      "execution_count": null,
      "outputs": []
    }
  ]
}