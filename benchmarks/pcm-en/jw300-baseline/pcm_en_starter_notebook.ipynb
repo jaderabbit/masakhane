{
  "nbformat": 4,
  "nbformat_minor": 0,
  "metadata": {
    "accelerator": "GPU",
    "colab": {
      "name": "pcm_en_starter_notebook.ipynb",
      "provenance": [],
      "collapsed_sections": []
    },
    "kernelspec": {
      "display_name": "Python 3",
      "language": "python",
      "name": "python3"
    },
    "language_info": {
      "codemirror_mode": {
        "name": "ipython",
        "version": 3
      },
      "file_extension": ".py",
      "mimetype": "text/x-python",
      "name": "python",
      "nbconvert_exporter": "python",
      "pygments_lexer": "ipython3",
      "version": "3.7.3"
    }
  },
  "cells": [
    {
      "cell_type": "markdown",
      "metadata": {
        "id": "Igc5itf-xMGj"
      },
      "source": [
        "# Masakhane - Reverse Machine Translation for African Languages (Using JoeyNMT)"
      ]
    },
    {
      "cell_type": "markdown",
      "metadata": {
        "id": "jCR7qfBovL8k"
      },
      "source": [
        "> ## NB\n",
        ">### - The purpose of this Notebook is to build models that translate African languages(target language) *into* English(source language). This will allow us to in future be able to make translations from one African language to the other. If you'd like to translate *from* English, please use [this](https://github.com/masakhane-io/masakhane-mt/blob/master/starter_notebook.ipynb) starter notebook instead.\n",
        "\n",
        ">### - We call this reverse training because normally we build models that make translations from the source language(English) to the target language. But in this case we are doing the reverse; building models that make translations from the target language to the source(English)"
      ]
    },
    {
      "cell_type": "markdown",
      "metadata": {
        "id": "x4fXCKCf36IK"
      },
      "source": [
        "## Note before beginning:\n",
        "### - The idea is that you should be able to make minimal changes to this in order to get SOME result for your own translation corpus. \n",
        "\n",
        "### - The tl;dr: Go to the **\"TODO\"** comments which will tell you what to update to get up and running\n",
        "\n",
        "### - If you actually want to have a clue what you're doing, read the text and peek at the links\n",
        "\n",
        "### - With 100 epochs, it should take around 7 hours to run in Google Colab\n",
        "\n",
        "### - Once you've gotten a result for your language, please attach and email your notebook that generated it to masakhanetranslation@gmail.com\n",
        "\n",
        "### - If you care enough and get a chance, doing a brief background on your language would be amazing. See examples in  [(Martinus, 2019)](https://arxiv.org/abs/1906.05685)"
      ]
    },
    {
      "cell_type": "markdown",
      "metadata": {
        "id": "l929HimrxS0a"
      },
      "source": [
        "## Retrieve your data & make a parallel corpus\n",
        "\n",
        "If you are wanting to use the JW300 data referenced on the Masakhane website or in our GitHub repo, you can use `opus-tools` to convert the data into a convenient format. `opus_read` from that package provides a convenient tool for reading the native aligned XML files and to convert them to TMX format. The tool can also be used to fetch relevant files from OPUS on the fly and to filter the data as necessary. [Read the documentation](https://pypi.org/project/opustools-pkg/) for more details.\n",
        "\n",
        "Once you have your corpus files in TMX format (an xml structure which will include the sentences in your target language and your source language in a single file), we recommend reading them into a pandas dataframe. Thankfully, Jade wrote a silly `tmx2dataframe` package which converts your tmx file to a pandas dataframe. "
      ]
    },
    {
      "cell_type": "code",
      "metadata": {
        "colab": {
          "base_uri": "https://localhost:8080/"
        },
        "id": "oGRmDELn7Az0",
        "outputId": "093ae11b-b8b6-4efc-fa88-65aa41ca062d"
      },
      "source": [
        "from google.colab import drive\n",
        "drive.mount('/content/drive')"
      ],
      "execution_count": 1,
      "outputs": [
        {
          "output_type": "stream",
          "name": "stdout",
          "text": [
            "Mounted at /content/drive\n"
          ]
        }
      ]
    },
    {
      "cell_type": "code",
      "metadata": {
        "id": "Cn3tgQLzUxwn"
      },
      "source": [
        "# TODO: Set your source and target languages. Keep in mind, these traditionally use language codes as found here:\n",
        "# These will also become the suffix's of all vocab and corpus files used throughout\n",
        "import os\n",
        "source_language = \"en\"\n",
        "target_language = \"pcm\" \n",
        "lc = False  # If True, lowercase the data.\n",
        "seed = 42  # Random seed for shuffling.\n",
        "tag = \"baseline\" # Give a unique name to your folder - this is to ensure you don't rewrite any models you've already submitted\n",
        "\n",
        "os.environ[\"src\"] = source_language # Sets them in bash as well, since we often use bash scripts\n",
        "os.environ[\"tgt\"] = target_language\n",
        "os.environ[\"tag\"] = tag\n",
        "\n",
        "# This will save it to a folder in our gdrive instead!\n",
        "!mkdir -p \"/content/drive/My Drive/masakhane/$tgt-$src-$tag\"\n",
        "os.environ[\"gdrive_path\"] = \"/content/drive/My Drive/masakhane/%s-%s-%s\" % (target_language, source_language, tag)"
      ],
      "execution_count": 2,
      "outputs": []
    },
    {
      "cell_type": "code",
      "metadata": {
        "colab": {
          "base_uri": "https://localhost:8080/"
        },
        "id": "kBSgJHEw7Nvx",
        "outputId": "bb14d8ce-0c39-4b0a-9703-b79d30d6b733"
      },
      "source": [
        "!echo $gdrive_path"
      ],
      "execution_count": 3,
      "outputs": [
        {
          "output_type": "stream",
          "name": "stdout",
          "text": [
            "/content/drive/My Drive/masakhane/pcm-en-baseline\n"
          ]
        }
      ]
    },
    {
      "cell_type": "code",
      "metadata": {
        "colab": {
          "base_uri": "https://localhost:8080/"
        },
        "id": "gA75Fs9ys8Y9",
        "outputId": "a73b1fc1-dfc9-45d0-c17b-dce28daa4e79"
      },
      "source": [
        "# Install opus-tools\n",
        "! pip install opustools-pkg"
      ],
      "execution_count": 4,
      "outputs": [
        {
          "output_type": "stream",
          "name": "stdout",
          "text": [
            "Collecting opustools-pkg\n",
            "  Downloading opustools_pkg-0.0.52-py3-none-any.whl (80 kB)\n",
            "\u001b[?25l\r\u001b[K     |████                            | 10 kB 21.9 MB/s eta 0:00:01\r\u001b[K     |████████                        | 20 kB 28.4 MB/s eta 0:00:01\r\u001b[K     |████████████▏                   | 30 kB 27.2 MB/s eta 0:00:01\r\u001b[K     |████████████████▏               | 40 kB 20.0 MB/s eta 0:00:01\r\u001b[K     |████████████████████▎           | 51 kB 15.7 MB/s eta 0:00:01\r\u001b[K     |████████████████████████▎       | 61 kB 12.8 MB/s eta 0:00:01\r\u001b[K     |████████████████████████████▎   | 71 kB 13.1 MB/s eta 0:00:01\r\u001b[K     |████████████████████████████████| 80 kB 6.4 MB/s \n",
            "\u001b[?25hInstalling collected packages: opustools-pkg\n",
            "Successfully installed opustools-pkg-0.0.52\n"
          ]
        }
      ]
    },
    {
      "cell_type": "code",
      "metadata": {
        "colab": {
          "base_uri": "https://localhost:8080/"
        },
        "id": "xq-tDZVks7ZD",
        "outputId": "1aad206e-3720-4c2e-cadb-0f055ba3a1b1"
      },
      "source": [
        "# Downloading our corpus\n",
        "! opus_read -d JW300 -s $src -t $tgt -wm moses -w jw300.$src jw300.$tgt -q\n",
        "\n",
        "# extract the corpus file\n",
        "! gunzip JW300_latest_xml_$src-$tgt.xml.gz"
      ],
      "execution_count": 5,
      "outputs": [
        {
          "output_type": "stream",
          "name": "stdout",
          "text": [
            "\n",
            "Alignment file /proj/nlpl/data/OPUS/JW300/latest/xml/en-pcm.xml.gz not found. The following files are available for downloading:\n",
            "\n",
            " 289 KB https://object.pouta.csc.fi/OPUS-JW300/v1c/xml/en-pcm.xml.gz\n",
            " 274 MB https://object.pouta.csc.fi/OPUS-JW300/v1c/xml/en.zip\n",
            "   3 MB https://object.pouta.csc.fi/OPUS-JW300/v1c/xml/pcm.zip\n",
            "\n",
            " 277 MB Total size\n",
            "./JW300_latest_xml_en-pcm.xml.gz ... 100% of 289 KB\n",
            "./JW300_latest_xml_en.zip ... 100% of 274 MB\n",
            "./JW300_latest_xml_pcm.zip ... 100% of 3 MB\n"
          ]
        }
      ]
    },
    {
      "cell_type": "code",
      "metadata": {
        "colab": {
          "base_uri": "https://localhost:8080/"
        },
        "id": "n48GDRnP8y2G",
        "outputId": "a5b613e8-ec27-499b-cac6-d7a921f145fc"
      },
      "source": [
        "# Download the global test set.\n",
        "! wget https://raw.githubusercontent.com/juliakreutzer/masakhane/master/jw300_utils/test/test.en-any.en\n",
        "  \n",
        "# And the specific test set for this language pair.\n",
        "os.environ[\"trg\"] = target_language \n",
        "os.environ[\"src\"] = source_language \n",
        "\n",
        "! wget https://raw.githubusercontent.com/juliakreutzer/masakhane/master/jw300_utils/test/test.en-$trg.en \n",
        "! mv test.en-$trg.en test.en\n",
        "! wget https://raw.githubusercontent.com/juliakreutzer/masakhane/master/jw300_utils/test/test.en-$trg.$trg \n",
        "! mv test.en-$trg.$trg test.$trg"
      ],
      "execution_count": 6,
      "outputs": [
        {
          "output_type": "stream",
          "name": "stdout",
          "text": [
            "--2021-10-10 14:16:18--  https://raw.githubusercontent.com/juliakreutzer/masakhane/master/jw300_utils/test/test.en-any.en\n",
            "Resolving raw.githubusercontent.com (raw.githubusercontent.com)... 185.199.108.133, 185.199.110.133, 185.199.109.133, ...\n",
            "Connecting to raw.githubusercontent.com (raw.githubusercontent.com)|185.199.108.133|:443... connected.\n",
            "HTTP request sent, awaiting response... 200 OK\n",
            "Length: 277791 (271K) [text/plain]\n",
            "Saving to: ‘test.en-any.en’\n",
            "\n",
            "test.en-any.en      100%[===================>] 271.28K  --.-KB/s    in 0.01s   \n",
            "\n",
            "2021-10-10 14:16:18 (20.2 MB/s) - ‘test.en-any.en’ saved [277791/277791]\n",
            "\n",
            "--2021-10-10 14:16:19--  https://raw.githubusercontent.com/juliakreutzer/masakhane/master/jw300_utils/test/test.en-pcm.en\n",
            "Resolving raw.githubusercontent.com (raw.githubusercontent.com)... 185.199.110.133, 185.199.109.133, 185.199.111.133, ...\n",
            "Connecting to raw.githubusercontent.com (raw.githubusercontent.com)|185.199.110.133|:443... connected.\n",
            "HTTP request sent, awaiting response... 200 OK\n",
            "Length: 154369 (151K) [text/plain]\n",
            "Saving to: ‘test.en-pcm.en’\n",
            "\n",
            "test.en-pcm.en      100%[===================>] 150.75K  --.-KB/s    in 0.009s  \n",
            "\n",
            "2021-10-10 14:16:19 (16.6 MB/s) - ‘test.en-pcm.en’ saved [154369/154369]\n",
            "\n",
            "--2021-10-10 14:16:19--  https://raw.githubusercontent.com/juliakreutzer/masakhane/master/jw300_utils/test/test.en-pcm.pcm\n",
            "Resolving raw.githubusercontent.com (raw.githubusercontent.com)... 185.199.108.133, 185.199.109.133, 185.199.110.133, ...\n",
            "Connecting to raw.githubusercontent.com (raw.githubusercontent.com)|185.199.108.133|:443... connected.\n",
            "HTTP request sent, awaiting response... 200 OK\n",
            "Length: 163323 (159K) [text/plain]\n",
            "Saving to: ‘test.en-pcm.pcm’\n",
            "\n",
            "test.en-pcm.pcm     100%[===================>] 159.50K  --.-KB/s    in 0.01s   \n",
            "\n",
            "2021-10-10 14:16:19 (15.9 MB/s) - ‘test.en-pcm.pcm’ saved [163323/163323]\n",
            "\n"
          ]
        }
      ]
    },
    {
      "cell_type": "code",
      "metadata": {
        "colab": {
          "base_uri": "https://localhost:8080/"
        },
        "id": "NqDG-CI28y2L",
        "outputId": "e3684142-5fae-4c77-aea6-c3cc25df3fa0"
      },
      "source": [
        "# Read the test data to filter from train and dev splits.\n",
        "# Store english portion in set for quick filtering checks.\n",
        "en_test_sents = set()\n",
        "filter_test_sents = \"test.en-any.en\"\n",
        "j = 0\n",
        "with open(filter_test_sents) as f:\n",
        "  for line in f:\n",
        "    en_test_sents.add(line.strip())\n",
        "    j += 1\n",
        "print('Loaded {} global test sentences to filter from the training/dev data.'.format(j))"
      ],
      "execution_count": 7,
      "outputs": [
        {
          "output_type": "stream",
          "name": "stdout",
          "text": [
            "Loaded 3571 global test sentences to filter from the training/dev data.\n"
          ]
        }
      ]
    },
    {
      "cell_type": "code",
      "metadata": {
        "colab": {
          "base_uri": "https://localhost:8080/",
          "height": 158
        },
        "id": "3CNdwLBCfSIl",
        "outputId": "c950acee-258e-48b1-e16a-4fecf7c5212a"
      },
      "source": [
        "import pandas as pd\n",
        "\n",
        "# TMX file to dataframe\n",
        "source_file = 'jw300.' + source_language\n",
        "target_file = 'jw300.' + target_language\n",
        "\n",
        "source = []\n",
        "target = []\n",
        "skip_lines = []  # Collect the line numbers of the source portion to skip the same lines for the target portion.\n",
        "with open(source_file) as f:\n",
        "    for i, line in enumerate(f):\n",
        "        # Skip sentences that are contained in the test set.\n",
        "        if line.strip() not in en_test_sents:\n",
        "            source.append(line.strip())\n",
        "        else:\n",
        "            skip_lines.append(i)             \n",
        "with open(target_file) as f:\n",
        "    for j, line in enumerate(f):\n",
        "        # Only add to corpus if corresponding source was not skipped.\n",
        "        if j not in skip_lines:\n",
        "            target.append(line.strip())\n",
        "    \n",
        "print('Loaded data and skipped {}/{} lines since contained in test set.'.format(len(skip_lines), i))\n",
        "    \n",
        "df = pd.DataFrame(zip(source, target), columns=['source_sentence', 'target_sentence'])\n",
        "# if you get TypeError: data argument can't be an iterator is because of your zip version run this below\n",
        "#df = pd.DataFrame(list(zip(source, target)), columns=['source_sentence', 'target_sentence'])\n",
        "df.head(3)"
      ],
      "execution_count": 8,
      "outputs": [
        {
          "output_type": "stream",
          "name": "stdout",
          "text": [
            "Loaded data and skipped 1674/26546 lines since contained in test set.\n"
          ]
        },
        {
          "output_type": "execute_result",
          "data": {
            "text/html": [
              "<div>\n",
              "<style scoped>\n",
              "    .dataframe tbody tr th:only-of-type {\n",
              "        vertical-align: middle;\n",
              "    }\n",
              "\n",
              "    .dataframe tbody tr th {\n",
              "        vertical-align: top;\n",
              "    }\n",
              "\n",
              "    .dataframe thead th {\n",
              "        text-align: right;\n",
              "    }\n",
              "</style>\n",
              "<table border=\"1\" class=\"dataframe\">\n",
              "  <thead>\n",
              "    <tr style=\"text-align: right;\">\n",
              "      <th></th>\n",
              "      <th>source_sentence</th>\n",
              "      <th>target_sentence</th>\n",
              "    </tr>\n",
              "  </thead>\n",
              "  <tbody>\n",
              "    <tr>\n",
              "      <th>0</th>\n",
              "      <td>WEEK OF JUNE 27 , 2016 – JULY 3 , 2016</td>\n",
              "      <td>JUNE 27 , 2016 – JULY 3 , 2016 WEEK</td>\n",
              "    </tr>\n",
              "    <tr>\n",
              "      <th>1</th>\n",
              "      <td>3 Settle Differences in a Spirit of Love</td>\n",
              "      <td>3 Make Una Dey Use Love Settle Quarrel</td>\n",
              "    </tr>\n",
              "    <tr>\n",
              "      <th>2</th>\n",
              "      <td>Because of our inherited imperfection , we are...</td>\n",
              "      <td>Because of the sin wey all of us carry from be...</td>\n",
              "    </tr>\n",
              "  </tbody>\n",
              "</table>\n",
              "</div>"
            ],
            "text/plain": [
              "                                     source_sentence                                    target_sentence\n",
              "0             WEEK OF JUNE 27 , 2016 – JULY 3 , 2016                JUNE 27 , 2016 – JULY 3 , 2016 WEEK\n",
              "1           3 Settle Differences in a Spirit of Love             3 Make Una Dey Use Love Settle Quarrel\n",
              "2  Because of our inherited imperfection , we are...  Because of the sin wey all of us carry from be..."
            ]
          },
          "metadata": {},
          "execution_count": 8
        }
      ]
    },
    {
      "cell_type": "markdown",
      "metadata": {
        "id": "YkuK3B4p2AkN"
      },
      "source": [
        "## Pre-processing and export\n",
        "\n",
        "It is generally a good idea to remove duplicate translations and conflicting translations from the corpus. In practice, these public corpora include some number of these that need to be cleaned.\n",
        "\n",
        "In addition we will split our data into dev/test/train and export to the filesystem."
      ]
    },
    {
      "cell_type": "code",
      "metadata": {
        "colab": {
          "base_uri": "https://localhost:8080/"
        },
        "id": "M_2ouEOH1_1q",
        "outputId": "4577ce2b-12ad-42d7-f191-343ae2e33f9b"
      },
      "source": [
        "# drop duplicate translations\n",
        "df_pp = df.drop_duplicates()\n",
        "\n",
        "# drop conflicting translations\n",
        "# (this is optional and something that you might want to comment out \n",
        "# depending on the size of your corpus)\n",
        "df_pp.drop_duplicates(subset='source_sentence', inplace=True)\n",
        "df_pp.drop_duplicates(subset='target_sentence', inplace=True)\n",
        "\n",
        "# Shuffle the data to remove bias in dev set selection.\n",
        "df_pp = df_pp.sample(frac=1, random_state=seed).reset_index(drop=True)"
      ],
      "execution_count": 9,
      "outputs": [
        {
          "output_type": "stream",
          "name": "stderr",
          "text": [
            "/usr/local/lib/python3.7/dist-packages/ipykernel_launcher.py:7: SettingWithCopyWarning: \n",
            "A value is trying to be set on a copy of a slice from a DataFrame\n",
            "\n",
            "See the caveats in the documentation: https://pandas.pydata.org/pandas-docs/stable/user_guide/indexing.html#returning-a-view-versus-a-copy\n",
            "  import sys\n",
            "/usr/local/lib/python3.7/dist-packages/ipykernel_launcher.py:8: SettingWithCopyWarning: \n",
            "A value is trying to be set on a copy of a slice from a DataFrame\n",
            "\n",
            "See the caveats in the documentation: https://pandas.pydata.org/pandas-docs/stable/user_guide/indexing.html#returning-a-view-versus-a-copy\n",
            "  \n"
          ]
        }
      ]
    },
    {
      "cell_type": "code",
      "metadata": {
        "colab": {
          "base_uri": "https://localhost:8080/"
        },
        "id": "Z_1BwAApEtMk",
        "outputId": "9eac6a55-d10d-477e-eea4-b1de5a0ae466"
      },
      "source": [
        "# Install fuzzy wuzzy to remove \"almost duplicate\" sentences in the\n",
        "# test and training sets.\n",
        "! pip install fuzzywuzzy\n",
        "! pip install python-Levenshtein\n",
        "import time\n",
        "from fuzzywuzzy import process\n",
        "import numpy as np\n",
        "from os import cpu_count\n",
        "from functools import partial\n",
        "from multiprocessing import Pool\n",
        "\n",
        "\n",
        "# reset the index of the training set after previous filtering\n",
        "df_pp.reset_index(drop=False, inplace=True)\n",
        "\n",
        "# Remove samples from the training data set if they \"almost overlap\" with the\n",
        "# samples in the test set.\n",
        "\n",
        "# Filtering function. Adjust pad to narrow down the candidate matches to\n",
        "# within a certain length of characters of the given sample.\n",
        "def fuzzfilter(sample, candidates, pad):\n",
        "  candidates = [x for x in candidates if len(x) <= len(sample)+pad and len(x) >= len(sample)-pad] \n",
        "  if len(candidates) > 0:\n",
        "    return process.extractOne(sample, candidates)[1]\n",
        "  else:\n",
        "    return np.nan"
      ],
      "execution_count": 10,
      "outputs": [
        {
          "output_type": "stream",
          "name": "stdout",
          "text": [
            "Collecting fuzzywuzzy\n",
            "  Downloading fuzzywuzzy-0.18.0-py2.py3-none-any.whl (18 kB)\n",
            "Installing collected packages: fuzzywuzzy\n",
            "Successfully installed fuzzywuzzy-0.18.0\n",
            "Collecting python-Levenshtein\n",
            "  Downloading python-Levenshtein-0.12.2.tar.gz (50 kB)\n",
            "\u001b[K     |████████████████████████████████| 50 kB 4.7 MB/s \n",
            "\u001b[?25hRequirement already satisfied: setuptools in /usr/local/lib/python3.7/dist-packages (from python-Levenshtein) (57.4.0)\n",
            "Building wheels for collected packages: python-Levenshtein\n",
            "  Building wheel for python-Levenshtein (setup.py) ... \u001b[?25l\u001b[?25hdone\n",
            "  Created wheel for python-Levenshtein: filename=python_Levenshtein-0.12.2-cp37-cp37m-linux_x86_64.whl size=149860 sha256=6c546a24ea74af23b9e4bd8f9e8011cca2e953a70bf53f01e3d45882ac45c5e5\n",
            "  Stored in directory: /root/.cache/pip/wheels/05/5f/ca/7c4367734892581bb5ff896f15027a932c551080b2abd3e00d\n",
            "Successfully built python-Levenshtein\n",
            "Installing collected packages: python-Levenshtein\n",
            "Successfully installed python-Levenshtein-0.12.2\n"
          ]
        }
      ]
    },
    {
      "cell_type": "code",
      "metadata": {
        "id": "92EsgTaY3B4H"
      },
      "source": [
        "# start_time = time.time()\n",
        "# ### iterating over pandas dataframe rows is not recomended, let use multi processing to apply the function\n",
        "\n",
        "# with Pool(cpu_count()-1) as pool:\n",
        "#     scores = pool.map(partial(fuzzfilter, candidates=list(en_test_sents), pad=5), df_pp['source_sentence'])\n",
        "# hours, rem = divmod(time.time() - start_time, 3600)\n",
        "# minutes, seconds = divmod(rem, 60)\n",
        "# print(\"done in {}h:{}min:{}seconds\".format(hours, minutes, seconds))\n",
        "\n",
        "# # Filter out \"almost overlapping samples\"\n",
        "# df_pp = df_pp.assign(scores=scores)\n",
        "# df_pp = df_pp[df_pp['scores'] < 95]"
      ],
      "execution_count": 11,
      "outputs": []
    },
    {
      "cell_type": "code",
      "metadata": {
        "colab": {
          "base_uri": "https://localhost:8080/"
        },
        "id": "hxxBOCA-xXhy",
        "outputId": "a692df20-50b4-4c05-87ff-1aeda5c24ea2"
      },
      "source": [
        "# This section does the split between train/dev for the parallel corpora then saves them as separate files\n",
        "# We use 1000 dev test and the given test set.\n",
        "import csv\n",
        "\n",
        "# Do the split between dev/train and create parallel corpora\n",
        "num_dev_patterns = 1000\n",
        "\n",
        "# Optional: lower case the corpora - this will make it easier to generalize, but without proper casing.\n",
        "if lc:  # Julia: making lowercasing optional\n",
        "    df_pp[\"source_sentence\"] = df_pp[\"source_sentence\"].str.lower()\n",
        "    df_pp[\"target_sentence\"] = df_pp[\"target_sentence\"].str.lower()\n",
        "\n",
        "# Julia: test sets are already generated\n",
        "dev = df_pp.tail(num_dev_patterns) # Herman: Error in original\n",
        "stripped = df_pp.drop(df_pp.tail(num_dev_patterns).index)\n",
        "\n",
        "with open(\"train.\"+source_language, \"w\") as src_file, open(\"train.\"+target_language, \"w\") as trg_file:\n",
        "  for index, row in stripped.iterrows():\n",
        "    src_file.write(row[\"source_sentence\"]+\"\\n\")\n",
        "    trg_file.write(row[\"target_sentence\"]+\"\\n\")\n",
        "    \n",
        "with open(\"dev.\"+source_language, \"w\") as src_file, open(\"dev.\"+target_language, \"w\") as trg_file:\n",
        "  for index, row in dev.iterrows():\n",
        "    src_file.write(row[\"source_sentence\"]+\"\\n\")\n",
        "    trg_file.write(row[\"target_sentence\"]+\"\\n\")\n",
        "\n",
        "#stripped[[\"source_sentence\"]].to_csv(\"train.\"+source_language, header=False, index=False)  # Herman: Added `header=False` everywhere\n",
        "#stripped[[\"target_sentence\"]].to_csv(\"train.\"+target_language, header=False, index=False)  # Julia: Problematic handling of quotation marks.\n",
        "\n",
        "#dev[[\"source_sentence\"]].to_csv(\"dev.\"+source_language, header=False, index=False)\n",
        "#dev[[\"target_sentence\"]].to_csv(\"dev.\"+target_language, header=False, index=False)\n",
        "\n",
        "# Doublecheck the format below. There should be no extra quotation marks or weird characters.\n",
        "! head train.*\n",
        "! head dev.*"
      ],
      "execution_count": 12,
      "outputs": [
        {
          "output_type": "stream",
          "name": "stdout",
          "text": [
            "==> train.en <==\n",
            "Russell recounted that the “ audiences were very attentive ” to the subject “ The Oath-Bound Promise ” about Abraham ’ s faith and the future blessings for mankind .\n",
            "But I thought , ‘ If Jehovah thinks I can do it , I will try . ’\n",
            "His class was discussing different religions , and Luca noticed that the textbook contained some wrong ideas about Jehovah ’ s Witnesses .\n",
            "For instance , we appreciate the spiritual food we receive in the form of books , brochures , magazines , and other literature .\n",
            "For example , he wrote to the congregation in Colossae about false Christians who were trying to gain God ’ s favor through works of the Law rather than through faith in Christ .\n",
            "A CAVALRY OF ANGELIC FORCES\n",
            "The meek are those who humbly accept Jehovah ’ s teaching and guidance ; the righteous are those who love doing what is right in the eyes of Jehovah God .\n",
            "( Read Acts 13 : 32-37 , 42 . )\n",
            "Even Jesus recognized that preaching in his “ home territory ” was a challenge — a fact recorded by all four Gospel writers. — Matt . 13 : 57 ; Mark 6 : 4 ; Luke 4 : 24 ; John 4 : 44 .\n",
            "Commenting on the success of the sandwich-sign parade in Mexico City , the magazine La Nación stated : “ The first [ assembly ] day , [ the Witnesses ] were asked to invite more people .\n",
            "\n",
            "==> train.pcm <==\n",
            "And this time , dem advertise im talk for newspaper for Belfast and Dublin . Brother Russell sey the people listen well well to im talk about the faith wey Abraham get and the blessing wey human being go get for front .\n",
            "But I come talk am for my mind sey : “ If Jehovah feel sey I fit do am , I go try am . ”\n",
            "Dem dey learn about different different religion for class . But Lucas come see sey the textbook wey dem dey use , talk some things about Jehovah Witness wey no correct .\n",
            "We dey happy to get all this book because we know sey na part of the better better things wey Jehovah dey give us .\n",
            "For example , e write letter give the congregation for Colossae . For the letter , e tell dem about some brothers wey dey follow Moses Law and no gree get faith for Jesus Christ .\n",
            "ANGELS WEY READY FOR WAR\n",
            "And the ‘ good people ’ na people wey e dey sweet dem to do wetin Jehovah like .\n",
            "( Read Acts 13 : 32 - 37 , 42 . )\n",
            "Even Jesus know say preaching work for e “ own village ” no easy . Matthew , Mark , Luke , and John talk about - am . — Matt . 13 : 57 ; Mark 6 : 4 ; Luke 4 : 24 ; John 4 : 44 .\n",
            "E talk about the better thing wey come out from the work wey the brothers do for Mexico City . E talk sey : “ The first day for assembly , dem tell dem sey make dem invite more people come .\n",
            "==> dev.en <==\n",
            "Jehovah told his prophet Ezekiel to write on two sticks .\n",
            "MY INTEREST in Bible truth had already been aroused earlier .\n",
            "What “ silly ” things to do in such a Catholic country !\n",
            "In 1987 a brother asked me to visit an interested person living in the town of Balykchy .\n",
            "14 Keeping our life simple involves setting priorities .\n",
            "Imagine the family ’ s joy when this young man was reinstated !\n",
            "17 Continuing to have a regular share in Jehovah ’ s work can help us to stay focused on the big issue .\n",
            "15 Christ also gave to the congregation “ gifts in men ” — elders to shepherd God ’ s flock .\n",
            "We could use the list of qualifications for Christian overseers to help interested ones or Bible students to see ways that elders among Jehovah ’ s Witnesses differ from the clergy of Christendom .\n",
            "Yet , thanks to Jehovah ’ s molding , we changed ; we became more like lambs .\n",
            "\n",
            "==> dev.pcm <==\n",
            "Jehovah tell Ezekiel sey make e write on top two stick .\n",
            "BEFORE that time , I don dey like the truth wey I dey learn from Bible .\n",
            "But because Ireland na Catholic country , e come be like sey , ‘ trouble dey sleep yanga go wake am . ’\n",
            "For 1987 , one brother tell me sey make I go check one person wey like our message for Balykchy .\n",
            "14 Person wey want live simple life go put God Kingdom first for im life .\n",
            "How you think sey the family go feel when this pikin wey dem first disfellowship come dey serve Jehovah again ?\n",
            "17 If we dey always preach , e go help us put mind for the main thing . For example , e get one sister wey im name na Renee .\n",
            "15 Jesus still dey use elders to take care of Jehovah people .\n",
            "We fit use wetin we don read for 1 Timothy 3 : 2 - 7 , take help our Bible student and other people .\n",
            "Now we thank Jehovah sey e mold us , and we don change ; we come be like sheep .\n"
          ]
        }
      ]
    },
    {
      "cell_type": "markdown",
      "metadata": {
        "id": "epeCydmCyS8X"
      },
      "source": [
        "\n",
        "\n",
        "---\n",
        "\n",
        "\n",
        "## Installation of JoeyNMT\n",
        "\n",
        "JoeyNMT is a simple, minimalist NMT package which is useful for learning and teaching. Check out the documentation for JoeyNMT [here](https://joeynmt.readthedocs.io)  \n",
        "\n",
        "**Note:** I had to update the torch vesion used from ```torch==1.8.0+cu101``` to ```1.9.0+cu102``` as I was getting the error below.\n",
        "\n",
        "\n",
        "```python\n",
        "ImportError: /usr/local/lib/python3.7/dist-packages/torchtext/_torchtext.so: undefined symbol: _ZN2at6detail10noopDeleteEPv\n",
        "```"
      ]
    },
    {
      "cell_type": "code",
      "metadata": {
        "colab": {
          "base_uri": "https://localhost:8080/"
        },
        "id": "iBRMm4kMxZ8L",
        "outputId": "1742d2bf-2de8-447e-f8ec-14f59ff7de03"
      },
      "source": [
        "# Install JoeyNMT\n",
        "! git clone https://github.com/joeynmt/joeynmt.git\n",
        "! cd joeynmt; pip3 install .\n",
        "# Install Pytorch with GPU support v1.7.1.\n",
        "! pip install torch==1.9.0+cu102 -f https://download.pytorch.org/whl/torch_stable.html"
      ],
      "execution_count": 13,
      "outputs": [
        {
          "output_type": "stream",
          "name": "stdout",
          "text": [
            "Cloning into 'joeynmt'...\n",
            "remote: Enumerating objects: 3224, done.\u001b[K\n",
            "remote: Counting objects: 100% (273/273), done.\u001b[K\n",
            "remote: Compressing objects: 100% (139/139), done.\u001b[K\n",
            "remote: Total 3224 (delta 157), reused 206 (delta 134), pack-reused 2951\u001b[K\n",
            "Receiving objects: 100% (3224/3224), 8.17 MiB | 15.02 MiB/s, done.\n",
            "Resolving deltas: 100% (2186/2186), done.\n",
            "Processing /content/joeynmt\n",
            "\u001b[33m  DEPRECATION: A future pip version will change local packages to be built in-place without first copying to a temporary directory. We recommend you use --use-feature=in-tree-build to test your packages with this new behavior before it becomes the default.\n",
            "   pip 21.3 will remove support for this functionality. You can find discussion regarding this at https://github.com/pypa/pip/issues/7555.\u001b[0m\n",
            "Requirement already satisfied: future in /usr/local/lib/python3.7/dist-packages (from joeynmt==1.3) (0.16.0)\n",
            "Requirement already satisfied: pillow in /usr/local/lib/python3.7/dist-packages (from joeynmt==1.3) (7.1.2)\n",
            "Requirement already satisfied: numpy>=1.19.5 in /usr/local/lib/python3.7/dist-packages (from joeynmt==1.3) (1.19.5)\n",
            "Requirement already satisfied: setuptools>=41.0.0 in /usr/local/lib/python3.7/dist-packages (from joeynmt==1.3) (57.4.0)\n",
            "Requirement already satisfied: torch>=1.9.0 in /usr/local/lib/python3.7/dist-packages (from joeynmt==1.3) (1.9.0+cu111)\n",
            "Requirement already satisfied: tensorboard>=1.15 in /usr/local/lib/python3.7/dist-packages (from joeynmt==1.3) (2.6.0)\n",
            "Requirement already satisfied: torchtext>=0.10.0 in /usr/local/lib/python3.7/dist-packages (from joeynmt==1.3) (0.10.0)\n",
            "Collecting sacrebleu>=2.0.0\n",
            "  Downloading sacrebleu-2.0.0-py3-none-any.whl (90 kB)\n",
            "\u001b[K     |████████████████████████████████| 90 kB 6.5 MB/s \n",
            "\u001b[?25hCollecting subword-nmt\n",
            "  Downloading subword_nmt-0.3.7-py2.py3-none-any.whl (26 kB)\n",
            "Requirement already satisfied: matplotlib in /usr/local/lib/python3.7/dist-packages (from joeynmt==1.3) (3.2.2)\n",
            "Requirement already satisfied: seaborn in /usr/local/lib/python3.7/dist-packages (from joeynmt==1.3) (0.11.2)\n",
            "Collecting pyyaml>=5.1\n",
            "  Downloading PyYAML-5.4.1-cp37-cp37m-manylinux1_x86_64.whl (636 kB)\n",
            "\u001b[K     |████████████████████████████████| 636 kB 50.6 MB/s \n",
            "\u001b[?25hCollecting pylint>=2.9.6\n",
            "  Downloading pylint-2.11.1-py3-none-any.whl (392 kB)\n",
            "\u001b[K     |████████████████████████████████| 392 kB 47.6 MB/s \n",
            "\u001b[?25hCollecting six==1.12\n",
            "  Downloading six-1.12.0-py2.py3-none-any.whl (10 kB)\n",
            "Collecting wrapt==1.11.1\n",
            "  Downloading wrapt-1.11.1.tar.gz (27 kB)\n",
            "Collecting mccabe<0.7,>=0.6\n",
            "  Downloading mccabe-0.6.1-py2.py3-none-any.whl (8.6 kB)\n",
            "Collecting platformdirs>=2.2.0\n",
            "  Downloading platformdirs-2.4.0-py3-none-any.whl (14 kB)\n",
            "Collecting astroid<2.9,>=2.8.0\n",
            "  Downloading astroid-2.8.2-py3-none-any.whl (246 kB)\n",
            "\u001b[K     |████████████████████████████████| 246 kB 46.0 MB/s \n",
            "\u001b[?25hRequirement already satisfied: toml>=0.7.1 in /usr/local/lib/python3.7/dist-packages (from pylint>=2.9.6->joeynmt==1.3) (0.10.2)\n",
            "Collecting isort<6,>=4.2.5\n",
            "  Downloading isort-5.9.3-py3-none-any.whl (106 kB)\n",
            "\u001b[K     |████████████████████████████████| 106 kB 44.8 MB/s \n",
            "\u001b[?25hCollecting typing-extensions>=3.10.0\n",
            "  Downloading typing_extensions-3.10.0.2-py3-none-any.whl (26 kB)\n",
            "Collecting lazy-object-proxy>=1.4.0\n",
            "  Downloading lazy_object_proxy-1.6.0-cp37-cp37m-manylinux1_x86_64.whl (55 kB)\n",
            "\u001b[K     |████████████████████████████████| 55 kB 3.8 MB/s \n",
            "\u001b[?25hCollecting typed-ast<1.5,>=1.4.0\n",
            "  Downloading typed_ast-1.4.3-cp37-cp37m-manylinux1_x86_64.whl (743 kB)\n",
            "\u001b[K     |████████████████████████████████| 743 kB 44.7 MB/s \n",
            "\u001b[?25hRequirement already satisfied: regex in /usr/local/lib/python3.7/dist-packages (from sacrebleu>=2.0.0->joeynmt==1.3) (2019.12.20)\n",
            "Collecting colorama\n",
            "  Downloading colorama-0.4.4-py2.py3-none-any.whl (16 kB)\n",
            "Requirement already satisfied: tabulate>=0.8.9 in /usr/local/lib/python3.7/dist-packages (from sacrebleu>=2.0.0->joeynmt==1.3) (0.8.9)\n",
            "Collecting portalocker\n",
            "  Downloading portalocker-2.3.2-py2.py3-none-any.whl (15 kB)\n",
            "Requirement already satisfied: google-auth<2,>=1.6.3 in /usr/local/lib/python3.7/dist-packages (from tensorboard>=1.15->joeynmt==1.3) (1.35.0)\n",
            "Requirement already satisfied: absl-py>=0.4 in /usr/local/lib/python3.7/dist-packages (from tensorboard>=1.15->joeynmt==1.3) (0.12.0)\n",
            "Requirement already satisfied: wheel>=0.26 in /usr/local/lib/python3.7/dist-packages (from tensorboard>=1.15->joeynmt==1.3) (0.37.0)\n",
            "Requirement already satisfied: grpcio>=1.24.3 in /usr/local/lib/python3.7/dist-packages (from tensorboard>=1.15->joeynmt==1.3) (1.41.0)\n",
            "Requirement already satisfied: protobuf>=3.6.0 in /usr/local/lib/python3.7/dist-packages (from tensorboard>=1.15->joeynmt==1.3) (3.17.3)\n",
            "Requirement already satisfied: tensorboard-plugin-wit>=1.6.0 in /usr/local/lib/python3.7/dist-packages (from tensorboard>=1.15->joeynmt==1.3) (1.8.0)\n",
            "Requirement already satisfied: markdown>=2.6.8 in /usr/local/lib/python3.7/dist-packages (from tensorboard>=1.15->joeynmt==1.3) (3.3.4)\n",
            "Requirement already satisfied: google-auth-oauthlib<0.5,>=0.4.1 in /usr/local/lib/python3.7/dist-packages (from tensorboard>=1.15->joeynmt==1.3) (0.4.6)\n",
            "Requirement already satisfied: werkzeug>=0.11.15 in /usr/local/lib/python3.7/dist-packages (from tensorboard>=1.15->joeynmt==1.3) (1.0.1)\n",
            "Requirement already satisfied: tensorboard-data-server<0.7.0,>=0.6.0 in /usr/local/lib/python3.7/dist-packages (from tensorboard>=1.15->joeynmt==1.3) (0.6.1)\n",
            "Requirement already satisfied: requests<3,>=2.21.0 in /usr/local/lib/python3.7/dist-packages (from tensorboard>=1.15->joeynmt==1.3) (2.23.0)\n",
            "Requirement already satisfied: rsa<5,>=3.1.4 in /usr/local/lib/python3.7/dist-packages (from google-auth<2,>=1.6.3->tensorboard>=1.15->joeynmt==1.3) (4.7.2)\n",
            "Requirement already satisfied: pyasn1-modules>=0.2.1 in /usr/local/lib/python3.7/dist-packages (from google-auth<2,>=1.6.3->tensorboard>=1.15->joeynmt==1.3) (0.2.8)\n",
            "Requirement already satisfied: cachetools<5.0,>=2.0.0 in /usr/local/lib/python3.7/dist-packages (from google-auth<2,>=1.6.3->tensorboard>=1.15->joeynmt==1.3) (4.2.4)\n",
            "Requirement already satisfied: requests-oauthlib>=0.7.0 in /usr/local/lib/python3.7/dist-packages (from google-auth-oauthlib<0.5,>=0.4.1->tensorboard>=1.15->joeynmt==1.3) (1.3.0)\n",
            "Requirement already satisfied: importlib-metadata in /usr/local/lib/python3.7/dist-packages (from markdown>=2.6.8->tensorboard>=1.15->joeynmt==1.3) (4.8.1)\n",
            "Requirement already satisfied: pyasn1<0.5.0,>=0.4.6 in /usr/local/lib/python3.7/dist-packages (from pyasn1-modules>=0.2.1->google-auth<2,>=1.6.3->tensorboard>=1.15->joeynmt==1.3) (0.4.8)\n",
            "Requirement already satisfied: idna<3,>=2.5 in /usr/local/lib/python3.7/dist-packages (from requests<3,>=2.21.0->tensorboard>=1.15->joeynmt==1.3) (2.10)\n",
            "Requirement already satisfied: urllib3!=1.25.0,!=1.25.1,<1.26,>=1.21.1 in /usr/local/lib/python3.7/dist-packages (from requests<3,>=2.21.0->tensorboard>=1.15->joeynmt==1.3) (1.24.3)\n",
            "Requirement already satisfied: chardet<4,>=3.0.2 in /usr/local/lib/python3.7/dist-packages (from requests<3,>=2.21.0->tensorboard>=1.15->joeynmt==1.3) (3.0.4)\n",
            "Requirement already satisfied: certifi>=2017.4.17 in /usr/local/lib/python3.7/dist-packages (from requests<3,>=2.21.0->tensorboard>=1.15->joeynmt==1.3) (2021.5.30)\n",
            "Requirement already satisfied: oauthlib>=3.0.0 in /usr/local/lib/python3.7/dist-packages (from requests-oauthlib>=0.7.0->google-auth-oauthlib<0.5,>=0.4.1->tensorboard>=1.15->joeynmt==1.3) (3.1.1)\n",
            "Requirement already satisfied: tqdm in /usr/local/lib/python3.7/dist-packages (from torchtext>=0.10.0->joeynmt==1.3) (4.62.3)\n",
            "Requirement already satisfied: zipp>=0.5 in /usr/local/lib/python3.7/dist-packages (from importlib-metadata->markdown>=2.6.8->tensorboard>=1.15->joeynmt==1.3) (3.6.0)\n",
            "Requirement already satisfied: pyparsing!=2.0.4,!=2.1.2,!=2.1.6,>=2.0.1 in /usr/local/lib/python3.7/dist-packages (from matplotlib->joeynmt==1.3) (2.4.7)\n",
            "Requirement already satisfied: kiwisolver>=1.0.1 in /usr/local/lib/python3.7/dist-packages (from matplotlib->joeynmt==1.3) (1.3.2)\n",
            "Requirement already satisfied: cycler>=0.10 in /usr/local/lib/python3.7/dist-packages (from matplotlib->joeynmt==1.3) (0.10.0)\n",
            "Requirement already satisfied: python-dateutil>=2.1 in /usr/local/lib/python3.7/dist-packages (from matplotlib->joeynmt==1.3) (2.8.2)\n",
            "Requirement already satisfied: scipy>=1.0 in /usr/local/lib/python3.7/dist-packages (from seaborn->joeynmt==1.3) (1.4.1)\n",
            "Requirement already satisfied: pandas>=0.23 in /usr/local/lib/python3.7/dist-packages (from seaborn->joeynmt==1.3) (1.1.5)\n",
            "Requirement already satisfied: pytz>=2017.2 in /usr/local/lib/python3.7/dist-packages (from pandas>=0.23->seaborn->joeynmt==1.3) (2018.9)\n",
            "Building wheels for collected packages: joeynmt, wrapt\n",
            "  Building wheel for joeynmt (setup.py) ... \u001b[?25l\u001b[?25hdone\n",
            "  Created wheel for joeynmt: filename=joeynmt-1.3-py3-none-any.whl size=86029 sha256=f3f3e7e59fef559bb18c88880bdec3f2e8042e1d8edf6c7fdd57ba032f62188a\n",
            "  Stored in directory: /tmp/pip-ephem-wheel-cache-4jeb8scw/wheels/0a/f4/bf/6c9d3b8efbfece6cd209f865be37382b02e7c3584df2e28ca4\n",
            "  Building wheel for wrapt (setup.py) ... \u001b[?25l\u001b[?25hdone\n",
            "  Created wheel for wrapt: filename=wrapt-1.11.1-cp37-cp37m-linux_x86_64.whl size=68430 sha256=3be5fd3d85c619aa36ec021b3738d4014f46994e5a38b842656e8d4db67f9a83\n",
            "  Stored in directory: /root/.cache/pip/wheels/4e/58/9d/da8bad4545585ca52311498ff677647c95c7b690b3040171f8\n",
            "Successfully built joeynmt wrapt\n",
            "Installing collected packages: typing-extensions, six, wrapt, typed-ast, lazy-object-proxy, portalocker, platformdirs, mccabe, isort, colorama, astroid, subword-nmt, sacrebleu, pyyaml, pylint, joeynmt\n",
            "  Attempting uninstall: typing-extensions\n",
            "    Found existing installation: typing-extensions 3.7.4.3\n",
            "    Uninstalling typing-extensions-3.7.4.3:\n",
            "      Successfully uninstalled typing-extensions-3.7.4.3\n",
            "  Attempting uninstall: six\n",
            "    Found existing installation: six 1.15.0\n",
            "    Uninstalling six-1.15.0:\n",
            "      Successfully uninstalled six-1.15.0\n",
            "  Attempting uninstall: wrapt\n",
            "    Found existing installation: wrapt 1.12.1\n",
            "    Uninstalling wrapt-1.12.1:\n",
            "      Successfully uninstalled wrapt-1.12.1\n",
            "  Attempting uninstall: pyyaml\n",
            "    Found existing installation: PyYAML 3.13\n",
            "    Uninstalling PyYAML-3.13:\n",
            "      Successfully uninstalled PyYAML-3.13\n",
            "\u001b[31mERROR: pip's dependency resolver does not currently take into account all the packages that are installed. This behaviour is the source of the following dependency conflicts.\n",
            "tensorflow 2.6.0 requires six~=1.15.0, but you have six 1.12.0 which is incompatible.\n",
            "tensorflow 2.6.0 requires typing-extensions~=3.7.4, but you have typing-extensions 3.10.0.2 which is incompatible.\n",
            "tensorflow 2.6.0 requires wrapt~=1.12.1, but you have wrapt 1.11.1 which is incompatible.\n",
            "google-colab 1.0.0 requires six~=1.15.0, but you have six 1.12.0 which is incompatible.\n",
            "google-api-python-client 1.12.8 requires six<2dev,>=1.13.0, but you have six 1.12.0 which is incompatible.\n",
            "google-api-core 1.26.3 requires six>=1.13.0, but you have six 1.12.0 which is incompatible.\n",
            "datascience 0.10.6 requires folium==0.2.1, but you have folium 0.8.3 which is incompatible.\n",
            "albumentations 0.1.12 requires imgaug<0.2.7,>=0.2.5, but you have imgaug 0.2.9 which is incompatible.\u001b[0m\n",
            "Successfully installed astroid-2.8.2 colorama-0.4.4 isort-5.9.3 joeynmt-1.3 lazy-object-proxy-1.6.0 mccabe-0.6.1 platformdirs-2.4.0 portalocker-2.3.2 pylint-2.11.1 pyyaml-5.4.1 sacrebleu-2.0.0 six-1.12.0 subword-nmt-0.3.7 typed-ast-1.4.3 typing-extensions-3.10.0.2 wrapt-1.11.1\n",
            "Looking in links: https://download.pytorch.org/whl/torch_stable.html\n",
            "Collecting torch==1.9.0+cu102\n",
            "  Downloading https://download.pytorch.org/whl/cu102/torch-1.9.0%2Bcu102-cp37-cp37m-linux_x86_64.whl (831.4 MB)\n",
            "\u001b[K     |████████████████████████████████| 831.4 MB 2.9 kB/s \n",
            "\u001b[?25hRequirement already satisfied: typing-extensions in /usr/local/lib/python3.7/dist-packages (from torch==1.9.0+cu102) (3.10.0.2)\n",
            "Installing collected packages: torch\n",
            "  Attempting uninstall: torch\n",
            "    Found existing installation: torch 1.9.0+cu111\n",
            "    Uninstalling torch-1.9.0+cu111:\n",
            "      Successfully uninstalled torch-1.9.0+cu111\n",
            "Successfully installed torch-1.9.0+cu102\n"
          ]
        }
      ]
    },
    {
      "cell_type": "markdown",
      "metadata": {
        "id": "AaE77Tcppex9"
      },
      "source": [
        "# Preprocessing the Data into Subword BPE Tokens\n",
        "\n",
        "- One of the most powerful improvements for agglutinative languages (a feature of most Bantu languages) is using BPE tokenization [ (Sennrich, 2015) ](https://arxiv.org/abs/1508.07909).\n",
        "\n",
        "- It was also shown that by optimizing the umber of BPE codes we significantly improve results for low-resourced languages [(Sennrich, 2019)](https://www.aclweb.org/anthology/P19-1021) [(Martinus, 2019)](https://arxiv.org/abs/1906.05685)\n",
        "\n",
        "- Below we have the scripts for doing BPE tokenization of our data. We use 4000 tokens as recommended by [(Sennrich, 2019)](https://www.aclweb.org/anthology/P19-1021). You do not need to change anything. Simply running the below will be suitable. "
      ]
    },
    {
      "cell_type": "code",
      "metadata": {
        "colab": {
          "base_uri": "https://localhost:8080/"
        },
        "id": "H-TyjtmXB1mL",
        "outputId": "4c82a66d-1db6-440b-ce71-629cc609fd67"
      },
      "source": [
        "# One of the huge boosts in NMT performance was to use a different method of tokenizing. \n",
        "# Usually, NMT would tokenize by words. However, using a method called BPE gave amazing boosts to performance\n",
        "\n",
        "# Do subword NMT\n",
        "from os import path\n",
        "os.environ[\"src\"] = source_language # Sets them in bash as well, since we often use bash scripts\n",
        "os.environ[\"tgt\"] = target_language\n",
        "\n",
        "# Learn BPEs on the training data.\n",
        "os.environ[\"data_path\"] = path.join(\"joeynmt\", \"data\",target_language + source_language ) # Herman! \n",
        "! subword-nmt learn-joint-bpe-and-vocab --input train.$src train.$tgt -s 4000 -o bpe.codes.4000 --write-vocabulary vocab.$src vocab.$tgt\n",
        "\n",
        "# Apply BPE splits to the development and test data.\n",
        "! subword-nmt apply-bpe -c bpe.codes.4000 --vocabulary vocab.$src < train.$src > train.bpe.$src\n",
        "! subword-nmt apply-bpe -c bpe.codes.4000 --vocabulary vocab.$tgt < train.$tgt > train.bpe.$tgt\n",
        "\n",
        "! subword-nmt apply-bpe -c bpe.codes.4000 --vocabulary vocab.$src < dev.$src > dev.bpe.$src\n",
        "! subword-nmt apply-bpe -c bpe.codes.4000 --vocabulary vocab.$tgt < dev.$tgt > dev.bpe.$tgt\n",
        "! subword-nmt apply-bpe -c bpe.codes.4000 --vocabulary vocab.$src < test.$src > test.bpe.$src\n",
        "! subword-nmt apply-bpe -c bpe.codes.4000 --vocabulary vocab.$tgt < test.$tgt > test.bpe.$tgt\n",
        "\n",
        "# Create directory, move everyone we care about to the correct location\n",
        "! mkdir -p $data_path\n",
        "! cp train.* $data_path\n",
        "! cp test.* $data_path\n",
        "! cp dev.* $data_path\n",
        "! cp bpe.codes.4000 $data_path\n",
        "! ls $data_path\n",
        "\n",
        "# Also move everything we care about to a mounted location in google drive (relevant if running in colab) at gdrive_path\n",
        "! cp train.* \"$gdrive_path\"\n",
        "! cp test.* \"$gdrive_path\"\n",
        "! cp dev.* \"$gdrive_path\"\n",
        "! cp bpe.codes.4000 \"$gdrive_path\"\n",
        "! ls \"$gdrive_path\"\n",
        "\n",
        "# Create that vocab using build_vocab\n",
        "! sudo chmod 777 joeynmt/scripts/build_vocab.py\n",
        "! joeynmt/scripts/build_vocab.py joeynmt/data/$tgt$src/train.bpe.$src joeynmt/data/$tgt$src/train.bpe.$tgt --output_path joeynmt/data/$tgt$src/vocab.txt\n",
        "\n",
        "# Some output\n",
        "! echo \"BPE Swahili Sentences\"\n",
        "! tail -n 5 test.bpe.$tgt\n",
        "! echo \"Combined BPE Vocab\"\n",
        "! tail -n 10 joeynmt/data/$tgt$src/vocab.txt  # Herman"
      ],
      "execution_count": 14,
      "outputs": [
        {
          "output_type": "stream",
          "name": "stdout",
          "text": [
            "bpe.codes.4000\tdev.en\t     test.bpe.pcm    test.pcm\t    train.en\n",
            "dev.bpe.en\tdev.pcm      test.en\t     train.bpe.en   train.pcm\n",
            "dev.bpe.pcm\ttest.bpe.en  test.en-any.en  train.bpe.pcm\n",
            "bpe.codes.4000\tdev.pcm       test.en\t\ttest.pcm       train.pcm\n",
            "dev.bpe.en\tmodels\t      test.en-any.en\ttrain.bpe.en\n",
            "dev.bpe.pcm\ttest.bpe.en   test.en-any.en.1\ttrain.bpe.pcm\n",
            "dev.en\t\ttest.bpe.pcm  test.en-any.en.2\ttrain.en\n",
            "BPE Swahili Sentences\n",
            "( b ) Wetin you go get for mind sey you no go do ?\n",
            "book . “ Na wetin I learn for Proverbs 27 : ​ 11 , Matthew 26 : ​ 52 , and John 13 : ​ 35 , give me mind wey mek I no join army .\n",
            "And even when the wahala come , na wetin dey for this Bible verse dem , still help me fit bear the wahala . ” ​ — An@@ dri@@ y , wey come from U@@ k@@ ra@@ ine .\n",
            "“ Na wetin dey Isaiah 2 : 4 help me mek I no follow fight war , even when dem want mek I join .\n",
            "I just dey think for my mind how trouble no go dey the new world .\n",
            "Combined BPE Vocab\n",
            "spee@@\n",
            "Colossi@@\n",
            "q\n",
            "prep@@\n",
            "ʼ@@\n",
            "tivity\n",
            "Contin@@\n",
            "Timo@@\n",
            "onomy\n",
            "neigh@@\n"
          ]
        }
      ]
    },
    {
      "cell_type": "code",
      "metadata": {
        "colab": {
          "base_uri": "https://localhost:8080/"
        },
        "id": "IlMitUHR8Qy-",
        "outputId": "b3a01af1-1a03-4a5f-c3b5-9bb2a428c9a4"
      },
      "source": [
        "# Also move everything we care about to a mounted location in google drive (relevant if running in colab) at gdrive_path\n",
        "! cp train.* \"$gdrive_path\"\n",
        "! cp test.* \"$gdrive_path\"\n",
        "! cp dev.* \"$gdrive_path\"\n",
        "! cp bpe.codes.4000 \"$gdrive_path\"\n",
        "! ls \"$gdrive_path\""
      ],
      "execution_count": 15,
      "outputs": [
        {
          "output_type": "stream",
          "name": "stdout",
          "text": [
            "bpe.codes.4000\tdev.pcm       test.en\t\ttest.pcm       train.pcm\n",
            "dev.bpe.en\tmodels\t      test.en-any.en\ttrain.bpe.en\n",
            "dev.bpe.pcm\ttest.bpe.en   test.en-any.en.1\ttrain.bpe.pcm\n",
            "dev.en\t\ttest.bpe.pcm  test.en-any.en.2\ttrain.en\n"
          ]
        }
      ]
    },
    {
      "cell_type": "markdown",
      "metadata": {
        "id": "Ixmzi60WsUZ8"
      },
      "source": [
        "# Creating the JoeyNMT Config\n",
        "\n",
        "JoeyNMT requires a yaml config. We provide a template below. We've also set a number of defaults with it, that you may play with!\n",
        "\n",
        "- We used Transformer architecture \n",
        "- We set our dropout to reasonably high: 0.3 (recommended in  [(Sennrich, 2019)](https://www.aclweb.org/anthology/P19-1021))\n",
        "\n",
        "Things worth playing with:\n",
        "- The batch size (also recommended to change for low-resourced languages)\n",
        "- The number of epochs (we've set it at 30 just so it runs in about an hour, for testing purposes)\n",
        "- The decoder options (beam_size, alpha)\n",
        "- Evaluation metrics (BLEU versus Crhf4)"
      ]
    },
    {
      "cell_type": "code",
      "metadata": {
        "id": "h8TMgv1p3L1z"
      },
      "source": [
        "# This creates the config file for our JoeyNMT system. It might seem overwhelming so we've provided a couple of useful parameters you'll need to update\n",
        "# (You can of course play with all the parameters if you'd like!)\n",
        "\n",
        "name = '%s%s' % (target_language, source_language)\n",
        "# gdrive_path = os.environ[\"gdrive_path\"]\n",
        "\n",
        "# Create the config\n",
        "config = \"\"\"\n",
        "name: \"{target_language}{source_language}_reverse_transformer\"\n",
        "\n",
        "data:\n",
        "    src: \"{target_language}\"\n",
        "    trg: \"{source_language}\"\n",
        "    train: \"data/{name}/train.bpe\"\n",
        "    dev:   \"data/{name}/dev.bpe\"\n",
        "    test:  \"data/{name}/test.bpe\"\n",
        "    level: \"bpe\"\n",
        "    lowercase: False\n",
        "    max_sent_length: 100\n",
        "    src_vocab: \"data/{name}/vocab.txt\"\n",
        "    trg_vocab: \"data/{name}/vocab.txt\"\n",
        "\n",
        "testing:\n",
        "    beam_size: 5\n",
        "    alpha: 1.0\n",
        "\n",
        "training:\n",
        "    load_model: \"{gdrive_path}/models/{name}_reverse_transformer/latest.ckpt\" # if uncommented, load a pre-trained model from this checkpoint\n",
        "    random_seed: 42\n",
        "    optimizer: \"adam\"\n",
        "    normalization: \"tokens\"\n",
        "    adam_betas: [0.9, 0.999] \n",
        "    scheduling: \"plateau\"           # TODO: try switching from plateau to Noam scheduling\n",
        "    patience: 5                     # For plateau: decrease learning rate by decrease_factor if validation score has not improved for this many validation rounds.\n",
        "    learning_rate_factor: 0.5       # factor for Noam scheduler (used with Transformer)\n",
        "    learning_rate_warmup: 1000      # warmup steps for Noam scheduler (used with Transformer)\n",
        "    decrease_factor: 0.7\n",
        "    loss: \"crossentropy\"\n",
        "    learning_rate: 0.0003\n",
        "    learning_rate_min: 0.00000001\n",
        "    weight_decay: 0.0\n",
        "    label_smoothing: 0.1\n",
        "    batch_size: 4096\n",
        "    batch_type: \"token\"\n",
        "    eval_batch_size: 3600\n",
        "    eval_batch_type: \"token\"\n",
        "    batch_multiplier: 1\n",
        "    early_stopping_metric: \"ppl\"\n",
        "    epochs: 5                  # TODO: Decrease for when playing around and checking of working. Around 30 is sufficient to check if its working at all\n",
        "    validation_freq: 1000          # TODO: Set to at least once per epoch.\n",
        "    logging_freq: 100\n",
        "    eval_metric: \"bleu\"\n",
        "    model_dir: \"models/{name}_reverse_transformer\"\n",
        "    overwrite: True              # TODO: Set to True if you want to overwrite possibly existing models. \n",
        "    shuffle: True\n",
        "    use_cuda: True\n",
        "    max_output_length: 100\n",
        "    print_valid_sents: [0, 1, 2, 3]\n",
        "    keep_last_ckpts: 3\n",
        "\n",
        "model:\n",
        "    initializer: \"xavier\"\n",
        "    bias_initializer: \"zeros\"\n",
        "    init_gain: 1.0\n",
        "    embed_initializer: \"xavier\"\n",
        "    embed_init_gain: 1.0\n",
        "    tied_embeddings: True\n",
        "    tied_softmax: True\n",
        "    encoder:\n",
        "        type: \"transformer\"\n",
        "        num_layers: 6\n",
        "        num_heads: 4             # TODO: Increase to 8 for larger data.\n",
        "        embeddings:\n",
        "            embedding_dim: 256   # TODO: Increase to 512 for larger data.\n",
        "            scale: True\n",
        "            dropout: 0.2\n",
        "        # typically ff_size = 4 x hidden_size\n",
        "        hidden_size: 256         # TODO: Increase to 512 for larger data.\n",
        "        ff_size: 1024            # TODO: Increase to 2048 for larger data.\n",
        "        dropout: 0.3\n",
        "    decoder:\n",
        "        type: \"transformer\"\n",
        "        num_layers: 6\n",
        "        num_heads: 4              # TODO: Increase to 8 for larger data.\n",
        "        embeddings:\n",
        "            embedding_dim: 256    # TODO: Increase to 512 for larger data.\n",
        "            scale: True\n",
        "            dropout: 0.2\n",
        "        # typically ff_size = 4 x hidden_size\n",
        "        hidden_size: 256         # TODO: Increase to 512 for larger data.\n",
        "        ff_size: 1024            # TODO: Increase to 2048 for larger data.\n",
        "        dropout: 0.3\n",
        "\"\"\".format(name=name, gdrive_path=os.environ[\"gdrive_path\"], source_language=source_language, target_language=target_language)\n",
        "with open(\"joeynmt/configs/transformer_reverse_{name}.yaml\".format(name=name),'w') as f:\n",
        "    f.write(config)"
      ],
      "execution_count": 21,
      "outputs": []
    },
    {
      "cell_type": "markdown",
      "metadata": {
        "id": "oEzoJtV2MIpt"
      },
      "source": [
        "# Train the Model\n",
        "\n",
        "This single line of joeynmt runs the training using the config we made above"
      ]
    },
    {
      "cell_type": "code",
      "metadata": {
        "colab": {
          "base_uri": "https://localhost:8080/"
        },
        "id": "WzbNYNdjLgNb",
        "outputId": "69856612-d030-4f02-825c-2309f4ff2f24"
      },
      "source": [
        "# Train the model\n",
        "# You can press Ctrl-C to stop. And then run the next cell to save your checkpoints! \n",
        "!cd joeynmt; python3 -m joeynmt train configs/transformer_reverse_$tgt$src.yaml"
      ],
      "execution_count": 22,
      "outputs": [
        {
          "output_type": "stream",
          "name": "stdout",
          "text": [
            "2021-10-10 17:22:25,561 - INFO - root - Hello! This is Joey-NMT (version 1.3).\n",
            "2021-10-10 17:22:25,590 - INFO - joeynmt.data - Loading training data...\n",
            "2021-10-10 17:22:25,853 - INFO - joeynmt.data - Building vocabulary...\n",
            "2021-10-10 17:22:26,117 - INFO - joeynmt.data - Loading dev data...\n",
            "2021-10-10 17:22:26,128 - INFO - joeynmt.data - Loading test data...\n",
            "2021-10-10 17:22:26,148 - INFO - joeynmt.data - Data loaded.\n",
            "2021-10-10 17:22:26,148 - INFO - joeynmt.model - Building an encoder-decoder model...\n",
            "2021-10-10 17:22:26,398 - INFO - joeynmt.model - Enc-dec model built.\n",
            "2021-10-10 17:22:28,026 - INFO - joeynmt.training - Total params: 12099072\n",
            "2021-10-10 17:22:28,029 - WARNING - joeynmt.training - `keep_last_ckpts` option is outdated. Please use `keep_best_ckpts`, instead.\n",
            "2021-10-10 17:22:30,134 - INFO - joeynmt.training - Loading model from /content/drive/My Drive/masakhane/pcm-en-baseline/models/pcmen_reverse_transformer/latest.ckpt\n",
            "2021-10-10 17:22:30,666 - INFO - joeynmt.helpers - cfg.name                           : pcmen_reverse_transformer\n",
            "2021-10-10 17:22:30,666 - INFO - joeynmt.helpers - cfg.data.src                       : pcm\n",
            "2021-10-10 17:22:30,666 - INFO - joeynmt.helpers - cfg.data.trg                       : en\n",
            "2021-10-10 17:22:30,667 - INFO - joeynmt.helpers - cfg.data.train                     : data/pcmen/train.bpe\n",
            "2021-10-10 17:22:30,667 - INFO - joeynmt.helpers - cfg.data.dev                       : data/pcmen/dev.bpe\n",
            "2021-10-10 17:22:30,667 - INFO - joeynmt.helpers - cfg.data.test                      : data/pcmen/test.bpe\n",
            "2021-10-10 17:22:30,667 - INFO - joeynmt.helpers - cfg.data.level                     : bpe\n",
            "2021-10-10 17:22:30,667 - INFO - joeynmt.helpers - cfg.data.lowercase                 : False\n",
            "2021-10-10 17:22:30,667 - INFO - joeynmt.helpers - cfg.data.max_sent_length           : 100\n",
            "2021-10-10 17:22:30,667 - INFO - joeynmt.helpers - cfg.data.src_vocab                 : data/pcmen/vocab.txt\n",
            "2021-10-10 17:22:30,667 - INFO - joeynmt.helpers - cfg.data.trg_vocab                 : data/pcmen/vocab.txt\n",
            "2021-10-10 17:22:30,667 - INFO - joeynmt.helpers - cfg.testing.beam_size              : 5\n",
            "2021-10-10 17:22:30,667 - INFO - joeynmt.helpers - cfg.testing.alpha                  : 1.0\n",
            "2021-10-10 17:22:30,668 - INFO - joeynmt.helpers - cfg.training.load_model            : /content/drive/My Drive/masakhane/pcm-en-baseline/models/pcmen_reverse_transformer/latest.ckpt\n",
            "2021-10-10 17:22:30,668 - INFO - joeynmt.helpers - cfg.training.random_seed           : 42\n",
            "2021-10-10 17:22:30,668 - INFO - joeynmt.helpers - cfg.training.optimizer             : adam\n",
            "2021-10-10 17:22:30,668 - INFO - joeynmt.helpers - cfg.training.normalization         : tokens\n",
            "2021-10-10 17:22:30,668 - INFO - joeynmt.helpers - cfg.training.adam_betas            : [0.9, 0.999]\n",
            "2021-10-10 17:22:30,668 - INFO - joeynmt.helpers - cfg.training.scheduling            : plateau\n",
            "2021-10-10 17:22:30,668 - INFO - joeynmt.helpers - cfg.training.patience              : 5\n",
            "2021-10-10 17:22:30,668 - INFO - joeynmt.helpers - cfg.training.learning_rate_factor  : 0.5\n",
            "2021-10-10 17:22:30,669 - INFO - joeynmt.helpers - cfg.training.learning_rate_warmup  : 1000\n",
            "2021-10-10 17:22:30,669 - INFO - joeynmt.helpers - cfg.training.decrease_factor       : 0.7\n",
            "2021-10-10 17:22:30,669 - INFO - joeynmt.helpers - cfg.training.loss                  : crossentropy\n",
            "2021-10-10 17:22:30,669 - INFO - joeynmt.helpers - cfg.training.learning_rate         : 0.0003\n",
            "2021-10-10 17:22:30,669 - INFO - joeynmt.helpers - cfg.training.learning_rate_min     : 1e-08\n",
            "2021-10-10 17:22:30,669 - INFO - joeynmt.helpers - cfg.training.weight_decay          : 0.0\n",
            "2021-10-10 17:22:30,669 - INFO - joeynmt.helpers - cfg.training.label_smoothing       : 0.1\n",
            "2021-10-10 17:22:30,669 - INFO - joeynmt.helpers - cfg.training.batch_size            : 4096\n",
            "2021-10-10 17:22:30,669 - INFO - joeynmt.helpers - cfg.training.batch_type            : token\n",
            "2021-10-10 17:22:30,670 - INFO - joeynmt.helpers - cfg.training.eval_batch_size       : 3600\n",
            "2021-10-10 17:22:30,670 - INFO - joeynmt.helpers - cfg.training.eval_batch_type       : token\n",
            "2021-10-10 17:22:30,670 - INFO - joeynmt.helpers - cfg.training.batch_multiplier      : 1\n",
            "2021-10-10 17:22:30,670 - INFO - joeynmt.helpers - cfg.training.early_stopping_metric : ppl\n",
            "2021-10-10 17:22:30,670 - INFO - joeynmt.helpers - cfg.training.epochs                : 5\n",
            "2021-10-10 17:22:30,670 - INFO - joeynmt.helpers - cfg.training.validation_freq       : 1000\n",
            "2021-10-10 17:22:30,670 - INFO - joeynmt.helpers - cfg.training.logging_freq          : 100\n",
            "2021-10-10 17:22:30,670 - INFO - joeynmt.helpers - cfg.training.eval_metric           : bleu\n",
            "2021-10-10 17:22:30,670 - INFO - joeynmt.helpers - cfg.training.model_dir             : models/pcmen_reverse_transformer\n",
            "2021-10-10 17:22:30,671 - INFO - joeynmt.helpers - cfg.training.overwrite             : True\n",
            "2021-10-10 17:22:30,671 - INFO - joeynmt.helpers - cfg.training.shuffle               : True\n",
            "2021-10-10 17:22:30,671 - INFO - joeynmt.helpers - cfg.training.use_cuda              : True\n",
            "2021-10-10 17:22:30,671 - INFO - joeynmt.helpers - cfg.training.max_output_length     : 100\n",
            "2021-10-10 17:22:30,671 - INFO - joeynmt.helpers - cfg.training.print_valid_sents     : [0, 1, 2, 3]\n",
            "2021-10-10 17:22:30,671 - INFO - joeynmt.helpers - cfg.training.keep_last_ckpts       : 3\n",
            "2021-10-10 17:22:30,671 - INFO - joeynmt.helpers - cfg.model.initializer              : xavier\n",
            "2021-10-10 17:22:30,671 - INFO - joeynmt.helpers - cfg.model.bias_initializer         : zeros\n",
            "2021-10-10 17:22:30,671 - INFO - joeynmt.helpers - cfg.model.init_gain                : 1.0\n",
            "2021-10-10 17:22:30,672 - INFO - joeynmt.helpers - cfg.model.embed_initializer        : xavier\n",
            "2021-10-10 17:22:30,672 - INFO - joeynmt.helpers - cfg.model.embed_init_gain          : 1.0\n",
            "2021-10-10 17:22:30,672 - INFO - joeynmt.helpers - cfg.model.tied_embeddings          : True\n",
            "2021-10-10 17:22:30,672 - INFO - joeynmt.helpers - cfg.model.tied_softmax             : True\n",
            "2021-10-10 17:22:30,672 - INFO - joeynmt.helpers - cfg.model.encoder.type             : transformer\n",
            "2021-10-10 17:22:30,672 - INFO - joeynmt.helpers - cfg.model.encoder.num_layers       : 6\n",
            "2021-10-10 17:22:30,672 - INFO - joeynmt.helpers - cfg.model.encoder.num_heads        : 4\n",
            "2021-10-10 17:22:30,672 - INFO - joeynmt.helpers - cfg.model.encoder.embeddings.embedding_dim : 256\n",
            "2021-10-10 17:22:30,672 - INFO - joeynmt.helpers - cfg.model.encoder.embeddings.scale : True\n",
            "2021-10-10 17:22:30,673 - INFO - joeynmt.helpers - cfg.model.encoder.embeddings.dropout : 0.2\n",
            "2021-10-10 17:22:30,673 - INFO - joeynmt.helpers - cfg.model.encoder.hidden_size      : 256\n",
            "2021-10-10 17:22:30,673 - INFO - joeynmt.helpers - cfg.model.encoder.ff_size          : 1024\n",
            "2021-10-10 17:22:30,673 - INFO - joeynmt.helpers - cfg.model.encoder.dropout          : 0.3\n",
            "2021-10-10 17:22:30,673 - INFO - joeynmt.helpers - cfg.model.decoder.type             : transformer\n",
            "2021-10-10 17:22:30,673 - INFO - joeynmt.helpers - cfg.model.decoder.num_layers       : 6\n",
            "2021-10-10 17:22:30,673 - INFO - joeynmt.helpers - cfg.model.decoder.num_heads        : 4\n",
            "2021-10-10 17:22:30,673 - INFO - joeynmt.helpers - cfg.model.decoder.embeddings.embedding_dim : 256\n",
            "2021-10-10 17:22:30,673 - INFO - joeynmt.helpers - cfg.model.decoder.embeddings.scale : True\n",
            "2021-10-10 17:22:30,673 - INFO - joeynmt.helpers - cfg.model.decoder.embeddings.dropout : 0.2\n",
            "2021-10-10 17:22:30,674 - INFO - joeynmt.helpers - cfg.model.decoder.hidden_size      : 256\n",
            "2021-10-10 17:22:30,674 - INFO - joeynmt.helpers - cfg.model.decoder.ff_size          : 1024\n",
            "2021-10-10 17:22:30,674 - INFO - joeynmt.helpers - cfg.model.decoder.dropout          : 0.3\n",
            "2021-10-10 17:22:30,674 - INFO - joeynmt.helpers - Data set sizes: \n",
            "\ttrain 20886,\n",
            "\tvalid 1000,\n",
            "\ttest 2101\n",
            "2021-10-10 17:22:30,674 - INFO - joeynmt.helpers - First training example:\n",
            "\t[SRC] And this time , dem adver@@ ti@@ se im talk for new@@ sp@@ ap@@ er for B@@ el@@ fast and D@@ u@@ bl@@ in . Brother Russell sey the people listen well well to im talk about the faith wey Abraham get and the blessing wey human being go get for front .\n",
            "\t[TRG] Russell re@@ coun@@ ted that the “ au@@ di@@ ences were very atten@@ tive ” to the sub@@ ject “ The O@@ a@@ th@@ -@@ B@@ ound Promi@@ se ” about Abraham ’ s faith and the future blessings for mankind .\n",
            "2021-10-10 17:22:30,674 - INFO - joeynmt.helpers - First 10 words (src): (0) <unk> (1) <pad> (2) <s> (3) </s> (4) . (5) , (6) the (7) to (8) dey (9) and\n",
            "2021-10-10 17:22:30,674 - INFO - joeynmt.helpers - First 10 words (trg): (0) <unk> (1) <pad> (2) <s> (3) </s> (4) . (5) , (6) the (7) to (8) dey (9) and\n",
            "2021-10-10 17:22:30,674 - INFO - joeynmt.helpers - Number of Src words (types): 4058\n",
            "2021-10-10 17:22:30,674 - INFO - joeynmt.helpers - Number of Trg words (types): 4058\n",
            "2021-10-10 17:22:30,675 - INFO - joeynmt.training - Model(\n",
            "\tencoder=TransformerEncoder(num_layers=6, num_heads=4),\n",
            "\tdecoder=TransformerDecoder(num_layers=6, num_heads=4),\n",
            "\tsrc_embed=Embeddings(embedding_dim=256, vocab_size=4058),\n",
            "\ttrg_embed=Embeddings(embedding_dim=256, vocab_size=4058))\n",
            "2021-10-10 17:22:30,679 - INFO - joeynmt.training - Train stats:\n",
            "\tdevice: cuda\n",
            "\tn_gpu: 1\n",
            "\t16-bits training: False\n",
            "\tgradient accumulation: 1\n",
            "\tbatch size per device: 4096\n",
            "\ttotal batch size (w. parallel & accumulation): 4096\n",
            "2021-10-10 17:22:30,679 - INFO - joeynmt.training - EPOCH 1\n",
            "2021-10-10 17:23:05,123 - INFO - joeynmt.training - Epoch   1, Step:    31100, Batch Loss:     1.765680, Tokens per Sec:     4103, Lr: 0.000210\n",
            "2021-10-10 17:23:15,869 - INFO - joeynmt.training - Epoch   1: total training loss 228.81\n",
            "2021-10-10 17:23:15,869 - INFO - joeynmt.training - EPOCH 2\n",
            "2021-10-10 17:23:39,287 - INFO - joeynmt.training - Epoch   2, Step:    31200, Batch Loss:     1.504019, Tokens per Sec:     4125, Lr: 0.000210\n",
            "2021-10-10 17:24:13,718 - INFO - joeynmt.training - Epoch   2, Step:    31300, Batch Loss:     1.689661, Tokens per Sec:     4174, Lr: 0.000210\n",
            "2021-10-10 17:24:48,203 - INFO - joeynmt.training - Epoch   2, Step:    31400, Batch Loss:     1.690109, Tokens per Sec:     4178, Lr: 0.000210\n",
            "2021-10-10 17:25:18,058 - INFO - joeynmt.training - Epoch   2: total training loss 596.06\n",
            "2021-10-10 17:25:18,059 - INFO - joeynmt.training - EPOCH 3\n",
            "2021-10-10 17:25:22,593 - INFO - joeynmt.training - Epoch   3, Step:    31500, Batch Loss:     1.656726, Tokens per Sec:     4366, Lr: 0.000210\n",
            "2021-10-10 17:25:57,105 - INFO - joeynmt.training - Epoch   3, Step:    31600, Batch Loss:     1.560672, Tokens per Sec:     4094, Lr: 0.000210\n",
            "2021-10-10 17:26:31,751 - INFO - joeynmt.training - Epoch   3, Step:    31700, Batch Loss:     1.722423, Tokens per Sec:     4196, Lr: 0.000210\n",
            "2021-10-10 17:27:06,183 - INFO - joeynmt.training - Epoch   3, Step:    31800, Batch Loss:     1.702107, Tokens per Sec:     4032, Lr: 0.000210\n",
            "2021-10-10 17:27:19,938 - INFO - joeynmt.training - Epoch   3: total training loss 588.25\n",
            "2021-10-10 17:27:19,939 - INFO - joeynmt.training - EPOCH 4\n",
            "2021-10-10 17:27:40,525 - INFO - joeynmt.training - Epoch   4, Step:    31900, Batch Loss:     1.637444, Tokens per Sec:     4093, Lr: 0.000210\n",
            "2021-10-10 17:28:15,330 - INFO - joeynmt.training - Epoch   4, Step:    32000, Batch Loss:     1.759403, Tokens per Sec:     4141, Lr: 0.000210\n",
            "2021-10-10 17:28:53,769 - WARNING - sacrebleu - That's 100 lines that end in a tokenized period ('.')\n",
            "2021-10-10 17:28:53,769 - WARNING - sacrebleu - It looks like you forgot to detokenize your test data, which may hurt your score.\n",
            "2021-10-10 17:28:53,769 - WARNING - sacrebleu - If you insist your data is detokenized, or don't care, you can suppress this message with the `force` parameter.\n",
            "2021-10-10 17:28:54,199 - INFO - joeynmt.training - Example #0\n",
            "2021-10-10 17:28:54,199 - INFO - joeynmt.training - \tSource:     Jehovah tell Ezekiel sey make e write on top two stick .\n",
            "2021-10-10 17:28:54,199 - INFO - joeynmt.training - \tReference:  Jehovah told his prophet Ezekiel to write on two sticks .\n",
            "2021-10-10 17:28:54,199 - INFO - joeynmt.training - \tHypothesis: Jehovah told Ezekiel to write on two sticks .\n",
            "2021-10-10 17:28:54,200 - INFO - joeynmt.training - Example #1\n",
            "2021-10-10 17:28:54,200 - INFO - joeynmt.training - \tSource:     BEFORE that time , I don dey like the truth wey I dey learn from Bible .\n",
            "2021-10-10 17:28:54,200 - INFO - joeynmt.training - \tReference:  MY INTEREST in Bible truth had already been aroused earlier .\n",
            "2021-10-10 17:28:54,200 - INFO - joeynmt.training - \tHypothesis: BEING THE FORE I have come to know the truth from God ’ s Word .\n",
            "2021-10-10 17:28:54,200 - INFO - joeynmt.training - Example #2\n",
            "2021-10-10 17:28:54,200 - INFO - joeynmt.training - \tSource:     But because Ireland na Catholic country , e come be like sey , ‘ trouble dey sleep yanga go wake am . ’\n",
            "2021-10-10 17:28:54,200 - INFO - joeynmt.training - \tReference:  What “ silly ” things to do in such a Catholic country !\n",
            "2021-10-10 17:28:54,201 - INFO - joeynmt.training - \tHypothesis: But it was as a Catholic , which was none of Ireland , “ sentiment to rase . ”\n",
            "2021-10-10 17:28:54,201 - INFO - joeynmt.training - Example #3\n",
            "2021-10-10 17:28:54,201 - INFO - joeynmt.training - \tSource:     For 1987 , one brother tell me sey make I go check one person wey like our message for Balykchy .\n",
            "2021-10-10 17:28:54,201 - INFO - joeynmt.training - \tReference:  In 1987 a brother asked me to visit an interested person living in the town of Balykchy .\n",
            "2021-10-10 17:28:54,201 - INFO - joeynmt.training - \tHypothesis: In 1987 , one brother asked me to look for a message in Balykchy .\n",
            "2021-10-10 17:28:54,201 - INFO - joeynmt.training - Validation result (greedy) at epoch   4, step    32000: bleu:  21.16, loss: 60769.1250, ppl:  12.3302, duration: 38.8706s\n",
            "2021-10-10 17:29:28,704 - INFO - joeynmt.training - Epoch   4, Step:    32100, Batch Loss:     1.688546, Tokens per Sec:     4149, Lr: 0.000210\n",
            "2021-10-10 17:30:01,312 - INFO - joeynmt.training - Epoch   4: total training loss 590.48\n",
            "2021-10-10 17:30:01,312 - INFO - joeynmt.training - EPOCH 5\n",
            "2021-10-10 17:30:03,108 - INFO - joeynmt.training - Epoch   5, Step:    32200, Batch Loss:     1.617407, Tokens per Sec:     4315, Lr: 0.000210\n",
            "2021-10-10 17:30:37,689 - INFO - joeynmt.training - Epoch   5, Step:    32300, Batch Loss:     1.702846, Tokens per Sec:     4229, Lr: 0.000210\n",
            "2021-10-10 17:31:12,017 - INFO - joeynmt.training - Epoch   5, Step:    32400, Batch Loss:     1.627482, Tokens per Sec:     4163, Lr: 0.000210\n",
            "2021-10-10 17:31:46,609 - INFO - joeynmt.training - Epoch   5, Step:    32500, Batch Loss:     1.640905, Tokens per Sec:     4060, Lr: 0.000210\n",
            "2021-10-10 17:32:02,729 - INFO - joeynmt.training - Epoch   5: total training loss 582.21\n",
            "2021-10-10 17:32:02,729 - INFO - joeynmt.training - Training ended after   5 epochs.\n",
            "2021-10-10 17:32:02,729 - INFO - joeynmt.training - Best validation result (greedy) at step    25000:  12.15 ppl.\n",
            "2021-10-10 17:32:02,752 - INFO - joeynmt.prediction - Process device: cuda, n_gpu: 1, batch_size per device: 3600\n",
            "2021-10-10 17:32:02,752 - INFO - joeynmt.prediction - Loading model from models/pcmen_reverse_transformer/25000.ckpt\n",
            "Traceback (most recent call last):\n",
            "  File \"/usr/lib/python3.7/runpy.py\", line 193, in _run_module_as_main\n",
            "    \"__main__\", mod_spec)\n",
            "  File \"/usr/lib/python3.7/runpy.py\", line 85, in _run_code\n",
            "    exec(code, run_globals)\n",
            "  File \"/content/joeynmt/joeynmt/__main__.py\", line 48, in <module>\n",
            "    main()\n",
            "  File \"/content/joeynmt/joeynmt/__main__.py\", line 35, in main\n",
            "    train(cfg_file=args.config_path, skip_test=args.skip_test)\n",
            "  File \"/content/joeynmt/joeynmt/training.py\", line 863, in train\n",
            "    datasets=datasets_to_test)\n",
            "  File \"/content/joeynmt/joeynmt/prediction.py\", line 321, in test\n",
            "    model_checkpoint = load_checkpoint(ckpt, use_cuda=use_cuda)\n",
            "  File \"/content/joeynmt/joeynmt/helpers.py\", line 284, in load_checkpoint\n",
            "    assert os.path.isfile(path), \"Checkpoint %s not found\" % path\n",
            "AssertionError: Checkpoint models/pcmen_reverse_transformer/25000.ckpt not found\n"
          ]
        }
      ]
    },
    {
      "cell_type": "code",
      "metadata": {
        "id": "MBoDS09JM807"
      },
      "source": [
        "# Copy the created models from the notebook storage to google drive for persistant storage \n",
        "!cp -r joeynmt/models/${tgt}${src}_reverse_transformer/* \"$gdrive_path/models/${tgt}${src}_reverse_transformer/\""
      ],
      "execution_count": 23,
      "outputs": []
    },
    {
      "cell_type": "code",
      "metadata": {
        "id": "n94wlrCjVc17",
        "colab": {
          "base_uri": "https://localhost:8080/"
        },
        "outputId": "8e0e4fdd-9c0d-484f-d075-9876f63abd0b"
      },
      "source": [
        "# Output our validation accuracy\n",
        "! cat \"$gdrive_path/models/${tgt}${src}_reverse_transformer/validations.txt\""
      ],
      "execution_count": 24,
      "outputs": [
        {
          "output_type": "stream",
          "name": "stdout",
          "text": [
            "Steps: 32000\tLoss: 60769.12500\tPPL: 12.33024\tbleu: 21.16051\tLR: 0.00021000\t\n"
          ]
        }
      ]
    },
    {
      "cell_type": "code",
      "metadata": {
        "id": "66WhRE9lIhoD",
        "colab": {
          "base_uri": "https://localhost:8080/"
        },
        "outputId": "7e154cca-3183-42fc-dec5-28b80267a0d1"
      },
      "source": [
        "# Test our model\n",
        "! cd joeynmt; python3 -m joeynmt test \"$gdrive_path/models/${tgt}${src}_reverse_transformer/config.yaml\""
      ],
      "execution_count": 25,
      "outputs": [
        {
          "output_type": "stream",
          "name": "stdout",
          "text": [
            "2021-10-10 17:32:05,787 - INFO - root - Hello! This is Joey-NMT (version 1.3).\n",
            "2021-10-10 17:32:05,787 - INFO - joeynmt.data - Building vocabulary...\n",
            "2021-10-10 17:32:06,036 - INFO - joeynmt.data - Loading dev data...\n",
            "2021-10-10 17:32:06,047 - INFO - joeynmt.data - Loading test data...\n",
            "2021-10-10 17:32:06,091 - INFO - joeynmt.data - Data loaded.\n",
            "2021-10-10 17:32:06,112 - INFO - joeynmt.prediction - Process device: cuda, n_gpu: 1, batch_size per device: 3600\n",
            "2021-10-10 17:32:06,113 - INFO - joeynmt.prediction - Loading model from models/pcmen_reverse_transformer/32000.ckpt\n",
            "2021-10-10 17:32:08,424 - INFO - joeynmt.model - Building an encoder-decoder model...\n",
            "2021-10-10 17:32:08,666 - INFO - joeynmt.model - Enc-dec model built.\n",
            "2021-10-10 17:32:08,736 - INFO - joeynmt.prediction - Decoding on dev set (data/pcmen/dev.bpe.en)...\n",
            "2021-10-10 17:33:37,198 - WARNING - sacrebleu - That's 100 lines that end in a tokenized period ('.')\n",
            "2021-10-10 17:33:37,198 - WARNING - sacrebleu - It looks like you forgot to detokenize your test data, which may hurt your score.\n",
            "2021-10-10 17:33:37,198 - WARNING - sacrebleu - If you insist your data is detokenized, or don't care, you can suppress this message with the `force` parameter.\n",
            "2021-10-10 17:33:37,203 - INFO - joeynmt.prediction -  dev bleu[13a]:  21.66 [Beam search decoding with beam size = 5 and alpha = 1.0]\n",
            "2021-10-10 17:33:37,203 - INFO - joeynmt.prediction - Decoding on test set (data/pcmen/test.bpe.en)...\n",
            "2021-10-10 17:35:36,521 - WARNING - sacrebleu - That's 100 lines that end in a tokenized period ('.')\n",
            "2021-10-10 17:35:36,522 - WARNING - sacrebleu - It looks like you forgot to detokenize your test data, which may hurt your score.\n",
            "2021-10-10 17:35:36,522 - WARNING - sacrebleu - If you insist your data is detokenized, or don't care, you can suppress this message with the `force` parameter.\n",
            "2021-10-10 17:35:36,531 - INFO - joeynmt.prediction - test bleu[13a]:  33.24 [Beam search decoding with beam size = 5 and alpha = 1.0]\n"
          ]
        }
      ]
    },
    {
      "cell_type": "code",
      "metadata": {
        "id": "OYDbBlGSjPrm"
      },
      "source": [
        ""
      ],
      "execution_count": null,
      "outputs": []
    }
  ]
}