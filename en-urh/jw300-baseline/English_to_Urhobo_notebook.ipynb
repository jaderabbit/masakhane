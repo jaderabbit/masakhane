{
  "nbformat": 4,
  "nbformat_minor": 0,
  "metadata": {
    "accelerator": "GPU",
    "colab": {
      "name": "starter_notebook.ipynb",
      "provenance": [],
      "collapsed_sections": [],
      "toc_visible": true
    },
    "kernelspec": {
      "display_name": "Python 3",
      "language": "python",
      "name": "python3"
    },
    "language_info": {
      "codemirror_mode": {
        "name": "ipython",
        "version": 3
      },
      "file_extension": ".py",
      "mimetype": "text/x-python",
      "name": "python",
      "nbconvert_exporter": "python",
      "pygments_lexer": "ipython3",
      "version": "3.5.6"
    }
  },
  "cells": [
    {
      "cell_type": "markdown",
      "metadata": {
        "colab_type": "text",
        "id": "Igc5itf-xMGj"
      },
      "source": [
        "# Masakhane - Machine Translation for African Languages (Using JoeyNMT)"
      ]
    },
    {
      "cell_type": "markdown",
      "metadata": {
        "colab_type": "text",
        "id": "x4fXCKCf36IK"
      },
      "source": [
        "## Note before beginning:\n",
        "### - The idea is that you should be able to make minimal changes to this in order to get SOME result for your own translation corpus. \n",
        "\n",
        "### - The tl;dr: Go to the **\"TODO\"** comments which will tell you what to update to get up and running\n",
        "\n",
        "### - If you actually want to have a clue what you're doing, read the text and peek at the links\n",
        "\n",
        "### - With 100 epochs, it should take around 7 hours to run in Google Colab\n",
        "\n",
        "### - Once you've gotten a result for your language, please attach and email your notebook that generated it to masakhanetranslation@gmail.com\n",
        "\n",
        "### - If you care enough and get a chance, doing a brief background on your language would be amazing. See examples in  [(Martinus, 2019)](https://arxiv.org/abs/1906.05685)"
      ]
    },
    {
      "cell_type": "markdown",
      "metadata": {
        "colab_type": "text",
        "id": "l929HimrxS0a"
      },
      "source": [
        "## Retrieve your data & make a parallel corpus\n",
        "\n",
        "If you are wanting to use the JW300 data referenced on the Masakhane website or in our GitHub repo, you can use `opus-tools` to convert the data into a convenient format. `opus_read` from that package provides a convenient tool for reading the native aligned XML files and to convert them to TMX format. The tool can also be used to fetch relevant files from OPUS on the fly and to filter the data as necessary. [Read the documentation](https://pypi.org/project/opustools-pkg/) for more details.\n",
        "\n",
        "Once you have your corpus files in TMX format (an xml structure which will include the sentences in your target language and your source language in a single file), we recommend reading them into a pandas dataframe. Thankfully, Jade wrote a silly `tmx2dataframe` package which converts your tmx file to a pandas dataframe. "
      ]
    },
    {
      "cell_type": "code",
      "metadata": {
        "colab_type": "code",
        "id": "oGRmDELn7Az0",
        "colab": {
          "base_uri": "https://localhost:8080/",
          "height": 122
        },
        "outputId": "a1a041fb-fee7-4cb1-ba15-a200ccc8748f"
      },
      "source": [
        "from google.colab import drive\n",
        "drive.mount('/content/drive')"
      ],
      "execution_count": 6,
      "outputs": [
        {
          "output_type": "stream",
          "text": [
            "Go to this URL in a browser: https://accounts.google.com/o/oauth2/auth?client_id=947318989803-6bn6qk8qdgf4n4g3pfee6491hc0brc4i.apps.googleusercontent.com&redirect_uri=urn%3aietf%3awg%3aoauth%3a2.0%3aoob&response_type=code&scope=email%20https%3a%2f%2fwww.googleapis.com%2fauth%2fdocs.test%20https%3a%2f%2fwww.googleapis.com%2fauth%2fdrive%20https%3a%2f%2fwww.googleapis.com%2fauth%2fdrive.photos.readonly%20https%3a%2f%2fwww.googleapis.com%2fauth%2fpeopleapi.readonly\n",
            "\n",
            "Enter your authorization code:\n",
            "··········\n",
            "Mounted at /content/drive\n"
          ],
          "name": "stdout"
        }
      ]
    },
    {
      "cell_type": "code",
      "metadata": {
        "colab_type": "code",
        "id": "Cn3tgQLzUxwn",
        "colab": {}
      },
      "source": [
        "# TODO: Set your source and target languages. Keep in mind, these traditionally use language codes as found here:\n",
        "# These will also become the suffix's of all vocab and corpus files used throughout\n",
        "import os\n",
        "source_language = \"en\"\n",
        "target_language = \"urh\" \n",
        "lc = False  # If True, lowercase the data.\n",
        "seed = 42  # Random seed for shuffling.\n",
        "tag = \"baseline\" # Give a unique name to your folder - this is to ensure you don't rewrite any models you've already submitted\n",
        "\n",
        "os.environ[\"src\"] = source_language # Sets them in bash as well, since we often use bash scripts\n",
        "os.environ[\"tgt\"] = target_language\n",
        "os.environ[\"tag\"] = tag\n",
        "\n",
        "# This will save it to a folder in our gdrive instead!\n",
        "!mkdir -p \"/content/drive/My Drive/masakhane/$src-$tgt-$tag\"\n",
        "os.environ[\"gdrive_path\"] = \"/content/drive/My Drive/masakhane/%s-%s-%s\" % (source_language, target_language, tag)"
      ],
      "execution_count": 0,
      "outputs": []
    },
    {
      "cell_type": "code",
      "metadata": {
        "colab_type": "code",
        "id": "kBSgJHEw7Nvx",
        "colab": {
          "base_uri": "https://localhost:8080/",
          "height": 34
        },
        "outputId": "6e2f809e-2323-4048-bf2e-2b0ca333de22"
      },
      "source": [
        "!echo $gdrive_path"
      ],
      "execution_count": 14,
      "outputs": [
        {
          "output_type": "stream",
          "text": [
            "/content/drive/My Drive/masakhane/en-urh-baseline\n"
          ],
          "name": "stdout"
        }
      ]
    },
    {
      "cell_type": "code",
      "metadata": {
        "colab_type": "code",
        "id": "gA75Fs9ys8Y9",
        "colab": {
          "base_uri": "https://localhost:8080/",
          "height": 122
        },
        "outputId": "9e3a0967-5207-485d-bd66-b31881251543"
      },
      "source": [
        "# Install opus-tools\n",
        "! pip install opustools-pkg"
      ],
      "execution_count": 15,
      "outputs": [
        {
          "output_type": "stream",
          "text": [
            "Collecting opustools-pkg\n",
            "\u001b[?25l  Downloading https://files.pythonhosted.org/packages/6c/9f/e829a0cceccc603450cd18e1ff80807b6237a88d9a8df2c0bb320796e900/opustools_pkg-0.0.52-py3-none-any.whl (80kB)\n",
            "\r\u001b[K     |████                            | 10kB 26.2MB/s eta 0:00:01\r\u001b[K     |████████                        | 20kB 5.8MB/s eta 0:00:01\r\u001b[K     |████████████▏                   | 30kB 8.4MB/s eta 0:00:01\r\u001b[K     |████████████████▏               | 40kB 5.5MB/s eta 0:00:01\r\u001b[K     |████████████████████▎           | 51kB 6.7MB/s eta 0:00:01\r\u001b[K     |████████████████████████▎       | 61kB 7.9MB/s eta 0:00:01\r\u001b[K     |████████████████████████████▎   | 71kB 9.1MB/s eta 0:00:01\r\u001b[K     |████████████████████████████████| 81kB 5.1MB/s \n",
            "\u001b[?25hInstalling collected packages: opustools-pkg\n",
            "Successfully installed opustools-pkg-0.0.52\n"
          ],
          "name": "stdout"
        }
      ]
    },
    {
      "cell_type": "code",
      "metadata": {
        "colab_type": "code",
        "id": "xq-tDZVks7ZD",
        "colab": {
          "base_uri": "https://localhost:8080/",
          "height": 204
        },
        "outputId": "530a6d7d-e08f-46d7-d731-9e6916b94a6e"
      },
      "source": [
        "# Downloading our corpus\n",
        "! opus_read -d JW300 -s $src -t $tgt -wm moses -w jw300.$src jw300.$tgt -q\n",
        "\n",
        "# extract the corpus file\n",
        "! gunzip JW300_latest_xml_$src-$tgt.xml.gz"
      ],
      "execution_count": 16,
      "outputs": [
        {
          "output_type": "stream",
          "text": [
            "\n",
            "Alignment file /proj/nlpl/data/OPUS/JW300/latest/xml/en-urh.xml.gz not found. The following files are available for downloading:\n",
            "\n",
            " 304 KB https://object.pouta.csc.fi/OPUS-JW300/v1/xml/en-urh.xml.gz\n",
            " 263 MB https://object.pouta.csc.fi/OPUS-JW300/v1/xml/en.zip\n",
            "   3 MB https://object.pouta.csc.fi/OPUS-JW300/v1/xml/urh.zip\n",
            "\n",
            " 267 MB Total size\n",
            "./JW300_latest_xml_en-urh.xml.gz ... 100% of 304 KB\n",
            "./JW300_latest_xml_en.zip ... 100% of 263 MB\n",
            "./JW300_latest_xml_urh.zip ... 100% of 3 MB\n"
          ],
          "name": "stdout"
        }
      ]
    },
    {
      "cell_type": "code",
      "metadata": {
        "id": "n48GDRnP8y2G",
        "colab_type": "code",
        "colab": {
          "base_uri": "https://localhost:8080/",
          "height": 578
        },
        "outputId": "843b5e2c-d4bf-48be-9c5b-f72b91aa6956"
      },
      "source": [
        "# Download the global test set.\n",
        "! wget https://raw.githubusercontent.com/juliakreutzer/masakhane/master/jw300_utils/test/test.en-any.en\n",
        "  \n",
        "# And the specific test set for this language pair.\n",
        "os.environ[\"trg\"] = target_language \n",
        "os.environ[\"src\"] = source_language \n",
        "\n",
        "! wget https://raw.githubusercontent.com/juliakreutzer/masakhane/master/jw300_utils/test/test.en-$trg.en \n",
        "! mv test.en-$trg.en test.en\n",
        "! wget https://raw.githubusercontent.com/juliakreutzer/masakhane/master/jw300_utils/test/test.en-$trg.$trg \n",
        "! mv test.en-$trg.$trg test.$trg"
      ],
      "execution_count": 17,
      "outputs": [
        {
          "output_type": "stream",
          "text": [
            "--2019-12-30 07:21:25--  https://raw.githubusercontent.com/juliakreutzer/masakhane/master/jw300_utils/test/test.en-any.en\n",
            "Resolving raw.githubusercontent.com (raw.githubusercontent.com)... 151.101.0.133, 151.101.64.133, 151.101.128.133, ...\n",
            "Connecting to raw.githubusercontent.com (raw.githubusercontent.com)|151.101.0.133|:443... connected.\n",
            "HTTP request sent, awaiting response... 200 OK\n",
            "Length: 277791 (271K) [text/plain]\n",
            "Saving to: ‘test.en-any.en’\n",
            "\n",
            "\rtest.en-any.en        0%[                    ]       0  --.-KB/s               \rtest.en-any.en      100%[===================>] 271.28K  --.-KB/s    in 0.02s   \n",
            "\n",
            "2019-12-30 07:21:25 (12.4 MB/s) - ‘test.en-any.en’ saved [277791/277791]\n",
            "\n",
            "--2019-12-30 07:21:26--  https://raw.githubusercontent.com/juliakreutzer/masakhane/master/jw300_utils/test/test.en-urh.en\n",
            "Resolving raw.githubusercontent.com (raw.githubusercontent.com)... 151.101.0.133, 151.101.64.133, 151.101.128.133, ...\n",
            "Connecting to raw.githubusercontent.com (raw.githubusercontent.com)|151.101.0.133|:443... connected.\n",
            "HTTP request sent, awaiting response... 200 OK\n",
            "Length: 201504 (197K) [text/plain]\n",
            "Saving to: ‘test.en-urh.en’\n",
            "\n",
            "test.en-urh.en      100%[===================>] 196.78K  --.-KB/s    in 0.02s   \n",
            "\n",
            "2019-12-30 07:21:27 (12.6 MB/s) - ‘test.en-urh.en’ saved [201504/201504]\n",
            "\n",
            "--2019-12-30 07:21:30--  https://raw.githubusercontent.com/juliakreutzer/masakhane/master/jw300_utils/test/test.en-urh.urh\n",
            "Resolving raw.githubusercontent.com (raw.githubusercontent.com)... 151.101.0.133, 151.101.64.133, 151.101.128.133, ...\n",
            "Connecting to raw.githubusercontent.com (raw.githubusercontent.com)|151.101.0.133|:443... connected.\n",
            "HTTP request sent, awaiting response... 200 OK\n",
            "Length: 236859 (231K) [text/plain]\n",
            "Saving to: ‘test.en-urh.urh’\n",
            "\n",
            "test.en-urh.urh     100%[===================>] 231.31K  --.-KB/s    in 0.02s   \n",
            "\n",
            "2019-12-30 07:21:31 (14.6 MB/s) - ‘test.en-urh.urh’ saved [236859/236859]\n",
            "\n"
          ],
          "name": "stdout"
        }
      ]
    },
    {
      "cell_type": "code",
      "metadata": {
        "id": "NqDG-CI28y2L",
        "colab_type": "code",
        "colab": {
          "base_uri": "https://localhost:8080/",
          "height": 34
        },
        "outputId": "34f01195-7463-4f08-ba17-e82b1ebe43b8"
      },
      "source": [
        "# Read the test data to filter from train and dev splits.\n",
        "# Store english portion in set for quick filtering checks.\n",
        "en_test_sents = set()\n",
        "filter_test_sents = \"test.en-any.en\"\n",
        "j = 0\n",
        "with open(filter_test_sents) as f:\n",
        "  for line in f:\n",
        "    en_test_sents.add(line.strip())\n",
        "    j += 1\n",
        "print('Loaded {} global test sentences to filter from the training/dev data.'.format(j))"
      ],
      "execution_count": 18,
      "outputs": [
        {
          "output_type": "stream",
          "text": [
            "Loaded 3571 global test sentences to filter from the training/dev data.\n"
          ],
          "name": "stdout"
        }
      ]
    },
    {
      "cell_type": "code",
      "metadata": {
        "colab_type": "code",
        "id": "3CNdwLBCfSIl",
        "colab": {
          "base_uri": "https://localhost:8080/",
          "height": 159
        },
        "outputId": "a7756b3a-5e51-447c-e551-4daa855af385"
      },
      "source": [
        "import pandas as pd\n",
        "\n",
        "# TMX file to dataframe\n",
        "source_file = 'jw300.' + source_language\n",
        "target_file = 'jw300.' + target_language\n",
        "\n",
        "source = []\n",
        "target = []\n",
        "skip_lines = []  # Collect the line numbers of the source portion to skip the same lines for the target portion.\n",
        "with open(source_file) as f:\n",
        "    for i, line in enumerate(f):\n",
        "        # Skip sentences that are contained in the test set.\n",
        "        if line.strip() not in en_test_sents:\n",
        "            source.append(line.strip())\n",
        "        else:\n",
        "            skip_lines.append(i)             \n",
        "with open(target_file) as f:\n",
        "    for j, line in enumerate(f):\n",
        "        # Only add to corpus if corresponding source was not skipped.\n",
        "        if j not in skip_lines:\n",
        "            target.append(line.strip())\n",
        "    \n",
        "print('Loaded data and skipped {}/{} lines since contained in test set.'.format(len(skip_lines), i))\n",
        "    \n",
        "df = pd.DataFrame(zip(source, target), columns=['source_sentence', 'target_sentence'])\n",
        "# if you get TypeError: data argument can't be an iterator is because of your zip version run this below\n",
        "#df = pd.DataFrame(list(zip(source, target)), columns=['source_sentence', 'target_sentence'])\n",
        "df.head(3)"
      ],
      "execution_count": 19,
      "outputs": [
        {
          "output_type": "stream",
          "text": [
            "Loaded data and skipped 4050/32709 lines since contained in test set.\n"
          ],
          "name": "stdout"
        },
        {
          "output_type": "execute_result",
          "data": {
            "text/html": [
              "<div>\n",
              "<style scoped>\n",
              "    .dataframe tbody tr th:only-of-type {\n",
              "        vertical-align: middle;\n",
              "    }\n",
              "\n",
              "    .dataframe tbody tr th {\n",
              "        vertical-align: top;\n",
              "    }\n",
              "\n",
              "    .dataframe thead th {\n",
              "        text-align: right;\n",
              "    }\n",
              "</style>\n",
              "<table border=\"1\" class=\"dataframe\">\n",
              "  <thead>\n",
              "    <tr style=\"text-align: right;\">\n",
              "      <th></th>\n",
              "      <th>source_sentence</th>\n",
              "      <th>target_sentence</th>\n",
              "    </tr>\n",
              "  </thead>\n",
              "  <tbody>\n",
              "    <tr>\n",
              "      <th>0</th>\n",
              "      <td>Why It Pays to Be Honest 6</td>\n",
              "      <td>Erere Herọ Ra Vwọ Dia Ohwo rẹ Uyota 5</td>\n",
              "    </tr>\n",
              "    <tr>\n",
              "      <th>1</th>\n",
              "      <td>The Bible Changes Lives</td>\n",
              "      <td>7 Ovwan “ Jẹn Ẹguọnọ rẹ Iniọvo na Dje Ebuoebuo...</td>\n",
              "    </tr>\n",
              "    <tr>\n",
              "      <th>2</th>\n",
              "      <td>Give Me Just One Year of Peace and Happiness 8...</td>\n",
              "      <td>12 Jẹ ‘ Ẹse rẹ Ọghẹnẹ rẹ Unu se Gbe - e na , ’...</td>\n",
              "    </tr>\n",
              "  </tbody>\n",
              "</table>\n",
              "</div>"
            ],
            "text/plain": [
              "                                     source_sentence                                    target_sentence\n",
              "0                         Why It Pays to Be Honest 6              Erere Herọ Ra Vwọ Dia Ohwo rẹ Uyota 5\n",
              "1                            The Bible Changes Lives  7 Ovwan “ Jẹn Ẹguọnọ rẹ Iniọvo na Dje Ebuoebuo...\n",
              "2  Give Me Just One Year of Peace and Happiness 8...  12 Jẹ ‘ Ẹse rẹ Ọghẹnẹ rẹ Unu se Gbe - e na , ’..."
            ]
          },
          "metadata": {
            "tags": []
          },
          "execution_count": 19
        }
      ]
    },
    {
      "cell_type": "markdown",
      "metadata": {
        "colab_type": "text",
        "id": "YkuK3B4p2AkN"
      },
      "source": [
        "## Pre-processing and export\n",
        "\n",
        "It is generally a good idea to remove duplicate translations and conflicting translations from the corpus. In practice, these public corpora include some number of these that need to be cleaned.\n",
        "\n",
        "In addition we will split our data into dev/test/train and export to the filesystem."
      ]
    },
    {
      "cell_type": "code",
      "metadata": {
        "colab_type": "code",
        "id": "M_2ouEOH1_1q",
        "colab": {
          "base_uri": "https://localhost:8080/",
          "height": 187
        },
        "outputId": "53d4eb6d-4446-4416-e9cc-57d91fae8f99"
      },
      "source": [
        "# drop duplicate translations\n",
        "df_pp = df.drop_duplicates()\n",
        "\n",
        "# drop conflicting translations\n",
        "# (this is optional and something that you might want to comment out \n",
        "# depending on the size of your corpus)\n",
        "df_pp.drop_duplicates(subset='source_sentence', inplace=True)\n",
        "df_pp.drop_duplicates(subset='target_sentence', inplace=True)\n",
        "\n",
        "# Shuffle the data to remove bias in dev set selection.\n",
        "df_pp = df_pp.sample(frac=1, random_state=seed).reset_index(drop=True)"
      ],
      "execution_count": 20,
      "outputs": [
        {
          "output_type": "stream",
          "text": [
            "/usr/local/lib/python3.6/dist-packages/ipykernel_launcher.py:6: SettingWithCopyWarning: \n",
            "A value is trying to be set on a copy of a slice from a DataFrame\n",
            "\n",
            "See the caveats in the documentation: http://pandas.pydata.org/pandas-docs/stable/user_guide/indexing.html#returning-a-view-versus-a-copy\n",
            "  \n",
            "/usr/local/lib/python3.6/dist-packages/ipykernel_launcher.py:7: SettingWithCopyWarning: \n",
            "A value is trying to be set on a copy of a slice from a DataFrame\n",
            "\n",
            "See the caveats in the documentation: http://pandas.pydata.org/pandas-docs/stable/user_guide/indexing.html#returning-a-view-versus-a-copy\n",
            "  import sys\n"
          ],
          "name": "stderr"
        }
      ]
    },
    {
      "cell_type": "code",
      "metadata": {
        "id": "Z_1BwAApEtMk",
        "colab_type": "code",
        "colab": {
          "base_uri": "https://localhost:8080/",
          "height": 785
        },
        "outputId": "4c667e29-fd05-4952-c6fa-52bb75f50d8f"
      },
      "source": [
        "# Install fuzzy wuzzy to remove \"almost duplicate\" sentences in the\n",
        "# test and training sets.\n",
        "! pip install fuzzywuzzy\n",
        "! pip install python-Levenshtein\n",
        "import time\n",
        "from fuzzywuzzy import process\n",
        "import numpy as np\n",
        "\n",
        "# reset the index of the training set after previous filtering\n",
        "df_pp.reset_index(drop=False, inplace=True)\n",
        "\n",
        "# Remove samples from the training data set if they \"almost overlap\" with the\n",
        "# samples in the test set.\n",
        "\n",
        "# Filtering function. Adjust pad to narrow down the candidate matches to\n",
        "# within a certain length of characters of the given sample.\n",
        "def fuzzfilter(sample, candidates, pad):\n",
        "  candidates = [x for x in candidates if len(x) <= len(sample)+pad and len(x) >= len(sample)-pad] \n",
        "  if len(candidates) > 0:\n",
        "    return process.extractOne(sample, candidates)[1]\n",
        "  else:\n",
        "    return np.nan\n",
        "\n",
        "# NOTE - This might run slow depending on the size of your training set. We are\n",
        "# printing some information to help you track how long it would take. \n",
        "scores = []\n",
        "start_time = time.time()\n",
        "for idx, row in df_pp.iterrows():\n",
        "  scores.append(fuzzfilter(row['source_sentence'], list(en_test_sents), 5))\n",
        "  if idx % 1000 == 0:\n",
        "    hours, rem = divmod(time.time() - start_time, 3600)\n",
        "    minutes, seconds = divmod(rem, 60)\n",
        "    print(\"{:0>2}:{:0>2}:{:05.2f}\".format(int(hours),int(minutes),seconds), \"%0.2f percent complete\" % (100.0*float(idx)/float(len(df_pp))))\n",
        "\n",
        "# Filter out \"almost overlapping samples\"\n",
        "df_pp['scores'] = scores\n",
        "df_pp = df_pp[df_pp['scores'] < 95]"
      ],
      "execution_count": 21,
      "outputs": [
        {
          "output_type": "stream",
          "text": [
            "Collecting fuzzywuzzy\n",
            "  Downloading https://files.pythonhosted.org/packages/d8/f1/5a267addb30ab7eaa1beab2b9323073815da4551076554ecc890a3595ec9/fuzzywuzzy-0.17.0-py2.py3-none-any.whl\n",
            "Installing collected packages: fuzzywuzzy\n",
            "Successfully installed fuzzywuzzy-0.17.0\n",
            "Collecting python-Levenshtein\n",
            "\u001b[?25l  Downloading https://files.pythonhosted.org/packages/42/a9/d1785c85ebf9b7dfacd08938dd028209c34a0ea3b1bcdb895208bd40a67d/python-Levenshtein-0.12.0.tar.gz (48kB)\n",
            "\u001b[K     |████████████████████████████████| 51kB 3.7MB/s \n",
            "\u001b[?25hRequirement already satisfied: setuptools in /usr/local/lib/python3.6/dist-packages (from python-Levenshtein) (42.0.2)\n",
            "Building wheels for collected packages: python-Levenshtein\n",
            "  Building wheel for python-Levenshtein (setup.py) ... \u001b[?25l\u001b[?25hdone\n",
            "  Created wheel for python-Levenshtein: filename=python_Levenshtein-0.12.0-cp36-cp36m-linux_x86_64.whl size=144681 sha256=4537127d21a3fdba6d4bd3bf7e6d305ab4f32d450b996f04a76f46e47d7cf10c\n",
            "  Stored in directory: /root/.cache/pip/wheels/de/c2/93/660fd5f7559049268ad2dc6d81c4e39e9e36518766eaf7e342\n",
            "Successfully built python-Levenshtein\n",
            "Installing collected packages: python-Levenshtein\n",
            "Successfully installed python-Levenshtein-0.12.0\n",
            "00:00:00.04 0.00 percent complete\n",
            "00:00:21.31 3.74 percent complete\n",
            "00:00:42.14 7.49 percent complete\n",
            "00:01:04.35 11.23 percent complete\n",
            "00:01:26.20 14.98 percent complete\n",
            "00:01:47.40 18.72 percent complete\n",
            "00:02:08.42 22.46 percent complete\n",
            "00:02:29.34 26.21 percent complete\n",
            "00:02:49.96 29.95 percent complete\n",
            "00:03:11.20 33.70 percent complete\n",
            "00:03:32.13 37.44 percent complete\n",
            "00:03:54.79 41.18 percent complete\n",
            "00:04:15.89 44.93 percent complete\n",
            "00:04:36.32 48.67 percent complete\n",
            "00:04:57.28 52.41 percent complete\n",
            "00:05:18.66 56.16 percent complete\n",
            "00:05:40.21 59.90 percent complete\n"
          ],
          "name": "stdout"
        },
        {
          "output_type": "stream",
          "text": [
            "WARNING:root:Applied processor reduces input query to empty string, all comparisons will have score 0. [Query: '']\n"
          ],
          "name": "stderr"
        },
        {
          "output_type": "stream",
          "text": [
            "00:06:01.44 63.65 percent complete\n",
            "00:06:22.21 67.39 percent complete\n",
            "00:06:45.07 71.13 percent complete\n",
            "00:07:05.83 74.88 percent complete\n",
            "00:07:26.54 78.62 percent complete\n",
            "00:07:47.67 82.37 percent complete\n",
            "00:08:08.28 86.11 percent complete\n"
          ],
          "name": "stdout"
        },
        {
          "output_type": "stream",
          "text": [
            "WARNING:root:Applied processor reduces input query to empty string, all comparisons will have score 0. [Query: '*']\n"
          ],
          "name": "stderr"
        },
        {
          "output_type": "stream",
          "text": [
            "00:08:29.51 89.85 percent complete\n",
            "00:08:50.49 93.60 percent complete\n",
            "00:09:11.91 97.34 percent complete\n"
          ],
          "name": "stdout"
        }
      ]
    },
    {
      "cell_type": "code",
      "metadata": {
        "colab_type": "code",
        "id": "hxxBOCA-xXhy",
        "colab": {
          "base_uri": "https://localhost:8080/",
          "height": 819
        },
        "outputId": "d09cb622-543e-4cba-8bc4-f1a323dbdbcb"
      },
      "source": [
        "# This section does the split between train/dev for the parallel corpora then saves them as separate files\n",
        "# We use 1000 dev test and the given test set.\n",
        "import csv\n",
        "\n",
        "# Do the split between dev/train and create parallel corpora\n",
        "num_dev_patterns = 1000\n",
        "\n",
        "# Optional: lower case the corpora - this will make it easier to generalize, but without proper casing.\n",
        "if lc:  # Julia: making lowercasing optional\n",
        "    df_pp[\"source_sentence\"] = df_pp[\"source_sentence\"].str.lower()\n",
        "    df_pp[\"target_sentence\"] = df_pp[\"target_sentence\"].str.lower()\n",
        "\n",
        "# Julia: test sets are already generated\n",
        "dev = df_pp.tail(num_dev_patterns) # Herman: Error in original\n",
        "stripped = df_pp.drop(df_pp.tail(num_dev_patterns).index)\n",
        "\n",
        "with open(\"train.\"+source_language, \"w\") as src_file, open(\"train.\"+target_language, \"w\") as trg_file:\n",
        "  for index, row in stripped.iterrows():\n",
        "    src_file.write(row[\"source_sentence\"]+\"\\n\")\n",
        "    trg_file.write(row[\"target_sentence\"]+\"\\n\")\n",
        "    \n",
        "with open(\"dev.\"+source_language, \"w\") as src_file, open(\"dev.\"+target_language, \"w\") as trg_file:\n",
        "  for index, row in dev.iterrows():\n",
        "    src_file.write(row[\"source_sentence\"]+\"\\n\")\n",
        "    trg_file.write(row[\"target_sentence\"]+\"\\n\")\n",
        "\n",
        "#stripped[[\"source_sentence\"]].to_csv(\"train.\"+source_language, header=False, index=False)  # Herman: Added `header=False` everywhere\n",
        "#stripped[[\"target_sentence\"]].to_csv(\"train.\"+target_language, header=False, index=False)  # Julia: Problematic handling of quotation marks.\n",
        "\n",
        "#dev[[\"source_sentence\"]].to_csv(\"dev.\"+source_language, header=False, index=False)\n",
        "#dev[[\"target_sentence\"]].to_csv(\"dev.\"+target_language, header=False, index=False)\n",
        "\n",
        "# Doublecheck the format below. There should be no extra quotation marks or weird characters.\n",
        "! head train.*\n",
        "! head dev.*"
      ],
      "execution_count": 22,
      "outputs": [
        {
          "output_type": "stream",
          "text": [
            "==> train.en <==\n",
            "The number of publishers is now about ten times what it was when I began serving here .\n",
            "Similarly , elders should not only encourage and console their brothers with words but also build them up by showing sincere personal interest . ​ — 1 Cor .\n",
            "17 Why We “ Keep Bearing Much Fruit ”\n",
            "Now I have a journal that I keep on my desk to schedule upcoming work , and this helps me to schedule myself , not leaving things till the last minute . ”\n",
            "1 , 2 . ( a ) How do some react to the thought that God has an organization ?\n",
            "We cannot go to the point of disobeying God or violating our Christian neutrality . ​ — Read 1 Peter 2 : 13 - 17 .\n",
            "Did this mean freedom for every literal slave ?\n",
            "Eventually , all my siblings did so and became Jehovah’s Witnesses .\n",
            "How pleased Jehovah will be as he observes our whole - souled efforts to “ keep bearing much fruit ” !\n",
            "Joseph , though , was a disciple , but he could not bring himself to say so openly .\n",
            "\n",
            "==> train.urh <==\n",
            "Ighwoghwota rehẹ ẹkuotọ na enẹna vwẹ ọhwọhwọ ihwe vwo bun vrẹ obo rọ hepha ọke me vwọ ga vwẹ oboyin .\n",
            "( 2 Kọr . 12 : 15 ) Vwẹ idjerhe vuọvo na , vwọ vrẹ ota rẹ unu rẹ ekpako cha vwọ bọn iniọvo na gan , o ji fo nẹ ayen ru obo ro che djephia nẹ ayen vwo ọdavwẹ rayen . ​ — 1 Kọr .\n",
            "17 Oboresorọ O Vwo Fo Nẹ A “ Mọ Ibi Buebu ”\n",
            "Asaọkiephana , mi vwo ẹbe rẹ mi si ọrhuẹrẹphiyotọ mẹ phiyọ , ọnana vwẹ ukẹcha kẹ vwẹ vwọ nabọ vwẹrote iruo mẹ , me rha yanjẹ ọvuọvo vwo hẹrhẹ imibrẹro ri chekọ bẹsiẹ ọke na vwo re - e . ”\n",
            "1 , 2 . ( a ) Die yen ihwo evo ta siẹrẹ ayen de nyo nẹ Ọghẹnẹ vwo ukoko ?\n",
            "Avwanre cha sa churhi rẹ Ọghẹnẹ fikirẹ aye - en yẹrẹ dia ẹbẹre ọvo rẹ akpọ na - a . — Se 1 Pita 2 : 13 - 17 .\n",
            "( Luk 4 : 18 ) Ọnana mudiaphiyọ egbomọphẹ vwọ kẹ ihwo re mu kpo eviẹn ?\n",
            "Ukuotọ rọyen , iniọvo mẹ eje de yono Baibol ji bromaphiyame kerẹ Iseri rẹ Jihova .\n",
            "O muẹro dẹn nẹ oma nabọ vwerhen Jihova kọke kọke rọ da mrẹ oborẹ avwanre davwan te , ra vwọ “ mọ ibi buebu ” !\n",
            "Ẹkẹvuọvo , Josẹf ọyen odibo rẹ Jesu ro se dje oma phia vwẹ azagba - a .\n",
            "==> dev.en <==\n",
            "These orchestral arrangements are composed in such a way that they will prepare our heart and mind for the program to follow .\n",
            "Today he is serving at Bethel .\n",
            "But freedom from what ?\n",
            "Avoid comparing your new congregation with your previous one .\n",
            "2 : 16 , 17 .\n",
            "As stated , the vindication of Jehovah’s sovereignty is a vital issue involving mankind .\n",
            "That is especially so if our treacherous heart tugs us in the opposite direction .\n",
            "At times , this resulted in more money going out than coming in for a period of time .\n",
            "How did hope reinforce Noah’s faith ?\n",
            "What prompts a mother to care tenderly for her newborn baby ?\n",
            "\n",
            "==> dev.urh <==\n",
            "E ru uhworo nana vwẹ idjerhe ro de se muegbe rẹ ubiudu rẹ avwanre hẹrhẹ ọrhuẹrẹphiyọ rẹ ẹdẹ yena .\n",
            "Nonẹna , ọ ga vwẹ Bẹtẹl .\n",
            "Ẹkẹvuọvo , ẹdia vọ yen egbomọphẹ na che si ayen nu ?\n",
            "Wọ vwẹ ukoko kpokpọ na vwọ vwanvwen ọ rẹ wo nurhe na - a .\n",
            "2 : 16 , 17 .\n",
            "Kirobo ra tarọ jovwo , etito rẹ usuon rẹ Jihova , ọyen ota ọghanghanre ro fori nẹ ihworakpọ tẹnrovi .\n",
            "Ma rho , udu avwanre rọ vọnre vẹ ophiẹnvwe na da vuẹ avwanre nẹ e ru obo re chọre .\n",
            "Iruo kpokpọ nana nẹrhẹ a ghwọrọ vrẹ obo re torori ọkiọvo .\n",
            "Mavọ yen iphiẹrophiyọ vwọ nẹrhẹ esegbuyota rẹ Noa ganphiyọ ?\n",
            "Die yen mu oni vwọ vwẹrote ọmọ ro ghwe vwiẹ ?\n"
          ],
          "name": "stdout"
        }
      ]
    },
    {
      "cell_type": "markdown",
      "metadata": {
        "colab_type": "text",
        "id": "epeCydmCyS8X"
      },
      "source": [
        "\n",
        "\n",
        "---\n",
        "\n",
        "\n",
        "## Installation of JoeyNMT\n",
        "\n",
        "JoeyNMT is a simple, minimalist NMT package which is useful for learning and teaching. Check out the documentation for JoeyNMT [here](https://joeynmt.readthedocs.io)  "
      ]
    },
    {
      "cell_type": "code",
      "metadata": {
        "colab_type": "code",
        "id": "iBRMm4kMxZ8L",
        "colab": {
          "base_uri": "https://localhost:8080/",
          "height": 1000
        },
        "outputId": "0b7de6db-71f8-461f-fd32-b57ad40081ce"
      },
      "source": [
        "# Install JoeyNMT\n",
        "! git clone https://github.com/joeynmt/joeynmt.git\n",
        "! cd joeynmt; pip3 install ."
      ],
      "execution_count": 23,
      "outputs": [
        {
          "output_type": "stream",
          "text": [
            "Cloning into 'joeynmt'...\n",
            "remote: Enumerating objects: 15, done.\u001b[K\n",
            "remote: Counting objects: 100% (15/15), done.\u001b[K\n",
            "remote: Compressing objects: 100% (12/12), done.\u001b[K\n",
            "remote: Total 2199 (delta 4), reused 5 (delta 3), pack-reused 2184\u001b[K\n",
            "Receiving objects: 100% (2199/2199), 2.60 MiB | 4.31 MiB/s, done.\n",
            "Resolving deltas: 100% (1525/1525), done.\n",
            "Processing /content/joeynmt\n",
            "Requirement already satisfied: future in /usr/local/lib/python3.6/dist-packages (from joeynmt==0.0.1) (0.16.0)\n",
            "Requirement already satisfied: pillow in /usr/local/lib/python3.6/dist-packages (from joeynmt==0.0.1) (4.3.0)\n",
            "Requirement already satisfied: numpy<2.0,>=1.14.5 in /usr/local/lib/python3.6/dist-packages (from joeynmt==0.0.1) (1.17.4)\n",
            "Requirement already satisfied: setuptools>=41.0.0 in /usr/local/lib/python3.6/dist-packages (from joeynmt==0.0.1) (42.0.2)\n",
            "Requirement already satisfied: torch>=1.1 in /usr/local/lib/python3.6/dist-packages (from joeynmt==0.0.1) (1.3.1)\n",
            "Requirement already satisfied: tensorflow>=1.14 in /usr/local/lib/python3.6/dist-packages (from joeynmt==0.0.1) (1.15.0)\n",
            "Requirement already satisfied: torchtext in /usr/local/lib/python3.6/dist-packages (from joeynmt==0.0.1) (0.3.1)\n",
            "Collecting sacrebleu>=1.3.6\n",
            "  Downloading https://files.pythonhosted.org/packages/45/31/1a135b964c169984b27fb2f7a50280fa7f8e6d9d404d8a9e596180487fd1/sacrebleu-1.4.3-py3-none-any.whl\n",
            "Collecting subword-nmt\n",
            "  Downloading https://files.pythonhosted.org/packages/74/60/6600a7bc09e7ab38bc53a48a20d8cae49b837f93f5842a41fe513a694912/subword_nmt-0.3.7-py2.py3-none-any.whl\n",
            "Requirement already satisfied: matplotlib in /usr/local/lib/python3.6/dist-packages (from joeynmt==0.0.1) (3.1.2)\n",
            "Requirement already satisfied: seaborn in /usr/local/lib/python3.6/dist-packages (from joeynmt==0.0.1) (0.9.0)\n",
            "Collecting pyyaml>=5.1\n",
            "\u001b[?25l  Downloading https://files.pythonhosted.org/packages/8d/c9/e5be955a117a1ac548cdd31e37e8fd7b02ce987f9655f5c7563c656d5dcb/PyYAML-5.2.tar.gz (265kB)\n",
            "\u001b[K     |████████████████████████████████| 266kB 10.9MB/s \n",
            "\u001b[?25hCollecting pylint\n",
            "\u001b[?25l  Downloading https://files.pythonhosted.org/packages/e9/59/43fc36c5ee316bb9aeb7cf5329cdbdca89e5749c34d5602753827c0aa2dc/pylint-2.4.4-py3-none-any.whl (302kB)\n",
            "\u001b[K     |████████████████████████████████| 307kB 22.3MB/s \n",
            "\u001b[?25hRequirement already satisfied: six==1.12 in /usr/local/lib/python3.6/dist-packages (from joeynmt==0.0.1) (1.12.0)\n",
            "Requirement already satisfied: olefile in /usr/local/lib/python3.6/dist-packages (from pillow->joeynmt==0.0.1) (0.46)\n",
            "Requirement already satisfied: wrapt>=1.11.1 in /usr/local/lib/python3.6/dist-packages (from tensorflow>=1.14->joeynmt==0.0.1) (1.11.2)\n",
            "Requirement already satisfied: gast==0.2.2 in /usr/local/lib/python3.6/dist-packages (from tensorflow>=1.14->joeynmt==0.0.1) (0.2.2)\n",
            "Requirement already satisfied: absl-py>=0.7.0 in /usr/local/lib/python3.6/dist-packages (from tensorflow>=1.14->joeynmt==0.0.1) (0.8.1)\n",
            "Requirement already satisfied: opt-einsum>=2.3.2 in /usr/local/lib/python3.6/dist-packages (from tensorflow>=1.14->joeynmt==0.0.1) (3.1.0)\n",
            "Requirement already satisfied: tensorboard<1.16.0,>=1.15.0 in /usr/local/lib/python3.6/dist-packages (from tensorflow>=1.14->joeynmt==0.0.1) (1.15.0)\n",
            "Requirement already satisfied: astor>=0.6.0 in /usr/local/lib/python3.6/dist-packages (from tensorflow>=1.14->joeynmt==0.0.1) (0.8.1)\n",
            "Requirement already satisfied: tensorflow-estimator==1.15.1 in /usr/local/lib/python3.6/dist-packages (from tensorflow>=1.14->joeynmt==0.0.1) (1.15.1)\n",
            "Requirement already satisfied: grpcio>=1.8.6 in /usr/local/lib/python3.6/dist-packages (from tensorflow>=1.14->joeynmt==0.0.1) (1.15.0)\n",
            "Requirement already satisfied: wheel>=0.26 in /usr/local/lib/python3.6/dist-packages (from tensorflow>=1.14->joeynmt==0.0.1) (0.33.6)\n",
            "Requirement already satisfied: protobuf>=3.6.1 in /usr/local/lib/python3.6/dist-packages (from tensorflow>=1.14->joeynmt==0.0.1) (3.10.0)\n",
            "Requirement already satisfied: google-pasta>=0.1.6 in /usr/local/lib/python3.6/dist-packages (from tensorflow>=1.14->joeynmt==0.0.1) (0.1.8)\n",
            "Requirement already satisfied: keras-applications>=1.0.8 in /usr/local/lib/python3.6/dist-packages (from tensorflow>=1.14->joeynmt==0.0.1) (1.0.8)\n",
            "Requirement already satisfied: keras-preprocessing>=1.0.5 in /usr/local/lib/python3.6/dist-packages (from tensorflow>=1.14->joeynmt==0.0.1) (1.1.0)\n",
            "Requirement already satisfied: termcolor>=1.1.0 in /usr/local/lib/python3.6/dist-packages (from tensorflow>=1.14->joeynmt==0.0.1) (1.1.0)\n",
            "Requirement already satisfied: tqdm in /usr/local/lib/python3.6/dist-packages (from torchtext->joeynmt==0.0.1) (4.28.1)\n",
            "Requirement already satisfied: requests in /usr/local/lib/python3.6/dist-packages (from torchtext->joeynmt==0.0.1) (2.21.0)\n",
            "Collecting portalocker\n",
            "  Downloading https://files.pythonhosted.org/packages/91/db/7bc703c0760df726839e0699b7f78a4d8217fdc9c7fcb1b51b39c5a22a4e/portalocker-1.5.2-py2.py3-none-any.whl\n",
            "Requirement already satisfied: typing in /usr/local/lib/python3.6/dist-packages (from sacrebleu>=1.3.6->joeynmt==0.0.1) (3.6.6)\n",
            "Requirement already satisfied: pyparsing!=2.0.4,!=2.1.2,!=2.1.6,>=2.0.1 in /usr/local/lib/python3.6/dist-packages (from matplotlib->joeynmt==0.0.1) (2.4.5)\n",
            "Requirement already satisfied: kiwisolver>=1.0.1 in /usr/local/lib/python3.6/dist-packages (from matplotlib->joeynmt==0.0.1) (1.1.0)\n",
            "Requirement already satisfied: cycler>=0.10 in /usr/local/lib/python3.6/dist-packages (from matplotlib->joeynmt==0.0.1) (0.10.0)\n",
            "Requirement already satisfied: python-dateutil>=2.1 in /usr/local/lib/python3.6/dist-packages (from matplotlib->joeynmt==0.0.1) (2.6.1)\n",
            "Requirement already satisfied: pandas>=0.15.2 in /usr/local/lib/python3.6/dist-packages (from seaborn->joeynmt==0.0.1) (0.25.3)\n",
            "Requirement already satisfied: scipy>=0.14.0 in /usr/local/lib/python3.6/dist-packages (from seaborn->joeynmt==0.0.1) (1.3.3)\n",
            "Collecting mccabe<0.7,>=0.6\n",
            "  Downloading https://files.pythonhosted.org/packages/87/89/479dc97e18549e21354893e4ee4ef36db1d237534982482c3681ee6e7b57/mccabe-0.6.1-py2.py3-none-any.whl\n",
            "Collecting isort<5,>=4.2.5\n",
            "\u001b[?25l  Downloading https://files.pythonhosted.org/packages/e5/b0/c121fd1fa3419ea9bfd55c7f9c4fedfec5143208d8c7ad3ce3db6c623c21/isort-4.3.21-py2.py3-none-any.whl (42kB)\n",
            "\u001b[K     |████████████████████████████████| 51kB 8.6MB/s \n",
            "\u001b[?25hCollecting astroid<2.4,>=2.3.0\n",
            "\u001b[?25l  Downloading https://files.pythonhosted.org/packages/ad/ae/86734823047962e7b8c8529186a1ac4a7ca19aaf1aa0c7713c022ef593fd/astroid-2.3.3-py3-none-any.whl (205kB)\n",
            "\u001b[K     |████████████████████████████████| 215kB 25.4MB/s \n",
            "\u001b[?25hRequirement already satisfied: markdown>=2.6.8 in /usr/local/lib/python3.6/dist-packages (from tensorboard<1.16.0,>=1.15.0->tensorflow>=1.14->joeynmt==0.0.1) (3.1.1)\n",
            "Requirement already satisfied: werkzeug>=0.11.15 in /usr/local/lib/python3.6/dist-packages (from tensorboard<1.16.0,>=1.15.0->tensorflow>=1.14->joeynmt==0.0.1) (0.16.0)\n",
            "Requirement already satisfied: h5py in /usr/local/lib/python3.6/dist-packages (from keras-applications>=1.0.8->tensorflow>=1.14->joeynmt==0.0.1) (2.8.0)\n",
            "Requirement already satisfied: chardet<3.1.0,>=3.0.2 in /usr/local/lib/python3.6/dist-packages (from requests->torchtext->joeynmt==0.0.1) (3.0.4)\n",
            "Requirement already satisfied: urllib3<1.25,>=1.21.1 in /usr/local/lib/python3.6/dist-packages (from requests->torchtext->joeynmt==0.0.1) (1.24.3)\n",
            "Requirement already satisfied: idna<2.9,>=2.5 in /usr/local/lib/python3.6/dist-packages (from requests->torchtext->joeynmt==0.0.1) (2.8)\n",
            "Requirement already satisfied: certifi>=2017.4.17 in /usr/local/lib/python3.6/dist-packages (from requests->torchtext->joeynmt==0.0.1) (2019.11.28)\n",
            "Requirement already satisfied: pytz>=2017.2 in /usr/local/lib/python3.6/dist-packages (from pandas>=0.15.2->seaborn->joeynmt==0.0.1) (2018.9)\n",
            "Collecting typed-ast<1.5,>=1.4.0; implementation_name == \"cpython\" and python_version < \"3.8\"\n",
            "\u001b[?25l  Downloading https://files.pythonhosted.org/packages/31/d3/9d1802c161626d0278bafb1ffb32f76b9d01e123881bbf9d91e8ccf28e18/typed_ast-1.4.0-cp36-cp36m-manylinux1_x86_64.whl (736kB)\n",
            "\u001b[K     |████████████████████████████████| 737kB 26.4MB/s \n",
            "\u001b[?25hCollecting lazy-object-proxy==1.4.*\n",
            "\u001b[?25l  Downloading https://files.pythonhosted.org/packages/0b/dd/b1e3407e9e6913cf178e506cd0dee818e58694d9a5cd1984e3f6a8b9a10f/lazy_object_proxy-1.4.3-cp36-cp36m-manylinux1_x86_64.whl (55kB)\n",
            "\u001b[K     |████████████████████████████████| 61kB 10.5MB/s \n",
            "\u001b[?25hBuilding wheels for collected packages: joeynmt, pyyaml\n",
            "  Building wheel for joeynmt (setup.py) ... \u001b[?25l\u001b[?25hdone\n",
            "  Created wheel for joeynmt: filename=joeynmt-0.0.1-cp36-none-any.whl size=72136 sha256=77b08ba36545473f912885e7dd1849ba72a600b04598d2c533041a22c4b2334b\n",
            "  Stored in directory: /tmp/pip-ephem-wheel-cache-irh9ejn6/wheels/db/01/db/751cc9f3e7f6faec127c43644ba250a3ea7ad200594aeda70a\n",
            "  Building wheel for pyyaml (setup.py) ... \u001b[?25l\u001b[?25hdone\n",
            "  Created wheel for pyyaml: filename=PyYAML-5.2-cp36-cp36m-linux_x86_64.whl size=44209 sha256=16060e8d79413b558dc0fa40774fb8228633e49bfeec8755092376bb9284cc7f\n",
            "  Stored in directory: /root/.cache/pip/wheels/54/b7/c7/2ada654ee54483c9329871665aaf4a6056c3ce36f29cf66e67\n",
            "Successfully built joeynmt pyyaml\n",
            "Installing collected packages: portalocker, sacrebleu, subword-nmt, pyyaml, mccabe, isort, typed-ast, lazy-object-proxy, astroid, pylint, joeynmt\n",
            "  Found existing installation: PyYAML 3.13\n",
            "    Uninstalling PyYAML-3.13:\n",
            "      Successfully uninstalled PyYAML-3.13\n",
            "Successfully installed astroid-2.3.3 isort-4.3.21 joeynmt-0.0.1 lazy-object-proxy-1.4.3 mccabe-0.6.1 portalocker-1.5.2 pylint-2.4.4 pyyaml-5.2 sacrebleu-1.4.3 subword-nmt-0.3.7 typed-ast-1.4.0\n"
          ],
          "name": "stdout"
        }
      ]
    },
    {
      "cell_type": "markdown",
      "metadata": {
        "colab_type": "text",
        "id": "AaE77Tcppex9"
      },
      "source": [
        "# Preprocessing the Data into Subword BPE Tokens\n",
        "\n",
        "- One of the most powerful improvements for agglutinative languages (a feature of most Bantu languages) is using BPE tokenization [ (Sennrich, 2015) ](https://arxiv.org/abs/1508.07909).\n",
        "\n",
        "- It was also shown that by optimizing the umber of BPE codes we significantly improve results for low-resourced languages [(Sennrich, 2019)](https://www.aclweb.org/anthology/P19-1021) [(Martinus, 2019)](https://arxiv.org/abs/1906.05685)\n",
        "\n",
        "- Below we have the scripts for doing BPE tokenization of our data. We use 4000 tokens as recommended by [(Sennrich, 2019)](https://www.aclweb.org/anthology/P19-1021). You do not need to change anything. Simply running the below will be suitable. "
      ]
    },
    {
      "cell_type": "code",
      "metadata": {
        "id": "0DhFg6tlqVW5",
        "colab_type": "code",
        "colab": {}
      },
      "source": [
        "!ls drive/'My Drive'/masakhane/en-urh-baseline/models/enurh_transformer"
      ],
      "execution_count": 0,
      "outputs": []
    },
    {
      "cell_type": "code",
      "metadata": {
        "colab_type": "code",
        "id": "H-TyjtmXB1mL",
        "colab": {
          "base_uri": "https://localhost:8080/",
          "height": 408
        },
        "outputId": "a07315cb-83d5-4bc9-9a65-77c0ea7d9437"
      },
      "source": [
        "# IOHAVOC -- I DO NOT WANT TO DO BPE BY DEFAULT - maybe we should and use two different configs, but generate all the data now\n",
        "\n",
        "# One of the huge boosts in NMT performance was to use a different method of tokenizing. \n",
        "# Usually, NMT would tokenize by words. However, using a method called BPE gave amazing boosts to performance\n",
        "\n",
        "# Do subword NMT \n",
        "from os import path\n",
        "os.environ[\"src\"] = source_language # Sets them in bash as well, since we often use bash scripts\n",
        "os.environ[\"tgt\"] = target_language\n",
        "\n",
        "os.environ[\"data_path\"] = path.join(\"joeynmt\", \"data\", source_language + target_language) # Herman! \n",
        "\n",
        "# Learn BPEs on the training data.\n",
        "! subword-nmt learn-joint-bpe-and-vocab --input train.$src train.$tgt -s 4000 -o bpe.codes.4000 --write-vocabulary vocab.$src vocab.$tgt\n",
        "\n",
        "# Apply BPE splits to the development and test data.\n",
        "! subword-nmt apply-bpe -c bpe.codes.4000 --vocabulary vocab.$src < train.$src > train.bpe.$src\n",
        "! subword-nmt apply-bpe -c bpe.codes.4000 --vocabulary vocab.$tgt < train.$tgt > train.bpe.$tgt\n",
        "\n",
        "! subword-nmt apply-bpe -c bpe.codes.4000 --vocabulary vocab.$src < dev.$src > dev.bpe.$src\n",
        "! subword-nmt apply-bpe -c bpe.codes.4000 --vocabulary vocab.$tgt < dev.$tgt > dev.bpe.$tgt\n",
        "! subword-nmt apply-bpe -c bpe.codes.4000 --vocabulary vocab.$src < test.$src > test.bpe.$src\n",
        "! subword-nmt apply-bpe -c bpe.codes.4000 --vocabulary vocab.$tgt < test.$tgt > test.bpe.$tgt\n",
        "\n",
        "# Create directory, move everyone we care about to the correct location\n",
        "! mkdir -p $data_path\n",
        "! cp train.* $data_path\n",
        "! cp test.* $data_path\n",
        "! cp dev.* $data_path\n",
        "! cp bpe.codes.4000 $data_path\n",
        "! ls $data_path\n",
        "\n",
        "# Also move everything we care about to a mounted location in google drive (relevant if running in colab) at gdrive_path\n",
        "! cp train.* \"$gdrive_path\"\n",
        "! cp test.* \"$gdrive_path\"\n",
        "! cp dev.* \"$gdrive_path\"\n",
        "! cp bpe.codes.4000 \"$gdrive_path\"\n",
        "! ls \"$gdrive_path\"\n",
        "\n",
        "# Create that vocab using build_vocab\n",
        "! sudo chmod 777 joeynmt/scripts/build_vocab.py\n",
        "! joeynmt/scripts/build_vocab.py joeynmt/data/$src$tgt/train.bpe.$src joeynmt/data/$src$tgt/train.bpe.$tgt --output_path joeynmt/data/$src$tgt/vocab.txt\n",
        "\n",
        "# Some output\n",
        "! echo \"BPE Urhobo Sentences\"\n",
        "! tail -n 5 test.bpe.$tgt\n",
        "! echo \"Combined BPE Vocab\"\n",
        "! tail -n 10 joeynmt/data/$src$tgt/vocab.txt  # Herman"
      ],
      "execution_count": 25,
      "outputs": [
        {
          "output_type": "stream",
          "text": [
            "bpe.codes.4000\tdev.en\t     test.bpe.urh    test.urh\t    train.en\n",
            "dev.bpe.en\tdev.urh      test.en\t     train.bpe.en   train.urh\n",
            "dev.bpe.urh\ttest.bpe.en  test.en-any.en  train.bpe.urh\n",
            "bpe.codes.4000\tdev.en\t     test.bpe.urh    test.urh\t    train.en\n",
            "dev.bpe.en\tdev.urh      test.en\t     train.bpe.en   train.urh\n",
            "dev.bpe.urh\ttest.bpe.en  test.en-any.en  train.bpe.urh\n",
            "BPE Urhobo Sentences\n",
            "Diesorọ H@@ us@@ ha@@ i vwọ guọnọ uduefiogbere ọ sa vwọ fuevun kẹ Ọghẹnẹ ?\n",
            "Diesorọ ọ vwọ guọnọ uduefiogbere avwanre ke sa fuevun ?\n",
            "Me nẹrhovwo vwọ kẹ uduefiogbere me sa vwọ yọn@@ regan .\n",
            "E@@ nẹ@@ na , ẹwẹn rayen kpotọ re , me sa kọn bru ayen ra ọkieje . ” — Se Isẹ 29 : 25 .\n",
            "[ 1 ] ( ẹkorota 7 ) E wene e@@ dẹ evo .\n",
            "Combined BPE Vocab\n",
            "ording\n",
            "ople\n",
            "eignty\n",
            "ẹgbaẹ@@\n",
            "Heb@@\n",
            "sider\n",
            "Babil@@\n",
            "/@@\n",
            "rọvw@@\n",
            "Jihov@@\n"
          ],
          "name": "stdout"
        }
      ]
    },
    {
      "cell_type": "code",
      "metadata": {
        "id": "kzp-2iLmyct4",
        "colab_type": "code",
        "colab": {
          "base_uri": "https://localhost:8080/",
          "height": 238
        },
        "outputId": "b084dd27-b59b-4ac8-caf9-e7432b69c317"
      },
      "source": [
        "! ls joeynmt/data/enurh\n",
        "! ls joeynmt/configs"
      ],
      "execution_count": 37,
      "outputs": [
        {
          "output_type": "stream",
          "text": [
            "bpe.codes.4000\tdev.urh       test.en-any.en  train.en\n",
            "dev.bpe.en\ttest.bpe.en   test.urh\t      train.urh\n",
            "dev.bpe.urh\ttest.bpe.urh  train.bpe.en    vocab-nonBPE.txt\n",
            "dev.en\t\ttest.en       train.bpe.urh   vocab.txt\n",
            "iwslt14_deen_bpe.yaml\t\t   transformer_reverse.yaml\n",
            "iwslt_deen_bahdanau.yaml\t   transformer_small.yaml\n",
            "iwslt_envi_luong.yaml\t\t   transformer_wmt17_ende.yaml\n",
            "iwslt_envi_xnmt.yaml\t\t   transformer_wmt17_lven.yaml\n",
            "reverse.yaml\t\t\t   wmt_ende_best.yaml\n",
            "small.yaml\t\t\t   wmt_ende_default.yaml\n",
            "transformer_copy.yaml\t\t   wmt_lven_best.yaml\n",
            "transformer_enurh.yaml\t\t   wmt_lven_default.yaml\n",
            "transformer_iwslt14_deen_bpe.yaml\n"
          ],
          "name": "stdout"
        }
      ]
    },
    {
      "cell_type": "code",
      "metadata": {
        "id": "gRiUoc_ryUR8",
        "colab_type": "code",
        "colab": {}
      },
      "source": [
        "# #### IOHAVOC THIS IS WHERE YOU WILL NEED TO CRREATE THE VOCAB FOR NON-BPE stuff\n",
        "! joeynmt/scripts/build_vocab.py joeynmt/data/$src$tgt/train.$src joeynmt/data/$src$tgt/train.$tgt --output_path joeynmt/data/$src$tgt/vocab-nonBPE.txt\n"
      ],
      "execution_count": 0,
      "outputs": []
    },
    {
      "cell_type": "code",
      "metadata": {
        "colab_type": "code",
        "id": "IlMitUHR8Qy-",
        "colab": {
          "base_uri": "https://localhost:8080/",
          "height": 68
        },
        "outputId": "413aee12-3849-42f1-da3c-ef0ca5bc8086"
      },
      "source": [
        "# Also move everything we care about to a mounted location in google drive (relevant if running in colab) at gdrive_path\n",
        "! cp train.* \"$gdrive_path\"\n",
        "! cp test.* \"$gdrive_path\"\n",
        "! cp dev.* \"$gdrive_path\"\n",
        "! cp bpe.codes.4000 \"$gdrive_path\"\n",
        "! ls \"$gdrive_path\""
      ],
      "execution_count": 36,
      "outputs": [
        {
          "output_type": "stream",
          "text": [
            "bpe.codes.4000\tdev.en\t     test.bpe.urh    test.urh\t    train.en\n",
            "dev.bpe.en\tdev.urh      test.en\t     train.bpe.en   train.urh\n",
            "dev.bpe.urh\ttest.bpe.en  test.en-any.en  train.bpe.urh\n"
          ],
          "name": "stdout"
        }
      ]
    },
    {
      "cell_type": "markdown",
      "metadata": {
        "colab_type": "text",
        "id": "Ixmzi60WsUZ8"
      },
      "source": [
        "# Creating the JoeyNMT Config\n",
        "\n",
        "JoeyNMT requires a yaml config. We provide a template below. We've also set a number of defaults with it, that you may play with!\n",
        "\n",
        "- We used Transformer architecture \n",
        "- We set our dropout to reasonably high: 0.3 (recommended in  [(Sennrich, 2019)](https://www.aclweb.org/anthology/P19-1021))\n",
        "\n",
        "Things worth playing with:\n",
        "- The batch size (also recommended to change for low-resourced languages)\n",
        "- The number of epochs (we've set it at 30 just so it runs in about an hour, for testing purposes)\n",
        "- The decoder options (beam_size, alpha)\n",
        "- Evaluation metrics (BLEU versus Crhf4)"
      ]
    },
    {
      "cell_type": "code",
      "metadata": {
        "colab_type": "code",
        "id": "PIs1lY2hxMsl",
        "colab": {}
      },
      "source": [
        "# This creates the config file for our JoeyNMT system. It might seem overwhelming so we've provided a couple of useful parameters you'll need to update\n",
        "# (You can of course play with all the parameters if you'd like!)\n",
        "\n",
        "name = '%s%s' % (source_language, target_language)\n",
        "gdrive_path = os.environ[\"gdrive_path\"]\n",
        "\n",
        "# Create the config\n",
        "config = \"\"\"\n",
        "name: \"{name}_transformer\"\n",
        "\n",
        "data:\n",
        "    src: \"{source_language}\"\n",
        "    trg: \"{target_language}\"\n",
        "    train: \"data/{name}/train.bpe\"\n",
        "    dev:   \"data/{name}/dev.bpe\"\n",
        "    test:  \"data/{name}/test.bpe\"\n",
        "    level: \"bpe\"\n",
        "    lowercase: False\n",
        "    max_sent_length: 100\n",
        "    src_vocab: \"data/{name}/vocab.txt\"\n",
        "    trg_vocab: \"data/{name}/vocab.txt\"\n",
        "\n",
        "testing:\n",
        "    beam_size: 5\n",
        "    alpha: 1.0\n",
        "\n",
        "training:\n",
        "    #load_model: \"{gdrive_path}/models/{name}_transformer/1.ckpt\" # if uncommented, load a pre-trained model from this checkpoint\n",
        "    random_seed: 42\n",
        "    optimizer: \"adam\"\n",
        "    normalization: \"tokens\"\n",
        "    adam_betas: [0.9, 0.999] \n",
        "    scheduling: \"plateau\"           # TODO: try switching from plateau to Noam scheduling\n",
        "    patience: 5                     # For plateau: decrease learning rate by decrease_factor if validation score has not improved for this many validation rounds.\n",
        "    learning_rate_factor: 0.5       # factor for Noam scheduler (used with Transformer)\n",
        "    learning_rate_warmup: 1000      # warmup steps for Noam scheduler (used with Transformer)\n",
        "    decrease_factor: 0.7\n",
        "    loss: \"crossentropy\"\n",
        "    learning_rate: 0.0003\n",
        "    learning_rate_min: 0.00000001\n",
        "    weight_decay: 0.0\n",
        "    label_smoothing: 0.1\n",
        "    batch_size: 4096\n",
        "    batch_type: \"token\"\n",
        "    eval_batch_size: 3600\n",
        "    eval_batch_type: \"token\"\n",
        "    batch_multiplier: 1\n",
        "    early_stopping_metric: \"ppl\"\n",
        "    epochs: 30                     # TODO: Decrease for when playing around and checking of working. Around 30 is sufficient to check if its working at all\n",
        "    validation_freq: 1000          # TODO: Set to at least once per epoch.\n",
        "    logging_freq: 100\n",
        "    eval_metric: \"bleu\"\n",
        "    model_dir: \"models/{name}_transformer\"\n",
        "    overwrite: False               # TODO: Set to True if you want to overwrite possibly existing models. \n",
        "    shuffle: True\n",
        "    use_cuda: True\n",
        "    max_output_length: 100\n",
        "    print_valid_sents: [0, 1, 2, 3]\n",
        "    keep_last_ckpts: 3\n",
        "\n",
        "model:\n",
        "    initializer: \"xavier\"\n",
        "    bias_initializer: \"zeros\"\n",
        "    init_gain: 1.0\n",
        "    embed_initializer: \"xavier\"\n",
        "    embed_init_gain: 1.0\n",
        "    tied_embeddings: True\n",
        "    tied_softmax: True\n",
        "    encoder:\n",
        "        type: \"transformer\"\n",
        "        num_layers: 6\n",
        "        num_heads: 4             # TODO: Increase to 8 for larger data.\n",
        "        embeddings:\n",
        "            embedding_dim: 256   # TODO: Increase to 512 for larger data.\n",
        "            scale: True\n",
        "            dropout: 0.2\n",
        "        # typically ff_size = 4 x hidden_size\n",
        "        hidden_size: 256         # TODO: Increase to 512 for larger data.\n",
        "        ff_size: 1024            # TODO: Increase to 2048 for larger data.\n",
        "        dropout: 0.3\n",
        "    decoder:\n",
        "        type: \"transformer\"\n",
        "        num_layers: 6\n",
        "        num_heads: 4              # TODO: Increase to 8 for larger data.\n",
        "        embeddings:\n",
        "            embedding_dim: 256    # TODO: Increase to 512 for larger data.\n",
        "            scale: True\n",
        "            dropout: 0.2\n",
        "        # typically ff_size = 4 x hidden_size\n",
        "        hidden_size: 256         # TODO: Increase to 512 for larger data.\n",
        "        ff_size: 1024            # TODO: Increase to 2048 for larger data.\n",
        "        dropout: 0.3\n",
        "\"\"\".format(name=name, gdrive_path=os.environ[\"gdrive_path\"], source_language=source_language, target_language=target_language)\n",
        "with open(\"joeynmt/configs/transformer_{name}.yaml\".format(name=name),'w') as f:\n",
        "    f.write(config)"
      ],
      "execution_count": 0,
      "outputs": []
    },
    {
      "cell_type": "markdown",
      "metadata": {
        "colab_type": "text",
        "id": "pIifxE3Qzuvs"
      },
      "source": [
        "# Train the Model\n",
        "\n",
        "This single line of joeynmt runs the training using the config we made above"
      ]
    },
    {
      "cell_type": "code",
      "metadata": {
        "colab_type": "code",
        "id": "6ZBPFwT94WpI",
        "colab": {
          "base_uri": "https://localhost:8080/",
          "height": 1000
        },
        "outputId": "f59fce08-9d84-4e6d-8b2c-71d5d84f49d4"
      },
      "source": [
        "# Train the model\n",
        "# You can press Ctrl-C to stop. And then run the next cell to save your checkpoints! \n",
        "!cd joeynmt; python3 -m joeynmt train configs/transformer_$src$tgt.yaml"
      ],
      "execution_count": 38,
      "outputs": [
        {
          "output_type": "stream",
          "text": [
            "2019-12-30 07:56:09,236 Hello! This is Joey-NMT.\n",
            "2019-12-30 07:56:10,622 Total params: 12119552\n",
            "2019-12-30 07:56:10,623 Trainable parameters: ['decoder.layer_norm.bias', 'decoder.layer_norm.weight', 'decoder.layers.0.dec_layer_norm.bias', 'decoder.layers.0.dec_layer_norm.weight', 'decoder.layers.0.feed_forward.layer_norm.bias', 'decoder.layers.0.feed_forward.layer_norm.weight', 'decoder.layers.0.feed_forward.pwff_layer.0.bias', 'decoder.layers.0.feed_forward.pwff_layer.0.weight', 'decoder.layers.0.feed_forward.pwff_layer.3.bias', 'decoder.layers.0.feed_forward.pwff_layer.3.weight', 'decoder.layers.0.src_trg_att.k_layer.bias', 'decoder.layers.0.src_trg_att.k_layer.weight', 'decoder.layers.0.src_trg_att.output_layer.bias', 'decoder.layers.0.src_trg_att.output_layer.weight', 'decoder.layers.0.src_trg_att.q_layer.bias', 'decoder.layers.0.src_trg_att.q_layer.weight', 'decoder.layers.0.src_trg_att.v_layer.bias', 'decoder.layers.0.src_trg_att.v_layer.weight', 'decoder.layers.0.trg_trg_att.k_layer.bias', 'decoder.layers.0.trg_trg_att.k_layer.weight', 'decoder.layers.0.trg_trg_att.output_layer.bias', 'decoder.layers.0.trg_trg_att.output_layer.weight', 'decoder.layers.0.trg_trg_att.q_layer.bias', 'decoder.layers.0.trg_trg_att.q_layer.weight', 'decoder.layers.0.trg_trg_att.v_layer.bias', 'decoder.layers.0.trg_trg_att.v_layer.weight', 'decoder.layers.0.x_layer_norm.bias', 'decoder.layers.0.x_layer_norm.weight', 'decoder.layers.1.dec_layer_norm.bias', 'decoder.layers.1.dec_layer_norm.weight', 'decoder.layers.1.feed_forward.layer_norm.bias', 'decoder.layers.1.feed_forward.layer_norm.weight', 'decoder.layers.1.feed_forward.pwff_layer.0.bias', 'decoder.layers.1.feed_forward.pwff_layer.0.weight', 'decoder.layers.1.feed_forward.pwff_layer.3.bias', 'decoder.layers.1.feed_forward.pwff_layer.3.weight', 'decoder.layers.1.src_trg_att.k_layer.bias', 'decoder.layers.1.src_trg_att.k_layer.weight', 'decoder.layers.1.src_trg_att.output_layer.bias', 'decoder.layers.1.src_trg_att.output_layer.weight', 'decoder.layers.1.src_trg_att.q_layer.bias', 'decoder.layers.1.src_trg_att.q_layer.weight', 'decoder.layers.1.src_trg_att.v_layer.bias', 'decoder.layers.1.src_trg_att.v_layer.weight', 'decoder.layers.1.trg_trg_att.k_layer.bias', 'decoder.layers.1.trg_trg_att.k_layer.weight', 'decoder.layers.1.trg_trg_att.output_layer.bias', 'decoder.layers.1.trg_trg_att.output_layer.weight', 'decoder.layers.1.trg_trg_att.q_layer.bias', 'decoder.layers.1.trg_trg_att.q_layer.weight', 'decoder.layers.1.trg_trg_att.v_layer.bias', 'decoder.layers.1.trg_trg_att.v_layer.weight', 'decoder.layers.1.x_layer_norm.bias', 'decoder.layers.1.x_layer_norm.weight', 'decoder.layers.2.dec_layer_norm.bias', 'decoder.layers.2.dec_layer_norm.weight', 'decoder.layers.2.feed_forward.layer_norm.bias', 'decoder.layers.2.feed_forward.layer_norm.weight', 'decoder.layers.2.feed_forward.pwff_layer.0.bias', 'decoder.layers.2.feed_forward.pwff_layer.0.weight', 'decoder.layers.2.feed_forward.pwff_layer.3.bias', 'decoder.layers.2.feed_forward.pwff_layer.3.weight', 'decoder.layers.2.src_trg_att.k_layer.bias', 'decoder.layers.2.src_trg_att.k_layer.weight', 'decoder.layers.2.src_trg_att.output_layer.bias', 'decoder.layers.2.src_trg_att.output_layer.weight', 'decoder.layers.2.src_trg_att.q_layer.bias', 'decoder.layers.2.src_trg_att.q_layer.weight', 'decoder.layers.2.src_trg_att.v_layer.bias', 'decoder.layers.2.src_trg_att.v_layer.weight', 'decoder.layers.2.trg_trg_att.k_layer.bias', 'decoder.layers.2.trg_trg_att.k_layer.weight', 'decoder.layers.2.trg_trg_att.output_layer.bias', 'decoder.layers.2.trg_trg_att.output_layer.weight', 'decoder.layers.2.trg_trg_att.q_layer.bias', 'decoder.layers.2.trg_trg_att.q_layer.weight', 'decoder.layers.2.trg_trg_att.v_layer.bias', 'decoder.layers.2.trg_trg_att.v_layer.weight', 'decoder.layers.2.x_layer_norm.bias', 'decoder.layers.2.x_layer_norm.weight', 'decoder.layers.3.dec_layer_norm.bias', 'decoder.layers.3.dec_layer_norm.weight', 'decoder.layers.3.feed_forward.layer_norm.bias', 'decoder.layers.3.feed_forward.layer_norm.weight', 'decoder.layers.3.feed_forward.pwff_layer.0.bias', 'decoder.layers.3.feed_forward.pwff_layer.0.weight', 'decoder.layers.3.feed_forward.pwff_layer.3.bias', 'decoder.layers.3.feed_forward.pwff_layer.3.weight', 'decoder.layers.3.src_trg_att.k_layer.bias', 'decoder.layers.3.src_trg_att.k_layer.weight', 'decoder.layers.3.src_trg_att.output_layer.bias', 'decoder.layers.3.src_trg_att.output_layer.weight', 'decoder.layers.3.src_trg_att.q_layer.bias', 'decoder.layers.3.src_trg_att.q_layer.weight', 'decoder.layers.3.src_trg_att.v_layer.bias', 'decoder.layers.3.src_trg_att.v_layer.weight', 'decoder.layers.3.trg_trg_att.k_layer.bias', 'decoder.layers.3.trg_trg_att.k_layer.weight', 'decoder.layers.3.trg_trg_att.output_layer.bias', 'decoder.layers.3.trg_trg_att.output_layer.weight', 'decoder.layers.3.trg_trg_att.q_layer.bias', 'decoder.layers.3.trg_trg_att.q_layer.weight', 'decoder.layers.3.trg_trg_att.v_layer.bias', 'decoder.layers.3.trg_trg_att.v_layer.weight', 'decoder.layers.3.x_layer_norm.bias', 'decoder.layers.3.x_layer_norm.weight', 'decoder.layers.4.dec_layer_norm.bias', 'decoder.layers.4.dec_layer_norm.weight', 'decoder.layers.4.feed_forward.layer_norm.bias', 'decoder.layers.4.feed_forward.layer_norm.weight', 'decoder.layers.4.feed_forward.pwff_layer.0.bias', 'decoder.layers.4.feed_forward.pwff_layer.0.weight', 'decoder.layers.4.feed_forward.pwff_layer.3.bias', 'decoder.layers.4.feed_forward.pwff_layer.3.weight', 'decoder.layers.4.src_trg_att.k_layer.bias', 'decoder.layers.4.src_trg_att.k_layer.weight', 'decoder.layers.4.src_trg_att.output_layer.bias', 'decoder.layers.4.src_trg_att.output_layer.weight', 'decoder.layers.4.src_trg_att.q_layer.bias', 'decoder.layers.4.src_trg_att.q_layer.weight', 'decoder.layers.4.src_trg_att.v_layer.bias', 'decoder.layers.4.src_trg_att.v_layer.weight', 'decoder.layers.4.trg_trg_att.k_layer.bias', 'decoder.layers.4.trg_trg_att.k_layer.weight', 'decoder.layers.4.trg_trg_att.output_layer.bias', 'decoder.layers.4.trg_trg_att.output_layer.weight', 'decoder.layers.4.trg_trg_att.q_layer.bias', 'decoder.layers.4.trg_trg_att.q_layer.weight', 'decoder.layers.4.trg_trg_att.v_layer.bias', 'decoder.layers.4.trg_trg_att.v_layer.weight', 'decoder.layers.4.x_layer_norm.bias', 'decoder.layers.4.x_layer_norm.weight', 'decoder.layers.5.dec_layer_norm.bias', 'decoder.layers.5.dec_layer_norm.weight', 'decoder.layers.5.feed_forward.layer_norm.bias', 'decoder.layers.5.feed_forward.layer_norm.weight', 'decoder.layers.5.feed_forward.pwff_layer.0.bias', 'decoder.layers.5.feed_forward.pwff_layer.0.weight', 'decoder.layers.5.feed_forward.pwff_layer.3.bias', 'decoder.layers.5.feed_forward.pwff_layer.3.weight', 'decoder.layers.5.src_trg_att.k_layer.bias', 'decoder.layers.5.src_trg_att.k_layer.weight', 'decoder.layers.5.src_trg_att.output_layer.bias', 'decoder.layers.5.src_trg_att.output_layer.weight', 'decoder.layers.5.src_trg_att.q_layer.bias', 'decoder.layers.5.src_trg_att.q_layer.weight', 'decoder.layers.5.src_trg_att.v_layer.bias', 'decoder.layers.5.src_trg_att.v_layer.weight', 'decoder.layers.5.trg_trg_att.k_layer.bias', 'decoder.layers.5.trg_trg_att.k_layer.weight', 'decoder.layers.5.trg_trg_att.output_layer.bias', 'decoder.layers.5.trg_trg_att.output_layer.weight', 'decoder.layers.5.trg_trg_att.q_layer.bias', 'decoder.layers.5.trg_trg_att.q_layer.weight', 'decoder.layers.5.trg_trg_att.v_layer.bias', 'decoder.layers.5.trg_trg_att.v_layer.weight', 'decoder.layers.5.x_layer_norm.bias', 'decoder.layers.5.x_layer_norm.weight', 'encoder.layer_norm.bias', 'encoder.layer_norm.weight', 'encoder.layers.0.feed_forward.layer_norm.bias', 'encoder.layers.0.feed_forward.layer_norm.weight', 'encoder.layers.0.feed_forward.pwff_layer.0.bias', 'encoder.layers.0.feed_forward.pwff_layer.0.weight', 'encoder.layers.0.feed_forward.pwff_layer.3.bias', 'encoder.layers.0.feed_forward.pwff_layer.3.weight', 'encoder.layers.0.layer_norm.bias', 'encoder.layers.0.layer_norm.weight', 'encoder.layers.0.src_src_att.k_layer.bias', 'encoder.layers.0.src_src_att.k_layer.weight', 'encoder.layers.0.src_src_att.output_layer.bias', 'encoder.layers.0.src_src_att.output_layer.weight', 'encoder.layers.0.src_src_att.q_layer.bias', 'encoder.layers.0.src_src_att.q_layer.weight', 'encoder.layers.0.src_src_att.v_layer.bias', 'encoder.layers.0.src_src_att.v_layer.weight', 'encoder.layers.1.feed_forward.layer_norm.bias', 'encoder.layers.1.feed_forward.layer_norm.weight', 'encoder.layers.1.feed_forward.pwff_layer.0.bias', 'encoder.layers.1.feed_forward.pwff_layer.0.weight', 'encoder.layers.1.feed_forward.pwff_layer.3.bias', 'encoder.layers.1.feed_forward.pwff_layer.3.weight', 'encoder.layers.1.layer_norm.bias', 'encoder.layers.1.layer_norm.weight', 'encoder.layers.1.src_src_att.k_layer.bias', 'encoder.layers.1.src_src_att.k_layer.weight', 'encoder.layers.1.src_src_att.output_layer.bias', 'encoder.layers.1.src_src_att.output_layer.weight', 'encoder.layers.1.src_src_att.q_layer.bias', 'encoder.layers.1.src_src_att.q_layer.weight', 'encoder.layers.1.src_src_att.v_layer.bias', 'encoder.layers.1.src_src_att.v_layer.weight', 'encoder.layers.2.feed_forward.layer_norm.bias', 'encoder.layers.2.feed_forward.layer_norm.weight', 'encoder.layers.2.feed_forward.pwff_layer.0.bias', 'encoder.layers.2.feed_forward.pwff_layer.0.weight', 'encoder.layers.2.feed_forward.pwff_layer.3.bias', 'encoder.layers.2.feed_forward.pwff_layer.3.weight', 'encoder.layers.2.layer_norm.bias', 'encoder.layers.2.layer_norm.weight', 'encoder.layers.2.src_src_att.k_layer.bias', 'encoder.layers.2.src_src_att.k_layer.weight', 'encoder.layers.2.src_src_att.output_layer.bias', 'encoder.layers.2.src_src_att.output_layer.weight', 'encoder.layers.2.src_src_att.q_layer.bias', 'encoder.layers.2.src_src_att.q_layer.weight', 'encoder.layers.2.src_src_att.v_layer.bias', 'encoder.layers.2.src_src_att.v_layer.weight', 'encoder.layers.3.feed_forward.layer_norm.bias', 'encoder.layers.3.feed_forward.layer_norm.weight', 'encoder.layers.3.feed_forward.pwff_layer.0.bias', 'encoder.layers.3.feed_forward.pwff_layer.0.weight', 'encoder.layers.3.feed_forward.pwff_layer.3.bias', 'encoder.layers.3.feed_forward.pwff_layer.3.weight', 'encoder.layers.3.layer_norm.bias', 'encoder.layers.3.layer_norm.weight', 'encoder.layers.3.src_src_att.k_layer.bias', 'encoder.layers.3.src_src_att.k_layer.weight', 'encoder.layers.3.src_src_att.output_layer.bias', 'encoder.layers.3.src_src_att.output_layer.weight', 'encoder.layers.3.src_src_att.q_layer.bias', 'encoder.layers.3.src_src_att.q_layer.weight', 'encoder.layers.3.src_src_att.v_layer.bias', 'encoder.layers.3.src_src_att.v_layer.weight', 'encoder.layers.4.feed_forward.layer_norm.bias', 'encoder.layers.4.feed_forward.layer_norm.weight', 'encoder.layers.4.feed_forward.pwff_layer.0.bias', 'encoder.layers.4.feed_forward.pwff_layer.0.weight', 'encoder.layers.4.feed_forward.pwff_layer.3.bias', 'encoder.layers.4.feed_forward.pwff_layer.3.weight', 'encoder.layers.4.layer_norm.bias', 'encoder.layers.4.layer_norm.weight', 'encoder.layers.4.src_src_att.k_layer.bias', 'encoder.layers.4.src_src_att.k_layer.weight', 'encoder.layers.4.src_src_att.output_layer.bias', 'encoder.layers.4.src_src_att.output_layer.weight', 'encoder.layers.4.src_src_att.q_layer.bias', 'encoder.layers.4.src_src_att.q_layer.weight', 'encoder.layers.4.src_src_att.v_layer.bias', 'encoder.layers.4.src_src_att.v_layer.weight', 'encoder.layers.5.feed_forward.layer_norm.bias', 'encoder.layers.5.feed_forward.layer_norm.weight', 'encoder.layers.5.feed_forward.pwff_layer.0.bias', 'encoder.layers.5.feed_forward.pwff_layer.0.weight', 'encoder.layers.5.feed_forward.pwff_layer.3.bias', 'encoder.layers.5.feed_forward.pwff_layer.3.weight', 'encoder.layers.5.layer_norm.bias', 'encoder.layers.5.layer_norm.weight', 'encoder.layers.5.src_src_att.k_layer.bias', 'encoder.layers.5.src_src_att.k_layer.weight', 'encoder.layers.5.src_src_att.output_layer.bias', 'encoder.layers.5.src_src_att.output_layer.weight', 'encoder.layers.5.src_src_att.q_layer.bias', 'encoder.layers.5.src_src_att.q_layer.weight', 'encoder.layers.5.src_src_att.v_layer.bias', 'encoder.layers.5.src_src_att.v_layer.weight', 'src_embed.lut.weight']\n",
            "2019-12-30 07:56:20,992 cfg.name                           : enurh_transformer\n",
            "2019-12-30 07:56:20,992 cfg.data.src                       : en\n",
            "2019-12-30 07:56:20,992 cfg.data.trg                       : urh\n",
            "2019-12-30 07:56:20,992 cfg.data.train                     : data/enurh/train.bpe\n",
            "2019-12-30 07:56:20,992 cfg.data.dev                       : data/enurh/dev.bpe\n",
            "2019-12-30 07:56:20,992 cfg.data.test                      : data/enurh/test.bpe\n",
            "2019-12-30 07:56:20,992 cfg.data.level                     : bpe\n",
            "2019-12-30 07:56:20,992 cfg.data.lowercase                 : False\n",
            "2019-12-30 07:56:20,992 cfg.data.max_sent_length           : 100\n",
            "2019-12-30 07:56:20,992 cfg.data.src_vocab                 : data/enurh/vocab.txt\n",
            "2019-12-30 07:56:20,992 cfg.data.trg_vocab                 : data/enurh/vocab.txt\n",
            "2019-12-30 07:56:20,992 cfg.testing.beam_size              : 5\n",
            "2019-12-30 07:56:20,992 cfg.testing.alpha                  : 1.0\n",
            "2019-12-30 07:56:20,992 cfg.training.random_seed           : 42\n",
            "2019-12-30 07:56:20,992 cfg.training.optimizer             : adam\n",
            "2019-12-30 07:56:20,992 cfg.training.normalization         : tokens\n",
            "2019-12-30 07:56:20,992 cfg.training.adam_betas            : [0.9, 0.999]\n",
            "2019-12-30 07:56:20,993 cfg.training.scheduling            : plateau\n",
            "2019-12-30 07:56:20,993 cfg.training.patience              : 5\n",
            "2019-12-30 07:56:20,993 cfg.training.learning_rate_factor  : 0.5\n",
            "2019-12-30 07:56:20,993 cfg.training.learning_rate_warmup  : 1000\n",
            "2019-12-30 07:56:20,993 cfg.training.decrease_factor       : 0.7\n",
            "2019-12-30 07:56:20,993 cfg.training.loss                  : crossentropy\n",
            "2019-12-30 07:56:20,993 cfg.training.learning_rate         : 0.0003\n",
            "2019-12-30 07:56:20,993 cfg.training.learning_rate_min     : 1e-08\n",
            "2019-12-30 07:56:20,993 cfg.training.weight_decay          : 0.0\n",
            "2019-12-30 07:56:20,993 cfg.training.label_smoothing       : 0.1\n",
            "2019-12-30 07:56:20,993 cfg.training.batch_size            : 4096\n",
            "2019-12-30 07:56:20,993 cfg.training.batch_type            : token\n",
            "2019-12-30 07:56:20,993 cfg.training.eval_batch_size       : 3600\n",
            "2019-12-30 07:56:20,993 cfg.training.eval_batch_type       : token\n",
            "2019-12-30 07:56:20,993 cfg.training.batch_multiplier      : 1\n",
            "2019-12-30 07:56:20,993 cfg.training.early_stopping_metric : ppl\n",
            "2019-12-30 07:56:20,993 cfg.training.epochs                : 30\n",
            "2019-12-30 07:56:20,993 cfg.training.validation_freq       : 1000\n",
            "2019-12-30 07:56:20,993 cfg.training.logging_freq          : 100\n",
            "2019-12-30 07:56:20,993 cfg.training.eval_metric           : bleu\n",
            "2019-12-30 07:56:20,993 cfg.training.model_dir             : models/enurh_transformer\n",
            "2019-12-30 07:56:20,993 cfg.training.overwrite             : False\n",
            "2019-12-30 07:56:20,993 cfg.training.shuffle               : True\n",
            "2019-12-30 07:56:20,993 cfg.training.use_cuda              : True\n",
            "2019-12-30 07:56:20,994 cfg.training.max_output_length     : 100\n",
            "2019-12-30 07:56:20,994 cfg.training.print_valid_sents     : [0, 1, 2, 3]\n",
            "2019-12-30 07:56:20,994 cfg.training.keep_last_ckpts       : 3\n",
            "2019-12-30 07:56:20,994 cfg.model.initializer              : xavier\n",
            "2019-12-30 07:56:20,994 cfg.model.bias_initializer         : zeros\n",
            "2019-12-30 07:56:20,994 cfg.model.init_gain                : 1.0\n",
            "2019-12-30 07:56:20,994 cfg.model.embed_initializer        : xavier\n",
            "2019-12-30 07:56:20,994 cfg.model.embed_init_gain          : 1.0\n",
            "2019-12-30 07:56:20,994 cfg.model.tied_embeddings          : True\n",
            "2019-12-30 07:56:20,994 cfg.model.tied_softmax             : True\n",
            "2019-12-30 07:56:20,994 cfg.model.encoder.type             : transformer\n",
            "2019-12-30 07:56:20,994 cfg.model.encoder.num_layers       : 6\n",
            "2019-12-30 07:56:20,994 cfg.model.encoder.num_heads        : 4\n",
            "2019-12-30 07:56:20,994 cfg.model.encoder.embeddings.embedding_dim : 256\n",
            "2019-12-30 07:56:20,994 cfg.model.encoder.embeddings.scale : True\n",
            "2019-12-30 07:56:20,994 cfg.model.encoder.embeddings.dropout : 0.2\n",
            "2019-12-30 07:56:20,994 cfg.model.encoder.hidden_size      : 256\n",
            "2019-12-30 07:56:20,994 cfg.model.encoder.ff_size          : 1024\n",
            "2019-12-30 07:56:20,994 cfg.model.encoder.dropout          : 0.3\n",
            "2019-12-30 07:56:20,994 cfg.model.decoder.type             : transformer\n",
            "2019-12-30 07:56:20,994 cfg.model.decoder.num_layers       : 6\n",
            "2019-12-30 07:56:20,994 cfg.model.decoder.num_heads        : 4\n",
            "2019-12-30 07:56:20,994 cfg.model.decoder.embeddings.embedding_dim : 256\n",
            "2019-12-30 07:56:20,994 cfg.model.decoder.embeddings.scale : True\n",
            "2019-12-30 07:56:20,995 cfg.model.decoder.embeddings.dropout : 0.2\n",
            "2019-12-30 07:56:20,995 cfg.model.decoder.hidden_size      : 256\n",
            "2019-12-30 07:56:20,995 cfg.model.decoder.ff_size          : 1024\n",
            "2019-12-30 07:56:20,995 cfg.model.decoder.dropout          : 0.3\n",
            "2019-12-30 07:56:20,995 Data set sizes: \n",
            "\ttrain 25605,\n",
            "\tvalid 1000,\n",
            "\ttest 2652\n",
            "2019-12-30 07:56:20,995 First training example:\n",
            "\t[SRC] The number of publishers is now about ten times what it was when I began serving here .\n",
            "\t[TRG] I@@ ghwoghwota rehẹ ẹkuotọ na enẹna vwẹ ọh@@ wọ@@ h@@ wọ ihwe vwo bun vrẹ obo rọ hepha ọke me vwọ ga vwẹ oboyin .\n",
            "2019-12-30 07:56:20,995 First 10 words (src): (0) <unk> (1) <pad> (2) <s> (3) </s> (4) . (5) , (6) rẹ (7) the (8) to (9) na\n",
            "2019-12-30 07:56:20,995 First 10 words (trg): (0) <unk> (1) <pad> (2) <s> (3) </s> (4) . (5) , (6) rẹ (7) the (8) to (9) na\n",
            "2019-12-30 07:56:20,996 Number of Src words (types): 4138\n",
            "2019-12-30 07:56:20,996 Number of Trg words (types): 4138\n",
            "2019-12-30 07:56:20,996 Model(\n",
            "\tencoder=TransformerEncoder(num_layers=6, num_heads=4),\n",
            "\tdecoder=TransformerDecoder(num_layers=6, num_heads=4),\n",
            "\tsrc_embed=Embeddings(embedding_dim=256, vocab_size=4138),\n",
            "\ttrg_embed=Embeddings(embedding_dim=256, vocab_size=4138))\n",
            "2019-12-30 07:56:20,999 EPOCH 1\n",
            "2019-12-30 07:56:35,561 Epoch   1 Step:      100 Batch Loss:     5.333814 Tokens per Sec:    14329, Lr: 0.000300\n",
            "2019-12-30 07:56:50,043 Epoch   1 Step:      200 Batch Loss:     4.835469 Tokens per Sec:    14410, Lr: 0.000300\n",
            "2019-12-30 07:57:03,836 Epoch   1: total training loss 1509.76\n",
            "2019-12-30 07:57:03,836 EPOCH 2\n",
            "2019-12-30 07:57:04,445 Epoch   2 Step:      300 Batch Loss:     4.461406 Tokens per Sec:    12339, Lr: 0.000300\n",
            "2019-12-30 07:57:19,096 Epoch   2 Step:      400 Batch Loss:     4.489047 Tokens per Sec:    14234, Lr: 0.000300\n",
            "2019-12-30 07:57:33,706 Epoch   2 Step:      500 Batch Loss:     4.257133 Tokens per Sec:    14009, Lr: 0.000300\n",
            "2019-12-30 07:57:47,188 Epoch   2: total training loss 1248.57\n",
            "2019-12-30 07:57:47,188 EPOCH 3\n",
            "2019-12-30 07:57:48,466 Epoch   3 Step:      600 Batch Loss:     3.990062 Tokens per Sec:    13332, Lr: 0.000300\n",
            "2019-12-30 07:58:03,313 Epoch   3 Step:      700 Batch Loss:     3.748931 Tokens per Sec:    14023, Lr: 0.000300\n",
            "2019-12-30 07:58:18,159 Epoch   3 Step:      800 Batch Loss:     3.796058 Tokens per Sec:    13806, Lr: 0.000300\n",
            "2019-12-30 07:58:31,529 Epoch   3: total training loss 1113.12\n",
            "2019-12-30 07:58:31,529 EPOCH 4\n",
            "2019-12-30 07:58:33,237 Epoch   4 Step:      900 Batch Loss:     3.562904 Tokens per Sec:    13980, Lr: 0.000300\n",
            "2019-12-30 07:58:48,400 Epoch   4 Step:     1000 Batch Loss:     3.535983 Tokens per Sec:    13894, Lr: 0.000300\n",
            "2019-12-30 07:59:33,066 Hooray! New best validation result [ppl]!\n",
            "2019-12-30 07:59:33,066 Saving new checkpoint.\n",
            "2019-12-30 07:59:33,322 Example #0\n",
            "2019-12-30 07:59:33,323 \tSource:     These orchestral arrangements are composed in such a way that they will prepare our heart and mind for the program to follow .\n",
            "2019-12-30 07:59:33,323 \tReference:  E ru uhworo nana vwẹ idjerhe ro de se muegbe rẹ ubiudu rẹ avwanre hẹrhẹ ọrhuẹrẹphiyọ rẹ ẹdẹ yena .\n",
            "2019-12-30 07:59:33,323 \tHypothesis: ( 1 Kọr . 2 : 1 ) Ẹkẹvuọvo , avwanre de vwo ẹguọnọ rẹ avwanre , ọ da dianẹ avwanre vwo ẹguọnọ rẹ avwanre vwo ẹguọnọ rẹ avwanre .\n",
            "2019-12-30 07:59:33,323 Example #1\n",
            "2019-12-30 07:59:33,323 \tSource:     Today he is serving at Bethel .\n",
            "2019-12-30 07:59:33,323 \tReference:  Nonẹna , ọ ga vwẹ Bẹtẹl .\n",
            "2019-12-30 07:59:33,323 \tHypothesis: ( 1 Kọr . 4 : 1 ) Ẹkẹvuọvo , ọ da vwẹ ukẹcha kẹ avwanre .\n",
            "2019-12-30 07:59:33,324 Example #2\n",
            "2019-12-30 07:59:33,324 \tSource:     But freedom from what ?\n",
            "2019-12-30 07:59:33,324 \tReference:  Ẹkẹvuọvo , ẹdia vọ yen egbomọphẹ na che si ayen nu ?\n",
            "2019-12-30 07:59:33,324 \tHypothesis: Mavọ yen a sa vwọ kẹ avwanre ?\n",
            "2019-12-30 07:59:33,324 Example #3\n",
            "2019-12-30 07:59:33,324 \tSource:     Avoid comparing your new congregation with your previous one .\n",
            "2019-12-30 07:59:33,324 \tReference:  Wọ vwẹ ukoko kpokpọ na vwọ vwanvwen ọ rẹ wo nurhe na - a .\n",
            "2019-12-30 07:59:33,324 \tHypothesis: ( 1 Kọr . 2 : 1 ) ( a ) ( 1 ) ( 1 ) ( 1 ) ( 1 ) ( 1 Kọr .\n",
            "2019-12-30 07:59:33,324 Validation result (greedy) at epoch   4, step     1000: bleu:   1.38, loss: 82894.2578, ppl:  33.5709, duration: 44.9234s\n",
            "2019-12-30 07:59:48,525 Epoch   4 Step:     1100 Batch Loss:     3.485683 Tokens per Sec:    13074, Lr: 0.000300\n",
            "2019-12-30 08:00:01,653 Epoch   4: total training loss 1038.29\n",
            "2019-12-30 08:00:01,653 EPOCH 5\n",
            "2019-12-30 08:00:04,080 Epoch   5 Step:     1200 Batch Loss:     3.379636 Tokens per Sec:    13410, Lr: 0.000300\n",
            "2019-12-30 08:00:19,429 Epoch   5 Step:     1300 Batch Loss:     3.151871 Tokens per Sec:    13498, Lr: 0.000300\n",
            "2019-12-30 08:00:34,890 Epoch   5 Step:     1400 Batch Loss:     3.243618 Tokens per Sec:    13295, Lr: 0.000300\n",
            "2019-12-30 08:00:47,229 Epoch   5: total training loss 981.76\n",
            "2019-12-30 08:00:47,229 EPOCH 6\n",
            "2019-12-30 08:00:50,291 Epoch   6 Step:     1500 Batch Loss:     2.847438 Tokens per Sec:    13026, Lr: 0.000300\n",
            "2019-12-30 08:01:05,800 Epoch   6 Step:     1600 Batch Loss:     3.177434 Tokens per Sec:    13462, Lr: 0.000300\n",
            "2019-12-30 08:01:21,358 Epoch   6 Step:     1700 Batch Loss:     3.327428 Tokens per Sec:    13659, Lr: 0.000300\n",
            "2019-12-30 08:01:32,707 Epoch   6: total training loss 931.08\n",
            "2019-12-30 08:01:32,707 EPOCH 7\n",
            "2019-12-30 08:01:36,765 Epoch   7 Step:     1800 Batch Loss:     3.168892 Tokens per Sec:    13581, Lr: 0.000300\n",
            "2019-12-30 08:01:51,922 Epoch   7 Step:     1900 Batch Loss:     2.927883 Tokens per Sec:    13272, Lr: 0.000300\n",
            "2019-12-30 08:02:07,283 Epoch   7 Step:     2000 Batch Loss:     2.646217 Tokens per Sec:    13267, Lr: 0.000300\n",
            "2019-12-30 08:02:52,572 Hooray! New best validation result [ppl]!\n",
            "2019-12-30 08:02:52,572 Saving new checkpoint.\n",
            "2019-12-30 08:02:52,810 Example #0\n",
            "2019-12-30 08:02:52,811 \tSource:     These orchestral arrangements are composed in such a way that they will prepare our heart and mind for the program to follow .\n",
            "2019-12-30 08:02:52,811 \tReference:  E ru uhworo nana vwẹ idjerhe ro de se muegbe rẹ ubiudu rẹ avwanre hẹrhẹ ọrhuẹrẹphiyọ rẹ ẹdẹ yena .\n",
            "2019-12-30 08:02:52,811 \tHypothesis: ( 1 Kọr . 2 : 1 ) Ekpako na da tobọ dianẹ ayen se vwo ẹguọnọ rẹ avwanre , ji vwo kpahen oborẹ ayen sa vwọ chọn ayen uko .\n",
            "2019-12-30 08:02:52,811 Example #1\n",
            "2019-12-30 08:02:52,811 \tSource:     Today he is serving at Bethel .\n",
            "2019-12-30 08:02:52,811 \tReference:  Nonẹna , ọ ga vwẹ Bẹtẹl .\n",
            "2019-12-30 08:02:52,811 \tHypothesis: Ayen da vwẹ ukpe rẹ 1987 .\n",
            "2019-12-30 08:02:52,811 Example #2\n",
            "2019-12-30 08:02:52,811 \tSource:     But freedom from what ?\n",
            "2019-12-30 08:02:52,812 \tReference:  Ẹkẹvuọvo , ẹdia vọ yen egbomọphẹ na che si ayen nu ?\n",
            "2019-12-30 08:02:52,812 \tHypothesis: Ẹkẹvuọvo , die yen e se vwo ?\n",
            "2019-12-30 08:02:52,812 Example #3\n",
            "2019-12-30 08:02:52,812 \tSource:     Avoid comparing your new congregation with your previous one .\n",
            "2019-12-30 08:02:52,812 \tReference:  Wọ vwẹ ukoko kpokpọ na vwọ vwanvwen ọ rẹ wo nurhe na - a .\n",
            "2019-12-30 08:02:52,812 \tHypothesis: Wọ sa mrẹ erere vwo nẹ wo vwo ruiruo vwẹ ukoko na .\n",
            "2019-12-30 08:02:52,812 Validation result (greedy) at epoch   7, step     2000: bleu:   3.39, loss: 71127.9922, ppl:  20.3875, duration: 45.5291s\n",
            "2019-12-30 08:03:04,056 Epoch   7: total training loss 906.96\n",
            "2019-12-30 08:03:04,056 EPOCH 8\n",
            "2019-12-30 08:03:08,347 Epoch   8 Step:     2100 Batch Loss:     3.059584 Tokens per Sec:    13889, Lr: 0.000300\n",
            "2019-12-30 08:03:23,621 Epoch   8 Step:     2200 Batch Loss:     2.695834 Tokens per Sec:    13182, Lr: 0.000300\n",
            "2019-12-30 08:03:38,903 Epoch   8 Step:     2300 Batch Loss:     2.762779 Tokens per Sec:    13520, Lr: 0.000300\n",
            "2019-12-30 08:03:49,738 Epoch   8: total training loss 865.01\n",
            "2019-12-30 08:03:49,738 EPOCH 9\n",
            "2019-12-30 08:03:54,292 Epoch   9 Step:     2400 Batch Loss:     3.282227 Tokens per Sec:    13185, Lr: 0.000300\n",
            "2019-12-30 08:04:09,806 Epoch   9 Step:     2500 Batch Loss:     3.134735 Tokens per Sec:    13566, Lr: 0.000300\n",
            "2019-12-30 08:04:25,225 Epoch   9 Step:     2600 Batch Loss:     2.445373 Tokens per Sec:    13296, Lr: 0.000300\n",
            "2019-12-30 08:04:35,290 Epoch   9: total training loss 833.76\n",
            "2019-12-30 08:04:35,290 EPOCH 10\n",
            "2019-12-30 08:04:40,571 Epoch  10 Step:     2700 Batch Loss:     2.302863 Tokens per Sec:    13731, Lr: 0.000300\n",
            "2019-12-30 08:04:56,001 Epoch  10 Step:     2800 Batch Loss:     2.886033 Tokens per Sec:    13608, Lr: 0.000300\n",
            "2019-12-30 08:05:11,398 Epoch  10 Step:     2900 Batch Loss:     2.831291 Tokens per Sec:    13280, Lr: 0.000300\n",
            "2019-12-30 08:05:20,558 Epoch  10: total training loss 803.16\n",
            "2019-12-30 08:05:20,558 EPOCH 11\n",
            "2019-12-30 08:05:26,712 Epoch  11 Step:     3000 Batch Loss:     2.710369 Tokens per Sec:    13332, Lr: 0.000300\n",
            "2019-12-30 08:06:11,927 Hooray! New best validation result [ppl]!\n",
            "2019-12-30 08:06:11,927 Saving new checkpoint.\n",
            "2019-12-30 08:06:12,149 Example #0\n",
            "2019-12-30 08:06:12,150 \tSource:     These orchestral arrangements are composed in such a way that they will prepare our heart and mind for the program to follow .\n",
            "2019-12-30 08:06:12,150 \tReference:  E ru uhworo nana vwẹ idjerhe ro de se muegbe rẹ ubiudu rẹ avwanre hẹrhẹ ọrhuẹrẹphiyọ rẹ ẹdẹ yena .\n",
            "2019-12-30 08:06:12,150 \tHypothesis: Enana cha nẹrhẹ ayen riẹn oborẹ ayen sa vwọ vwẹ ukẹcha kẹ ihwo efa , ji vwo ẹruọ rẹ oborẹ ayen cha vwọ chọn avwanre uko .\n",
            "2019-12-30 08:06:12,150 Example #1\n",
            "2019-12-30 08:06:12,150 \tSource:     Today he is serving at Bethel .\n",
            "2019-12-30 08:06:12,150 \tReference:  Nonẹna , ọ ga vwẹ Bẹtẹl .\n",
            "2019-12-30 08:06:12,150 \tHypothesis: Nonẹna , ọ je ga vwẹ Bẹtẹl .\n",
            "2019-12-30 08:06:12,150 Example #2\n",
            "2019-12-30 08:06:12,151 \tSource:     But freedom from what ?\n",
            "2019-12-30 08:06:12,151 \tReference:  Ẹkẹvuọvo , ẹdia vọ yen egbomọphẹ na che si ayen nu ?\n",
            "2019-12-30 08:06:12,151 \tHypothesis: Ẹkẹvuọvo , die yen nẹrhẹ e vwo uruemu rẹ egbomọphẹ ?\n",
            "2019-12-30 08:06:12,151 Example #3\n",
            "2019-12-30 08:06:12,151 \tSource:     Avoid comparing your new congregation with your previous one .\n",
            "2019-12-30 08:06:12,151 \tReference:  Wọ vwẹ ukoko kpokpọ na vwọ vwanvwen ọ rẹ wo nurhe na - a .\n",
            "2019-12-30 08:06:12,151 \tHypothesis: Wọ da guọnọ ukẹcha rẹ ukoko wẹn .\n",
            "2019-12-30 08:06:12,151 Validation result (greedy) at epoch  11, step     3000: bleu:   5.88, loss: 64387.6484, ppl:  15.3209, duration: 45.4389s\n",
            "2019-12-30 08:06:27,535 Epoch  11 Step:     3100 Batch Loss:     2.819924 Tokens per Sec:    13074, Lr: 0.000300\n",
            "2019-12-30 08:06:42,817 Epoch  11 Step:     3200 Batch Loss:     2.732879 Tokens per Sec:    13532, Lr: 0.000300\n",
            "2019-12-30 08:06:51,878 Epoch  11: total training loss 795.02\n",
            "2019-12-30 08:06:51,878 EPOCH 12\n",
            "2019-12-30 08:06:58,263 Epoch  12 Step:     3300 Batch Loss:     2.550137 Tokens per Sec:    13466, Lr: 0.000300\n",
            "2019-12-30 08:07:13,567 Epoch  12 Step:     3400 Batch Loss:     2.107007 Tokens per Sec:    13482, Lr: 0.000300\n",
            "2019-12-30 08:07:29,029 Epoch  12 Step:     3500 Batch Loss:     2.299843 Tokens per Sec:    13585, Lr: 0.000300\n",
            "2019-12-30 08:07:37,396 Epoch  12: total training loss 765.54\n",
            "2019-12-30 08:07:37,397 EPOCH 13\n",
            "2019-12-30 08:07:44,277 Epoch  13 Step:     3600 Batch Loss:     2.498705 Tokens per Sec:    13158, Lr: 0.000300\n",
            "2019-12-30 08:07:59,673 Epoch  13 Step:     3700 Batch Loss:     2.611616 Tokens per Sec:    13466, Lr: 0.000300\n",
            "2019-12-30 08:08:15,066 Epoch  13 Step:     3800 Batch Loss:     2.487637 Tokens per Sec:    13490, Lr: 0.000300\n",
            "2019-12-30 08:08:22,956 Epoch  13: total training loss 747.17\n",
            "2019-12-30 08:08:22,956 EPOCH 14\n",
            "2019-12-30 08:08:30,549 Epoch  14 Step:     3900 Batch Loss:     2.895444 Tokens per Sec:    13112, Lr: 0.000300\n",
            "2019-12-30 08:08:45,897 Epoch  14 Step:     4000 Batch Loss:     2.870493 Tokens per Sec:    13453, Lr: 0.000300\n",
            "2019-12-30 08:09:31,264 Hooray! New best validation result [ppl]!\n",
            "2019-12-30 08:09:31,265 Saving new checkpoint.\n",
            "2019-12-30 08:09:31,511 Example #0\n",
            "2019-12-30 08:09:31,511 \tSource:     These orchestral arrangements are composed in such a way that they will prepare our heart and mind for the program to follow .\n",
            "2019-12-30 08:09:31,511 \tReference:  E ru uhworo nana vwẹ idjerhe ro de se muegbe rẹ ubiudu rẹ avwanre hẹrhẹ ọrhuẹrẹphiyọ rẹ ẹdẹ yena .\n",
            "2019-12-30 08:09:31,511 \tHypothesis: Iruemu nana djerephia nẹ ayen che se vwo ẹruọ rẹ oborẹ ẹwẹn rẹ avwanre se vwo ruiruo vwẹ idjerhe rẹ ẹwẹn rẹ ẹwẹn , je cha nẹrhẹ e vwo ẹwẹn rẹ avwanre .\n",
            "2019-12-30 08:09:31,511 Example #1\n",
            "2019-12-30 08:09:31,512 \tSource:     Today he is serving at Bethel .\n",
            "2019-12-30 08:09:31,512 \tReference:  Nonẹna , ọ ga vwẹ Bẹtẹl .\n",
            "2019-12-30 08:09:31,512 \tHypothesis: Nonẹna , ọ je ga vwẹ Bẹtẹl .\n",
            "2019-12-30 08:09:31,512 Example #2\n",
            "2019-12-30 08:09:31,512 \tSource:     But freedom from what ?\n",
            "2019-12-30 08:09:31,512 \tReference:  Ẹkẹvuọvo , ẹdia vọ yen egbomọphẹ na che si ayen nu ?\n",
            "2019-12-30 08:09:31,512 \tHypothesis: Ẹkẹvuọvo , die yen egbomọphẹ ?\n",
            "2019-12-30 08:09:31,512 Example #3\n",
            "2019-12-30 08:09:31,513 \tSource:     Avoid comparing your new congregation with your previous one .\n",
            "2019-12-30 08:09:31,513 \tReference:  Wọ vwẹ ukoko kpokpọ na vwọ vwanvwen ọ rẹ wo nurhe na - a .\n",
            "2019-12-30 08:09:31,513 \tHypothesis: Wọ da guọnọ dia ukoko na , wọ je guọnọ nẹ ukoko wẹn rhe .\n",
            "2019-12-30 08:09:31,513 Validation result (greedy) at epoch  14, step     4000: bleu:   7.95, loss: 60269.4805, ppl:  12.8669, duration: 45.6158s\n",
            "2019-12-30 08:09:46,893 Epoch  14 Step:     4100 Batch Loss:     2.274558 Tokens per Sec:    13373, Lr: 0.000300\n",
            "2019-12-30 08:09:54,413 Epoch  14: total training loss 737.72\n",
            "2019-12-30 08:09:54,413 EPOCH 15\n",
            "2019-12-30 08:10:02,084 Epoch  15 Step:     4200 Batch Loss:     1.771384 Tokens per Sec:    13337, Lr: 0.000300\n",
            "2019-12-30 08:10:17,478 Epoch  15 Step:     4300 Batch Loss:     2.053605 Tokens per Sec:    13582, Lr: 0.000300\n",
            "2019-12-30 08:10:32,857 Epoch  15 Step:     4400 Batch Loss:     2.435067 Tokens per Sec:    13269, Lr: 0.000300\n",
            "2019-12-30 08:10:40,076 Epoch  15: total training loss 717.46\n",
            "2019-12-30 08:10:40,076 EPOCH 16\n",
            "2019-12-30 08:10:48,115 Epoch  16 Step:     4500 Batch Loss:     2.078786 Tokens per Sec:    13495, Lr: 0.000300\n",
            "2019-12-30 08:11:03,548 Epoch  16 Step:     4600 Batch Loss:     2.717738 Tokens per Sec:    13560, Lr: 0.000300\n",
            "2019-12-30 08:11:18,783 Epoch  16 Step:     4700 Batch Loss:     2.417445 Tokens per Sec:    13596, Lr: 0.000300\n",
            "2019-12-30 08:11:25,389 Epoch  16: total training loss 694.98\n",
            "2019-12-30 08:11:25,389 EPOCH 17\n",
            "2019-12-30 08:11:34,173 Epoch  17 Step:     4800 Batch Loss:     2.413284 Tokens per Sec:    13240, Lr: 0.000300\n",
            "2019-12-30 08:11:49,683 Epoch  17 Step:     4900 Batch Loss:     2.445009 Tokens per Sec:    13547, Lr: 0.000300\n",
            "2019-12-30 08:12:05,033 Epoch  17 Step:     5000 Batch Loss:     2.829042 Tokens per Sec:    13567, Lr: 0.000300\n",
            "2019-12-30 08:12:50,292 Hooray! New best validation result [ppl]!\n",
            "2019-12-30 08:12:50,292 Saving new checkpoint.\n",
            "2019-12-30 08:12:50,545 Example #0\n",
            "2019-12-30 08:12:50,546 \tSource:     These orchestral arrangements are composed in such a way that they will prepare our heart and mind for the program to follow .\n",
            "2019-12-30 08:12:50,546 \tReference:  E ru uhworo nana vwẹ idjerhe ro de se muegbe rẹ ubiudu rẹ avwanre hẹrhẹ ọrhuẹrẹphiyọ rẹ ẹdẹ yena .\n",
            "2019-12-30 08:12:50,546 \tHypothesis: Ọnana yen idjerhe ọvo rẹ ayen se vwo ru iroro rẹ avwanre phiyọ , rere ayen se vwo vwo ẹwẹn obrorhiẹn rẹ avwanre .\n",
            "2019-12-30 08:12:50,546 Example #1\n",
            "2019-12-30 08:12:50,547 \tSource:     Today he is serving at Bethel .\n",
            "2019-12-30 08:12:50,547 \tReference:  Nonẹna , ọ ga vwẹ Bẹtẹl .\n",
            "2019-12-30 08:12:50,547 \tHypothesis: Nonẹna , ọ ga vwẹ Bẹtẹl .\n",
            "2019-12-30 08:12:50,547 Example #2\n",
            "2019-12-30 08:12:50,547 \tSource:     But freedom from what ?\n",
            "2019-12-30 08:12:50,547 \tReference:  Ẹkẹvuọvo , ẹdia vọ yen egbomọphẹ na che si ayen nu ?\n",
            "2019-12-30 08:12:50,547 \tHypothesis: Ẹkẹvuọvo , die yen egbomọphẹ ?\n",
            "2019-12-30 08:12:50,548 Example #3\n",
            "2019-12-30 08:12:50,548 \tSource:     Avoid comparing your new congregation with your previous one .\n",
            "2019-12-30 08:12:50,548 \tReference:  Wọ vwẹ ukoko kpokpọ na vwọ vwanvwen ọ rẹ wo nurhe na - a .\n",
            "2019-12-30 08:12:50,548 \tHypothesis: Wọ vwẹ ukoko na vwo ruiruo vwẹ ukoko na .\n",
            "2019-12-30 08:12:50,548 Validation result (greedy) at epoch  17, step     5000: bleu:   9.63, loss: 57490.7852, ppl:  11.4373, duration: 45.5145s\n",
            "2019-12-30 08:12:56,261 Epoch  17: total training loss 678.36\n",
            "2019-12-30 08:12:56,261 EPOCH 18\n",
            "2019-12-30 08:13:06,071 Epoch  18 Step:     5100 Batch Loss:     2.672159 Tokens per Sec:    13488, Lr: 0.000300\n",
            "2019-12-30 08:13:21,226 Epoch  18 Step:     5200 Batch Loss:     2.490231 Tokens per Sec:    13515, Lr: 0.000300\n",
            "2019-12-30 08:13:36,594 Epoch  18 Step:     5300 Batch Loss:     2.602473 Tokens per Sec:    13531, Lr: 0.000300\n",
            "2019-12-30 08:13:41,514 Epoch  18: total training loss 668.35\n",
            "2019-12-30 08:13:41,514 EPOCH 19\n",
            "2019-12-30 08:13:51,924 Epoch  19 Step:     5400 Batch Loss:     2.261767 Tokens per Sec:    13300, Lr: 0.000300\n",
            "2019-12-30 08:14:07,303 Epoch  19 Step:     5500 Batch Loss:     2.301892 Tokens per Sec:    13730, Lr: 0.000300\n",
            "2019-12-30 08:14:22,621 Epoch  19 Step:     5600 Batch Loss:     2.302068 Tokens per Sec:    13333, Lr: 0.000300\n",
            "2019-12-30 08:14:26,991 Epoch  19: total training loss 657.99\n",
            "2019-12-30 08:14:26,992 EPOCH 20\n",
            "2019-12-30 08:14:38,138 Epoch  20 Step:     5700 Batch Loss:     2.304246 Tokens per Sec:    13474, Lr: 0.000300\n",
            "2019-12-30 08:14:53,472 Epoch  20 Step:     5800 Batch Loss:     1.931567 Tokens per Sec:    13346, Lr: 0.000300\n",
            "2019-12-30 08:15:08,875 Epoch  20 Step:     5900 Batch Loss:     2.479141 Tokens per Sec:    13670, Lr: 0.000300\n",
            "2019-12-30 08:15:12,391 Epoch  20: total training loss 644.58\n",
            "2019-12-30 08:15:12,392 EPOCH 21\n",
            "2019-12-30 08:15:24,202 Epoch  21 Step:     6000 Batch Loss:     2.200478 Tokens per Sec:    13295, Lr: 0.000300\n",
            "2019-12-30 08:16:09,526 Hooray! New best validation result [ppl]!\n",
            "2019-12-30 08:16:09,526 Saving new checkpoint.\n",
            "2019-12-30 08:16:09,775 Example #0\n",
            "2019-12-30 08:16:09,775 \tSource:     These orchestral arrangements are composed in such a way that they will prepare our heart and mind for the program to follow .\n",
            "2019-12-30 08:16:09,775 \tReference:  E ru uhworo nana vwẹ idjerhe ro de se muegbe rẹ ubiudu rẹ avwanre hẹrhẹ ọrhuẹrẹphiyọ rẹ ẹdẹ yena .\n",
            "2019-12-30 08:16:09,776 \tHypothesis: Enana cha nẹrhẹ a riẹn oborẹ ayen che ru , ji vwo ẹwẹn rẹ iroro rẹ avwanre ji nene odjekẹ rẹ Baibol na .\n",
            "2019-12-30 08:16:09,776 Example #1\n",
            "2019-12-30 08:16:09,776 \tSource:     Today he is serving at Bethel .\n",
            "2019-12-30 08:16:09,776 \tReference:  Nonẹna , ọ ga vwẹ Bẹtẹl .\n",
            "2019-12-30 08:16:09,776 \tHypothesis: Nonẹna , ọ ga vwẹ Bẹtẹl .\n",
            "2019-12-30 08:16:09,776 Example #2\n",
            "2019-12-30 08:16:09,776 \tSource:     But freedom from what ?\n",
            "2019-12-30 08:16:09,776 \tReference:  Ẹkẹvuọvo , ẹdia vọ yen egbomọphẹ na che si ayen nu ?\n",
            "2019-12-30 08:16:09,776 \tHypothesis: Ẹkẹvuọvo , egbomọphẹ vọ yen e vwo ru ?\n",
            "2019-12-30 08:16:09,776 Example #3\n",
            "2019-12-30 08:16:09,777 \tSource:     Avoid comparing your new congregation with your previous one .\n",
            "2019-12-30 08:16:09,777 \tReference:  Wọ vwẹ ukoko kpokpọ na vwọ vwanvwen ọ rẹ wo nurhe na - a .\n",
            "2019-12-30 08:16:09,777 \tHypothesis: Wọ vwẹ ukoko kpokpọ vwo ruiruo kpokpọ na vwo ruiruo .\n",
            "2019-12-30 08:16:09,777 Validation result (greedy) at epoch  21, step     6000: bleu:  10.53, loss: 55914.1914, ppl:  10.6979, duration: 45.5748s\n",
            "2019-12-30 08:16:25,244 Epoch  21 Step:     6100 Batch Loss:     1.941352 Tokens per Sec:    13483, Lr: 0.000300\n",
            "2019-12-30 08:16:40,803 Epoch  21 Step:     6200 Batch Loss:     2.024325 Tokens per Sec:    13485, Lr: 0.000300\n",
            "2019-12-30 08:16:43,456 Epoch  21: total training loss 632.00\n",
            "2019-12-30 08:16:43,457 EPOCH 22\n",
            "2019-12-30 08:16:56,384 Epoch  22 Step:     6300 Batch Loss:     1.551368 Tokens per Sec:    13481, Lr: 0.000300\n",
            "2019-12-30 08:17:11,631 Epoch  22 Step:     6400 Batch Loss:     2.333829 Tokens per Sec:    13379, Lr: 0.000300\n",
            "2019-12-30 08:17:27,168 Epoch  22 Step:     6500 Batch Loss:     2.065172 Tokens per Sec:    13575, Lr: 0.000300\n",
            "2019-12-30 08:17:29,003 Epoch  22: total training loss 626.15\n",
            "2019-12-30 08:17:29,003 EPOCH 23\n",
            "2019-12-30 08:17:42,740 Epoch  23 Step:     6600 Batch Loss:     1.588990 Tokens per Sec:    13775, Lr: 0.000300\n",
            "2019-12-30 08:17:57,924 Epoch  23 Step:     6700 Batch Loss:     1.789111 Tokens per Sec:    13148, Lr: 0.000300\n",
            "2019-12-30 08:18:13,311 Epoch  23 Step:     6800 Batch Loss:     1.948185 Tokens per Sec:    13612, Lr: 0.000300\n",
            "2019-12-30 08:18:14,381 Epoch  23: total training loss 615.45\n",
            "2019-12-30 08:18:14,381 EPOCH 24\n",
            "2019-12-30 08:18:28,712 Epoch  24 Step:     6900 Batch Loss:     1.346794 Tokens per Sec:    13479, Lr: 0.000300\n",
            "2019-12-30 08:18:44,169 Epoch  24 Step:     7000 Batch Loss:     1.646855 Tokens per Sec:    13490, Lr: 0.000300\n",
            "2019-12-30 08:19:29,592 Hooray! New best validation result [ppl]!\n",
            "2019-12-30 08:19:29,592 Saving new checkpoint.\n",
            "2019-12-30 08:19:29,836 Example #0\n",
            "2019-12-30 08:19:29,837 \tSource:     These orchestral arrangements are composed in such a way that they will prepare our heart and mind for the program to follow .\n",
            "2019-12-30 08:19:29,837 \tReference:  E ru uhworo nana vwẹ idjerhe ro de se muegbe rẹ ubiudu rẹ avwanre hẹrhẹ ọrhuẹrẹphiyọ rẹ ẹdẹ yena .\n",
            "2019-12-30 08:19:29,837 \tHypothesis: Enana eje djerephia nẹ ayen che se ru obo re chọre , ọ cha nẹrhẹ ayen nene odjekẹ rẹ Baibol na .\n",
            "2019-12-30 08:19:29,837 Example #1\n",
            "2019-12-30 08:19:29,837 \tSource:     Today he is serving at Bethel .\n",
            "2019-12-30 08:19:29,837 \tReference:  Nonẹna , ọ ga vwẹ Bẹtẹl .\n",
            "2019-12-30 08:19:29,838 \tHypothesis: Nonẹna , ọ ga vwẹ Bẹtẹl .\n",
            "2019-12-30 08:19:29,838 Example #2\n",
            "2019-12-30 08:19:29,838 \tSource:     But freedom from what ?\n",
            "2019-12-30 08:19:29,838 \tReference:  Ẹkẹvuọvo , ẹdia vọ yen egbomọphẹ na che si ayen nu ?\n",
            "2019-12-30 08:19:29,838 \tHypothesis: Ẹkẹvuọvo , egbomọphẹ vọ yen a vwọ dia ọmuvwiẹ ?\n",
            "2019-12-30 08:19:29,838 Example #3\n",
            "2019-12-30 08:19:29,838 \tSource:     Avoid comparing your new congregation with your previous one .\n",
            "2019-12-30 08:19:29,838 \tReference:  Wọ vwẹ ukoko kpokpọ na vwọ vwanvwen ọ rẹ wo nurhe na - a .\n",
            "2019-12-30 08:19:29,838 \tHypothesis: Wọ vwẹ ukoko kpokpọ vwọ kẹ ukoko wẹn .\n",
            "2019-12-30 08:19:29,838 Validation result (greedy) at epoch  24, step     7000: bleu:  11.27, loss: 54344.2266, ppl:  10.0092, duration: 45.6689s\n",
            "2019-12-30 08:19:45,239 Epoch  24 Step:     7100 Batch Loss:     2.186822 Tokens per Sec:    13332, Lr: 0.000300\n",
            "2019-12-30 08:19:45,692 Epoch  24: total training loss 608.35\n",
            "2019-12-30 08:19:45,692 EPOCH 25\n",
            "2019-12-30 08:20:00,612 Epoch  25 Step:     7200 Batch Loss:     2.567016 Tokens per Sec:    13375, Lr: 0.000300\n",
            "2019-12-30 08:20:15,828 Epoch  25 Step:     7300 Batch Loss:     2.174290 Tokens per Sec:    13300, Lr: 0.000300\n",
            "2019-12-30 08:20:31,195 Epoch  25 Step:     7400 Batch Loss:     2.307017 Tokens per Sec:    13547, Lr: 0.000300\n",
            "2019-12-30 08:20:31,352 Epoch  25: total training loss 606.16\n",
            "2019-12-30 08:20:31,352 EPOCH 26\n",
            "2019-12-30 08:20:46,653 Epoch  26 Step:     7500 Batch Loss:     2.046378 Tokens per Sec:    13427, Lr: 0.000300\n",
            "2019-12-30 08:21:02,132 Epoch  26 Step:     7600 Batch Loss:     1.878576 Tokens per Sec:    13503, Lr: 0.000300\n",
            "2019-12-30 08:21:16,743 Epoch  26: total training loss 586.17\n",
            "2019-12-30 08:21:16,743 EPOCH 27\n",
            "2019-12-30 08:21:17,648 Epoch  27 Step:     7700 Batch Loss:     1.911798 Tokens per Sec:    11765, Lr: 0.000300\n",
            "2019-12-30 08:21:32,847 Epoch  27 Step:     7800 Batch Loss:     1.653833 Tokens per Sec:    13542, Lr: 0.000300\n",
            "2019-12-30 08:21:48,291 Epoch  27 Step:     7900 Batch Loss:     1.711967 Tokens per Sec:    13544, Lr: 0.000300\n",
            "2019-12-30 08:22:02,020 Epoch  27: total training loss 586.40\n",
            "2019-12-30 08:22:02,020 EPOCH 28\n",
            "2019-12-30 08:22:03,581 Epoch  28 Step:     8000 Batch Loss:     1.357505 Tokens per Sec:    13293, Lr: 0.000300\n",
            "2019-12-30 08:22:48,918 Hooray! New best validation result [ppl]!\n",
            "2019-12-30 08:22:48,918 Saving new checkpoint.\n",
            "2019-12-30 08:22:49,172 Example #0\n",
            "2019-12-30 08:22:49,173 \tSource:     These orchestral arrangements are composed in such a way that they will prepare our heart and mind for the program to follow .\n",
            "2019-12-30 08:22:49,173 \tReference:  E ru uhworo nana vwẹ idjerhe ro de se muegbe rẹ ubiudu rẹ avwanre hẹrhẹ ọrhuẹrẹphiyọ rẹ ẹdẹ yena .\n",
            "2019-12-30 08:22:49,173 \tHypothesis: Enana eje djerephia nẹ ayen che ru obo re chọre , je cha nẹrhẹ e roro kpahen erọnvwọn rẹ avwanre che ru .\n",
            "2019-12-30 08:22:49,173 Example #1\n",
            "2019-12-30 08:22:49,173 \tSource:     Today he is serving at Bethel .\n",
            "2019-12-30 08:22:49,173 \tReference:  Nonẹna , ọ ga vwẹ Bẹtẹl .\n",
            "2019-12-30 08:22:49,174 \tHypothesis: Nonẹna , ọ ga vwẹ Bẹtẹl .\n",
            "2019-12-30 08:22:49,174 Example #2\n",
            "2019-12-30 08:22:49,174 \tSource:     But freedom from what ?\n",
            "2019-12-30 08:22:49,174 \tReference:  Ẹkẹvuọvo , ẹdia vọ yen egbomọphẹ na che si ayen nu ?\n",
            "2019-12-30 08:22:49,174 \tHypothesis: Ẹkẹvuọvo , egbomọphẹ vọ yen e vwo ru ?\n",
            "2019-12-30 08:22:49,174 Example #3\n",
            "2019-12-30 08:22:49,174 \tSource:     Avoid comparing your new congregation with your previous one .\n",
            "2019-12-30 08:22:49,174 \tReference:  Wọ vwẹ ukoko kpokpọ na vwọ vwanvwen ọ rẹ wo nurhe na - a .\n",
            "2019-12-30 08:22:49,174 \tHypothesis: Wọ vwẹ ukoko kpokpọ vwo ruiruo vwẹ ukoko wẹn .\n",
            "2019-12-30 08:22:49,174 Validation result (greedy) at epoch  28, step     8000: bleu:  11.76, loss: 53979.0195, ppl:   9.8554, duration: 45.5931s\n",
            "2019-12-30 08:23:04,489 Epoch  28 Step:     8100 Batch Loss:     1.113329 Tokens per Sec:    13586, Lr: 0.000300\n",
            "2019-12-30 08:23:19,772 Epoch  28 Step:     8200 Batch Loss:     1.761469 Tokens per Sec:    13552, Lr: 0.000300\n",
            "2019-12-30 08:23:32,791 Epoch  28: total training loss 575.56\n",
            "2019-12-30 08:23:32,791 EPOCH 29\n",
            "2019-12-30 08:23:35,161 Epoch  29 Step:     8300 Batch Loss:     0.976917 Tokens per Sec:    13568, Lr: 0.000300\n",
            "2019-12-30 08:23:50,534 Epoch  29 Step:     8400 Batch Loss:     1.823781 Tokens per Sec:    13431, Lr: 0.000300\n",
            "2019-12-30 08:24:05,867 Epoch  29 Step:     8500 Batch Loss:     1.808622 Tokens per Sec:    13534, Lr: 0.000300\n",
            "2019-12-30 08:24:18,223 Epoch  29: total training loss 569.11\n",
            "2019-12-30 08:24:18,223 EPOCH 30\n",
            "2019-12-30 08:24:21,213 Epoch  30 Step:     8600 Batch Loss:     1.723362 Tokens per Sec:    13276, Lr: 0.000300\n",
            "2019-12-30 08:24:36,600 Epoch  30 Step:     8700 Batch Loss:     1.231721 Tokens per Sec:    13433, Lr: 0.000300\n",
            "2019-12-30 08:24:51,830 Epoch  30 Step:     8800 Batch Loss:     2.209485 Tokens per Sec:    13517, Lr: 0.000300\n",
            "2019-12-30 08:25:03,876 Epoch  30: total training loss 566.47\n",
            "2019-12-30 08:25:03,876 Training ended after  30 epochs.\n",
            "2019-12-30 08:25:03,876 Best validation result (greedy) at step     8000:   9.86 ppl.\n",
            "2019-12-30 08:25:21,407  dev bleu:  11.95 [Beam search decoding with beam size = 5 and alpha = 1.0]\n",
            "2019-12-30 08:25:21,408 Translations saved to: models/enurh_transformer/00008000.hyps.dev\n",
            "2019-12-30 08:25:57,573 test bleu:  23.07 [Beam search decoding with beam size = 5 and alpha = 1.0]\n",
            "2019-12-30 08:25:57,575 Translations saved to: models/enurh_transformer/00008000.hyps.test\n"
          ],
          "name": "stdout"
        }
      ]
    },
    {
      "cell_type": "code",
      "metadata": {
        "colab_type": "code",
        "id": "MBoDS09JM807",
        "colab": {
          "base_uri": "https://localhost:8080/",
          "height": 34
        },
        "outputId": "af5b7fff-c5d5-4eac-93cd-8dc586b3f3f8"
      },
      "source": [
        "# Copy the created models from the notebook storage to google drive for persistant storage \n",
        "#!cp -r joeynmt/models/${src}${tgt}_transformer/* \"$gdrive_path/models/${src}${tgt}_transformer/\"\n",
        "!cp -r joeynmt/models/${src}${tgt}_transformer/* drive/'My Drive'/masakhane/en-urh-baseline/models/enurh_transformer"
      ],
      "execution_count": 49,
      "outputs": [
        {
          "output_type": "stream",
          "text": [
            "cp: cannot create symbolic link 'drive/My Drive/masakhane/en-urh-baseline/models/enurh_transformer/best.ckpt': Operation not supported\n"
          ],
          "name": "stdout"
        }
      ]
    },
    {
      "cell_type": "code",
      "metadata": {
        "colab_type": "code",
        "id": "n94wlrCjVc17",
        "colab": {
          "base_uri": "https://localhost:8080/",
          "height": 153
        },
        "outputId": "a08b9464-e3a2-44eb-f134-1043f9b524ae"
      },
      "source": [
        "# Output our validation accuracy\n",
        "! cat \"$gdrive_path/models/${src}${tgt}_transformer/validations.txt\""
      ],
      "execution_count": 50,
      "outputs": [
        {
          "output_type": "stream",
          "text": [
            "Steps: 1000\tLoss: 82894.25781\tPPL: 33.57090\tbleu: 1.38076\tLR: 0.00030000\t*\n",
            "Steps: 2000\tLoss: 71127.99219\tPPL: 20.38746\tbleu: 3.38906\tLR: 0.00030000\t*\n",
            "Steps: 3000\tLoss: 64387.64844\tPPL: 15.32086\tbleu: 5.88120\tLR: 0.00030000\t*\n",
            "Steps: 4000\tLoss: 60269.48047\tPPL: 12.86689\tbleu: 7.95364\tLR: 0.00030000\t*\n",
            "Steps: 5000\tLoss: 57490.78516\tPPL: 11.43726\tbleu: 9.62943\tLR: 0.00030000\t*\n",
            "Steps: 6000\tLoss: 55914.19141\tPPL: 10.69792\tbleu: 10.53420\tLR: 0.00030000\t*\n",
            "Steps: 7000\tLoss: 54344.22656\tPPL: 10.00918\tbleu: 11.26628\tLR: 0.00030000\t*\n",
            "Steps: 8000\tLoss: 53979.01953\tPPL: 9.85543\tbleu: 11.76212\tLR: 0.00030000\t*\n"
          ],
          "name": "stdout"
        }
      ]
    },
    {
      "cell_type": "code",
      "metadata": {
        "colab_type": "code",
        "id": "66WhRE9lIhoD",
        "colab": {
          "base_uri": "https://localhost:8080/",
          "height": 68
        },
        "outputId": "a6e4f999-5778-49ab-8b95-3a26f79a7c3c"
      },
      "source": [
        "# Test our model\n",
        "! cd joeynmt; python3 -m joeynmt test \"$gdrive_path/models/${src}${tgt}_transformer/config.yaml\""
      ],
      "execution_count": 51,
      "outputs": [
        {
          "output_type": "stream",
          "text": [
            "2019-12-30 08:36:24,525 Hello! This is Joey-NMT.\n",
            "2019-12-30 08:36:44,795  dev bleu:  11.95 [Beam search decoding with beam size = 5 and alpha = 1.0]\n",
            "2019-12-30 08:37:18,567 test bleu:  23.07 [Beam search decoding with beam size = 5 and alpha = 1.0]\n"
          ],
          "name": "stdout"
        }
      ]
    }
  ]
}