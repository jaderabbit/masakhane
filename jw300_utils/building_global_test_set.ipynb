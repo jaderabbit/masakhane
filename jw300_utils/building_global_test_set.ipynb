{
  "nbformat": 4,
  "nbformat_minor": 0,
  "metadata": {
    "kernelspec": {
      "display_name": "Python 3",
      "language": "python",
      "name": "python3"
    },
    "language_info": {
      "codemirror_mode": {
        "name": "ipython",
        "version": 3
      },
      "file_extension": ".py",
      "mimetype": "text/x-python",
      "name": "python",
      "nbconvert_exporter": "python",
      "pygments_lexer": "ipython3",
      "version": "3.6.8"
    },
    "colab": {
      "name": "building_global_test_set.ipynb",
      "provenance": [],
      "collapsed_sections": []
    }
  },
  "cells": [
    {
      "cell_type": "markdown",
      "metadata": {
        "id": "yLIkGn6RQ5yg"
      },
      "source": [
        "### Setting Up the data"
      ]
    },
    {
      "cell_type": "markdown",
      "metadata": {
        "id": "P_uBo3H6Q5yr"
      },
      "source": [
        "Downloading the global test set is simple,\n",
        "we need to set english and your target as source and target language, then we find the intersection of the english test set with the target corpus after that we get the corresponding target sentences from the target corpus."
      ]
    },
    {
      "cell_type": "code",
      "metadata": {
        "id": "4rdvcs5aRVbf"
      },
      "source": [
        "%%capture\n",
        "!pip install opustools-pkg"
      ],
      "execution_count": 1,
      "outputs": []
    },
    {
      "cell_type": "markdown",
      "metadata": {
        "id": "FG5qoTCkdyCy"
      },
      "source": [
        "# SET THE LANGUAGE CODE and other variables.\n",
        "\n",
        "You need to change the value below for your language!\n",
        "\n",
        "The language codes from the [JW300 corpus website](https://opus.nlpl.eu/JW300.php) are: \n",
        "```\n",
        "[\"ab\", \"ach\", \"ada\", \"ady\", \"aed\", \"af\", \"aha\", \"ajg\", \"alt\", \"alz\", \"am\", \"ami\", \"amu\", \"aoc\", \"ar\", \"arh\", \"arn\", \"as\", \"ase\", \"asf\", \"ati\", \"ay\", \"az\", \"az_Cyrl\", \"ba\", \"bas\", \"bbc\", \"bbj\", \"bci\", \"bcl\", \"bem\", \"bfi\", \"bg\", \"bhw\", \"bi\", \"bin\", \"bn\", \"btg\", \"bts\", \"btx\", \"bum\", \"bvl\", \"byv\", \"bzj\", \"bzs\", \"cab\", \"cac\", \"cak\", \"cat\", \"cce\", \"ceb\", \"chf\", \"chj\", \"chk\", \"chw\", \"cjk\", \"cmn_Hans\", \"cmn_Hant\", \"cnh\", \"crs\", \"cs\", \"cse\", \"csf\", \"csg\", \"csl\", \"csn\", \"csr\", \"cto\", \"ctu\", \"cuk\", \"cv\", \"cy\", \"da\", \"daf\", \"de\", \"dga\", \"dhv\", \"djk\", \"dtp\", \"dua\", \"dyu\", \"ecs\", \"ee\", \"efi\", \"el\", \"en\", \"es\", \"esn\", \"et\", \"eu\", \"ewo\", \"fa\", \"fan\", \"fat\", \"fcs\", \"fi\", \"fj\", \"fo\", \"fon\", \"fr\", \"fse\", \"fsl\", \"ga\", \"gaa\", \"gcf\", \"gcr\", \"gil\", \"gl\", \"gom\", \"gsg\", \"gsm\", \"gss\", \"gu\", \"guc\", \"gug\", \"gum\", \"gur\", \"guw\", \"gxx\", \"gym\", \"ha\", \"hch\", \"hds\", \"he\", \"hi\", \"hil\", \"hmn\", \"ho\", \"hr\", \"hrx\", \"hsh\", \"ht\", \"hu\", \"hus\", \"hy\", \"hy_arevmda\", \"hye_x_hma\", \"hye_x_hms\", \"hz\", \"iba\", \"ibg\", \"id\", \"ig\", \"ilo\", \"inl\", \"ins\", \"is\", \"ise\", \"ish\", \"iso\", \"it\", \"ja\", \"jiv\", \"jmx\", \"jsl\", \"jv\", \"jw_dgr\", \"jw_dmr\", \"jw_ibi\", \"jw_paa\", \"jw_qcs\", \"jw_rmg\", \"jw_rmv\", \"jw_spl\", \"jw_ssa\", \"jw_tpo\", \"jw_vlc\", \"jw_vz\", \"ka\", \"kab\", \"kac\", \"kam\", \"kbp\", \"kea\", \"kek\", \"kg\", \"ki\", \"kj\", \"kjh\", \"kk_Arab\", \"kk_Cyrl\", \"kl\", \"km\", \"kmb\", \"kmr\", \"kmr_Cyrl\", \"kmr_latn\", \"kn\", \"ko\", \"koo\", \"kqn\", \"krc\", \"kri\", \"kss\", \"ksw\", \"kvk\", \"kwn\", \"kwy\", \"ky\", \"lam\", \"lg\", \"ln\", \"lo\", \"loz\", \"lsp\", \"lt\", \"lu\", \"lua\", \"lue\", \"lun\", \"luo\", \"lus\", \"lv\", \"mam\", \"mau\", \"maz\", \"mco\", \"mcp\", \"men\", \"mfe\", \"mfs\", \"mg\", \"mgr\", \"mh\", \"mhr\", \"miq\", \"mk\", \"ml\", \"mn\", \"mos\", \"mr\", \"mrq\", \"mt\", \"mxv\", \"my\", \"mzy\", \"nba\", \"nch\", \"ncj\", \"ncs\", \"ncx\", \"nd\", \"ndc\", \"ne\", \"ng\", \"ngl\", \"ngu\", \"nhk\", \"nia\", \"nij\", \"niu\", \"nl\", \"nnh\", \"no\", \"nr\", \"nso\", \"nv\", \"ny\", \"nya\", \"nyk\", \"nyn\", \"nyu\", \"nzi\", \"oke\", \"om\", \"or\", \"os\", \"ote\", \"pa\", \"pag\", \"pap\", \"pbb\", \"pcm\", \"pdc\", \"pdt\", \"pid\", \"pis\", \"pl\", \"pnb\", \"pon\", \"prl\", \"pso\", \"psp\", \"psr\", \"pt\", \"pys\", \"qu\", \"quc\", \"que\", \"qug\", \"qus\", \"quw\", \"quy\", \"quz\", \"qvi\", \"qvz\", \"rar\", \"rcf\", \"rmc_sk\", \"rmn\", \"rmn_Cyrl\", \"rms\", \"rmy\", \"rmy_AR\", \"rnd\", \"ro\", \"rsl\", \"ru\", \"run\", \"rw\", \"sah\", \"sbs\", \"seh\", \"sfs\", \"sfw\", \"sg\", \"sgn_AO\", \"si\", \"sid\", \"sk\", \"sl\", \"sm\", \"sn\", \"sop\", \"sq\", \"sqk\", \"sr_Cyrl\", \"sr_Latn\", \"srm\", \"srn\", \"ss\", \"ssp\", \"st\", \"su\", \"sv\", \"svk\", \"sw\", \"swc\", \"sxn\", \"ta\", \"tcf\", \"tdt\", \"tdx\", \"te\", \"tg\", \"th\", \"ti\", \"tiv\", \"tk\", \"tk_Cyrl\", \"tl\", \"tll\", \"tn\", \"to\", \"tob\", \"tog\", \"toh\", \"toi\", \"toi_zw\", \"toj\", \"top\", \"tpi\", \"tr\", \"ts\", \"tsc\", \"tso_MZ\", \"tss\", \"tsz\", \"tt\", \"ttj\", \"tum\", \"tvl\", \"tw\", \"ty\", \"tyv\", \"tzh\", \"tzo\", \"udm\", \"ug_Cyrl\", \"uk\", \"umb\", \"ur\", \"urh\", \"uz_Cyrl\", \"uz_Latn\", \"ve\", \"vec\", \"vi\", \"vmw\", \"vsl\", \"wal\", \"war\", \"wba\", \"wes\", \"wes_ng\", \"wls\", \"wlv\", \"xh\", \"xmf\", \"xpe\", \"yao\", \"yap\", \"ybb\", \"yo\", \"yua\", \"yue_Hans\", \"yue_Hant\", \"zab\", \"zai\", \"zdj\", \"zib\", \"zlm\", \"zne\", \"zpa\", \"zpg\", \"zsl\", \"zu\",\"]\n",
        "```\n",
        "Already-created test sets: https://github.com/juliakreutzer/masakhane/tree/master/jw300_utils/test\n",
        "\n",
        "For this example, we pick `ha`, which is Hausa."
      ]
    },
    {
      "cell_type": "code",
      "metadata": {
        "id": "EhNiQZplQ5yt"
      },
      "source": [
        "import os\n",
        "source_language = \"en\"\n",
        "target_language = \"ab\" # TODO: CHANGE THIS TO YOUR LANGUAGE! \"ha\" is hausa. See the language codes at https://opus.nlpl.eu/JW300.php\n",
        "lc = False  # If True, lowercase the data.\n",
        "seed = 42  # Random seed for shuffling.\n",
        "tag = \"baseline\" # Give a unique name to your folder - this is to ensure you don't rewrite any models you've already submitted\n",
        "\n",
        "os.environ[\"src\"] = source_language # Sets them in bash as well, since we often use bash scripts\n",
        "os.environ[\"tgt\"] = target_language\n",
        "os.environ[\"tag\"] = tag\n",
        "\n",
        "# No need to use gdrive since we are training on gcp\n",
        "!mkdir -p \"$src-$tgt-$tag\"\n",
        "os.environ[\"gdrive_path\"] = \"%s-%s-%s\" % (source_language, target_language, tag) # saving directly on the vm"
      ],
      "execution_count": 2,
      "outputs": []
    },
    {
      "cell_type": "code",
      "metadata": {
        "id": "RExQ_q-vQ5yy",
        "colab": {
          "base_uri": "https://localhost:8080/"
        },
        "outputId": "81f6f6fe-1a47-4599-c0a3-c5f9a1139e56"
      },
      "source": [
        "!echo $gdrive_path"
      ],
      "execution_count": 3,
      "outputs": [
        {
          "output_type": "stream",
          "text": [
            "en-ab-baseline\n"
          ],
          "name": "stdout"
        }
      ]
    },
    {
      "cell_type": "markdown",
      "metadata": {
        "id": "6C760IqtQ5y0"
      },
      "source": [
        "#### Downloading the corpus data"
      ]
    },
    {
      "cell_type": "markdown",
      "metadata": {
        "id": "x1jEhHm8Q5y1"
      },
      "source": [
        "for precaution , am removing the old data"
      ]
    },
    {
      "cell_type": "code",
      "metadata": {
        "id": "XQBYlyBSQ5y3"
      },
      "source": [
        "!rm -f w300.$src jw300.$tgt JW300_latest_xml_$src-$tgt.xml.gz JW300_latest_xml_$src-$tgt.xml JW300_latest_xml_$src.zip  JW300_latest_xml_$tgt.zip test.en-any.en"
      ],
      "execution_count": 4,
      "outputs": []
    },
    {
      "cell_type": "code",
      "metadata": {
        "scrolled": true,
        "id": "W2bhVsAEQ5y4",
        "colab": {
          "base_uri": "https://localhost:8080/"
        },
        "outputId": "7b8a6e6c-ae25-4ce2-8e6c-c4de7220bc0d"
      },
      "source": [
        "# Downloading our corpus\n",
        "! opus_read -d JW300 -s $src -t $tgt -wm moses -w jw300.$src jw300.$tgt -q\n",
        "\n",
        "# extract the corpus file\n",
        "! gunzip JW300_latest_xml_$src-$tgt.xml.gz"
      ],
      "execution_count": 5,
      "outputs": [
        {
          "output_type": "stream",
          "text": [
            "\n",
            "Alignment file /proj/nlpl/data/OPUS/JW300/latest/xml/ab-en.xml.gz not found. The following files are available for downloading:\n",
            "\n",
            " 312 KB https://object.pouta.csc.fi/OPUS-JW300/v1b/xml/ab-en.xml.gz\n",
            "   3 MB https://object.pouta.csc.fi/OPUS-JW300/v1b/xml/ab.zip\n",
            " 263 MB https://object.pouta.csc.fi/OPUS-JW300/v1b/xml/en.zip\n",
            "\n",
            " 266 MB Total size\n",
            "./JW300_latest_xml_ab-en.xml.gz ... 100% of 312 KB\n",
            "./JW300_latest_xml_ab.zip ... 100% of 3 MB\n",
            "./JW300_latest_xml_en.zip ... 100% of 263 MB\n",
            "gzip: JW300_latest_xml_en-ab.xml.gz: No such file or directory\n"
          ],
          "name": "stdout"
        }
      ]
    },
    {
      "cell_type": "code",
      "metadata": {
        "id": "AdJrG4SmQ5y7",
        "colab": {
          "base_uri": "https://localhost:8080/"
        },
        "outputId": "0622f844-6c99-4a8f-f65c-17509883f562"
      },
      "source": [
        "! wget https://raw.githubusercontent.com/juliakreutzer/masakhane/master/jw300_utils/test/test.en-any.en\n",
        "  \n",
        "# And the specific test set for this language pair.\n",
        "os.environ[\"trg\"] = target_language \n",
        "os.environ[\"src\"] = source_language "
      ],
      "execution_count": 6,
      "outputs": [
        {
          "output_type": "stream",
          "text": [
            "--2021-06-24 19:43:27--  https://raw.githubusercontent.com/juliakreutzer/masakhane/master/jw300_utils/test/test.en-any.en\n",
            "Resolving raw.githubusercontent.com (raw.githubusercontent.com)... 185.199.108.133, 185.199.109.133, 185.199.110.133, ...\n",
            "Connecting to raw.githubusercontent.com (raw.githubusercontent.com)|185.199.108.133|:443... connected.\n",
            "HTTP request sent, awaiting response... 200 OK\n",
            "Length: 277791 (271K) [text/plain]\n",
            "Saving to: ‘test.en-any.en’\n",
            "\n",
            "test.en-any.en      100%[===================>] 271.28K  --.-KB/s    in 0.03s   \n",
            "\n",
            "2021-06-24 19:43:28 (9.09 MB/s) - ‘test.en-any.en’ saved [277791/277791]\n",
            "\n"
          ],
          "name": "stdout"
        }
      ]
    },
    {
      "cell_type": "code",
      "metadata": {
        "id": "-XLatU0iQ5y8",
        "colab": {
          "base_uri": "https://localhost:8080/"
        },
        "outputId": "7d2a91ba-2b5d-4ae8-91a8-82ec5dd79869"
      },
      "source": [
        "# Read the test data to filter from train and dev splits.\n",
        "# Store english portion in set for quick filtering checks.\n",
        "en_test_sents = set()\n",
        "filter_test_sents = \"test.en-any.en\"\n",
        "j = 0\n",
        "with open(filter_test_sents) as f:\n",
        "  for line in f:\n",
        "    en_test_sents.add(line.strip())\n",
        "    j += 1\n",
        "print('Loaded {} global test sentences to filter from the training/dev data.'.format(j))"
      ],
      "execution_count": 7,
      "outputs": [
        {
          "output_type": "stream",
          "text": [
            "Loaded 3571 global test sentences to filter from the training/dev data.\n"
          ],
          "name": "stdout"
        }
      ]
    },
    {
      "cell_type": "code",
      "metadata": {
        "scrolled": false,
        "id": "ydypbA7LQ5y-",
        "colab": {
          "base_uri": "https://localhost:8080/"
        },
        "outputId": "cb829240-94eb-4783-dbb7-e189bc4f8563"
      },
      "source": [
        "!ls"
      ],
      "execution_count": 8,
      "outputs": [
        {
          "output_type": "stream",
          "text": [
            "en-ab-baseline\tJW300_latest_xml_ab-en.xml.gz  sample_data\n",
            "jw300.ab\tJW300_latest_xml_ab.zip        test.en-any.en\n",
            "jw300.en\tJW300_latest_xml_en.zip\n"
          ],
          "name": "stdout"
        }
      ]
    },
    {
      "cell_type": "markdown",
      "metadata": {
        "id": "mTsD-Ta1Q5zD"
      },
      "source": [
        "#### Building the corpus"
      ]
    },
    {
      "cell_type": "markdown",
      "metadata": {
        "id": "8I8fMRRrQ5zF"
      },
      "source": [
        "In the 2 cells below you can check if the 2 datasets are aligned. Even if you don't speak the language you can get a sense, especially with similar words, punctuation, and so forth."
      ]
    },
    {
      "cell_type": "code",
      "metadata": {
        "scrolled": true,
        "id": "UHpOmS0xQ5zF",
        "colab": {
          "base_uri": "https://localhost:8080/"
        },
        "outputId": "54d32651-3152-479f-e410-82cf3fad572c"
      },
      "source": [
        "! head -5 jw300.en"
      ],
      "execution_count": 9,
      "outputs": [
        {
          "output_type": "stream",
          "text": [
            "Table of Contents\n",
            "© 2016 Watch Tower Bible and Tract Society of Pennsylvania\n",
            "Would the world be a better place if everyone lived by this Bible principle ?\n",
            "“ We wish to conduct ourselves honestly in all things . ” ​ — Hebrews 13 : 18 .\n",
            "This issue of The Watchtower discusses how honesty touches every aspect of our life .\n"
          ],
          "name": "stdout"
        }
      ]
    },
    {
      "cell_type": "code",
      "metadata": {
        "id": "mgPwLbD8Q5zG",
        "colab": {
          "base_uri": "https://localhost:8080/"
        },
        "outputId": "e467f1da-9278-4e85-ef32-b2ed875c1d6e"
      },
      "source": [
        "! head -5 jw300.$tgt"
      ],
      "execution_count": 10,
      "outputs": [
        {
          "output_type": "stream",
          "text": [
            "Аҵакы\n",
            "© 2016 Watch Tower Bible and Tract Society of Pennsylvania\n",
            "Еиӷьхозма адунеи , ауаа зегь ари абиблиатә принцип иқәныҟәозҭгьы ?\n",
            "« Ҳарҭ . . . иҟаҳҵо зегьы гәык - ԥсык ала , иаша - ҵабыргла иҟаҳҵоит » ( Ауриацәа рахь 13 : 18 ) .\n",
            "Ари аброшиураҿы иануп аиашара ҳаԥсҭазаара ишаныруа . Аиашара .\n"
          ],
          "name": "stdout"
        }
      ]
    },
    {
      "cell_type": "code",
      "metadata": {
        "id": "IlJP5HzhQ5zJ",
        "colab": {
          "base_uri": "https://localhost:8080/",
          "height": 381
        },
        "outputId": "2064830c-cf75-41a9-d65c-9ac3e023c0ac"
      },
      "source": [
        "import pandas as pd\n",
        "\n",
        "# TMX file to dataframe\n",
        "source_file = 'jw300.' + source_language  ## source language is english\n",
        "target_file = 'jw300.' + target_language ## Target is whatever you set. For our example it was ha, so jw300.ha\n",
        "target_test = {}\n",
        "source = []\n",
        "target = []\n",
        "english_sentences_in_global_test_set = {}  # Collect the line numbers of the source portion to skip the same lines for the target portion.\n",
        "with open(source_file) as src_f:\n",
        "    for i, line in enumerate(src_f):\n",
        "        # Skip sentences that are contained in the test set and add them into the new frencg test\n",
        "        if line.strip() not in en_test_sents:\n",
        "            source.append(line.strip())\n",
        "        else:\n",
        "            # Here is the intersection with the global test set\n",
        "            english_sentences_in_global_test_set[i] = line.strip()           \n",
        "with open(target_file) as f:\n",
        "    for j, line in enumerate(f):\n",
        "        # Only add to corpus if corresponding source was not skipped.\n",
        "        if j not in english_sentences_in_global_test_set.keys():\n",
        "            target.append(line.strip())\n",
        "        else:\n",
        "            #Collecting the aligned test sentences\n",
        "            target_test[j] = line.strip()\n",
        "    \n",
        "print('Loaded data and skipped {}/{} lines since contained in test set.'.format(len(english_sentences_in_global_test_set.keys()), i))\n",
        "    \n",
        "df = pd.DataFrame(zip(source, target), columns=['source_sentence', 'target_sentence'])\n",
        "# if you get TypeError: data argument can't be an iterator is because of your zip version run this below\n",
        "#df = pd.DataFrame(list(zip(source, target)), columns=['source_sentence', 'target_sentence'])\n",
        "df.head(10)"
      ],
      "execution_count": 11,
      "outputs": [
        {
          "output_type": "stream",
          "text": [
            "Loaded data and skipped 2984/28885 lines since contained in test set.\n"
          ],
          "name": "stdout"
        },
        {
          "output_type": "execute_result",
          "data": {
            "text/html": [
              "<div>\n",
              "<style scoped>\n",
              "    .dataframe tbody tr th:only-of-type {\n",
              "        vertical-align: middle;\n",
              "    }\n",
              "\n",
              "    .dataframe tbody tr th {\n",
              "        vertical-align: top;\n",
              "    }\n",
              "\n",
              "    .dataframe thead th {\n",
              "        text-align: right;\n",
              "    }\n",
              "</style>\n",
              "<table border=\"1\" class=\"dataframe\">\n",
              "  <thead>\n",
              "    <tr style=\"text-align: right;\">\n",
              "      <th></th>\n",
              "      <th>source_sentence</th>\n",
              "      <th>target_sentence</th>\n",
              "    </tr>\n",
              "  </thead>\n",
              "  <tbody>\n",
              "    <tr>\n",
              "      <th>0</th>\n",
              "      <td>Why It Pays to Be Honest 6</td>\n",
              "      <td>Иашарыла анхара заԥсоу 6</td>\n",
              "    </tr>\n",
              "    <tr>\n",
              "      <th>1</th>\n",
              "      <td>The Bible Changes Lives</td>\n",
              "      <td>Абиблиа аԥсҭазаара аԥсахуеит</td>\n",
              "    </tr>\n",
              "    <tr>\n",
              "      <th>2</th>\n",
              "      <td>Did You Know ?</td>\n",
              "      <td>Ижәдыруама шәара ?</td>\n",
              "    </tr>\n",
              "    <tr>\n",
              "      <th>3</th>\n",
              "      <td>10</td>\n",
              "      <td>10</td>\n",
              "    </tr>\n",
              "    <tr>\n",
              "      <th>4</th>\n",
              "      <td>Ancient Wisdom for Modern Living</td>\n",
              "      <td>Ажәытәтәи аҟәыӷара иахьатәи аԥсҭазааразы</td>\n",
              "    </tr>\n",
              "    <tr>\n",
              "      <th>5</th>\n",
              "      <td>Do Not Be Anxious 15</td>\n",
              "      <td>Шәазымхьаалан 15</td>\n",
              "    </tr>\n",
              "    <tr>\n",
              "      <th>6</th>\n",
              "      <td>What Does the Bible Say ?</td>\n",
              "      <td>Иаҳәозеи Абиблиа ?</td>\n",
              "    </tr>\n",
              "    <tr>\n",
              "      <th>7</th>\n",
              "      <td>16</td>\n",
              "      <td>16</td>\n",
              "    </tr>\n",
              "    <tr>\n",
              "      <th>8</th>\n",
              "      <td>Can the Bible Help Me if I’m Depressed ?</td>\n",
              "      <td></td>\n",
              "    </tr>\n",
              "    <tr>\n",
              "      <th>9</th>\n",
              "      <td>While reviewing a financial account with his s...</td>\n",
              "      <td>Афинанстә ҳасабырба ангәарҭоз , аусура аиҳабы ...</td>\n",
              "    </tr>\n",
              "  </tbody>\n",
              "</table>\n",
              "</div>"
            ],
            "text/plain": [
              "                                     source_sentence                                    target_sentence\n",
              "0                         Why It Pays to Be Honest 6                           Иашарыла анхара заԥсоу 6\n",
              "1                            The Bible Changes Lives                       Абиблиа аԥсҭазаара аԥсахуеит\n",
              "2                                     Did You Know ?                                 Ижәдыруама шәара ?\n",
              "3                                                 10                                                 10\n",
              "4                   Ancient Wisdom for Modern Living           Ажәытәтәи аҟәыӷара иахьатәи аԥсҭазааразы\n",
              "5                               Do Not Be Anxious 15                                   Шәазымхьаалан 15\n",
              "6                          What Does the Bible Say ?                                 Иаҳәозеи Абиблиа ?\n",
              "7                                                 16                                                 16\n",
              "8           Can the Bible Help Me if I’m Depressed ?                                                   \n",
              "9  While reviewing a financial account with his s...  Афинанстә ҳасабырба ангәарҭоз , аусура аиҳабы ..."
            ]
          },
          "metadata": {
            "tags": []
          },
          "execution_count": 11
        }
      ]
    },
    {
      "cell_type": "markdown",
      "metadata": {
        "id": "krpoFeY_TtrG"
      },
      "source": [
        "## Check a random item!\n",
        "Let's pick one of the keys in the dictionary at random and check it. "
      ]
    },
    {
      "cell_type": "code",
      "metadata": {
        "scrolled": true,
        "id": "aGBDbByaQ5zL",
        "colab": {
          "base_uri": "https://localhost:8080/"
        },
        "outputId": "dd568d66-cb30-4481-953a-ad0771a8f209"
      },
      "source": [
        "import random\n",
        "keys_in_target_test = list(target_test.keys())\n",
        "print(type(keys_in_target_test))\n",
        "random_key = random.choice(keys_in_target_test)\n",
        "print(f\"The random key we picked was {random_key}\")"
      ],
      "execution_count": 12,
      "outputs": [
        {
          "output_type": "stream",
          "text": [
            "<class 'list'>\n",
            "The random key we picked was 8583\n"
          ],
          "name": "stdout"
        }
      ]
    },
    {
      "cell_type": "code",
      "metadata": {
        "colab": {
          "base_uri": "https://localhost:8080/",
          "height": 36
        },
        "id": "b0rjaSMyUzMt",
        "outputId": "cd1c7e0e-63d1-4090-ca4c-606748e1884a"
      },
      "source": [
        "target_test[random_key]"
      ],
      "execution_count": 13,
      "outputs": [
        {
          "output_type": "execute_result",
          "data": {
            "application/vnd.google.colaboratory.intrinsic+json": {
              "type": "string"
            },
            "text/plain": [
              "'б ) Ишԥарылшо аизара аиҳабацәа аишьцәа доуҳатә хьчаҩцәаны иҟаларц азы қәҿиарала разыҟаҵара ?'"
            ]
          },
          "metadata": {
            "tags": []
          },
          "execution_count": 13
        }
      ]
    },
    {
      "cell_type": "code",
      "metadata": {
        "id": "_H63DagnQ5zM",
        "colab": {
          "base_uri": "https://localhost:8080/",
          "height": 36
        },
        "outputId": "1424c93c-0adb-4201-ec14-cc2dcfc82895"
      },
      "source": [
        "english_sentences_in_global_test_set[random_key]"
      ],
      "execution_count": 14,
      "outputs": [
        {
          "output_type": "execute_result",
          "data": {
            "application/vnd.google.colaboratory.intrinsic+json": {
              "type": "string"
            },
            "text/plain": [
              "'( b ) How can the elders effectively train future shepherds of the congregation ?'"
            ]
          },
          "metadata": {
            "tags": []
          },
          "execution_count": 14
        }
      ]
    },
    {
      "cell_type": "markdown",
      "metadata": {
        "id": "Pwuc4IlEe1TR"
      },
      "source": [
        "Do the two look like they line up? "
      ]
    },
    {
      "cell_type": "markdown",
      "metadata": {
        "id": "K5mtDXEoe9NC"
      },
      "source": [
        "## Check several rows at the tail end\n",
        "\n",
        "Let's get a sample from the end of the dataset"
      ]
    },
    {
      "cell_type": "code",
      "metadata": {
        "id": "uD7ht8dKQ5zN"
      },
      "source": [
        "target_test_set = pd.DataFrame(zip(target_test.values(), english_sentences_in_global_test_set.values()), columns=['target_equivalent', 'english_equivalent'])"
      ],
      "execution_count": 15,
      "outputs": []
    },
    {
      "cell_type": "code",
      "metadata": {
        "id": "QclpZObEQ5zN"
      },
      "source": [
        "target_test_set = target_test_set.reset_index()"
      ],
      "execution_count": 16,
      "outputs": []
    },
    {
      "cell_type": "code",
      "metadata": {
        "id": "TqPm3EDTQ5zN"
      },
      "source": [
        "target_test_set = target_test_set.set_index(\"index\")"
      ],
      "execution_count": 17,
      "outputs": []
    },
    {
      "cell_type": "code",
      "metadata": {
        "id": "LnXQ31qOQ5zO",
        "colab": {
          "base_uri": "https://localhost:8080/",
          "height": 238
        },
        "outputId": "cfab93e6-95c0-4037-c0c7-77d2a1aba3a5"
      },
      "source": [
        "target_test_set.tail()"
      ],
      "execution_count": 18,
      "outputs": [
        {
          "output_type": "execute_result",
          "data": {
            "text/html": [
              "<div>\n",
              "<style scoped>\n",
              "    .dataframe tbody tr th:only-of-type {\n",
              "        vertical-align: middle;\n",
              "    }\n",
              "\n",
              "    .dataframe tbody tr th {\n",
              "        vertical-align: top;\n",
              "    }\n",
              "\n",
              "    .dataframe thead th {\n",
              "        text-align: right;\n",
              "    }\n",
              "</style>\n",
              "<table border=\"1\" class=\"dataframe\">\n",
              "  <thead>\n",
              "    <tr style=\"text-align: right;\">\n",
              "      <th></th>\n",
              "      <th>target_equivalent</th>\n",
              "      <th>english_equivalent</th>\n",
              "    </tr>\n",
              "    <tr>\n",
              "      <th>index</th>\n",
              "      <th></th>\n",
              "      <th></th>\n",
              "    </tr>\n",
              "  </thead>\n",
              "  <tbody>\n",
              "    <tr>\n",
              "      <th>2979</th>\n",
              "      <td>( Шәахәаԥш астатиа алагамҭаҿы иаагоу асахьа . )</td>\n",
              "      <td>( See opening picture . )</td>\n",
              "    </tr>\n",
              "    <tr>\n",
              "      <th>2980</th>\n",
              "      <td>Ажәамаанақәа 14 : 15 аҿы иануп : « Аԥышәа змам...</td>\n",
              "      <td>Proverbs 14 : 15 says : “ The naive person bel...</td>\n",
              "    </tr>\n",
              "    <tr>\n",
              "      <th>2981</th>\n",
              "      <td>б ) Еилҳаргозеи анаҩстәи астатиаҿы ?</td>\n",
              "      <td>( b ) What will we discuss in the next article ?</td>\n",
              "    </tr>\n",
              "    <tr>\n",
              "      <th>2982</th>\n",
              "      <td>( Шәаԥхьа 1 Тимофеи иахь 6 : 17 — 19 . )</td>\n",
              "      <td>( Read 1 Timothy 6 : 17 - 19 . )</td>\n",
              "    </tr>\n",
              "    <tr>\n",
              "      <th>2983</th>\n",
              "      <td>Мап .</td>\n",
              "      <td>No .</td>\n",
              "    </tr>\n",
              "  </tbody>\n",
              "</table>\n",
              "</div>"
            ],
            "text/plain": [
              "                                       target_equivalent                                 english_equivalent\n",
              "index                                                                                                      \n",
              "2979     ( Шәахәаԥш астатиа алагамҭаҿы иаагоу асахьа . )                          ( See opening picture . )\n",
              "2980   Ажәамаанақәа 14 : 15 аҿы иануп : « Аԥышәа змам...  Proverbs 14 : 15 says : “ The naive person bel...\n",
              "2981                б ) Еилҳаргозеи анаҩстәи астатиаҿы ?   ( b ) What will we discuss in the next article ?\n",
              "2982            ( Шәаԥхьа 1 Тимофеи иахь 6 : 17 — 19 . )                   ( Read 1 Timothy 6 : 17 - 19 . )\n",
              "2983                                               Мап .                                               No ."
            ]
          },
          "metadata": {
            "tags": []
          },
          "execution_count": 18
        }
      ]
    },
    {
      "cell_type": "markdown",
      "metadata": {
        "id": "r-7KKhEcQ5zO"
      },
      "source": [
        "Removing duplicates from english and target set"
      ]
    },
    {
      "cell_type": "code",
      "metadata": {
        "id": "Y0sCRCX2Q5zO"
      },
      "source": [
        "target_test_set = target_test_set.drop_duplicates(subset='target_equivalent')"
      ],
      "execution_count": 19,
      "outputs": []
    },
    {
      "cell_type": "code",
      "metadata": {
        "id": "6biqqTgUQ5zP"
      },
      "source": [
        "target_test_set = target_test_set.drop_duplicates(subset='english_equivalent')"
      ],
      "execution_count": 20,
      "outputs": []
    },
    {
      "cell_type": "code",
      "metadata": {
        "id": "IrqizJY3Q5zQ",
        "colab": {
          "base_uri": "https://localhost:8080/",
          "height": 238
        },
        "outputId": "05a489b6-7189-40f4-861b-c62610bac2e4"
      },
      "source": [
        "target_test_set.head()"
      ],
      "execution_count": 21,
      "outputs": [
        {
          "output_type": "execute_result",
          "data": {
            "text/html": [
              "<div>\n",
              "<style scoped>\n",
              "    .dataframe tbody tr th:only-of-type {\n",
              "        vertical-align: middle;\n",
              "    }\n",
              "\n",
              "    .dataframe tbody tr th {\n",
              "        vertical-align: top;\n",
              "    }\n",
              "\n",
              "    .dataframe thead th {\n",
              "        text-align: right;\n",
              "    }\n",
              "</style>\n",
              "<table border=\"1\" class=\"dataframe\">\n",
              "  <thead>\n",
              "    <tr style=\"text-align: right;\">\n",
              "      <th></th>\n",
              "      <th>target_equivalent</th>\n",
              "      <th>english_equivalent</th>\n",
              "    </tr>\n",
              "    <tr>\n",
              "      <th>index</th>\n",
              "      <th></th>\n",
              "      <th></th>\n",
              "    </tr>\n",
              "  </thead>\n",
              "  <tbody>\n",
              "    <tr>\n",
              "      <th>0</th>\n",
              "      <td>Аҵакы</td>\n",
              "      <td>Table of Contents</td>\n",
              "    </tr>\n",
              "    <tr>\n",
              "      <th>1</th>\n",
              "      <td>© 2016 Watch Tower Bible and Tract Society of ...</td>\n",
              "      <td>© 2016 Watch Tower Bible and Tract Society of ...</td>\n",
              "    </tr>\n",
              "    <tr>\n",
              "      <th>2</th>\n",
              "      <td>Еиӷьхозма адунеи , ауаа зегь ари абиблиатә при...</td>\n",
              "      <td>Would the world be a better place if everyone ...</td>\n",
              "    </tr>\n",
              "    <tr>\n",
              "      <th>3</th>\n",
              "      <td>« Ҳарҭ . . . иҟаҳҵо зегьы гәык - ԥсык ала , иа...</td>\n",
              "      <td>“ We wish to conduct ourselves honestly in all...</td>\n",
              "    </tr>\n",
              "    <tr>\n",
              "      <th>4</th>\n",
              "      <td>Ари аброшиураҿы иануп аиашара ҳаԥсҭазаара ишан...</td>\n",
              "      <td>This issue of The Watchtower discusses how hon...</td>\n",
              "    </tr>\n",
              "  </tbody>\n",
              "</table>\n",
              "</div>"
            ],
            "text/plain": [
              "                                       target_equivalent                                 english_equivalent\n",
              "index                                                                                                      \n",
              "0                                                  Аҵакы                                  Table of Contents\n",
              "1      © 2016 Watch Tower Bible and Tract Society of ...  © 2016 Watch Tower Bible and Tract Society of ...\n",
              "2      Еиӷьхозма адунеи , ауаа зегь ари абиблиатә при...  Would the world be a better place if everyone ...\n",
              "3      « Ҳарҭ . . . иҟаҳҵо зегьы гәык - ԥсык ала , иа...  “ We wish to conduct ourselves honestly in all...\n",
              "4      Ари аброшиураҿы иануп аиашара ҳаԥсҭазаара ишан...  This issue of The Watchtower discusses how hon..."
            ]
          },
          "metadata": {
            "tags": []
          },
          "execution_count": 21
        }
      ]
    },
    {
      "cell_type": "code",
      "metadata": {
        "id": "TJDI9P-LQ5zS",
        "colab": {
          "base_uri": "https://localhost:8080/"
        },
        "outputId": "2de259d1-f316-4be0-b821-0a1b1f8b8340"
      },
      "source": [
        "target_test_set.shape"
      ],
      "execution_count": 22,
      "outputs": [
        {
          "output_type": "execute_result",
          "data": {
            "text/plain": [
              "(2516, 2)"
            ]
          },
          "metadata": {
            "tags": []
          },
          "execution_count": 22
        }
      ]
    },
    {
      "cell_type": "code",
      "metadata": {
        "id": "jyWb1BPsQ5zT",
        "colab": {
          "base_uri": "https://localhost:8080/",
          "height": 81
        },
        "outputId": "45b4a993-5bb5-4d55-d894-41bd1aa0785c"
      },
      "source": [
        "target_test_set.loc[~target_test_set.english_equivalent.isin(en_test_sents)]"
      ],
      "execution_count": 23,
      "outputs": [
        {
          "output_type": "execute_result",
          "data": {
            "text/html": [
              "<div>\n",
              "<style scoped>\n",
              "    .dataframe tbody tr th:only-of-type {\n",
              "        vertical-align: middle;\n",
              "    }\n",
              "\n",
              "    .dataframe tbody tr th {\n",
              "        vertical-align: top;\n",
              "    }\n",
              "\n",
              "    .dataframe thead th {\n",
              "        text-align: right;\n",
              "    }\n",
              "</style>\n",
              "<table border=\"1\" class=\"dataframe\">\n",
              "  <thead>\n",
              "    <tr style=\"text-align: right;\">\n",
              "      <th></th>\n",
              "      <th>target_equivalent</th>\n",
              "      <th>english_equivalent</th>\n",
              "    </tr>\n",
              "    <tr>\n",
              "      <th>index</th>\n",
              "      <th></th>\n",
              "      <th></th>\n",
              "    </tr>\n",
              "  </thead>\n",
              "  <tbody>\n",
              "  </tbody>\n",
              "</table>\n",
              "</div>"
            ],
            "text/plain": [
              "Empty DataFrame\n",
              "Columns: [target_equivalent, english_equivalent]\n",
              "Index: []"
            ]
          },
          "metadata": {
            "tags": []
          },
          "execution_count": 23
        }
      ]
    },
    {
      "cell_type": "markdown",
      "metadata": {
        "id": "iFBOZerTjxSI"
      },
      "source": [
        "## Write out target-language test set file\n",
        "In our example, we should have `test.ha-any.ha`, but it will be different for you if you picked a different code."
      ]
    },
    {
      "cell_type": "code",
      "metadata": {
        "colab": {
          "base_uri": "https://localhost:8080/"
        },
        "id": "C6zxiOfdVab2",
        "outputId": "798b9666-12d3-4af3-d4ab-d941ad15b932"
      },
      "source": [
        "target_test_filename = f\"test.{target_language}-any.{target_language}\"\n",
        "print(target_test_filename)"
      ],
      "execution_count": 25,
      "outputs": [
        {
          "output_type": "stream",
          "text": [
            "test.ab-any.ab\n"
          ],
          "name": "stdout"
        }
      ]
    },
    {
      "cell_type": "markdown",
      "metadata": {
        "id": "3LXXXfwjfZQq"
      },
      "source": [
        "## Write out English-language test set file\n",
        "In our example, we should have `test.en-ha.en`, but it will be different for you if you picked a different code.\n",
        "\n",
        "**Make sure the data lines up in the two files!**\n",
        "The first line of each file should be translations of each other.\n"
      ]
    },
    {
      "cell_type": "code",
      "metadata": {
        "id": "CpFWMOhdQ5zU"
      },
      "source": [
        "\n",
        "with open(target_test_filename, \"w\") as test_tgt_any_tgt:\n",
        "    test_tgt_any_tgt.write(\"\\n\".join(target_test_set.target_equivalent))"
      ],
      "execution_count": 26,
      "outputs": []
    },
    {
      "cell_type": "code",
      "metadata": {
        "id": "cnZUf97gQ5zV",
        "colab": {
          "base_uri": "https://localhost:8080/"
        },
        "outputId": "ccd26d8a-e87d-4514-fcba-57ee1e036d97"
      },
      "source": [
        "!head -5 test.$tgt-any.$tgt"
      ],
      "execution_count": 27,
      "outputs": [
        {
          "output_type": "stream",
          "text": [
            "Аҵакы\n",
            "© 2016 Watch Tower Bible and Tract Society of Pennsylvania\n",
            "Еиӷьхозма адунеи , ауаа зегь ари абиблиатә принцип иқәныҟәозҭгьы ?\n",
            "« Ҳарҭ . . . иҟаҳҵо зегьы гәык - ԥсык ала , иаша - ҵабыргла иҟаҳҵоит » ( Ауриацәа рахь 13 : 18 ) .\n",
            "Ари аброшиураҿы иануп аиашара ҳаԥсҭазаара ишаныруа . Аиашара .\n"
          ],
          "name": "stdout"
        }
      ]
    },
    {
      "cell_type": "code",
      "metadata": {
        "id": "HZ93jNULQ5zV",
        "colab": {
          "base_uri": "https://localhost:8080/"
        },
        "outputId": "3bf67b4f-245b-40eb-b545-34f079f9448e"
      },
      "source": [
        "source_test_filename = f\"test.en-{target_language}.en\"\n",
        "print(f\"saving english aligned sentences to {source_test_filename}\")\n",
        "with open(source_test_filename, \"w\") as test_en_tgt_en:\n",
        "    test_en_tgt_en.write(\"\\n\".join(target_test_set.english_equivalent))\n",
        "!ls -al"
      ],
      "execution_count": 28,
      "outputs": [
        {
          "output_type": "stream",
          "text": [
            "saving english aligned sentences to test.en-ab.en\n",
            "total 272920\n",
            "drwxr-xr-x 1 root root      4096 Jun 24 19:46 .\n",
            "drwxr-xr-x 1 root root      4096 Jun 24 19:36 ..\n",
            "drwxr-xr-x 4 root root      4096 Jun 15 13:37 .config\n",
            "drwxr-xr-x 2 root root      4096 Jun 24 19:42 en-ab-baseline\n",
            "-rw-r--r-- 1 root root   4044520 Jun 24 19:43 jw300.ab\n",
            "-rw-r--r-- 1 root root   2329929 Jun 24 19:43 jw300.en\n",
            "-rw-r--r-- 1 root root    318785 Jun 24 19:42 JW300_latest_xml_ab-en.xml.gz\n",
            "-rw-r--r-- 1 root root   2596928 Jun 24 19:43 JW300_latest_xml_ab.zip\n",
            "-rw-r--r-- 1 root root 269378154 Jun 24 19:43 JW300_latest_xml_en.zip\n",
            "drwxr-xr-x 1 root root      4096 Jun 15 13:37 sample_data\n",
            "-rw-r--r-- 1 root root    300741 Jun 24 19:46 test.ab-any.ab\n",
            "-rw-r--r-- 1 root root    185786 Jun 24 19:46 test.en-ab.en\n",
            "-rw-r--r-- 1 root root    277791 Jun 24 19:43 test.en-any.en\n"
          ],
          "name": "stdout"
        }
      ]
    },
    {
      "cell_type": "code",
      "metadata": {
        "colab": {
          "base_uri": "https://localhost:8080/"
        },
        "id": "zKW2y01hbOyc",
        "outputId": "4ef78ddf-87fb-4bb5-8612-704c6fc8c09d"
      },
      "source": [
        "!head -5 test.en-$tgt.en"
      ],
      "execution_count": 29,
      "outputs": [
        {
          "output_type": "stream",
          "text": [
            "Table of Contents\n",
            "© 2016 Watch Tower Bible and Tract Society of Pennsylvania\n",
            "Would the world be a better place if everyone lived by this Bible principle ?\n",
            "“ We wish to conduct ourselves honestly in all things . ” ​ — Hebrews 13 : 18 .\n",
            "This issue of The Watchtower discusses how honesty touches every aspect of our life .\n"
          ],
          "name": "stdout"
        }
      ]
    },
    {
      "cell_type": "markdown",
      "metadata": {
        "id": "kr79AnMtfxyQ"
      },
      "source": [
        "## One last check to see if the two files are aligned\n",
        "\n",
        "Let's just get one more sample! Let's take from the end this time"
      ]
    },
    {
      "cell_type": "code",
      "metadata": {
        "colab": {
          "base_uri": "https://localhost:8080/"
        },
        "id": "gvmVNumtf3sC",
        "outputId": "65b7ab0f-4fab-48a8-a9f2-ba744c24482d"
      },
      "source": [
        "!echo \"test.en-$tgt.en\"\n",
        "!tail -5 test.en-$tgt.en\n",
        "!echo\n",
        "!echo \"**********************\"\n",
        "!echo \"test.$tgt-any.$tgt\"\n",
        "!echo \"**********************\"\n",
        "!tail -5 test.$tgt-any.$tgt"
      ],
      "execution_count": 30,
      "outputs": [
        {
          "output_type": "stream",
          "text": [
            "test.en-ab.en\n",
            "The sword of the spirit ( See paragraphs 19 - 20 )\n",
            "With Jehovah’s help , we can stand firm against him !\n",
            "( Read Hebrews 11 : 24 - 27 . )\n",
            "( Read Luke 10 : 29 - 37 . )\n",
            "Proverbs 14 : 15 says : “ The naive person believes every word , but the shrewd one ponders each step . ”\n",
            "**********************\n",
            "test.ab-any.ab\n",
            "**********************\n",
            "Адоуҳатә бџьар , аҳәа ( Шәрыхәаԥш абзацқәа 19 — 20 . )\n",
            "Иегова ицхыраарала ҳара иҳалшоит уи иҿагылара !\n",
            "( Шәаԥхьа Ауриацәа рахь 11 : 24 — 27 . )\n",
            "( Шәаԥхьа Лука 10 : 29 — 37 . )\n",
            "Ажәамаанақәа 14 : 15 аҿы иануп : « Аԥышәа змам иарбан ажәазаалакгьы агәра игоит , аилкаара змоу ауаҩы ишьаҿақәа заа дрызхәыцуеит » ."
          ],
          "name": "stdout"
        }
      ]
    },
    {
      "cell_type": "code",
      "metadata": {
        "id": "P2miJypOj0rg"
      },
      "source": [
        ""
      ],
      "execution_count": null,
      "outputs": []
    }
  ]
}