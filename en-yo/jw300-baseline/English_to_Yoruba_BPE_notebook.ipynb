{
  "nbformat": 4,
  "nbformat_minor": 0,
  "metadata": {
    "accelerator": "GPU",
    "colab": {
      "name": "starter_notebook.ipynb",
      "provenance": [],
      "collapsed_sections": [],
      "toc_visible": true
    },
    "kernelspec": {
      "display_name": "Python 3",
      "language": "python",
      "name": "python3"
    },
    "language_info": {
      "codemirror_mode": {
        "name": "ipython",
        "version": 3
      },
      "file_extension": ".py",
      "mimetype": "text/x-python",
      "name": "python",
      "nbconvert_exporter": "python",
      "pygments_lexer": "ipython3",
      "version": "3.5.6"
    }
  },
  "cells": [
    {
      "cell_type": "markdown",
      "metadata": {
        "colab_type": "text",
        "id": "Igc5itf-xMGj"
      },
      "source": [
        "# Masakhane - Machine Translation for African Languages (Using JoeyNMT)"
      ]
    },
    {
      "cell_type": "markdown",
      "metadata": {
        "colab_type": "text",
        "id": "x4fXCKCf36IK"
      },
      "source": [
        "## Note before beginning:\n",
        "### - The idea is that you should be able to make minimal changes to this in order to get SOME result for your own translation corpus. \n",
        "\n",
        "### - The tl;dr: Go to the **\"TODO\"** comments which will tell you what to update to get up and running\n",
        "\n",
        "### - If you actually want to have a clue what you're doing, read the text and peek at the links\n",
        "\n",
        "### - With 100 epochs, it should take around 7 hours to run in Google Colab\n",
        "\n",
        "### - Once you've gotten a result for your language, please attach and email your notebook that generated it to masakhanetranslation@gmail.com\n",
        "\n",
        "### - If you care enough and get a chance, doing a brief background on your language would be amazing. See examples in  [(Martinus, 2019)](https://arxiv.org/abs/1906.05685)"
      ]
    },
    {
      "cell_type": "markdown",
      "metadata": {
        "colab_type": "text",
        "id": "l929HimrxS0a"
      },
      "source": [
        "## Retrieve your data & make a parallel corpus\n",
        "\n",
        "If you are wanting to use the JW300 data referenced on the Masakhane website or in our GitHub repo, you can use `opus-tools` to convert the data into a convenient format. `opus_read` from that package provides a convenient tool for reading the native aligned XML files and to convert them to TMX format. The tool can also be used to fetch relevant files from OPUS on the fly and to filter the data as necessary. [Read the documentation](https://pypi.org/project/opustools-pkg/) for more details.\n",
        "\n",
        "Once you have your corpus files in TMX format (an xml structure which will include the sentences in your target language and your source language in a single file), we recommend reading them into a pandas dataframe. Thankfully, Jade wrote a silly `tmx2dataframe` package which converts your tmx file to a pandas dataframe. "
      ]
    },
    {
      "cell_type": "code",
      "metadata": {
        "colab_type": "code",
        "id": "oGRmDELn7Az0",
        "outputId": "95e1f42e-318d-4260-a2a6-bc946e2be832",
        "colab": {
          "base_uri": "https://localhost:8080/",
          "height": 124
        }
      },
      "source": [
        "from google.colab import drive\n",
        "drive.mount('/content/drive')"
      ],
      "execution_count": 1,
      "outputs": [
        {
          "output_type": "stream",
          "text": [
            "Go to this URL in a browser: https://accounts.google.com/o/oauth2/auth?client_id=947318989803-6bn6qk8qdgf4n4g3pfee6491hc0brc4i.apps.googleusercontent.com&redirect_uri=urn%3aietf%3awg%3aoauth%3a2.0%3aoob&response_type=code&scope=email%20https%3a%2f%2fwww.googleapis.com%2fauth%2fdocs.test%20https%3a%2f%2fwww.googleapis.com%2fauth%2fdrive%20https%3a%2f%2fwww.googleapis.com%2fauth%2fdrive.photos.readonly%20https%3a%2f%2fwww.googleapis.com%2fauth%2fpeopleapi.readonly\n",
            "\n",
            "Enter your authorization code:\n",
            "··········\n",
            "Mounted at /content/drive\n"
          ],
          "name": "stdout"
        }
      ]
    },
    {
      "cell_type": "code",
      "metadata": {
        "colab_type": "code",
        "id": "Cn3tgQLzUxwn",
        "colab": {}
      },
      "source": [
        "# TODO: Set your source and target languages. Keep in mind, these traditionally use language codes as found here:\n",
        "# These will also become the suffix's of all vocab and corpus files used throughout\n",
        "import os\n",
        "source_language = \"en\"\n",
        "target_language = \"yo\" \n",
        "lc = False  # If True, lowercase the data.\n",
        "seed = 42  # Random seed for shuffling.\n",
        "tag = \"baseline\" # Give a unique name to your folder - this is to ensure you don't rewrite any models you've already submitted\n",
        "\n",
        "os.environ[\"src\"] = source_language # Sets them in bash as well, since we often use bash scripts\n",
        "os.environ[\"tgt\"] = target_language\n",
        "os.environ[\"tag\"] = tag\n",
        "\n",
        "# This will save it to a folder in our gdrive instead!\n",
        "!mkdir -p \"/content/drive/My Drive/masakhane/$src-$tgt-$tag\"\n",
        "os.environ[\"gdrive_path\"] = \"/content/drive/My Drive/masakhane/%s-%s-%s\" % (source_language, target_language, tag)"
      ],
      "execution_count": 0,
      "outputs": []
    },
    {
      "cell_type": "code",
      "metadata": {
        "colab_type": "code",
        "id": "kBSgJHEw7Nvx",
        "outputId": "d4451bb1-01e7-4844-e2da-4427103f81d1",
        "colab": {
          "base_uri": "https://localhost:8080/",
          "height": 34
        }
      },
      "source": [
        "!echo $gdrive_path"
      ],
      "execution_count": 3,
      "outputs": [
        {
          "output_type": "stream",
          "text": [
            "/content/drive/My Drive/masakhane/en-yo-baseline\n"
          ],
          "name": "stdout"
        }
      ]
    },
    {
      "cell_type": "code",
      "metadata": {
        "colab_type": "code",
        "id": "gA75Fs9ys8Y9",
        "outputId": "dabddabb-f926-4809-c9c1-f9aaa81bf0fd",
        "colab": {
          "base_uri": "https://localhost:8080/",
          "height": 124
        }
      },
      "source": [
        "# Install opus-tools\n",
        "! pip install opustools-pkg"
      ],
      "execution_count": 4,
      "outputs": [
        {
          "output_type": "stream",
          "text": [
            "Collecting opustools-pkg\n",
            "\u001b[?25l  Downloading https://files.pythonhosted.org/packages/6c/9f/e829a0cceccc603450cd18e1ff80807b6237a88d9a8df2c0bb320796e900/opustools_pkg-0.0.52-py3-none-any.whl (80kB)\n",
            "\r\u001b[K     |████                            | 10kB 14.0MB/s eta 0:00:01\r\u001b[K     |████████                        | 20kB 2.2MB/s eta 0:00:01\r\u001b[K     |████████████▏                   | 30kB 2.9MB/s eta 0:00:01\r\u001b[K     |████████████████▏               | 40kB 2.1MB/s eta 0:00:01\r\u001b[K     |████████████████████▎           | 51kB 2.4MB/s eta 0:00:01\r\u001b[K     |████████████████████████▎       | 61kB 2.8MB/s eta 0:00:01\r\u001b[K     |████████████████████████████▎   | 71kB 3.0MB/s eta 0:00:01\r\u001b[K     |████████████████████████████████| 81kB 2.7MB/s \n",
            "\u001b[?25hInstalling collected packages: opustools-pkg\n",
            "Successfully installed opustools-pkg-0.0.52\n"
          ],
          "name": "stdout"
        }
      ]
    },
    {
      "cell_type": "code",
      "metadata": {
        "colab_type": "code",
        "id": "xq-tDZVks7ZD",
        "outputId": "0c415130-c468-49e8-f7f0-ebf9f79cfd66",
        "colab": {
          "base_uri": "https://localhost:8080/",
          "height": 208
        }
      },
      "source": [
        "# Downloading our corpus\n",
        "! opus_read -d JW300 -s $src -t $tgt -wm moses -w jw300.$src jw300.$tgt -q\n",
        "\n",
        "# extract the corpus file\n",
        "! gunzip JW300_latest_xml_$src-$tgt.xml.gz"
      ],
      "execution_count": 5,
      "outputs": [
        {
          "output_type": "stream",
          "text": [
            "\n",
            "Alignment file /proj/nlpl/data/OPUS/JW300/latest/xml/en-yo.xml.gz not found. The following files are available for downloading:\n",
            "\n",
            "   4 MB https://object.pouta.csc.fi/OPUS-JW300/v1/xml/en-yo.xml.gz\n",
            " 263 MB https://object.pouta.csc.fi/OPUS-JW300/v1/xml/en.zip\n",
            "  58 MB https://object.pouta.csc.fi/OPUS-JW300/v1/xml/yo.zip\n",
            "\n",
            " 325 MB Total size\n",
            "./JW300_latest_xml_en-yo.xml.gz ... 100% of 4 MB\n",
            "./JW300_latest_xml_en.zip ... 100% of 263 MB\n",
            "./JW300_latest_xml_yo.zip ... 100% of 58 MB\n"
          ],
          "name": "stdout"
        }
      ]
    },
    {
      "cell_type": "code",
      "metadata": {
        "id": "n48GDRnP8y2G",
        "colab_type": "code",
        "outputId": "d91706cb-31e0-42ae-9d1d-b15baa8df520",
        "colab": {
          "base_uri": "https://localhost:8080/",
          "height": 590
        }
      },
      "source": [
        "# Download the global test set.\n",
        "! wget https://raw.githubusercontent.com/juliakreutzer/masakhane/master/jw300_utils/test/test.en-any.en\n",
        "  \n",
        "# And the specific test set for this language pair.\n",
        "os.environ[\"trg\"] = target_language \n",
        "os.environ[\"src\"] = source_language \n",
        "\n",
        "! wget https://raw.githubusercontent.com/juliakreutzer/masakhane/master/jw300_utils/test/test.en-$trg.en \n",
        "! mv test.en-$trg.en test.en\n",
        "! wget https://raw.githubusercontent.com/juliakreutzer/masakhane/master/jw300_utils/test/test.en-$trg.$trg \n",
        "! mv test.en-$trg.$trg test.$trg"
      ],
      "execution_count": 6,
      "outputs": [
        {
          "output_type": "stream",
          "text": [
            "--2020-01-18 06:54:52--  https://raw.githubusercontent.com/juliakreutzer/masakhane/master/jw300_utils/test/test.en-any.en\n",
            "Resolving raw.githubusercontent.com (raw.githubusercontent.com)... 151.101.0.133, 151.101.64.133, 151.101.128.133, ...\n",
            "Connecting to raw.githubusercontent.com (raw.githubusercontent.com)|151.101.0.133|:443... connected.\n",
            "HTTP request sent, awaiting response... 200 OK\n",
            "Length: 277791 (271K) [text/plain]\n",
            "Saving to: ‘test.en-any.en’\n",
            "\n",
            "\rtest.en-any.en        0%[                    ]       0  --.-KB/s               \rtest.en-any.en      100%[===================>] 271.28K  --.-KB/s    in 0.04s   \n",
            "\n",
            "2020-01-18 06:54:52 (6.56 MB/s) - ‘test.en-any.en’ saved [277791/277791]\n",
            "\n",
            "--2020-01-18 06:54:54--  https://raw.githubusercontent.com/juliakreutzer/masakhane/master/jw300_utils/test/test.en-yo.en\n",
            "Resolving raw.githubusercontent.com (raw.githubusercontent.com)... 151.101.0.133, 151.101.64.133, 151.101.128.133, ...\n",
            "Connecting to raw.githubusercontent.com (raw.githubusercontent.com)|151.101.0.133|:443... connected.\n",
            "HTTP request sent, awaiting response... 200 OK\n",
            "Length: 201994 (197K) [text/plain]\n",
            "Saving to: ‘test.en-yo.en’\n",
            "\n",
            "test.en-yo.en       100%[===================>] 197.26K  --.-KB/s    in 0.03s   \n",
            "\n",
            "2020-01-18 06:54:54 (6.31 MB/s) - ‘test.en-yo.en’ saved [201994/201994]\n",
            "\n",
            "--2020-01-18 06:54:56--  https://raw.githubusercontent.com/juliakreutzer/masakhane/master/jw300_utils/test/test.en-yo.yo\n",
            "Resolving raw.githubusercontent.com (raw.githubusercontent.com)... 151.101.0.133, 151.101.64.133, 151.101.128.133, ...\n",
            "Connecting to raw.githubusercontent.com (raw.githubusercontent.com)|151.101.0.133|:443... connected.\n",
            "HTTP request sent, awaiting response... 200 OK\n",
            "Length: 280073 (274K) [text/plain]\n",
            "Saving to: ‘test.en-yo.yo’\n",
            "\n",
            "test.en-yo.yo       100%[===================>] 273.51K  --.-KB/s    in 0.04s   \n",
            "\n",
            "2020-01-18 06:54:57 (5.96 MB/s) - ‘test.en-yo.yo’ saved [280073/280073]\n",
            "\n"
          ],
          "name": "stdout"
        }
      ]
    },
    {
      "cell_type": "code",
      "metadata": {
        "id": "NqDG-CI28y2L",
        "colab_type": "code",
        "outputId": "bfb30000-f70c-4002-e657-1d1872da29fa",
        "colab": {
          "base_uri": "https://localhost:8080/",
          "height": 34
        }
      },
      "source": [
        "# Read the test data to filter from train and dev splits.\n",
        "# Store english portion in set for quick filtering checks.\n",
        "en_test_sents = set()\n",
        "filter_test_sents = \"test.en-any.en\"\n",
        "j = 0\n",
        "with open(filter_test_sents) as f:\n",
        "  for line in f:\n",
        "    en_test_sents.add(line.strip())\n",
        "    j += 1\n",
        "print('Loaded {} global test sentences to filter from the training/dev data.'.format(j))"
      ],
      "execution_count": 7,
      "outputs": [
        {
          "output_type": "stream",
          "text": [
            "Loaded 3571 global test sentences to filter from the training/dev data.\n"
          ],
          "name": "stdout"
        }
      ]
    },
    {
      "cell_type": "code",
      "metadata": {
        "colab_type": "code",
        "id": "3CNdwLBCfSIl",
        "outputId": "1c8804d5-7be3-49b4-e30e-c20c1232118b",
        "colab": {
          "base_uri": "https://localhost:8080/",
          "height": 161
        }
      },
      "source": [
        "import pandas as pd\n",
        "\n",
        "# TMX file to dataframe\n",
        "source_file = 'jw300.' + source_language\n",
        "target_file = 'jw300.' + target_language\n",
        "\n",
        "source = []\n",
        "target = []\n",
        "skip_lines = []  # Collect the line numbers of the source portion to skip the same lines for the target portion.\n",
        "with open(source_file) as f:\n",
        "    for i, line in enumerate(f):\n",
        "        # Skip sentences that are contained in the test set.\n",
        "        if line.strip() not in en_test_sents:\n",
        "            source.append(line.strip())\n",
        "        else:\n",
        "            skip_lines.append(i)             \n",
        "with open(target_file) as f:\n",
        "    for j, line in enumerate(f):\n",
        "        # Only add to corpus if corresponding source was not skipped.\n",
        "        if j not in skip_lines:\n",
        "            target.append(line.strip())\n",
        "    \n",
        "print('Loaded data and skipped {}/{} lines since contained in test set.'.format(len(skip_lines), i))\n",
        "    \n",
        "df = pd.DataFrame(zip(source, target), columns=['source_sentence', 'target_sentence'])\n",
        "# if you get TypeError: data argument can't be an iterator is because of your zip version run this below\n",
        "#df = pd.DataFrame(list(zip(source, target)), columns=['source_sentence', 'target_sentence'])\n",
        "df.head(3)"
      ],
      "execution_count": 8,
      "outputs": [
        {
          "output_type": "stream",
          "text": [
            "Loaded data and skipped 5663/474986 lines since contained in test set.\n"
          ],
          "name": "stdout"
        },
        {
          "output_type": "execute_result",
          "data": {
            "text/html": [
              "<div>\n",
              "<style scoped>\n",
              "    .dataframe tbody tr th:only-of-type {\n",
              "        vertical-align: middle;\n",
              "    }\n",
              "\n",
              "    .dataframe tbody tr th {\n",
              "        vertical-align: top;\n",
              "    }\n",
              "\n",
              "    .dataframe thead th {\n",
              "        text-align: right;\n",
              "    }\n",
              "</style>\n",
              "<table border=\"1\" class=\"dataframe\">\n",
              "  <thead>\n",
              "    <tr style=\"text-align: right;\">\n",
              "      <th></th>\n",
              "      <th>source_sentence</th>\n",
              "      <th>target_sentence</th>\n",
              "    </tr>\n",
              "  </thead>\n",
              "  <tbody>\n",
              "    <tr>\n",
              "      <th>0</th>\n",
              "      <td>Using Ladders — Do You Make These Safety Checks ?</td>\n",
              "      <td>Lílo Àkàbà — Ǹjẹ́ O Máa Ń Ṣe Àyẹ̀wò Wọ̀nyí Tó...</td>\n",
              "    </tr>\n",
              "    <tr>\n",
              "      <th>1</th>\n",
              "      <td>By Awake !</td>\n",
              "      <td>Látọwọ́ akọ̀ròyìn Jí !</td>\n",
              "    </tr>\n",
              "    <tr>\n",
              "      <th>2</th>\n",
              "      <td>correspondent in Ireland</td>\n",
              "      <td>ní Ireland</td>\n",
              "    </tr>\n",
              "  </tbody>\n",
              "</table>\n",
              "</div>"
            ],
            "text/plain": [
              "                                     source_sentence                                    target_sentence\n",
              "0  Using Ladders — Do You Make These Safety Checks ?  Lílo Àkàbà — Ǹjẹ́ O Máa Ń Ṣe Àyẹ̀wò Wọ̀nyí Tó...\n",
              "1                                         By Awake !                             Látọwọ́ akọ̀ròyìn Jí !\n",
              "2                           correspondent in Ireland                                         ní Ireland"
            ]
          },
          "metadata": {
            "tags": []
          },
          "execution_count": 8
        }
      ]
    },
    {
      "cell_type": "markdown",
      "metadata": {
        "colab_type": "text",
        "id": "YkuK3B4p2AkN"
      },
      "source": [
        "## Pre-processing and export\n",
        "\n",
        "It is generally a good idea to remove duplicate translations and conflicting translations from the corpus. In practice, these public corpora include some number of these that need to be cleaned.\n",
        "\n",
        "In addition we will split our data into dev/test/train and export to the filesystem."
      ]
    },
    {
      "cell_type": "code",
      "metadata": {
        "colab_type": "code",
        "id": "M_2ouEOH1_1q",
        "outputId": "acaa3b71-64b9-44be-8f00-08a3797efe32",
        "colab": {
          "base_uri": "https://localhost:8080/",
          "height": 191
        }
      },
      "source": [
        "# drop duplicate translations\n",
        "df_pp = df.drop_duplicates()\n",
        "\n",
        "# drop conflicting translations\n",
        "# (this is optional and something that you might want to comment out \n",
        "# depending on the size of your corpus)\n",
        "df_pp.drop_duplicates(subset='source_sentence', inplace=True)\n",
        "df_pp.drop_duplicates(subset='target_sentence', inplace=True)\n",
        "\n",
        "# Shuffle the data to remove bias in dev set selection.\n",
        "df_pp = df_pp.sample(frac=1, random_state=seed).reset_index(drop=True)"
      ],
      "execution_count": 9,
      "outputs": [
        {
          "output_type": "stream",
          "text": [
            "/usr/local/lib/python3.6/dist-packages/ipykernel_launcher.py:6: SettingWithCopyWarning: \n",
            "A value is trying to be set on a copy of a slice from a DataFrame\n",
            "\n",
            "See the caveats in the documentation: http://pandas.pydata.org/pandas-docs/stable/user_guide/indexing.html#returning-a-view-versus-a-copy\n",
            "  \n",
            "/usr/local/lib/python3.6/dist-packages/ipykernel_launcher.py:7: SettingWithCopyWarning: \n",
            "A value is trying to be set on a copy of a slice from a DataFrame\n",
            "\n",
            "See the caveats in the documentation: http://pandas.pydata.org/pandas-docs/stable/user_guide/indexing.html#returning-a-view-versus-a-copy\n",
            "  import sys\n"
          ],
          "name": "stderr"
        }
      ]
    },
    {
      "cell_type": "code",
      "metadata": {
        "id": "Z_1BwAApEtMk",
        "colab_type": "code",
        "outputId": "c36bdbdd-fc64-481b-81a3-eca931b5317b",
        "colab": {
          "base_uri": "https://localhost:8080/",
          "height": 1000
        }
      },
      "source": [
        "# Install fuzzy wuzzy to remove \"almost duplicate\" sentences in the\n",
        "# test and training sets.\n",
        "! pip install fuzzywuzzy\n",
        "! pip install python-Levenshtein\n",
        "import time\n",
        "from fuzzywuzzy import process\n",
        "import numpy as np\n",
        "\n",
        "# reset the index of the training set after previous filtering\n",
        "df_pp.reset_index(drop=False, inplace=True)\n",
        "\n",
        "# Remove samples from the training data set if they \"almost overlap\" with the\n",
        "# samples in the test set.\n",
        "\n",
        "# Filtering function. Adjust pad to narrow down the candidate matches to\n",
        "# within a certain length of characters of the given sample.\n",
        "def fuzzfilter(sample, candidates, pad):\n",
        "  candidates = [x for x in candidates if len(x) <= len(sample)+pad and len(x) >= len(sample)-pad] \n",
        "  if len(candidates) > 0:\n",
        "    return process.extractOne(sample, candidates)[1]\n",
        "  else:\n",
        "    return np.nan\n",
        "\n",
        "# NOTE - This might run slow depending on the size of your training set. We are\n",
        "# printing some information to help you track how long it would take. \n",
        "scores = []\n",
        "start_time = time.time()\n",
        "for idx, row in df_pp.iterrows():\n",
        "  scores.append(fuzzfilter(row['source_sentence'], list(en_test_sents), 5))\n",
        "  if idx % 1000 == 0:\n",
        "    hours, rem = divmod(time.time() - start_time, 3600)\n",
        "    minutes, seconds = divmod(rem, 60)\n",
        "    print(\"{:0>2}:{:0>2}:{:05.2f}\".format(int(hours),int(minutes),seconds), \"%0.2f percent complete\" % (100.0*float(idx)/float(len(df_pp))))\n",
        "\n",
        "# Filter out \"almost overlapping samples\"\n",
        "df_pp['scores'] = scores\n",
        "df_pp = df_pp[df_pp['scores'] < 95]"
      ],
      "execution_count": 10,
      "outputs": [
        {
          "output_type": "stream",
          "text": [
            "Requirement already satisfied: fuzzywuzzy in /usr/local/lib/python3.6/dist-packages (0.17.0)\n",
            "Requirement already satisfied: python-Levenshtein in /usr/local/lib/python3.6/dist-packages (0.12.0)\n",
            "Requirement already satisfied: setuptools in /usr/local/lib/python3.6/dist-packages (from python-Levenshtein) (42.0.2)\n",
            "00:00:00.14 0.00 percent complete\n",
            "00:00:22.12 0.24 percent complete\n",
            "00:00:43.41 0.48 percent complete\n",
            "00:01:05.32 0.72 percent complete\n",
            "00:01:26.95 0.96 percent complete\n",
            "00:01:48.93 1.20 percent complete\n",
            "00:02:10.41 1.43 percent complete\n",
            "00:02:32.12 1.67 percent complete\n",
            "00:02:53.70 1.91 percent complete\n",
            "00:03:14.31 2.15 percent complete\n",
            "00:03:34.22 2.39 percent complete\n",
            "00:03:54.32 2.63 percent complete\n",
            "00:04:15.91 2.87 percent complete\n",
            "00:04:37.58 3.11 percent complete\n",
            "00:04:59.78 3.35 percent complete\n",
            "00:05:21.70 3.59 percent complete\n",
            "00:05:42.44 3.82 percent complete\n",
            "00:06:03.32 4.06 percent complete\n",
            "00:06:24.62 4.30 percent complete\n",
            "00:06:45.57 4.54 percent complete\n",
            "00:07:07.07 4.78 percent complete\n",
            "00:07:27.96 5.02 percent complete\n",
            "00:07:49.41 5.26 percent complete\n",
            "00:08:11.37 5.50 percent complete\n",
            "00:08:33.50 5.74 percent complete\n"
          ],
          "name": "stdout"
        },
        {
          "output_type": "stream",
          "text": [
            "WARNING:root:Applied processor reduces input query to empty string, all comparisons will have score 0. [Query: '↓']\n"
          ],
          "name": "stderr"
        },
        {
          "output_type": "stream",
          "text": [
            "00:08:55.66 5.98 percent complete\n",
            "00:09:16.95 6.22 percent complete\n",
            "00:09:37.31 6.45 percent complete\n",
            "00:09:58.05 6.69 percent complete\n",
            "00:10:17.78 6.93 percent complete\n",
            "00:10:40.90 7.17 percent complete\n",
            "00:11:03.33 7.41 percent complete\n",
            "00:11:24.63 7.65 percent complete\n",
            "00:11:46.96 7.89 percent complete\n",
            "00:12:07.61 8.13 percent complete\n",
            "00:12:28.99 8.37 percent complete\n",
            "00:12:50.33 8.61 percent complete\n",
            "00:13:12.16 8.84 percent complete\n",
            "00:13:34.93 9.08 percent complete\n",
            "00:13:57.04 9.32 percent complete\n",
            "00:14:18.81 9.56 percent complete\n"
          ],
          "name": "stdout"
        },
        {
          "output_type": "stream",
          "text": [
            "WARNING:root:Applied processor reduces input query to empty string, all comparisons will have score 0. [Query: '” *']\n"
          ],
          "name": "stderr"
        },
        {
          "output_type": "stream",
          "text": [
            "00:14:40.73 9.80 percent complete\n",
            "00:15:02.56 10.04 percent complete\n",
            "00:15:24.25 10.28 percent complete\n",
            "00:15:46.07 10.52 percent complete\n",
            "00:16:07.48 10.76 percent complete\n",
            "00:16:30.61 11.00 percent complete\n",
            "00:16:51.58 11.24 percent complete\n",
            "00:17:11.44 11.47 percent complete\n",
            "00:17:30.83 11.71 percent complete\n",
            "00:17:50.52 11.95 percent complete\n",
            "00:18:12.60 12.19 percent complete\n",
            "00:18:35.33 12.43 percent complete\n",
            "00:18:57.44 12.67 percent complete\n",
            "00:19:20.01 12.91 percent complete\n",
            "00:19:41.29 13.15 percent complete\n",
            "00:20:01.62 13.39 percent complete\n",
            "00:20:22.91 13.63 percent complete\n",
            "00:20:44.99 13.86 percent complete\n"
          ],
          "name": "stdout"
        },
        {
          "output_type": "stream",
          "text": [
            "WARNING:root:Applied processor reduces input query to empty string, all comparisons will have score 0. [Query: '. .']\n"
          ],
          "name": "stderr"
        },
        {
          "output_type": "stream",
          "text": [
            "00:21:06.52 14.10 percent complete\n",
            "00:21:27.73 14.34 percent complete\n"
          ],
          "name": "stdout"
        },
        {
          "output_type": "stream",
          "text": [
            "WARNING:root:Applied processor reduces input query to empty string, all comparisons will have score 0. [Query: '․ ․']\n"
          ],
          "name": "stderr"
        },
        {
          "output_type": "stream",
          "text": [
            "00:21:49.10 14.58 percent complete\n",
            "00:22:11.46 14.82 percent complete\n",
            "00:22:32.89 15.06 percent complete\n",
            "00:22:54.07 15.30 percent complete\n",
            "00:23:15.24 15.54 percent complete\n",
            "00:23:36.16 15.78 percent complete\n",
            "00:23:57.24 16.02 percent complete\n",
            "00:24:16.81 16.26 percent complete\n",
            "00:24:36.36 16.49 percent complete\n",
            "00:24:56.60 16.73 percent complete\n",
            "00:25:16.64 16.97 percent complete\n",
            "00:25:36.24 17.21 percent complete\n",
            "00:25:55.97 17.45 percent complete\n",
            "00:26:14.80 17.69 percent complete\n",
            "00:26:33.94 17.93 percent complete\n",
            "00:26:53.59 18.17 percent complete\n",
            "00:27:13.27 18.41 percent complete\n",
            "00:27:32.65 18.65 percent complete\n",
            "00:27:51.53 18.88 percent complete\n",
            "00:28:10.04 19.12 percent complete\n",
            "00:28:28.90 19.36 percent complete\n",
            "00:28:48.11 19.60 percent complete\n",
            "00:29:06.98 19.84 percent complete\n",
            "00:29:25.73 20.08 percent complete\n",
            "00:29:44.04 20.32 percent complete\n",
            "00:30:02.68 20.56 percent complete\n",
            "00:30:22.34 20.80 percent complete\n"
          ],
          "name": "stdout"
        },
        {
          "output_type": "stream",
          "text": [
            "WARNING:root:Applied processor reduces input query to empty string, all comparisons will have score 0. [Query: '․ ․ ․']\n"
          ],
          "name": "stderr"
        },
        {
          "output_type": "stream",
          "text": [
            "00:30:41.36 21.04 percent complete\n",
            "00:31:00.46 21.28 percent complete\n",
            "00:31:19.38 21.51 percent complete\n",
            "00:31:38.59 21.75 percent complete\n",
            "00:31:57.14 21.99 percent complete\n",
            "00:32:15.74 22.23 percent complete\n",
            "00:32:35.31 22.47 percent complete\n",
            "00:32:54.99 22.71 percent complete\n",
            "00:33:13.89 22.95 percent complete\n",
            "00:33:32.78 23.19 percent complete\n",
            "00:33:50.83 23.43 percent complete\n",
            "00:34:09.64 23.67 percent complete\n",
            "00:34:28.30 23.90 percent complete\n",
            "00:34:46.90 24.14 percent complete\n",
            "00:35:05.83 24.38 percent complete\n",
            "00:35:26.03 24.62 percent complete\n",
            "00:35:44.44 24.86 percent complete\n",
            "00:36:02.92 25.10 percent complete\n",
            "00:36:21.80 25.34 percent complete\n",
            "00:36:40.65 25.58 percent complete\n",
            "00:36:59.17 25.82 percent complete\n",
            "00:37:17.77 26.06 percent complete\n"
          ],
          "name": "stdout"
        },
        {
          "output_type": "stream",
          "text": [
            "WARNING:root:Applied processor reduces input query to empty string, all comparisons will have score 0. [Query: '→ →']\n"
          ],
          "name": "stderr"
        },
        {
          "output_type": "stream",
          "text": [
            "00:37:36.24 26.29 percent complete\n",
            "00:37:56.89 26.53 percent complete\n",
            "00:38:16.02 26.77 percent complete\n",
            "00:38:35.03 27.01 percent complete\n",
            "00:38:53.69 27.25 percent complete\n",
            "00:39:12.63 27.49 percent complete\n",
            "00:39:31.64 27.73 percent complete\n",
            "00:39:50.55 27.97 percent complete\n",
            "00:40:09.31 28.21 percent complete\n",
            "00:40:29.77 28.45 percent complete\n",
            "00:40:48.36 28.69 percent complete\n",
            "00:41:07.05 28.92 percent complete\n",
            "00:41:25.81 29.16 percent complete\n",
            "00:41:44.78 29.40 percent complete\n",
            "00:42:03.11 29.64 percent complete\n",
            "00:42:21.88 29.88 percent complete\n",
            "00:42:40.42 30.12 percent complete\n",
            "00:43:00.49 30.36 percent complete\n",
            "00:43:19.64 30.60 percent complete\n",
            "00:43:38.70 30.84 percent complete\n",
            "00:43:57.71 31.08 percent complete\n",
            "00:44:16.18 31.31 percent complete\n",
            "00:44:35.34 31.55 percent complete\n",
            "00:44:53.93 31.79 percent complete\n",
            "00:45:12.67 32.03 percent complete\n",
            "00:45:33.13 32.27 percent complete\n",
            "00:45:52.17 32.51 percent complete\n",
            "00:46:10.61 32.75 percent complete\n",
            "00:46:29.63 32.99 percent complete\n",
            "00:46:48.13 33.23 percent complete\n",
            "00:47:06.71 33.47 percent complete\n",
            "00:47:25.35 33.71 percent complete\n",
            "00:47:43.83 33.94 percent complete\n",
            "00:48:03.97 34.18 percent complete\n",
            "00:48:22.71 34.42 percent complete\n",
            "00:48:41.46 34.66 percent complete\n",
            "00:49:00.01 34.90 percent complete\n",
            "00:49:18.94 35.14 percent complete\n",
            "00:49:37.47 35.38 percent complete\n",
            "00:49:56.33 35.62 percent complete\n",
            "00:50:15.32 35.86 percent complete\n",
            "00:50:34.97 36.10 percent complete\n",
            "00:50:54.00 36.33 percent complete\n",
            "00:51:12.33 36.57 percent complete\n",
            "00:51:31.02 36.81 percent complete\n",
            "00:51:49.83 37.05 percent complete\n",
            "00:52:08.11 37.29 percent complete\n",
            "00:52:27.65 37.53 percent complete\n",
            "00:52:46.75 37.77 percent complete\n",
            "00:53:05.06 38.01 percent complete\n",
            "00:53:24.48 38.25 percent complete\n",
            "00:53:42.98 38.49 percent complete\n",
            "00:54:01.62 38.73 percent complete\n",
            "00:54:20.19 38.96 percent complete\n",
            "00:54:38.95 39.20 percent complete\n",
            "00:54:57.45 39.44 percent complete\n",
            "00:55:16.71 39.68 percent complete\n",
            "00:55:35.39 39.92 percent complete\n",
            "00:55:54.34 40.16 percent complete\n",
            "00:56:13.44 40.40 percent complete\n",
            "00:56:31.87 40.64 percent complete\n",
            "00:56:50.18 40.88 percent complete\n",
            "00:57:09.01 41.12 percent complete\n",
            "00:57:28.18 41.35 percent complete\n",
            "00:57:46.84 41.59 percent complete\n",
            "00:58:05.42 41.83 percent complete\n",
            "00:58:25.50 42.07 percent complete\n",
            "00:58:43.61 42.31 percent complete\n",
            "00:59:02.35 42.55 percent complete\n",
            "00:59:21.44 42.79 percent complete\n",
            "00:59:40.45 43.03 percent complete\n",
            "00:59:58.69 43.27 percent complete\n"
          ],
          "name": "stdout"
        },
        {
          "output_type": "stream",
          "text": [
            "WARNING:root:Applied processor reduces input query to empty string, all comparisons will have score 0. [Query: '↓ ↓']\n"
          ],
          "name": "stderr"
        },
        {
          "output_type": "stream",
          "text": [
            "01:00:17.40 43.51 percent complete\n",
            "01:00:36.34 43.75 percent complete\n",
            "01:00:55.91 43.98 percent complete\n",
            "01:01:14.06 44.22 percent complete\n",
            "01:01:33.18 44.46 percent complete\n",
            "01:01:51.94 44.70 percent complete\n",
            "01:02:10.23 44.94 percent complete\n",
            "01:02:29.16 45.18 percent complete\n",
            "01:02:47.65 45.42 percent complete\n",
            "01:03:06.07 45.66 percent complete\n",
            "01:03:26.15 45.90 percent complete\n",
            "01:03:44.21 46.14 percent complete\n",
            "01:04:02.59 46.37 percent complete\n",
            "01:04:21.17 46.61 percent complete\n",
            "01:04:40.02 46.85 percent complete\n",
            "01:04:58.19 47.09 percent complete\n",
            "01:05:17.61 47.33 percent complete\n"
          ],
          "name": "stdout"
        },
        {
          "output_type": "stream",
          "text": [
            "WARNING:root:Applied processor reduces input query to empty string, all comparisons will have score 0. [Query: '*']\n"
          ],
          "name": "stderr"
        },
        {
          "output_type": "stream",
          "text": [
            "01:05:36.29 47.57 percent complete\n",
            "01:05:56.33 47.81 percent complete\n",
            "01:06:14.81 48.05 percent complete\n",
            "01:06:33.98 48.29 percent complete\n",
            "01:06:52.78 48.53 percent complete\n",
            "01:07:11.62 48.77 percent complete\n",
            "01:07:30.34 49.00 percent complete\n",
            "01:07:48.42 49.24 percent complete\n",
            "01:08:06.63 49.48 percent complete\n",
            "01:08:26.94 49.72 percent complete\n",
            "01:08:45.69 49.96 percent complete\n",
            "01:09:03.72 50.20 percent complete\n",
            "01:09:22.33 50.44 percent complete\n",
            "01:09:40.95 50.68 percent complete\n",
            "01:09:59.79 50.92 percent complete\n",
            "01:10:18.68 51.16 percent complete\n",
            "01:10:37.59 51.39 percent complete\n",
            "01:10:56.86 51.63 percent complete\n",
            "01:11:15.20 51.87 percent complete\n",
            "01:11:34.21 52.11 percent complete\n",
            "01:11:53.80 52.35 percent complete\n",
            "01:12:12.92 52.59 percent complete\n",
            "01:12:32.30 52.83 percent complete\n"
          ],
          "name": "stdout"
        },
        {
          "output_type": "stream",
          "text": [
            "WARNING:root:Applied processor reduces input query to empty string, all comparisons will have score 0. [Query: '⇩']\n"
          ],
          "name": "stderr"
        },
        {
          "output_type": "stream",
          "text": [
            "01:12:50.82 53.07 percent complete\n",
            "01:13:09.34 53.31 percent complete\n",
            "01:13:29.11 53.55 percent complete\n",
            "01:13:47.85 53.79 percent complete\n",
            "01:14:06.79 54.02 percent complete\n",
            "01:14:25.27 54.26 percent complete\n",
            "01:14:43.72 54.50 percent complete\n",
            "01:15:02.42 54.74 percent complete\n",
            "01:15:20.90 54.98 percent complete\n",
            "01:15:39.09 55.22 percent complete\n",
            "01:15:58.51 55.46 percent complete\n",
            "01:16:16.78 55.70 percent complete\n",
            "01:16:35.30 55.94 percent complete\n",
            "01:16:53.72 56.18 percent complete\n",
            "01:17:11.75 56.41 percent complete\n"
          ],
          "name": "stdout"
        },
        {
          "output_type": "stream",
          "text": [
            "WARNING:root:Applied processor reduces input query to empty string, all comparisons will have score 0. [Query: '”']\n"
          ],
          "name": "stderr"
        },
        {
          "output_type": "stream",
          "text": [
            "01:17:30.25 56.65 percent complete\n",
            "01:17:48.48 56.89 percent complete\n",
            "01:18:06.63 57.13 percent complete\n",
            "01:18:24.78 57.37 percent complete\n",
            "01:18:43.26 57.61 percent complete\n",
            "01:19:01.74 57.85 percent complete\n",
            "01:19:19.68 58.09 percent complete\n",
            "01:19:37.92 58.33 percent complete\n",
            "01:19:56.28 58.57 percent complete\n",
            "01:20:15.06 58.81 percent complete\n",
            "01:20:33.83 59.04 percent complete\n",
            "01:20:52.76 59.28 percent complete\n",
            "01:21:11.88 59.52 percent complete\n",
            "01:21:30.05 59.76 percent complete\n",
            "01:21:48.03 60.00 percent complete\n",
            "01:22:06.81 60.24 percent complete\n",
            "01:22:24.51 60.48 percent complete\n",
            "01:22:43.02 60.72 percent complete\n",
            "01:23:01.60 60.96 percent complete\n",
            "01:23:20.25 61.20 percent complete\n",
            "01:23:39.69 61.43 percent complete\n",
            "01:23:57.38 61.67 percent complete\n",
            "01:24:15.76 61.91 percent complete\n",
            "01:24:34.42 62.15 percent complete\n",
            "01:24:53.31 62.39 percent complete\n",
            "01:25:11.68 62.63 percent complete\n",
            "01:25:29.40 62.87 percent complete\n",
            "01:25:47.70 63.11 percent complete\n",
            "01:26:07.09 63.35 percent complete\n",
            "01:26:25.38 63.59 percent complete\n",
            "01:26:43.39 63.83 percent complete\n",
            "01:27:01.88 64.06 percent complete\n",
            "01:27:20.26 64.30 percent complete\n",
            "01:27:38.30 64.54 percent complete\n",
            "01:27:56.54 64.78 percent complete\n",
            "01:28:14.79 65.02 percent complete\n"
          ],
          "name": "stdout"
        },
        {
          "output_type": "stream",
          "text": [
            "WARNING:root:Applied processor reduces input query to empty string, all comparisons will have score 0. [Query: '↓ ↓ ↓ ↓']\n"
          ],
          "name": "stderr"
        },
        {
          "output_type": "stream",
          "text": [
            "01:28:33.84 65.26 percent complete\n",
            "01:28:51.64 65.50 percent complete\n",
            "01:29:09.49 65.74 percent complete\n",
            "01:29:27.92 65.98 percent complete\n",
            "01:29:45.82 66.22 percent complete\n",
            "01:30:04.11 66.45 percent complete\n",
            "01:30:22.20 66.69 percent complete\n",
            "01:30:40.29 66.93 percent complete\n",
            "01:30:59.50 67.17 percent complete\n",
            "01:31:17.53 67.41 percent complete\n",
            "01:31:35.32 67.65 percent complete\n",
            "01:31:53.74 67.89 percent complete\n",
            "01:32:11.31 68.13 percent complete\n",
            "01:32:29.66 68.37 percent complete\n",
            "01:32:47.62 68.61 percent complete\n",
            "01:33:05.48 68.85 percent complete\n",
            "01:33:24.40 69.08 percent complete\n",
            "01:33:42.52 69.32 percent complete\n",
            "01:34:00.97 69.56 percent complete\n",
            "01:34:18.40 69.80 percent complete\n",
            "01:34:35.87 70.04 percent complete\n",
            "01:34:53.84 70.28 percent complete\n",
            "01:35:12.30 70.52 percent complete\n",
            "01:35:30.38 70.76 percent complete\n",
            "01:35:49.06 71.00 percent complete\n",
            "01:36:07.37 71.24 percent complete\n",
            "01:36:25.76 71.47 percent complete\n",
            "01:36:43.45 71.71 percent complete\n",
            "01:37:01.37 71.95 percent complete\n",
            "01:37:19.39 72.19 percent complete\n"
          ],
          "name": "stdout"
        },
        {
          "output_type": "stream",
          "text": [
            "WARNING:root:Applied processor reduces input query to empty string, all comparisons will have score 0. [Query: '\\']\n"
          ],
          "name": "stderr"
        },
        {
          "output_type": "stream",
          "text": [
            "01:37:37.94 72.43 percent complete\n",
            "01:37:56.34 72.67 percent complete\n",
            "01:38:15.60 72.91 percent complete\n",
            "01:38:33.73 73.15 percent complete\n",
            "01:38:51.64 73.39 percent complete\n",
            "01:39:09.88 73.63 percent complete\n"
          ],
          "name": "stdout"
        },
        {
          "output_type": "stream",
          "text": [
            "WARNING:root:Applied processor reduces input query to empty string, all comparisons will have score 0. [Query: '●']\n"
          ],
          "name": "stderr"
        },
        {
          "output_type": "stream",
          "text": [
            "01:39:28.61 73.86 percent complete\n",
            "01:39:46.89 74.10 percent complete\n",
            "01:40:04.63 74.34 percent complete\n",
            "01:40:22.67 74.58 percent complete\n",
            "01:40:42.66 74.82 percent complete\n",
            "01:41:00.77 75.06 percent complete\n",
            "01:41:18.67 75.30 percent complete\n",
            "01:41:36.59 75.54 percent complete\n",
            "01:41:54.74 75.78 percent complete\n",
            "01:42:12.16 76.02 percent complete\n",
            "01:42:29.79 76.26 percent complete\n"
          ],
          "name": "stdout"
        },
        {
          "output_type": "stream",
          "text": [
            "WARNING:root:Applied processor reduces input query to empty string, all comparisons will have score 0. [Query: '․ ․ ․ ․ ․']\n"
          ],
          "name": "stderr"
        },
        {
          "output_type": "stream",
          "text": [
            "01:42:47.79 76.49 percent complete\n",
            "01:43:07.10 76.73 percent complete\n",
            "01:43:25.06 76.97 percent complete\n",
            "01:43:42.97 77.21 percent complete\n",
            "01:44:01.44 77.45 percent complete\n",
            "01:44:19.35 77.69 percent complete\n",
            "01:44:37.27 77.93 percent complete\n",
            "01:44:55.83 78.17 percent complete\n",
            "01:45:13.96 78.41 percent complete\n",
            "01:45:33.03 78.65 percent complete\n",
            "01:45:51.54 78.88 percent complete\n",
            "01:46:09.12 79.12 percent complete\n",
            "01:46:27.28 79.36 percent complete\n",
            "01:46:45.56 79.60 percent complete\n",
            "01:47:03.62 79.84 percent complete\n",
            "01:47:21.88 80.08 percent complete\n",
            "01:47:41.70 80.32 percent complete\n",
            "01:48:04.21 80.56 percent complete\n",
            "01:48:24.53 80.80 percent complete\n",
            "01:48:45.45 81.04 percent complete\n",
            "01:49:07.22 81.28 percent complete\n",
            "01:49:29.27 81.51 percent complete\n",
            "01:49:50.63 81.75 percent complete\n",
            "01:50:12.47 81.99 percent complete\n",
            "01:50:34.29 82.23 percent complete\n",
            "01:50:56.42 82.47 percent complete\n",
            "01:51:18.49 82.71 percent complete\n"
          ],
          "name": "stdout"
        },
        {
          "output_type": "stream",
          "text": [
            "WARNING:root:Applied processor reduces input query to empty string, all comparisons will have score 0. [Query: '□ ․ ․ ․ ․ ․']\n"
          ],
          "name": "stderr"
        },
        {
          "output_type": "stream",
          "text": [
            "01:51:39.56 82.95 percent complete\n",
            "01:52:01.99 83.19 percent complete\n",
            "01:52:23.48 83.43 percent complete\n",
            "01:52:45.55 83.67 percent complete\n",
            "01:53:08.43 83.90 percent complete\n",
            "01:53:30.72 84.14 percent complete\n"
          ],
          "name": "stdout"
        },
        {
          "output_type": "stream",
          "text": [
            "WARNING:root:Applied processor reduces input query to empty string, all comparisons will have score 0. [Query: '— ― ― ― ― ― ― ―']\n"
          ],
          "name": "stderr"
        },
        {
          "output_type": "stream",
          "text": [
            "01:53:53.01 84.38 percent complete\n",
            "01:54:15.26 84.62 percent complete\n",
            "01:54:35.37 84.86 percent complete\n",
            "01:54:56.34 85.10 percent complete\n",
            "01:55:17.84 85.34 percent complete\n",
            "01:55:38.01 85.58 percent complete\n",
            "01:55:58.82 85.82 percent complete\n",
            "01:56:20.22 86.06 percent complete\n",
            "01:56:41.88 86.30 percent complete\n",
            "01:57:04.36 86.53 percent complete\n",
            "01:57:25.06 86.77 percent complete\n",
            "01:57:46.48 87.01 percent complete\n",
            "01:58:08.09 87.25 percent complete\n",
            "01:58:29.02 87.49 percent complete\n",
            "01:58:49.15 87.73 percent complete\n",
            "01:59:08.78 87.97 percent complete\n",
            "01:59:29.10 88.21 percent complete\n",
            "01:59:50.43 88.45 percent complete\n",
            "02:00:10.20 88.69 percent complete\n",
            "02:00:29.16 88.92 percent complete\n"
          ],
          "name": "stdout"
        },
        {
          "output_type": "stream",
          "text": [
            "WARNING:root:Applied processor reduces input query to empty string, all comparisons will have score 0. [Query: '⇧']\n"
          ],
          "name": "stderr"
        },
        {
          "output_type": "stream",
          "text": [
            "02:00:49.96 89.16 percent complete\n",
            "02:01:11.67 89.40 percent complete\n",
            "02:01:32.30 89.64 percent complete\n",
            "02:01:54.42 89.88 percent complete\n",
            "02:02:15.34 90.12 percent complete\n",
            "02:02:37.83 90.36 percent complete\n",
            "02:02:58.48 90.60 percent complete\n",
            "02:03:19.73 90.84 percent complete\n",
            "02:03:40.80 91.08 percent complete\n",
            "02:04:01.10 91.32 percent complete\n",
            "02:04:21.06 91.55 percent complete\n",
            "02:04:41.06 91.79 percent complete\n",
            "02:05:01.60 92.03 percent complete\n",
            "02:05:24.15 92.27 percent complete\n",
            "02:05:46.22 92.51 percent complete\n",
            "02:06:08.09 92.75 percent complete\n",
            "02:06:29.71 92.99 percent complete\n",
            "02:06:50.92 93.23 percent complete\n",
            "02:07:12.48 93.47 percent complete\n",
            "02:07:34.86 93.71 percent complete\n",
            "02:07:56.46 93.94 percent complete\n",
            "02:08:18.16 94.18 percent complete\n",
            "02:08:37.80 94.42 percent complete\n",
            "02:08:58.63 94.66 percent complete\n",
            "02:09:19.82 94.90 percent complete\n",
            "02:09:41.45 95.14 percent complete\n",
            "02:10:01.38 95.38 percent complete\n"
          ],
          "name": "stdout"
        },
        {
          "output_type": "stream",
          "text": [
            "WARNING:root:Applied processor reduces input query to empty string, all comparisons will have score 0. [Query: '․ ․ ․ ․ ․ ․ ․ ․ ․ ․']\n"
          ],
          "name": "stderr"
        },
        {
          "output_type": "stream",
          "text": [
            "02:10:22.04 95.62 percent complete\n",
            "02:10:41.23 95.86 percent complete\n",
            "02:11:01.99 96.10 percent complete\n",
            "02:11:22.45 96.34 percent complete\n",
            "02:11:44.27 96.57 percent complete\n",
            "02:12:05.08 96.81 percent complete\n",
            "02:12:26.08 97.05 percent complete\n",
            "02:12:46.92 97.29 percent complete\n"
          ],
          "name": "stdout"
        },
        {
          "output_type": "stream",
          "text": [
            "WARNING:root:Applied processor reduces input query to empty string, all comparisons will have score 0. [Query: '']\n"
          ],
          "name": "stderr"
        },
        {
          "output_type": "stream",
          "text": [
            "02:13:08.32 97.53 percent complete\n",
            "02:13:29.69 97.77 percent complete\n",
            "02:13:52.47 98.01 percent complete\n",
            "02:14:13.34 98.25 percent complete\n",
            "02:14:34.15 98.49 percent complete\n",
            "02:14:55.19 98.73 percent complete\n",
            "02:15:16.56 98.96 percent complete\n",
            "02:15:36.96 99.20 percent complete\n",
            "02:15:57.10 99.44 percent complete\n",
            "02:16:16.64 99.68 percent complete\n",
            "02:16:37.22 99.92 percent complete\n"
          ],
          "name": "stdout"
        }
      ]
    },
    {
      "cell_type": "code",
      "metadata": {
        "colab_type": "code",
        "id": "hxxBOCA-xXhy",
        "outputId": "b82055d3-ef74-40ac-8baf-d7e7baeda11a",
        "colab": {
          "base_uri": "https://localhost:8080/",
          "height": 836
        }
      },
      "source": [
        "# This section does the split between train/dev for the parallel corpora then saves them as separate files\n",
        "# We use 1000 dev test and the given test set.\n",
        "import csv\n",
        "\n",
        "# Do the split between dev/train and create parallel corpora\n",
        "num_dev_patterns = 1000\n",
        "\n",
        "# Optional: lower case the corpora - this will make it easier to generalize, but without proper casing.\n",
        "if lc:  # Julia: making lowercasing optional\n",
        "    df_pp[\"source_sentence\"] = df_pp[\"source_sentence\"].str.lower()\n",
        "    df_pp[\"target_sentence\"] = df_pp[\"target_sentence\"].str.lower()\n",
        "\n",
        "# Julia: test sets are already generated\n",
        "dev = df_pp.tail(num_dev_patterns) # Herman: Error in original\n",
        "stripped = df_pp.drop(df_pp.tail(num_dev_patterns).index)\n",
        "\n",
        "with open(\"train.\"+source_language, \"w\") as src_file, open(\"train.\"+target_language, \"w\") as trg_file:\n",
        "  for index, row in stripped.iterrows():\n",
        "    src_file.write(row[\"source_sentence\"]+\"\\n\")\n",
        "    trg_file.write(row[\"target_sentence\"]+\"\\n\")\n",
        "    \n",
        "with open(\"dev.\"+source_language, \"w\") as src_file, open(\"dev.\"+target_language, \"w\") as trg_file:\n",
        "  for index, row in dev.iterrows():\n",
        "    src_file.write(row[\"source_sentence\"]+\"\\n\")\n",
        "    trg_file.write(row[\"target_sentence\"]+\"\\n\")\n",
        "\n",
        "#stripped[[\"source_sentence\"]].to_csv(\"train.\"+source_language, header=False, index=False)  # Herman: Added `header=False` everywhere\n",
        "#stripped[[\"target_sentence\"]].to_csv(\"train.\"+target_language, header=False, index=False)  # Julia: Problematic handling of quotation marks.\n",
        "\n",
        "#dev[[\"source_sentence\"]].to_csv(\"dev.\"+source_language, header=False, index=False)\n",
        "#dev[[\"target_sentence\"]].to_csv(\"dev.\"+target_language, header=False, index=False)\n",
        "\n",
        "# Doublecheck the format below. There should be no extra quotation marks or weird characters.\n",
        "! head train.*\n",
        "! head dev.*"
      ],
      "execution_count": 11,
      "outputs": [
        {
          "output_type": "stream",
          "text": [
            "==> train.en <==\n",
            "TRAIN YOUR CHILDREN : “ I teach my children to check the expiration date of any packaged food items , such as snacks , before they buy them . ” ​ — Ruth , Nigeria\n",
            "When she replied that she was , he explained that he and his mother were trying to assist his sister with a school report on Canadians .\n",
            "Through the prophet Zephaniah , Jehovah answers : “ That day is a day of fury , a day of distress and of anguish , a day of storm and of desolation , a day of darkness and of gloominess , a day of clouds and of thick gloom . ”\n",
            "We do not require that people simply do as we tell them , but we give them convincing reasons to obey Christ’s command .\n",
            "Still , Jehovah can annihilate any rebel in the lake of fire , denying him any hope of a resurrection .\n",
            "Lucaris was arrested , and on July 27 , 1638 , he was taken on board a small boat as if for banishment .\n",
            "Yes , Jehovah remembered their faithful course .\n",
            "□ To appear tough\n",
            "During the ensuing confrontation , we Witnesses had to make our position clear to the agitated rebels and also explain our stand to the military guards .\n",
            "( See opening image . ) ( c ) Why should this Bible account about Samuel be of special interest to elders today ?\n",
            "\n",
            "==> train.yo <==\n",
            "KỌ́ ÀWỌN ỌMỌ RẸ : “ Mo kọ́ àwọn ọmọ mi pé kí wọ́n tó ra oúnjẹ bí ìpápánu , tó wà nínú agolo , ike , bébà , tàbí ọ̀rá , kí wọ́n máa yẹ ara oúnjẹ náà wò kí wọ́n lè mọ déètì tó máa bà jẹ́ . ” — Ruth , Nàìjíríà\n",
            "Nígbà tó sọ fún ọ̀dọ́kùnrin náà pé Kánádà lòun ti wá , ọ̀dọ́kùnrin náà sọ fún un pé òun àti màmá òun fẹ́ ran àbúrò òun obìnrin kan lọ́wọ́ láti kó ọ̀rọ̀ kan jọ nípa àwọn ará Kánádà , èyí tó fẹ́ mu lọ sílé ìwé .\n",
            "Jèhófà gbẹnu wòlíì Sefanáyà sọ ìdí rẹ̀ fún wa , ó ní : “ Ọjọ́ yẹn jẹ́ ọjọ́ ìbínú kíkan , ọjọ́ wàhálà àti làásìgbò , ọjọ́ ìjì àti ìsọdahoro , ọjọ́ òkùnkùn àti ìṣúdùdù , ọjọ́ àwọsánmà àti ìṣúdùdù tí ó nípọn . ”\n",
            "A ò fẹ́ káwọn èèyàn wulẹ̀ ṣe ohun tá a sọ fún wọn nìkan , àmọ́ à tún ń fún wọn ní ẹ̀rí tó dájú nípa ìdí tó fi yẹ kí wọ́n ṣègbọràn sí àṣẹ Kristi .\n",
            "Síbẹ̀ , Jèhófà lè pa ọlọ̀tẹ̀ èyíkéyìí run nípa sísọ ọ sínú adágún iná , tó túmọ̀ sí pé onítọ̀hún máa kú láìsí ìrètí kankan láti tún jíǹde .\n",
            "Ní wọ́n bá fi ọlọ́pàá mú Lucaris , nígbà tó sì di July 27 , 1638 , wọ́n fi ọkọ̀ ojú omi wà á lọ bí ẹni pé wọ́n fẹ́ gbé e lọ sí ilẹ̀ mìíràn .\n",
            "Bẹ́ẹ̀ ni o , Jèhófà kò gbàgbé ìṣòtítọ́ wọn .\n",
            "□ Kí wọ́n má bàa fojú ọ̀dẹ̀ wò mí\n",
            "Lákòókò tí àríyànjiyàn náà ń lọ lọ́wọ́ , àwa Ẹlẹ́rìí jẹ́ káwọn ọlọ̀tẹ̀ tínú ń bí yìí mọ̀ pé a ò lọ́wọ́ sí nǹkan tí wọ́n ń ṣe , a sì tún ṣàlàyé irú ẹni tá a jẹ́ fáwọn ológun tó ń ṣọ́ ọgbà ẹ̀wọ̀n náà .\n",
            "( Wo àwòrán tó wà níbẹ̀rẹ̀ àpilẹ̀kọ yìí . ) ( d ) Kí nìdí tó fi yẹ kí àwọn alàgbà lóde òní fún àkọsílẹ̀ Bíbélì yìí nípa Sámúẹ́lì láfiyèsí àrà ọ̀tọ̀ ?\n",
            "==> dev.en <==\n",
            "He is the Source of life , the One giving it as an undeserved gift through Christ .\n",
            "Now I had to find a legitimate line of work .\n",
            "Do I value material things more than my relationship with Jehovah and with people ?\n",
            "He has far more experience and stamina than you do , but he patiently walks near you .\n",
            "According to Harkavy’s Students ’ Hebrew and Chaldee Dictionary , ʽadh means “ duration , everlastingness , eternity , for ever . ”\n",
            "Why is rendering proper honor to elders a concern ?\n",
            "Jeremiah would rather be alone than be corrupted by bad companions .\n",
            "In years gone by , we believed that Jehovah became displeased with his people because they did not have a zealous share in the preaching work during World War I .\n",
            "Rather , they need to use a translation of the Bible in their own language .\n",
            "On a more personal level , showing honor to those to whom it is due keeps us from becoming self - centered .\n",
            "\n",
            "==> dev.yo <==\n",
            "Òun ni Orísun ìyè , Ẹni tí ń fi ìyè fúnni gẹ́gẹ́ bí ẹbùn tí a kò lẹ́tọ̀ọ́ sí nípasẹ̀ Kristi .\n",
            "Torí náà , mo ní láti wá iṣẹ́ gidi .\n",
            "Ṣé àwọn nǹkan tara ló jẹ mí lógún jù àbí àjọṣe mi pẹ̀lú Jèhófà àtàwọn èèyàn ?\n",
            "Ẹni tẹ́ ẹ jọ ń lọ yìí mọ ọ̀nà yẹn dáadáa .\n",
            "Gẹ́gẹ́ bí Harkavy’s Students ’ Hebrew and Chaldee Dictionary ṣe sọ , ʽadh túmọ̀ sí “ àkókò gígùn , àìnípẹ̀kun , títí gbére , títí láé . ”\n",
            "Kí nìdí tí kò fi yẹ ká máa gbé àwọn alàgbà gẹ̀gẹ̀ ju bó ṣe yẹ lọ ?\n",
            "Jeremáyà gbà kóun dá wà ju pé káwọn ọ̀rẹ́ burúkú wá kéèràn ran òun .\n",
            "Láwọn ọdún mélòó kan sẹ́yìn , a gbà pé inú Jèhófà ò dùn sáwọn èèyàn rẹ̀ torí pé wọn ò fìtara wàásù lásìkò Ogun Àgbáyé Kìíní .\n",
            "Àfi kí wọ́n ka Bíbélì tí wọ́n tú sí èdè wọn .\n",
            "Tó bá ti mọ́ wa lára láti máa bọlá fáwọn míì , a ò ní máa ro tara wa nìkan .\n"
          ],
          "name": "stdout"
        }
      ]
    },
    {
      "cell_type": "markdown",
      "metadata": {
        "colab_type": "text",
        "id": "epeCydmCyS8X"
      },
      "source": [
        "\n",
        "\n",
        "---\n",
        "\n",
        "\n",
        "## Installation of JoeyNMT\n",
        "\n",
        "JoeyNMT is a simple, minimalist NMT package which is useful for learning and teaching. Check out the documentation for JoeyNMT [here](https://joeynmt.readthedocs.io)  "
      ]
    },
    {
      "cell_type": "code",
      "metadata": {
        "colab_type": "code",
        "id": "iBRMm4kMxZ8L",
        "outputId": "aeded7da-35d1-4cf5-8d1f-4d1f9076bf5b",
        "colab": {
          "base_uri": "https://localhost:8080/",
          "height": 1000
        }
      },
      "source": [
        "# Install JoeyNMT\n",
        "! git clone https://github.com/joeynmt/joeynmt.git\n",
        "! cd joeynmt; pip3 install ."
      ],
      "execution_count": 12,
      "outputs": [
        {
          "output_type": "stream",
          "text": [
            "Cloning into 'joeynmt'...\n",
            "remote: Enumerating objects: 20, done.\u001b[K\n",
            "remote: Counting objects:   5% (1/20)\u001b[K\rremote: Counting objects:  10% (2/20)\u001b[K\rremote: Counting objects:  15% (3/20)\u001b[K\rremote: Counting objects:  20% (4/20)\u001b[K\rremote: Counting objects:  25% (5/20)\u001b[K\rremote: Counting objects:  30% (6/20)\u001b[K\rremote: Counting objects:  35% (7/20)\u001b[K\rremote: Counting objects:  40% (8/20)\u001b[K\rremote: Counting objects:  45% (9/20)\u001b[K\rremote: Counting objects:  50% (10/20)\u001b[K\rremote: Counting objects:  55% (11/20)\u001b[K\rremote: Counting objects:  60% (12/20)\u001b[K\rremote: Counting objects:  65% (13/20)\u001b[K\rremote: Counting objects:  70% (14/20)\u001b[K\rremote: Counting objects:  75% (15/20)\u001b[K\rremote: Counting objects:  80% (16/20)\u001b[K\rremote: Counting objects:  85% (17/20)\u001b[K\rremote: Counting objects:  90% (18/20)\u001b[K\rremote: Counting objects:  95% (19/20)\u001b[K\rremote: Counting objects: 100% (20/20)\u001b[K\rremote: Counting objects: 100% (20/20), done.\u001b[K\n",
            "remote: Compressing objects:   5% (1/17)\u001b[K\rremote: Compressing objects:  11% (2/17)\u001b[K\rremote: Compressing objects:  17% (3/17)\u001b[K\rremote: Compressing objects:  23% (4/17)\u001b[K\rremote: Compressing objects:  29% (5/17)\u001b[K\rremote: Compressing objects:  35% (6/17)\u001b[K\rremote: Compressing objects:  41% (7/17)\u001b[K\rremote: Compressing objects:  47% (8/17)\u001b[K\rremote: Compressing objects:  52% (9/17)\u001b[K\rremote: Compressing objects:  58% (10/17)\u001b[K\rremote: Compressing objects:  64% (11/17)\u001b[K\rremote: Compressing objects:  70% (12/17)\u001b[K\rremote: Compressing objects:  76% (13/17)\u001b[K\rremote: Compressing objects:  82% (14/17)\u001b[K\rremote: Compressing objects:  88% (15/17)\u001b[K\rremote: Compressing objects:  94% (16/17)\u001b[K\rremote: Compressing objects: 100% (17/17)\u001b[K\rremote: Compressing objects: 100% (17/17), done.\u001b[K\n",
            "Receiving objects:   0% (1/2204)   \rReceiving objects:   1% (23/2204)   \rReceiving objects:   2% (45/2204)   \rReceiving objects:   3% (67/2204)   \rReceiving objects:   4% (89/2204)   \rReceiving objects:   5% (111/2204)   \rReceiving objects:   6% (133/2204)   \rReceiving objects:   7% (155/2204)   \rReceiving objects:   8% (177/2204)   \rReceiving objects:   9% (199/2204)   \rReceiving objects:  10% (221/2204)   \rReceiving objects:  11% (243/2204)   \rReceiving objects:  12% (265/2204)   \rReceiving objects:  13% (287/2204)   \rReceiving objects:  14% (309/2204)   \rReceiving objects:  15% (331/2204)   \rReceiving objects:  16% (353/2204)   \rReceiving objects:  17% (375/2204)   \rReceiving objects:  18% (397/2204)   \rReceiving objects:  19% (419/2204)   \rReceiving objects:  20% (441/2204)   \rReceiving objects:  21% (463/2204)   \rReceiving objects:  22% (485/2204)   \rReceiving objects:  23% (507/2204)   \rReceiving objects:  24% (529/2204)   \rReceiving objects:  25% (551/2204)   \rReceiving objects:  26% (574/2204)   \rReceiving objects:  27% (596/2204)   \rReceiving objects:  28% (618/2204)   \rReceiving objects:  29% (640/2204)   \rReceiving objects:  30% (662/2204)   \rReceiving objects:  31% (684/2204)   \rReceiving objects:  32% (706/2204)   \rReceiving objects:  33% (728/2204)   \rReceiving objects:  34% (750/2204)   \rReceiving objects:  35% (772/2204)   \rReceiving objects:  36% (794/2204)   \rReceiving objects:  37% (816/2204)   \rReceiving objects:  38% (838/2204)   \rReceiving objects:  39% (860/2204)   \rReceiving objects:  40% (882/2204)   \rReceiving objects:  41% (904/2204)   \rReceiving objects:  42% (926/2204)   \rReceiving objects:  43% (948/2204)   \rReceiving objects:  44% (970/2204)   \rReceiving objects:  45% (992/2204)   \rReceiving objects:  46% (1014/2204)   \rReceiving objects:  47% (1036/2204)   \rReceiving objects:  48% (1058/2204)   \rReceiving objects:  49% (1080/2204)   \rReceiving objects:  50% (1102/2204)   \rReceiving objects:  51% (1125/2204)   \rReceiving objects:  52% (1147/2204)   \rReceiving objects:  53% (1169/2204)   \rReceiving objects:  54% (1191/2204)   \rReceiving objects:  55% (1213/2204)   \rReceiving objects:  56% (1235/2204)   \rReceiving objects:  57% (1257/2204)   \rReceiving objects:  58% (1279/2204)   \rReceiving objects:  59% (1301/2204)   \rReceiving objects:  60% (1323/2204)   \rReceiving objects:  61% (1345/2204)   \rReceiving objects:  62% (1367/2204)   \rReceiving objects:  63% (1389/2204)   \rReceiving objects:  64% (1411/2204)   \rReceiving objects:  65% (1433/2204)   \rReceiving objects:  66% (1455/2204)   \rReceiving objects:  67% (1477/2204)   \rReceiving objects:  68% (1499/2204)   \rReceiving objects:  69% (1521/2204)   \rReceiving objects:  70% (1543/2204)   \rReceiving objects:  71% (1565/2204)   \rReceiving objects:  72% (1587/2204)   \rReceiving objects:  73% (1609/2204)   \rReceiving objects:  74% (1631/2204)   \rReceiving objects:  75% (1653/2204)   \rReceiving objects:  76% (1676/2204)   \rReceiving objects:  77% (1698/2204)   \rReceiving objects:  78% (1720/2204)   \rReceiving objects:  79% (1742/2204)   \rReceiving objects:  80% (1764/2204)   \rremote: Total 2204 (delta 8), reused 5 (delta 3), pack-reused 2184\u001b[K\n",
            "Receiving objects:  81% (1786/2204)   \rReceiving objects:  82% (1808/2204)   \rReceiving objects:  83% (1830/2204)   \rReceiving objects:  84% (1852/2204)   \rReceiving objects:  85% (1874/2204)   \rReceiving objects:  86% (1896/2204)   \rReceiving objects:  87% (1918/2204)   \rReceiving objects:  88% (1940/2204)   \rReceiving objects:  89% (1962/2204)   \rReceiving objects:  90% (1984/2204)   \rReceiving objects:  91% (2006/2204)   \rReceiving objects:  92% (2028/2204)   \rReceiving objects:  93% (2050/2204)   \rReceiving objects:  94% (2072/2204)   \rReceiving objects:  95% (2094/2204)   \rReceiving objects:  96% (2116/2204)   \rReceiving objects:  97% (2138/2204)   \rReceiving objects:  98% (2160/2204)   \rReceiving objects:  99% (2182/2204)   \rReceiving objects: 100% (2204/2204)   \rReceiving objects: 100% (2204/2204), 2.60 MiB | 17.66 MiB/s, done.\n",
            "Resolving deltas: 100% (1529/1529), done.\n",
            "Processing /content/joeynmt\n",
            "Requirement already satisfied: future in /usr/local/lib/python3.6/dist-packages (from joeynmt==0.0.1) (0.16.0)\n",
            "Requirement already satisfied: pillow in /usr/local/lib/python3.6/dist-packages (from joeynmt==0.0.1) (6.2.2)\n",
            "Requirement already satisfied: numpy<2.0,>=1.14.5 in /usr/local/lib/python3.6/dist-packages (from joeynmt==0.0.1) (1.17.5)\n",
            "Requirement already satisfied: setuptools>=41.0.0 in /usr/local/lib/python3.6/dist-packages (from joeynmt==0.0.1) (42.0.2)\n",
            "Requirement already satisfied: torch>=1.1 in /usr/local/lib/python3.6/dist-packages (from joeynmt==0.0.1) (1.3.1)\n",
            "Requirement already satisfied: tensorflow>=1.14 in /usr/local/lib/python3.6/dist-packages (from joeynmt==0.0.1) (1.15.0)\n",
            "Requirement already satisfied: torchtext in /usr/local/lib/python3.6/dist-packages (from joeynmt==0.0.1) (0.3.1)\n",
            "Collecting sacrebleu>=1.3.6\n",
            "  Downloading https://files.pythonhosted.org/packages/45/31/1a135b964c169984b27fb2f7a50280fa7f8e6d9d404d8a9e596180487fd1/sacrebleu-1.4.3-py3-none-any.whl\n",
            "Collecting subword-nmt\n",
            "  Downloading https://files.pythonhosted.org/packages/74/60/6600a7bc09e7ab38bc53a48a20d8cae49b837f93f5842a41fe513a694912/subword_nmt-0.3.7-py2.py3-none-any.whl\n",
            "Requirement already satisfied: matplotlib in /usr/local/lib/python3.6/dist-packages (from joeynmt==0.0.1) (3.1.2)\n",
            "Requirement already satisfied: seaborn in /usr/local/lib/python3.6/dist-packages (from joeynmt==0.0.1) (0.9.0)\n",
            "Collecting pyyaml>=5.1\n",
            "\u001b[?25l  Downloading https://files.pythonhosted.org/packages/3d/d9/ea9816aea31beeadccd03f1f8b625ecf8f645bd66744484d162d84803ce5/PyYAML-5.3.tar.gz (268kB)\n",
            "\u001b[K     |████████████████████████████████| 276kB 9.8MB/s \n",
            "\u001b[?25hCollecting pylint\n",
            "\u001b[?25l  Downloading https://files.pythonhosted.org/packages/e9/59/43fc36c5ee316bb9aeb7cf5329cdbdca89e5749c34d5602753827c0aa2dc/pylint-2.4.4-py3-none-any.whl (302kB)\n",
            "\u001b[K     |████████████████████████████████| 307kB 60.6MB/s \n",
            "\u001b[?25hRequirement already satisfied: six==1.12 in /usr/local/lib/python3.6/dist-packages (from joeynmt==0.0.1) (1.12.0)\n",
            "Requirement already satisfied: google-pasta>=0.1.6 in /usr/local/lib/python3.6/dist-packages (from tensorflow>=1.14->joeynmt==0.0.1) (0.1.8)\n",
            "Requirement already satisfied: wheel>=0.26 in /usr/local/lib/python3.6/dist-packages (from tensorflow>=1.14->joeynmt==0.0.1) (0.33.6)\n",
            "Requirement already satisfied: opt-einsum>=2.3.2 in /usr/local/lib/python3.6/dist-packages (from tensorflow>=1.14->joeynmt==0.0.1) (3.1.0)\n",
            "Requirement already satisfied: keras-preprocessing>=1.0.5 in /usr/local/lib/python3.6/dist-packages (from tensorflow>=1.14->joeynmt==0.0.1) (1.1.0)\n",
            "Requirement already satisfied: astor>=0.6.0 in /usr/local/lib/python3.6/dist-packages (from tensorflow>=1.14->joeynmt==0.0.1) (0.8.1)\n",
            "Requirement already satisfied: grpcio>=1.8.6 in /usr/local/lib/python3.6/dist-packages (from tensorflow>=1.14->joeynmt==0.0.1) (1.15.0)\n",
            "Requirement already satisfied: tensorflow-estimator==1.15.1 in /usr/local/lib/python3.6/dist-packages (from tensorflow>=1.14->joeynmt==0.0.1) (1.15.1)\n",
            "Requirement already satisfied: termcolor>=1.1.0 in /usr/local/lib/python3.6/dist-packages (from tensorflow>=1.14->joeynmt==0.0.1) (1.1.0)\n",
            "Requirement already satisfied: protobuf>=3.6.1 in /usr/local/lib/python3.6/dist-packages (from tensorflow>=1.14->joeynmt==0.0.1) (3.10.0)\n",
            "Requirement already satisfied: tensorboard<1.16.0,>=1.15.0 in /usr/local/lib/python3.6/dist-packages (from tensorflow>=1.14->joeynmt==0.0.1) (1.15.0)\n",
            "Requirement already satisfied: gast==0.2.2 in /usr/local/lib/python3.6/dist-packages (from tensorflow>=1.14->joeynmt==0.0.1) (0.2.2)\n",
            "Requirement already satisfied: keras-applications>=1.0.8 in /usr/local/lib/python3.6/dist-packages (from tensorflow>=1.14->joeynmt==0.0.1) (1.0.8)\n",
            "Requirement already satisfied: wrapt>=1.11.1 in /usr/local/lib/python3.6/dist-packages (from tensorflow>=1.14->joeynmt==0.0.1) (1.11.2)\n",
            "Requirement already satisfied: absl-py>=0.7.0 in /usr/local/lib/python3.6/dist-packages (from tensorflow>=1.14->joeynmt==0.0.1) (0.9.0)\n",
            "Requirement already satisfied: tqdm in /usr/local/lib/python3.6/dist-packages (from torchtext->joeynmt==0.0.1) (4.28.1)\n",
            "Requirement already satisfied: requests in /usr/local/lib/python3.6/dist-packages (from torchtext->joeynmt==0.0.1) (2.21.0)\n",
            "Requirement already satisfied: typing in /usr/local/lib/python3.6/dist-packages (from sacrebleu>=1.3.6->joeynmt==0.0.1) (3.6.6)\n",
            "Collecting portalocker\n",
            "  Downloading https://files.pythonhosted.org/packages/91/db/7bc703c0760df726839e0699b7f78a4d8217fdc9c7fcb1b51b39c5a22a4e/portalocker-1.5.2-py2.py3-none-any.whl\n",
            "Requirement already satisfied: cycler>=0.10 in /usr/local/lib/python3.6/dist-packages (from matplotlib->joeynmt==0.0.1) (0.10.0)\n",
            "Requirement already satisfied: python-dateutil>=2.1 in /usr/local/lib/python3.6/dist-packages (from matplotlib->joeynmt==0.0.1) (2.6.1)\n",
            "Requirement already satisfied: pyparsing!=2.0.4,!=2.1.2,!=2.1.6,>=2.0.1 in /usr/local/lib/python3.6/dist-packages (from matplotlib->joeynmt==0.0.1) (2.4.6)\n",
            "Requirement already satisfied: kiwisolver>=1.0.1 in /usr/local/lib/python3.6/dist-packages (from matplotlib->joeynmt==0.0.1) (1.1.0)\n",
            "Requirement already satisfied: scipy>=0.14.0 in /usr/local/lib/python3.6/dist-packages (from seaborn->joeynmt==0.0.1) (1.4.1)\n",
            "Requirement already satisfied: pandas>=0.15.2 in /usr/local/lib/python3.6/dist-packages (from seaborn->joeynmt==0.0.1) (0.25.3)\n",
            "Collecting isort<5,>=4.2.5\n",
            "\u001b[?25l  Downloading https://files.pythonhosted.org/packages/e5/b0/c121fd1fa3419ea9bfd55c7f9c4fedfec5143208d8c7ad3ce3db6c623c21/isort-4.3.21-py2.py3-none-any.whl (42kB)\n",
            "\u001b[K     |████████████████████████████████| 51kB 10.1MB/s \n",
            "\u001b[?25hCollecting astroid<2.4,>=2.3.0\n",
            "\u001b[?25l  Downloading https://files.pythonhosted.org/packages/ad/ae/86734823047962e7b8c8529186a1ac4a7ca19aaf1aa0c7713c022ef593fd/astroid-2.3.3-py3-none-any.whl (205kB)\n",
            "\u001b[K     |████████████████████████████████| 215kB 54.9MB/s \n",
            "\u001b[?25hCollecting mccabe<0.7,>=0.6\n",
            "  Downloading https://files.pythonhosted.org/packages/87/89/479dc97e18549e21354893e4ee4ef36db1d237534982482c3681ee6e7b57/mccabe-0.6.1-py2.py3-none-any.whl\n",
            "Requirement already satisfied: werkzeug>=0.11.15 in /usr/local/lib/python3.6/dist-packages (from tensorboard<1.16.0,>=1.15.0->tensorflow>=1.14->joeynmt==0.0.1) (0.16.0)\n",
            "Requirement already satisfied: markdown>=2.6.8 in /usr/local/lib/python3.6/dist-packages (from tensorboard<1.16.0,>=1.15.0->tensorflow>=1.14->joeynmt==0.0.1) (3.1.1)\n",
            "Requirement already satisfied: h5py in /usr/local/lib/python3.6/dist-packages (from keras-applications>=1.0.8->tensorflow>=1.14->joeynmt==0.0.1) (2.8.0)\n",
            "Requirement already satisfied: urllib3<1.25,>=1.21.1 in /usr/local/lib/python3.6/dist-packages (from requests->torchtext->joeynmt==0.0.1) (1.24.3)\n",
            "Requirement already satisfied: idna<2.9,>=2.5 in /usr/local/lib/python3.6/dist-packages (from requests->torchtext->joeynmt==0.0.1) (2.8)\n",
            "Requirement already satisfied: certifi>=2017.4.17 in /usr/local/lib/python3.6/dist-packages (from requests->torchtext->joeynmt==0.0.1) (2019.11.28)\n",
            "Requirement already satisfied: chardet<3.1.0,>=3.0.2 in /usr/local/lib/python3.6/dist-packages (from requests->torchtext->joeynmt==0.0.1) (3.0.4)\n",
            "Requirement already satisfied: pytz>=2017.2 in /usr/local/lib/python3.6/dist-packages (from pandas>=0.15.2->seaborn->joeynmt==0.0.1) (2018.9)\n",
            "Collecting typed-ast<1.5,>=1.4.0; implementation_name == \"cpython\" and python_version < \"3.8\"\n",
            "\u001b[?25l  Downloading https://files.pythonhosted.org/packages/90/ed/5459080d95eb87a02fe860d447197be63b6e2b5e9ff73c2b0a85622994f4/typed_ast-1.4.1-cp36-cp36m-manylinux1_x86_64.whl (737kB)\n",
            "\u001b[K     |████████████████████████████████| 747kB 51kB/s \n",
            "\u001b[?25hCollecting lazy-object-proxy==1.4.*\n",
            "\u001b[?25l  Downloading https://files.pythonhosted.org/packages/0b/dd/b1e3407e9e6913cf178e506cd0dee818e58694d9a5cd1984e3f6a8b9a10f/lazy_object_proxy-1.4.3-cp36-cp36m-manylinux1_x86_64.whl (55kB)\n",
            "\u001b[K     |████████████████████████████████| 61kB 10.1MB/s \n",
            "\u001b[?25hBuilding wheels for collected packages: joeynmt, pyyaml\n",
            "  Building wheel for joeynmt (setup.py) ... \u001b[?25l\u001b[?25hdone\n",
            "  Created wheel for joeynmt: filename=joeynmt-0.0.1-cp36-none-any.whl size=72136 sha256=4502cbb55e0d3a96180204249fe9d0a677540c70a271c79a20f4f506c0456279\n",
            "  Stored in directory: /tmp/pip-ephem-wheel-cache-xspleizo/wheels/db/01/db/751cc9f3e7f6faec127c43644ba250a3ea7ad200594aeda70a\n",
            "  Building wheel for pyyaml (setup.py) ... \u001b[?25l\u001b[?25hdone\n",
            "  Created wheel for pyyaml: filename=PyYAML-5.3-cp36-cp36m-linux_x86_64.whl size=44229 sha256=3e92d8fbdce54f3bde5ff90573d3adb452c6381a44d7cc38d5615bf28e57896a\n",
            "  Stored in directory: /root/.cache/pip/wheels/e4/76/4d/a95b8dd7b452b69e8ed4f68b69e1b55e12c9c9624dd962b191\n",
            "Successfully built joeynmt pyyaml\n",
            "Installing collected packages: portalocker, sacrebleu, subword-nmt, pyyaml, isort, typed-ast, lazy-object-proxy, astroid, mccabe, pylint, joeynmt\n",
            "  Found existing installation: PyYAML 3.13\n",
            "    Uninstalling PyYAML-3.13:\n",
            "      Successfully uninstalled PyYAML-3.13\n",
            "Successfully installed astroid-2.3.3 isort-4.3.21 joeynmt-0.0.1 lazy-object-proxy-1.4.3 mccabe-0.6.1 portalocker-1.5.2 pylint-2.4.4 pyyaml-5.3 sacrebleu-1.4.3 subword-nmt-0.3.7 typed-ast-1.4.1\n"
          ],
          "name": "stdout"
        }
      ]
    },
    {
      "cell_type": "markdown",
      "metadata": {
        "colab_type": "text",
        "id": "AaE77Tcppex9"
      },
      "source": [
        "# Preprocessing the Data into Subword BPE Tokens\n",
        "\n",
        "- One of the most powerful improvements for agglutinative languages (a feature of most Bantu languages) is using BPE tokenization [ (Sennrich, 2015) ](https://arxiv.org/abs/1508.07909).\n",
        "\n",
        "- It was also shown that by optimizing the number of BPE codes we significantly improve results for low-resourced languages [(Sennrich, 2019)](https://www.aclweb.org/anthology/P19-1021) [(Martinus, 2019)](https://arxiv.org/abs/1906.05685)\n",
        "\n",
        "- Below we have the scripts for doing BPE tokenization of our data. We use 4000 tokens as recommended by [(Sennrich, 2019)](https://www.aclweb.org/anthology/P19-1021). You do not need to change anything. Simply running the below will be suitable. "
      ]
    },
    {
      "cell_type": "code",
      "metadata": {
        "colab_type": "code",
        "id": "H-TyjtmXB1mL",
        "outputId": "a3324b57-5399-46bd-be0a-587ba4e07b93",
        "colab": {
          "base_uri": "https://localhost:8080/",
          "height": 416
        }
      },
      "source": [
        "# One of the huge boosts in NMT performance was to use a different method of tokenizing. \n",
        "# Usually, NMT would tokenize by words. However, using a method called BPE gave amazing boosts to performance\n",
        "\n",
        "# Do subword NMT\n",
        "from os import path\n",
        "os.environ[\"src\"] = source_language # Sets them in bash as well, since we often use bash scripts\n",
        "os.environ[\"tgt\"] = target_language\n",
        "\n",
        "# Learn BPEs on the training data.\n",
        "os.environ[\"data_path\"] = path.join(\"joeynmt\", \"data\", source_language + target_language) # Herman! \n",
        "! subword-nmt learn-joint-bpe-and-vocab --input train.$src train.$tgt -s 4000 -o bpe.codes.4000 --write-vocabulary vocab.$src vocab.$tgt\n",
        "\n",
        "# Apply BPE splits to the development and test data.\n",
        "! subword-nmt apply-bpe -c bpe.codes.4000 --vocabulary vocab.$src < train.$src > train.bpe.$src\n",
        "! subword-nmt apply-bpe -c bpe.codes.4000 --vocabulary vocab.$tgt < train.$tgt > train.bpe.$tgt\n",
        "\n",
        "! subword-nmt apply-bpe -c bpe.codes.4000 --vocabulary vocab.$src < dev.$src > dev.bpe.$src\n",
        "! subword-nmt apply-bpe -c bpe.codes.4000 --vocabulary vocab.$tgt < dev.$tgt > dev.bpe.$tgt\n",
        "! subword-nmt apply-bpe -c bpe.codes.4000 --vocabulary vocab.$src < test.$src > test.bpe.$src\n",
        "! subword-nmt apply-bpe -c bpe.codes.4000 --vocabulary vocab.$tgt < test.$tgt > test.bpe.$tgt\n",
        "\n",
        "# Create directory, move everyone we care about to the correct location\n",
        "! mkdir -p $data_path\n",
        "! cp train.* $data_path\n",
        "! cp test.* $data_path\n",
        "! cp dev.* $data_path\n",
        "! cp bpe.codes.4000 $data_path\n",
        "! ls $data_path\n",
        "\n",
        "# Also move everything we care about to a mounted location in google drive (relevant if running in colab) at gdrive_path\n",
        "! cp train.* \"$gdrive_path\"\n",
        "! cp test.* \"$gdrive_path\"\n",
        "! cp dev.* \"$gdrive_path\"\n",
        "! cp bpe.codes.4000 \"$gdrive_path\"\n",
        "! ls \"$gdrive_path\"\n",
        "\n",
        "# Create that vocab using build_vocab\n",
        "! sudo chmod 777 joeynmt/scripts/build_vocab.py\n",
        "! joeynmt/scripts/build_vocab.py joeynmt/data/$src$tgt/train.bpe.$src joeynmt/data/$src$tgt/train.bpe.$tgt --output_path joeynmt/data/$src$tgt/vocab.txt\n",
        "\n",
        "# Some output\n",
        "! echo \"BPE Yoruba Sentences\"\n",
        "! tail -n 5 test.bpe.$tgt\n",
        "! echo \"Combined BPE Vocab\"\n",
        "! tail -n 10 joeynmt/data/$src$tgt/vocab.txt  # Herman"
      ],
      "execution_count": 13,
      "outputs": [
        {
          "output_type": "stream",
          "text": [
            "bpe.codes.4000\tdev.en\t     test.bpe.yo     test.yo\t   train.en\n",
            "dev.bpe.en\tdev.yo\t     test.en\t     train.bpe.en  train.yo\n",
            "dev.bpe.yo\ttest.bpe.en  test.en-any.en  train.bpe.yo\n",
            "bpe.codes.4000\tdev.en\t     test.bpe.yo     test.yo\t   train.en\n",
            "dev.bpe.en\tdev.yo\t     test.en\t     train.bpe.en  train.yo\n",
            "dev.bpe.yo\ttest.bpe.en  test.en-any.en  train.bpe.yo\n",
            "BPE Xhosa Sentences\n",
            "A@@ p@@ at@@ a ńlá ti ìgbàgbọ́ ( Wo ìpín@@ rọ̀ 12 - 14 )\n",
            "À@@ ṣí@@ borí ìgb@@ àlà ( Wo ìpín@@ rọ̀ 15 - 18 )\n",
            "Mo ti rí i pé àwọn èèyàn máa ń fẹ́ gb@@ ọ́@@ rọ̀ wa tí wọ́n bá rí i pé a lóye Bíbélì dáadáa , a sì fẹ́ ran àwọn lọ́wọ́ . ”\n",
            "I@@ dà ẹ̀mí ( Wo ìpín@@ rọ̀ 19 - 20 )\n",
            "Ó dájú pé lọ́@@ lá ìt@@ ì@@ lẹ́yìn Jèhófà , a máa dúró gb@@ ọ@@ in - in , Èṣù ò sì ní rí wa gbé ṣe .\n",
            "Combined BPE Vocab\n",
            "œ@@\n",
            "Ísír@@\n",
            "Isra@@\n",
            "̃\n",
            "×\n",
            "ô\n",
            "ʺ\n",
            "bítì\n",
            "Pété@@\n",
            "Jóò@@\n"
          ],
          "name": "stdout"
        }
      ]
    },
    {
      "cell_type": "code",
      "metadata": {
        "colab_type": "code",
        "id": "IlMitUHR8Qy-",
        "outputId": "96413e35-af65-4442-da02-27947f5ea1d8",
        "colab": {
          "base_uri": "https://localhost:8080/",
          "height": 69
        }
      },
      "source": [
        "# Also move everything we care about to a mounted location in google drive (relevant if running in colab) at gdrive_path\n",
        "! cp train.* \"$gdrive_path\"\n",
        "! cp test.* \"$gdrive_path\"\n",
        "! cp dev.* \"$gdrive_path\"\n",
        "! cp bpe.codes.4000 \"$gdrive_path\"\n",
        "! ls \"$gdrive_path\""
      ],
      "execution_count": 14,
      "outputs": [
        {
          "output_type": "stream",
          "text": [
            "bpe.codes.4000\tdev.en\t     test.bpe.yo     test.yo\t   train.en\n",
            "dev.bpe.en\tdev.yo\t     test.en\t     train.bpe.en  train.yo\n",
            "dev.bpe.yo\ttest.bpe.en  test.en-any.en  train.bpe.yo\n"
          ],
          "name": "stdout"
        }
      ]
    },
    {
      "cell_type": "markdown",
      "metadata": {
        "colab_type": "text",
        "id": "Ixmzi60WsUZ8"
      },
      "source": [
        "# Creating the JoeyNMT Config\n",
        "\n",
        "JoeyNMT requires a yaml config. We provide a template below. We've also set a number of defaults with it, that you may play with!\n",
        "\n",
        "- We used Transformer architecture \n",
        "- We set our dropout to reasonably high: 0.3 (recommended in  [(Sennrich, 2019)](https://www.aclweb.org/anthology/P19-1021))\n",
        "\n",
        "Things worth playing with:\n",
        "- The batch size (also recommended to change for low-resourced languages)\n",
        "- The number of epochs (we've set it at 30 just so it runs in about an hour, for testing purposes)\n",
        "- The decoder options (beam_size, alpha)\n",
        "- Evaluation metrics (BLEU versus Crhf4)"
      ]
    },
    {
      "cell_type": "code",
      "metadata": {
        "colab_type": "code",
        "id": "PIs1lY2hxMsl",
        "colab": {}
      },
      "source": [
        "# This creates the config file for our JoeyNMT system. It might seem overwhelming so we've provided a couple of useful parameters you'll need to update\n",
        "# (You can of course play with all the parameters if you'd like!)\n",
        "\n",
        "name = '%s%s' % (source_language, target_language)\n",
        "gdrive_path = os.environ[\"gdrive_path\"]\n",
        "\n",
        "# Create the config\n",
        "config = \"\"\"\n",
        "name: \"{name}_transformer\"\n",
        "\n",
        "data:\n",
        "    src: \"{source_language}\"\n",
        "    trg: \"{target_language}\"\n",
        "    train: \"data/{name}/train.bpe\"\n",
        "    dev:   \"data/{name}/dev.bpe\"\n",
        "    test:  \"data/{name}/test.bpe\"\n",
        "    level: \"bpe\"\n",
        "    lowercase: False\n",
        "    max_sent_length: 100\n",
        "    src_vocab: \"data/{name}/vocab.txt\"\n",
        "    trg_vocab: \"data/{name}/vocab.txt\"\n",
        "\n",
        "testing:\n",
        "    beam_size: 5\n",
        "    alpha: 1.0\n",
        "\n",
        "training:\n",
        "    #load_model: \"{gdrive_path}/models/{name}_transformer/1.ckpt\" # if uncommented, load a pre-trained model from this checkpoint\n",
        "    random_seed: 42\n",
        "    optimizer: \"adam\"\n",
        "    normalization: \"tokens\"\n",
        "    adam_betas: [0.9, 0.999] \n",
        "    scheduling: \"plateau\"           # TODO: try switching from plateau to Noam scheduling\n",
        "    patience: 5                     # For plateau: decrease learning rate by decrease_factor if validation score has not improved for this many validation rounds.\n",
        "    learning_rate_factor: 0.5       # factor for Noam scheduler (used with Transformer)\n",
        "    learning_rate_warmup: 1000      # warmup steps for Noam scheduler (used with Transformer)\n",
        "    decrease_factor: 0.7\n",
        "    loss: \"crossentropy\"\n",
        "    learning_rate: 0.0003\n",
        "    learning_rate_min: 0.00000001\n",
        "    weight_decay: 0.0\n",
        "    label_smoothing: 0.1\n",
        "    batch_size: 4096\n",
        "    batch_type: \"token\"\n",
        "    eval_batch_size: 3600\n",
        "    eval_batch_type: \"token\"\n",
        "    batch_multiplier: 1\n",
        "    early_stopping_metric: \"ppl\"\n",
        "    epochs: 30                     # TODO: Decrease for when playing around and checking of working. Around 30 is sufficient to check if its working at all\n",
        "    validation_freq: 1000          # TODO: Set to at least once per epoch.\n",
        "    logging_freq: 100\n",
        "    eval_metric: \"bleu\"\n",
        "    model_dir: \"models/{name}_transformer\"\n",
        "    overwrite: False               # TODO: Set to True if you want to overwrite possibly existing models. \n",
        "    shuffle: True\n",
        "    use_cuda: True\n",
        "    max_output_length: 100\n",
        "    print_valid_sents: [0, 1, 2, 3]\n",
        "    keep_last_ckpts: 3\n",
        "\n",
        "model:\n",
        "    initializer: \"xavier\"\n",
        "    bias_initializer: \"zeros\"\n",
        "    init_gain: 1.0\n",
        "    embed_initializer: \"xavier\"\n",
        "    embed_init_gain: 1.0\n",
        "    tied_embeddings: True\n",
        "    tied_softmax: True\n",
        "    encoder:\n",
        "        type: \"transformer\"\n",
        "        num_layers: 6\n",
        "        num_heads: 4             # TODO: Increase to 8 for larger data.\n",
        "        embeddings:\n",
        "            embedding_dim: 256   # TODO: Increase to 512 for larger data.\n",
        "            scale: True\n",
        "            dropout: 0.2\n",
        "        # typically ff_size = 4 x hidden_size\n",
        "        hidden_size: 256         # TODO: Increase to 512 for larger data.\n",
        "        ff_size: 1024            # TODO: Increase to 2048 for larger data.\n",
        "        dropout: 0.3\n",
        "    decoder:\n",
        "        type: \"transformer\"\n",
        "        num_layers: 6\n",
        "        num_heads: 4              # TODO: Increase to 8 for larger data.\n",
        "        embeddings:\n",
        "            embedding_dim: 256    # TODO: Increase to 512 for larger data.\n",
        "            scale: True\n",
        "            dropout: 0.2\n",
        "        # typically ff_size = 4 x hidden_size\n",
        "        hidden_size: 256         # TODO: Increase to 512 for larger data.\n",
        "        ff_size: 1024            # TODO: Increase to 2048 for larger data.\n",
        "        dropout: 0.3\n",
        "\"\"\".format(name=name, gdrive_path=os.environ[\"gdrive_path\"], source_language=source_language, target_language=target_language)\n",
        "with open(\"joeynmt/configs/transformer_{name}.yaml\".format(name=name),'w') as f:\n",
        "    f.write(config)"
      ],
      "execution_count": 0,
      "outputs": []
    },
    {
      "cell_type": "markdown",
      "metadata": {
        "colab_type": "text",
        "id": "pIifxE3Qzuvs"
      },
      "source": [
        "# Train the Model\n",
        "\n",
        "This single line of joeynmt runs the training using the config we made above"
      ]
    },
    {
      "cell_type": "code",
      "metadata": {
        "colab_type": "code",
        "id": "6ZBPFwT94WpI",
        "outputId": "81e6b9aa-e2c8-4a9a-e863-8062ab282272",
        "colab": {
          "base_uri": "https://localhost:8080/",
          "height": 52
        }
      },
      "source": [
        "# Train the model\n",
        "# You can press Ctrl-C to stop. And then run the next cell to save your checkpoints! \n",
        "!cd joeynmt; python3 -m joeynmt train configs/transformer_$src$tgt.yaml"
      ],
      "execution_count": 2,
      "outputs": [
        {
          "output_type": "stream",
          "text": [
            "/bin/bash: line 0: cd: joeynmt: No such file or directory\n",
            "/usr/bin/python3: No module named joeynmt\n"
          ],
          "name": "stdout"
        }
      ]
    },
    {
      "cell_type": "code",
      "metadata": {
        "colab_type": "code",
        "id": "MBoDS09JM807",
        "colab": {
          "base_uri": "https://localhost:8080/",
          "height": 34
        },
        "outputId": "10be92a0-d972-4fb0-8c9c-0751a23960fe"
      },
      "source": [
        "# Copy the created models from the notebook storage to google drive for persistant storage \n",
        "!cp -r joeynmt/models/${src}${tgt}_transformer/* \"$gdrive_path/models/${src}${tgt}_transformer/\""
      ],
      "execution_count": 3,
      "outputs": [
        {
          "output_type": "stream",
          "text": [
            "cp: cannot stat 'joeynmt/models/_transformer/*': No such file or directory\n"
          ],
          "name": "stdout"
        }
      ]
    },
    {
      "cell_type": "code",
      "metadata": {
        "colab_type": "code",
        "id": "n94wlrCjVc17",
        "colab": {}
      },
      "source": [
        "# Output our validation accuracy\n",
        "! cat \"$gdrive_path/models/${src}${tgt}_transformer/validations.txt\""
      ],
      "execution_count": 0,
      "outputs": []
    },
    {
      "cell_type": "code",
      "metadata": {
        "colab_type": "code",
        "id": "66WhRE9lIhoD",
        "colab": {}
      },
      "source": [
        "# Test our model\n",
        "! cd joeynmt; python3 -m joeynmt test \"$gdrive_path/models/${src}${tgt}_transformer/config.yaml\""
      ],
      "execution_count": 0,
      "outputs": []
    }
  ]
}